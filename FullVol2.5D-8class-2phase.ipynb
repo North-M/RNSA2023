{
 "cells": [
  {
   "cell_type": "code",
   "execution_count": 1,
   "id": "abf32a2a-7118-4d81-b093-818e344d05b5",
   "metadata": {},
   "outputs": [],
   "source": [
    "import numpy as np\n",
    "import pandas as pd\n",
    "import matplotlib.pyplot as plt\n",
    "\n",
    "import os\n",
    "import random\n",
    "import re\n",
    "\n",
    "from tqdm import tqdm\n",
    "import time\n",
    "\n",
    "import pydicom as dicom\n",
    "import nibabel as nib\n",
    "import SimpleITK as sitk\n",
    "import monai\n",
    "\n",
    "import torch\n",
    "import torch.nn as nn\n",
    "import torch.optim as optim\n",
    "\n",
    "from monai.networks.nets import EfficientNetBN\n",
    "from monai.networks.nets import ResNet\n",
    "#from efficientnet_pytorch import EfficientNet\n",
    "import timm\n",
    "\n",
    "import wandb\n"
   ]
  },
  {
   "cell_type": "code",
   "execution_count": 2,
   "id": "a795ca56-6bcd-4967-b375-dc59214d526b",
   "metadata": {},
   "outputs": [
    {
     "name": "stdout",
     "output_type": "stream",
     "text": [
      "Finish seeding with seed 344\n",
      "Training on device cuda\n"
     ]
    }
   ],
   "source": [
    "SEED = 344\n",
    "device = torch.device('cuda' if torch.cuda.is_available() else 'cpu')\n",
    "def seed_everything(seed):\n",
    "    random.seed(seed)\n",
    "    os.environ['PYTHONHASHSEED'] = str(seed)\n",
    "    np.random.seed(seed)\n",
    "    torch.manual_seed(seed)\n",
    "    torch.cuda.manual_seed(seed)\n",
    "    torch.backends.cudnn.deterministic = True # Fix the network according to random seed\n",
    "    print('Finish seeding with seed {}'.format(seed))\n",
    "    \n",
    "seed_everything(SEED)\n",
    "print('Training on device {}'.format(device))"
   ]
  },
  {
   "cell_type": "code",
   "execution_count": 3,
   "id": "48a8a495-8bee-478e-a16b-0e27bfd70da8",
   "metadata": {},
   "outputs": [
    {
     "data": {
      "text/html": [
       "<div>\n",
       "<style scoped>\n",
       "    .dataframe tbody tr th:only-of-type {\n",
       "        vertical-align: middle;\n",
       "    }\n",
       "\n",
       "    .dataframe tbody tr th {\n",
       "        vertical-align: top;\n",
       "    }\n",
       "\n",
       "    .dataframe thead th {\n",
       "        text-align: right;\n",
       "    }\n",
       "</style>\n",
       "<table border=\"1\" class=\"dataframe\">\n",
       "  <thead>\n",
       "    <tr style=\"text-align: right;\">\n",
       "      <th></th>\n",
       "      <th>index</th>\n",
       "      <th>patient_id</th>\n",
       "      <th>bowel_healthy</th>\n",
       "      <th>bowel_injury</th>\n",
       "      <th>extravasation_healthy</th>\n",
       "      <th>extravasation_injury</th>\n",
       "      <th>kidney_healthy</th>\n",
       "      <th>kidney_low</th>\n",
       "      <th>kidney_high</th>\n",
       "      <th>liver_healthy</th>\n",
       "      <th>liver_low</th>\n",
       "      <th>liver_high</th>\n",
       "      <th>spleen_healthy</th>\n",
       "      <th>spleen_low</th>\n",
       "      <th>spleen_high</th>\n",
       "      <th>any_injury</th>\n",
       "      <th>series_num</th>\n",
       "    </tr>\n",
       "  </thead>\n",
       "  <tbody>\n",
       "    <tr>\n",
       "      <th>0</th>\n",
       "      <td>2091</td>\n",
       "      <td>4905</td>\n",
       "      <td>1</td>\n",
       "      <td>0</td>\n",
       "      <td>1</td>\n",
       "      <td>0</td>\n",
       "      <td>1</td>\n",
       "      <td>0</td>\n",
       "      <td>0</td>\n",
       "      <td>1</td>\n",
       "      <td>0</td>\n",
       "      <td>0</td>\n",
       "      <td>1</td>\n",
       "      <td>0</td>\n",
       "      <td>0</td>\n",
       "      <td>0</td>\n",
       "      <td>1</td>\n",
       "    </tr>\n",
       "    <tr>\n",
       "      <th>1</th>\n",
       "      <td>2092</td>\n",
       "      <td>49075</td>\n",
       "      <td>1</td>\n",
       "      <td>0</td>\n",
       "      <td>1</td>\n",
       "      <td>0</td>\n",
       "      <td>1</td>\n",
       "      <td>0</td>\n",
       "      <td>0</td>\n",
       "      <td>1</td>\n",
       "      <td>0</td>\n",
       "      <td>0</td>\n",
       "      <td>1</td>\n",
       "      <td>0</td>\n",
       "      <td>0</td>\n",
       "      <td>0</td>\n",
       "      <td>1</td>\n",
       "    </tr>\n",
       "    <tr>\n",
       "      <th>2</th>\n",
       "      <td>2095</td>\n",
       "      <td>49134</td>\n",
       "      <td>1</td>\n",
       "      <td>0</td>\n",
       "      <td>1</td>\n",
       "      <td>0</td>\n",
       "      <td>1</td>\n",
       "      <td>0</td>\n",
       "      <td>0</td>\n",
       "      <td>1</td>\n",
       "      <td>0</td>\n",
       "      <td>0</td>\n",
       "      <td>1</td>\n",
       "      <td>0</td>\n",
       "      <td>0</td>\n",
       "      <td>0</td>\n",
       "      <td>1</td>\n",
       "    </tr>\n",
       "    <tr>\n",
       "      <th>3</th>\n",
       "      <td>2097</td>\n",
       "      <td>49145</td>\n",
       "      <td>1</td>\n",
       "      <td>0</td>\n",
       "      <td>1</td>\n",
       "      <td>0</td>\n",
       "      <td>1</td>\n",
       "      <td>0</td>\n",
       "      <td>0</td>\n",
       "      <td>1</td>\n",
       "      <td>0</td>\n",
       "      <td>0</td>\n",
       "      <td>1</td>\n",
       "      <td>0</td>\n",
       "      <td>0</td>\n",
       "      <td>0</td>\n",
       "      <td>1</td>\n",
       "    </tr>\n",
       "    <tr>\n",
       "      <th>4</th>\n",
       "      <td>2099</td>\n",
       "      <td>49167</td>\n",
       "      <td>1</td>\n",
       "      <td>0</td>\n",
       "      <td>1</td>\n",
       "      <td>0</td>\n",
       "      <td>0</td>\n",
       "      <td>1</td>\n",
       "      <td>0</td>\n",
       "      <td>1</td>\n",
       "      <td>0</td>\n",
       "      <td>0</td>\n",
       "      <td>1</td>\n",
       "      <td>0</td>\n",
       "      <td>0</td>\n",
       "      <td>1</td>\n",
       "      <td>1</td>\n",
       "    </tr>\n",
       "    <tr>\n",
       "      <th>...</th>\n",
       "      <td>...</td>\n",
       "      <td>...</td>\n",
       "      <td>...</td>\n",
       "      <td>...</td>\n",
       "      <td>...</td>\n",
       "      <td>...</td>\n",
       "      <td>...</td>\n",
       "      <td>...</td>\n",
       "      <td>...</td>\n",
       "      <td>...</td>\n",
       "      <td>...</td>\n",
       "      <td>...</td>\n",
       "      <td>...</td>\n",
       "      <td>...</td>\n",
       "      <td>...</td>\n",
       "      <td>...</td>\n",
       "      <td>...</td>\n",
       "    </tr>\n",
       "    <tr>\n",
       "      <th>507</th>\n",
       "      <td>3137</td>\n",
       "      <td>9801</td>\n",
       "      <td>1</td>\n",
       "      <td>0</td>\n",
       "      <td>1</td>\n",
       "      <td>0</td>\n",
       "      <td>1</td>\n",
       "      <td>0</td>\n",
       "      <td>0</td>\n",
       "      <td>1</td>\n",
       "      <td>0</td>\n",
       "      <td>0</td>\n",
       "      <td>1</td>\n",
       "      <td>0</td>\n",
       "      <td>0</td>\n",
       "      <td>0</td>\n",
       "      <td>1</td>\n",
       "    </tr>\n",
       "    <tr>\n",
       "      <th>508</th>\n",
       "      <td>3138</td>\n",
       "      <td>9808</td>\n",
       "      <td>1</td>\n",
       "      <td>0</td>\n",
       "      <td>1</td>\n",
       "      <td>0</td>\n",
       "      <td>1</td>\n",
       "      <td>0</td>\n",
       "      <td>0</td>\n",
       "      <td>1</td>\n",
       "      <td>0</td>\n",
       "      <td>0</td>\n",
       "      <td>1</td>\n",
       "      <td>0</td>\n",
       "      <td>0</td>\n",
       "      <td>0</td>\n",
       "      <td>1</td>\n",
       "    </tr>\n",
       "    <tr>\n",
       "      <th>509</th>\n",
       "      <td>3140</td>\n",
       "      <td>9835</td>\n",
       "      <td>1</td>\n",
       "      <td>0</td>\n",
       "      <td>1</td>\n",
       "      <td>0</td>\n",
       "      <td>1</td>\n",
       "      <td>0</td>\n",
       "      <td>0</td>\n",
       "      <td>1</td>\n",
       "      <td>0</td>\n",
       "      <td>0</td>\n",
       "      <td>1</td>\n",
       "      <td>0</td>\n",
       "      <td>0</td>\n",
       "      <td>0</td>\n",
       "      <td>1</td>\n",
       "    </tr>\n",
       "    <tr>\n",
       "      <th>510</th>\n",
       "      <td>3144</td>\n",
       "      <td>9961</td>\n",
       "      <td>1</td>\n",
       "      <td>0</td>\n",
       "      <td>1</td>\n",
       "      <td>0</td>\n",
       "      <td>1</td>\n",
       "      <td>0</td>\n",
       "      <td>0</td>\n",
       "      <td>1</td>\n",
       "      <td>0</td>\n",
       "      <td>0</td>\n",
       "      <td>1</td>\n",
       "      <td>0</td>\n",
       "      <td>0</td>\n",
       "      <td>0</td>\n",
       "      <td>1</td>\n",
       "    </tr>\n",
       "    <tr>\n",
       "      <th>511</th>\n",
       "      <td>3145</td>\n",
       "      <td>9980</td>\n",
       "      <td>1</td>\n",
       "      <td>0</td>\n",
       "      <td>1</td>\n",
       "      <td>0</td>\n",
       "      <td>1</td>\n",
       "      <td>0</td>\n",
       "      <td>0</td>\n",
       "      <td>1</td>\n",
       "      <td>0</td>\n",
       "      <td>0</td>\n",
       "      <td>0</td>\n",
       "      <td>0</td>\n",
       "      <td>1</td>\n",
       "      <td>1</td>\n",
       "      <td>1</td>\n",
       "    </tr>\n",
       "  </tbody>\n",
       "</table>\n",
       "<p>512 rows × 17 columns</p>\n",
       "</div>"
      ],
      "text/plain": [
       "     index  patient_id  bowel_healthy  bowel_injury  extravasation_healthy  \\\n",
       "0     2091        4905              1             0                      1   \n",
       "1     2092       49075              1             0                      1   \n",
       "2     2095       49134              1             0                      1   \n",
       "3     2097       49145              1             0                      1   \n",
       "4     2099       49167              1             0                      1   \n",
       "..     ...         ...            ...           ...                    ...   \n",
       "507   3137        9801              1             0                      1   \n",
       "508   3138        9808              1             0                      1   \n",
       "509   3140        9835              1             0                      1   \n",
       "510   3144        9961              1             0                      1   \n",
       "511   3145        9980              1             0                      1   \n",
       "\n",
       "     extravasation_injury  kidney_healthy  kidney_low  kidney_high  \\\n",
       "0                       0               1           0            0   \n",
       "1                       0               1           0            0   \n",
       "2                       0               1           0            0   \n",
       "3                       0               1           0            0   \n",
       "4                       0               0           1            0   \n",
       "..                    ...             ...         ...          ...   \n",
       "507                     0               1           0            0   \n",
       "508                     0               1           0            0   \n",
       "509                     0               1           0            0   \n",
       "510                     0               1           0            0   \n",
       "511                     0               1           0            0   \n",
       "\n",
       "     liver_healthy  liver_low  liver_high  spleen_healthy  spleen_low  \\\n",
       "0                1          0           0               1           0   \n",
       "1                1          0           0               1           0   \n",
       "2                1          0           0               1           0   \n",
       "3                1          0           0               1           0   \n",
       "4                1          0           0               1           0   \n",
       "..             ...        ...         ...             ...         ...   \n",
       "507              1          0           0               1           0   \n",
       "508              1          0           0               1           0   \n",
       "509              1          0           0               1           0   \n",
       "510              1          0           0               1           0   \n",
       "511              1          0           0               0           0   \n",
       "\n",
       "     spleen_high  any_injury  series_num  \n",
       "0              0           0           1  \n",
       "1              0           0           1  \n",
       "2              0           0           1  \n",
       "3              0           0           1  \n",
       "4              0           1           1  \n",
       "..           ...         ...         ...  \n",
       "507            0           0           1  \n",
       "508            0           0           1  \n",
       "509            0           0           1  \n",
       "510            0           0           1  \n",
       "511            1           1           1  \n",
       "\n",
       "[512 rows x 17 columns]"
      ]
     },
     "execution_count": 3,
     "metadata": {},
     "output_type": "execute_result"
    }
   ],
   "source": [
    "dicom_tag_columns = [\n",
    "    'Columns',\n",
    "    'ImageOrientationPatient',\n",
    "    'ImagePositionPatient',\n",
    "    'InstanceNumber',\n",
    "    'PatientID',\n",
    "    'PatientPosition',\n",
    "    'PixelSpacing',\n",
    "    'RescaleIntercept',\n",
    "    'RescaleSlope',\n",
    "    'Rows',\n",
    "    'SeriesNumber',\n",
    "    'SliceThickness',\n",
    "    'path',\n",
    "    'WindowCenter',\n",
    "    'WindowWidth'\n",
    "]\n",
    "\n",
    "train_dicom_tags = pd.read_parquet('autodl-tmp/train_dicom_tags.parquet', columns=dicom_tag_columns)\n",
    "test_dicom_tags = pd.read_parquet('autodl-tmp/test_dicom_tags.parquet', columns=dicom_tag_columns)\n",
    "\n",
    "train_series_meta = pd.read_csv('autodl-tmp/train_series_meta.csv')\n",
    "test_series_meta = pd.read_csv('autodl-tmp/test_series_meta.csv')\n",
    "\n",
    "train_csv = pd.read_csv('autodl-tmp/train.csv')\n",
    "\n",
    "fold1_2phase_csv = pd.read_csv('autodl-tmp/train_3fold/fold1_2phase.csv')\n",
    "fold2_2phase_csv = pd.read_csv('autodl-tmp/train_3fold/fold2_2phase.csv')\n",
    "fold3_2phase_csv = pd.read_csv('autodl-tmp/train_3fold/fold3_2phase.csv')\n",
    "\n",
    "fold3_2phase_csv"
   ]
  },
  {
   "cell_type": "code",
   "execution_count": 4,
   "id": "5b75b036-35cc-4f07-9480-1d2ff2ab6bc5",
   "metadata": {},
   "outputs": [],
   "source": [
    "injury_series_meta = train_series_meta.loc[train_series_meta.patient_id.isin(train_csv.loc[train_csv.any_injury == 1, \"patient_id\"].values)]\n",
    "healthy_series_meta = train_series_meta.loc[train_series_meta.patient_id.isin(train_csv.loc[train_csv.any_injury == 0, \"patient_id\"].values)]"
   ]
  },
  {
   "cell_type": "code",
   "execution_count": 5,
   "id": "7096cd30-8868-4b07-b313-ea7cfce8fd66",
   "metadata": {},
   "outputs": [],
   "source": [
    "def raw_path_gen(patient_id, series_id, train=True):\n",
    "    if(train):\n",
    "        path = 'autodl-tmp/train_images_resample/'\n",
    "    else:\n",
    "        path = 'autodl-tmp/train_images_resample/'\n",
    "    \n",
    "    path += str(patient_id) + '/' + str(series_id)\n",
    "    \n",
    "    return path\n",
    "\n",
    "def create_3D_scans(folder, downsample_rate=1): \n",
    "    filenames = os.listdir(folder)\n",
    "    filenames = [int(filename.split('.')[0]) for filename in filenames]\n",
    "    filenames = sorted(filenames)\n",
    "    filenames = [str(filename) + '.dcm' for filename in filenames]\n",
    "        \n",
    "    volume = []\n",
    "    #for filename in tqdm(filenames[::downsample_rate], position=0): \n",
    "    for filename in filenames[::downsample_rate]: \n",
    "        filepath = os.path.join(folder, filename)\n",
    "        ds = dicom.dcmread(filepath)\n",
    "        image = ds.pixel_array\n",
    "        \n",
    "        if ds.PixelRepresentation == 1:\n",
    "            bit_shift = ds.BitsAllocated - ds.BitsStored\n",
    "            dtype = image.dtype \n",
    "            image = (image << bit_shift).astype(dtype) >>  bit_shift\n",
    "        \n",
    "        # find rescale params\n",
    "        if (\"RescaleIntercept\" in ds) and (\"RescaleSlope\" in ds):\n",
    "            intercept = float(ds.RescaleIntercept)\n",
    "            slope = float(ds.RescaleSlope)\n",
    "    \n",
    "        # find clipping params\n",
    "        center = int(ds.WindowCenter)\n",
    "        width = int(ds.WindowWidth)\n",
    "        low = center - width / 2\n",
    "        high = center + width / 2    \n",
    "        \n",
    "        \n",
    "        image = (image * slope) + intercept\n",
    "        image = np.clip(image, low, high)\n",
    "\n",
    "        image = (image / np.max(image) * 255).astype(np.int16)\n",
    "        image = image[::downsample_rate, ::downsample_rate]\n",
    "        volume.append( image )\n",
    "    \n",
    "    volume = np.stack(volume, axis=0)\n",
    "    return volume\n",
    "\n",
    "def plot_image_with_seg(volume, volume_seg=[], orientation='Coronal', num_subplots=20):\n",
    "    # simply copy\n",
    "    if len(volume_seg) == 0:\n",
    "        plot_mask = 0\n",
    "    else:\n",
    "        plot_mask = 1\n",
    "        \n",
    "    if orientation == 'Coronal':\n",
    "        slices = np.linspace(0, volume.shape[2]-1, num_subplots).astype(np.int16)\n",
    "        volume = volume.transpose([1, 0, 2])\n",
    "        if plot_mask:\n",
    "            volume_seg = volume_seg.transpose([1, 0, 2])\n",
    "        \n",
    "    elif orientation == 'Sagittal':\n",
    "        slices = np.linspace(0, volume.shape[2]-1, num_subplots).astype(np.int16)\n",
    "        volume = volume.transpose([2, 0, 1])\n",
    "        if plot_mask:\n",
    "            volume_seg = volume_seg.transpose([2, 0, 1])\n",
    "\n",
    "    elif orientation == 'Axial':\n",
    "        slices = np.linspace(0, volume.shape[0]-1, num_subplots).astype(np.int16)\n",
    "           \n",
    "    rows = np.max( [np.floor(np.sqrt(num_subplots)).astype(int) - 2, 1])\n",
    "    cols = np.ceil(num_subplots/rows).astype(int)\n",
    "    \n",
    "    fig, ax = plt.subplots(rows, cols, figsize=(cols * 2, rows * 4))\n",
    "    fig.tight_layout(h_pad=0.01, w_pad=0)\n",
    "    \n",
    "    ax = ax.ravel()\n",
    "    for this_ax in ax:\n",
    "        this_ax.axis('off')\n",
    "\n",
    "    for counter, this_slice in enumerate( slices ):\n",
    "        plt.sca(ax[counter])\n",
    "        \n",
    "        image = volume[this_slice, :, :]\n",
    "        plt.imshow(image, cmap='gray')\n",
    "        \n",
    "        if plot_mask:\n",
    "            mask = np.where(volume_seg[this_slice, :, :], volume_seg[this_slice, :, :], np.nan)\n",
    "            plt.imshow(mask, cmap='Set1', alpha=0.5)\n",
    "            \n",
    "def load_nii(patient_id, series_id, root='autodl-tmp/train_images_resample/'):\n",
    "    path = root + str(patient_id) + '/' + str(series_id) + '.nii.gz'\n",
    "    img = sitk.ReadImage(path)\n",
    "    img = sitk.GetArrayFromImage(img)\n",
    "    \n",
    "    # img = nib.load(path)\n",
    "    # img = img.get_fdata().transpose(2, 1, 0)\n",
    "    \n",
    "    return img"
   ]
  },
  {
   "cell_type": "code",
   "execution_count": 6,
   "id": "2141f4ef-37c8-4cef-b89d-7ff9a539c6b2",
   "metadata": {},
   "outputs": [],
   "source": [
    "from torch.utils.data import Dataset\n",
    "from torch.utils.data import DataLoader\n",
    "\n",
    "ds = 2\n",
    "\n",
    "class CTDataset_2phase(Dataset):\n",
    "    def __init__(self, root='autodl-tmp/train_images_resample/', augmentation=False, subjects=train_csv, meta=train_series_meta, device='cpu'):\n",
    "        self.device = device\n",
    "        self.series_meta = meta\n",
    "        self.subjects_csv = subjects\n",
    "        self.root = root\n",
    "        self.t = monai.transforms.Compose([monai.transforms.RandZoom(prob=0.5, min_zoom=0.9, max_zoom=1.1),\n",
    "                                           monai.transforms.RandRotate(range_x=3.14 / 24, prob=0.5),\n",
    "                                           monai.transforms.SpatialPad(spatial_size=(320//ds, 280//ds, 280//ds), mode=\"edge\"),\n",
    "                                           monai.transforms.RandSpatialCrop(roi_size=(320//ds, 256//ds, 256//ds), random_size=False),\n",
    "                                           monai.transforms.NormalizeIntensity(divisor = 400)\n",
    "                                ])\n",
    "        self.t_val = monai.transforms.Compose([monai.transforms.NormalizeIntensity(divisor = 400)])\n",
    "        \n",
    "        self.aug = augmentation\n",
    "        \n",
    "    def __len__(self):\n",
    "        #return 1100\n",
    "        return len(self.subjects_csv)\n",
    "    \n",
    "    def __getitem__(self, idx): # high hu first\n",
    "        \n",
    "        patient_id = self.subjects_csv.loc[idx, ['patient_id']].values[0].astype('int')\n",
    "        series_id_1, hu1 = self.series_meta.loc[self.series_meta.patient_id == patient_id, ['series_id', 'aortic_hu']].values[0].astype('int')\n",
    "        series_id_2, hu2 = self.series_meta.loc[self.series_meta.patient_id == patient_id, ['series_id', 'aortic_hu']].values[1].astype('int')\n",
    "        \n",
    "        if hu1 > hu2:\n",
    "            series_id_h = series_id_1\n",
    "            series_id_l = series_id_2\n",
    "        else:\n",
    "            series_id_h = series_id_2\n",
    "            series_id_l = series_id_1\n",
    "        \n",
    "        \n",
    "        img_a_h = load_nii(patient_id, series_id_h, self.root).astype('float32')\n",
    "        if(self.aug):\n",
    "            img_t_h = self.t(np.expand_dims(img_a_h[::ds, ::ds, ::ds], 0))\n",
    "        else:\n",
    "            img_t_h = self.t_val(np.expand_dims(img_a_h[::ds, ::ds, ::ds], 0))\n",
    "            \n",
    "        img_a_l = load_nii(patient_id, series_id_l, self.root).astype('float32')\n",
    "        if(self.aug):\n",
    "            img_t_l = self.t(np.expand_dims(img_a_l[::ds, ::ds, ::ds], 0))\n",
    "        else:\n",
    "            img_t_l = self.t_val(np.expand_dims(img_a_l[::ds, ::ds, ::ds], 0))\n",
    "            \n",
    "        label_columns = [\n",
    "            'bowel_injury',\n",
    "            'extravasation_injury',\n",
    "            'kidney_low',\n",
    "            'kidney_high',\n",
    "            'liver_low',\n",
    "            'liver_high',\n",
    "            'spleen_low',\n",
    "            'spleen_high',\n",
    "            #'any_injury'\n",
    "        ]\n",
    "        label_a = self.subjects_csv.loc[idx, label_columns].values.astype('float32')\n",
    "        label_t = torch.from_numpy(label_a)\n",
    "        return img_t_h, img_t_l, label_t\n",
    "        \n",
    "\n",
    "        # patient_id, series_id = self.series_meta.loc[idx, [\"patient_id\", \"series_id\"]].astype('int')\n",
    "        # img_a = load_nii(patient_id, series_id, self.root).astype('float32')\n",
    "        # #img_t = torch.from_numpy(img_a).unsqueeze(0)\n",
    "        # #img_t = torch.from_numpy(img_a[::2, ::2, ::2]).unsqueeze(0)\n",
    "        # if(self.aug):\n",
    "        #     img_t = self.t(np.expand_dims(img_a[::ds, ::ds, ::ds], 0))\n",
    "        # else:\n",
    "        #     #img_t = torch.from_numpy(img_a[::ds, ::ds, ::ds]).unsqueeze(0)\n",
    "        #     img_t = self.t_val(np.expand_dims(img_a[::ds, ::ds, ::ds], 0))\n",
    "        # label_columns = [\n",
    "        #     'bowel_injury',\n",
    "        #     'extravasation_injury',\n",
    "        #     'kidney_low',\n",
    "        #     'kidney_high',\n",
    "        #     'liver_low',\n",
    "        #     'liver_high',\n",
    "        #     'spleen_low',\n",
    "        #     'spleen_high',\n",
    "        #     #'any_injury'\n",
    "        # ]\n",
    "        # label_a = train_csv.loc[train_csv.patient_id == patient_id, label_columns].values[0].astype('float32')\n",
    "        # label_t = torch.from_numpy(label_a)\n",
    "        # return img_t, label_t"
   ]
  },
  {
   "cell_type": "code",
   "execution_count": 7,
   "id": "bfd90d76-a251-4d2d-9667-6b4c23550672",
   "metadata": {},
   "outputs": [],
   "source": [
    "# train_meta = train_series_meta[-3600:].reset_index()\n",
    "# val_meta = train_series_meta[0:-3600].reset_index()\n",
    "\n",
    "# train_ds = CTDataset(meta = train_meta, augmentation=True)\n",
    "# train_dl = DataLoader(train_ds, batch_size=4, shuffle=True, num_workers=8)\n",
    "\n",
    "# val_ds = CTDataset(meta = val_meta, augmentation=False)\n",
    "# val_dl = DataLoader(val_ds, batch_size=4, shuffle=False, num_workers=8)"
   ]
  },
  {
   "cell_type": "code",
   "execution_count": 8,
   "id": "1d1f0a1d-e6aa-4575-b1f1-5efd4457a3fd",
   "metadata": {},
   "outputs": [],
   "source": [
    "# class EffNet(nn.Module):\n",
    "#     def __init__(self, ch_out=9):\n",
    "#         super(EffNet, self).__init__()\n",
    "#         #self.conv_in = nn.Conv3d(1, 3, kernel_size=5, padding=2, stride=2)\n",
    "#         self.net = EfficientNetBN(\"efficientnet-b0\", pretrained=False, progress=False, spatial_dims=3, in_channels=1, num_classes=ch_out,)\n",
    "#     def forward(self, x):\n",
    "#         #x = self.conv_in(x)\n",
    "#         #return torch.sigmoid(self.net(x))\n",
    "#         return self.net(x)\n",
    "\n",
    "class FullVolNet_2phase(nn.Module):\n",
    "    def __init__(self, backbone = \"tf_efficientnetv2_s.in21k_ft_in1k\", \n",
    "                 ch_in = 3, ch_out = 9, slices = 15, dropout = 0.0, pretrained=True):\n",
    "        super(FullVolNet_2phase, self).__init__()\n",
    "        self.slices = slices\n",
    "        \n",
    "        self.encoder1 = timm.create_model(\n",
    "            backbone,\n",
    "            in_chans=ch_in,\n",
    "            num_classes=ch_out,\n",
    "            features_only=False,\n",
    "            drop_rate=0.0,\n",
    "            drop_path_rate=0.0,\n",
    "            pretrained=False,\n",
    "        )\n",
    "        \n",
    "        self.encoder2 = timm.create_model(\n",
    "            backbone,\n",
    "            in_chans=ch_in,\n",
    "            num_classes=ch_out,\n",
    "            features_only=False,\n",
    "            drop_rate=0.0,\n",
    "            drop_path_rate=0.0,\n",
    "            pretrained=False,\n",
    "        )\n",
    "        \n",
    "        if 'efficient' in backbone and pretrained:\n",
    "            self.encoder1.load_state_dict(torch.load('pretrained/tf_efficientnetv2_s.in21k_ft_in1k_8class.pt'))\n",
    "            self.encoder2.load_state_dict(torch.load('pretrained/tf_efficientnetv2_s.in21k_ft_in1k_8class.pt'))\n",
    "        elif 'convnext' in backbone and pretrained:\n",
    "            self.encoder1.load_state_dict(torch.load('pretrained/convnextv2_nano.fcmae_ft_in22k_in1k_384_8class.pt'))\n",
    "            self.encoder2.load_state_dict(torch.load('pretrained/convnextv2_nano.fcmae_ft_in22k_in1k_384_8class.pt'))\n",
    "        \n",
    "        if 'efficient' in backbone:\n",
    "            hdim = self.encoder1.conv_head.out_channels\n",
    "            self.encoder1.classifier = nn.Identity()\n",
    "            self.encoder2.classifier = nn.Identity()\n",
    "        elif 'convnext' in backbone:\n",
    "            hdim = self.encoder1.head.fc.in_features\n",
    "            self.encoder1.head.fc = nn.Identity()\n",
    "            self.encoder2.head.fc = nn.Identity()\n",
    "        \n",
    "        self.lstm = nn.LSTM(hdim, 256, num_layers=2, dropout=0.0, bidirectional=True, batch_first=True)\n",
    "        \n",
    "        self.head = nn.Sequential(\n",
    "            nn.Linear(512, 256),\n",
    "            nn.BatchNorm1d(256),\n",
    "            nn.Dropout(dropout),\n",
    "            nn.LeakyReLU(0.1),\n",
    "            nn.Linear(256, ch_out),\n",
    "        )\n",
    "        \n",
    "        self.head2 = nn.Conv1d(2*slices, 1, 1)\n",
    "        \n",
    "        \n",
    "    def slicer(self, img, slices): \n",
    "        #img = img.squeeze(1)\n",
    "        z_length = img.shape[-3]\n",
    "        z_slices = (np.linspace(0, z_length, slices + 4)).astype('int')\n",
    "        z_slices = z_slices[2:-2]\n",
    "        #print(z_slices)\n",
    "        slices_list = []\n",
    "        for z in z_slices:\n",
    "            slices_list.append(img[:, :, z-1:z+2, :, :])\n",
    "        img_slice = torch.cat(slices_list, 1)\n",
    "        return img_slice\n",
    "        \n",
    "    def forward(self, x1, x2):  # (bs, nslice, ch, sz, sz) high hu first\n",
    "        x1 = self.slicer(x1, self.slices)\n",
    "        x2 = self.slicer(x2, self.slices)\n",
    "        bs, nslice,ch, sz1, sz2 = x1.shape\n",
    "        x1 = x1.view(bs*nslice, ch, sz1, sz2)\n",
    "        x2 = x2.view(bs*nslice, ch, sz1, sz2)\n",
    "        \n",
    "        feature_2d_1 = self.encoder1(x1)\n",
    "        feature_2d_1 = feature_2d_1.view(bs, nslice, -1)\n",
    "        feature_2d_2 = self.encoder2(x2)\n",
    "        feature_2d_2 = feature_2d_2.view(bs, nslice, -1)\n",
    "        \n",
    "        feature_2d = torch.cat([feature_2d_1, feature_2d_2], axis=1)\n",
    "        \n",
    "        feature_lstm, _ = self.lstm(feature_2d)\n",
    "        feature_lstm = feature_lstm.contiguous().view(bs * nslice * 2, -1)\n",
    "        \n",
    "        preds = self.head(feature_lstm)\n",
    "        preds = preds.view(bs, nslice * 2, -1).contiguous()\n",
    "        preds = self.head2(preds)\n",
    "        \n",
    "        return preds.squeeze(1)\n",
    "        \n",
    "        \n",
    "        # bs = x.shape[0]\n",
    "        # x = x.view(bs * n_slice_per_c, in_chans, image_size, image_size)\n",
    "        # feat = self.encoder(x)\n",
    "        # feat = feat.view(bs, n_slice_per_c, -1)\n",
    "        # feat, _ = self.lstm(feat)\n",
    "        # feat = feat.contiguous().view(bs * n_slice_per_c, -1)\n",
    "        # feat = self.head(feat)\n",
    "        # feat = feat.view(bs, n_slice_per_c).contiguous()\n",
    "        "
   ]
  },
  {
   "cell_type": "code",
   "execution_count": 9,
   "id": "6b95491b-07eb-45ea-90f6-456377057226",
   "metadata": {},
   "outputs": [],
   "source": [
    "# imgs, labels = next(iter(train_dl))\n",
    "# net = FullVolNet(ch_out = 13)\n",
    "# img_s = net(imgs)\n",
    "# img_s.shape"
   ]
  },
  {
   "cell_type": "code",
   "execution_count": 10,
   "id": "3af7441f-f99e-44ef-8e67-11273ff4ffa3",
   "metadata": {},
   "outputs": [],
   "source": [
    "import sklearn.metrics\n",
    "\n",
    "def transform_9class(label_in):\n",
    "    label_out = [1 - label_in[0],\n",
    "                   label_in[0],\n",
    "                    1- label_in[1],\n",
    "                   label_in[1],\n",
    "                   (1 - label_in[2]) * (1 - label_in[3]),\n",
    "                   label_in[2],\n",
    "                   label_in[3],\n",
    "                   (1 - label_in[4]) * (1 - label_in[5]),\n",
    "                    label_in[4],\n",
    "                   label_in[5],\n",
    "                   (1 - label_in[6]) * (1 - label_in[7]),\n",
    "                   label_in[6],\n",
    "                   label_in[7]]\n",
    "    return label_out\n",
    "\n",
    "def transform_13class(label_in):\n",
    "    label_out = label_in\n",
    "    return label_out.tolist()\n",
    "\n",
    "\n",
    "def loss_metrics(metrics, transform):\n",
    "    preds = [transform(x) for x in metrics[\"predict\"]]\n",
    "    targets = [transform(x) for x in metrics[\"label\"]]\n",
    "    targets_any_injury = metrics[\"label\"][:, -1]\n",
    "    \n",
    "    loss_list = []\n",
    "    \n",
    "    print(\"F1 score: \", sklearn.metrics.f1_score(metrics[\"label\"], np.around(metrics[\"predict\"]), average=None, zero_division=0.0))\n",
    "    print(\"AUC score: \", sklearn.metrics.roc_auc_score(metrics[\"label\"], metrics[\"predict\"], average=None))\n",
    "    \n",
    "    for i in range(0, len(preds)):\n",
    "        predict = preds[i]\n",
    "        target = targets[i]\n",
    "        \n",
    "        label_pred = np.zeros(14)\n",
    "        label_pred[0] = predict[0] / (predict[0] + predict[1])\n",
    "        label_pred[1] = predict[1] / (predict[0] + predict[1])\n",
    "        label_pred[2] = predict[2] / (predict[2] + predict[3])\n",
    "        label_pred[3] = predict[3] / (predict[2] + predict[3])\n",
    "        label_pred[4] = predict[4] / (predict[4] + predict[5] + predict[6])\n",
    "        label_pred[5] = predict[5] / (predict[4] + predict[5] + predict[6])\n",
    "        label_pred[6] = predict[6] / (predict[4] + predict[5] + predict[6])\n",
    "        label_pred[7] = predict[7] / (predict[7] + predict[8] + predict[9])\n",
    "        label_pred[8] = predict[8] / (predict[7] + predict[8] + predict[9])\n",
    "        label_pred[9] = predict[9] / (predict[7] + predict[8] + predict[9])\n",
    "        label_pred[10] = predict[10] / (predict[10] + predict[11] + predict[12])\n",
    "        label_pred[11] = predict[11] / (predict[10] + predict[11] + predict[12])\n",
    "        label_pred[12] = predict[12] / (predict[10] + predict[11] + predict[12])\n",
    "        label_pred[13] = max([1 - label_pred[x] for x in [0, 2, 4, 7, 10]])\n",
    "        \n",
    "        targets_any_injury = max([1 - target[x] for x in [0, 2, 4, 7, 10]])\n",
    "        \n",
    "        target.append(targets_any_injury)\n",
    "        label_target = np.array(target)\n",
    "        \n",
    "        weight = np.array([1, 2, 1, 6, 1, 2, 4, 1, 2, 4, 1, 2, 4, 6])\n",
    "        \n",
    "        loss_list.append(sklearn.metrics.log_loss(\n",
    "            y_true=label_target,\n",
    "            y_pred=label_pred,\n",
    "            sample_weight=weight))\n",
    "    #print(\"Weighted Loss: \" + np.mean(loss_list))\n",
    "    \n",
    "    return np.mean(loss_list)\n",
    "        \n",
    "    \n",
    "    \n",
    "    #print(np.array(preds).shape)\n",
    "    "
   ]
  },
  {
   "cell_type": "code",
   "execution_count": 11,
   "id": "6cc4c8d8-bcaf-457a-a88e-48e6d3bdb5d2",
   "metadata": {},
   "outputs": [],
   "source": [
    "import copy\n",
    "\n",
    "def TrainClassifer(model,trn_dl,val_dl,optimizer, project, name, suffix, scheduler=None,\n",
    "                   n_eopchs=20, device='cpu'):\n",
    " \n",
    "    #loss_fn = nn.BCELoss(weight=torch.Tensor([1, 6, 1, 6, 1, 4, 8, 1, 4, 8, 1, 4, 8]).to(device))\n",
    "    #loss_fn = nn.BCELoss()\n",
    "    loss_fn = nn.BCEWithLogitsLoss(pos_weight=torch.Tensor([10, 5, 10, 10, 6, 6, 6, 6]).to(device))\n",
    "    model.to(device)\n",
    "    best_model = copy.deepcopy(model)\n",
    "    bestweight_model = copy.deepcopy(model)\n",
    "    best_val = 999.0\n",
    "    best_weightloss = 999.0\n",
    "    metrics = {'predict': [], 'label' : []}\n",
    "    PATH_MODEL = project + '/' + name + '/' + suffix + '.pt'\n",
    "    wandb.init(name=name, \n",
    "               project=project)\n",
    "\n",
    "    for epoch in range(1, n_eopchs + 1):\n",
    "        loss_train = 0.0\n",
    "        model.train()\n",
    "        for imgs_h, imgs_l, labels in tqdm(trn_dl, position=0):\n",
    "            imgs_h = imgs_h.to(device)\n",
    "            imgs_l = imgs_l.to(device)\n",
    "            labels = labels.to(device)\n",
    "\n",
    "            outputs = model(imgs_h, imgs_l)\n",
    "            #outputs = model(imgs.unsqueeze(1))\n",
    "            loss = loss_fn(outputs, labels)\n",
    "            optimizer.zero_grad()\n",
    "            loss.backward()\n",
    "            optimizer.step()\n",
    "            loss_train += loss.item()\n",
    "        torch.cuda.empty_cache()\n",
    "        \n",
    "        loss_val = 0.0\n",
    "        correct_val = 0.0\n",
    "        model.eval()\n",
    "        \n",
    "        for imgs_h, imgs_l, labels in tqdm(val_dl):\n",
    "            imgs_h = imgs_h.to(device)\n",
    "            imgs_l = imgs_l.to(device)\n",
    "            labels = labels.to(device)\n",
    "            with torch.no_grad():\n",
    "                outputs = model(imgs_h, imgs_l)\n",
    "                #outputs = model(imgs.unsqueeze(1))\n",
    "                loss = loss_fn(outputs, labels)\n",
    "                loss_val += loss.item()\n",
    "                outputs = torch.sigmoid(outputs)\n",
    "                metrics['predict'].extend((outputs.to('cpu').detach().numpy()).tolist())\n",
    "                metrics['label'].extend((labels.to('cpu').detach().numpy()).tolist())\n",
    "        \n",
    "        metrics['predict'] = np.array(metrics['predict'])\n",
    "        #metrics['predict'] = np.array([[0.5, 0.5, 0.33333, 0.33333, 0.33333, 0.33333, 0.33333, 0.33333, 0.33333]]*len(metrics['label']))\n",
    "        metrics['label'] = np.array(metrics['label'])\n",
    "        weighted_loss = loss_metrics(metrics, transform_9class)\n",
    "        metrics = {'predict': [], 'label' : []}\n",
    "        \n",
    "        torch.cuda.empty_cache()\n",
    "        \n",
    "        if (weighted_loss) < best_weightloss:\n",
    "            best_weightloss = weighted_loss\n",
    "            \n",
    "        if loss_val / len(val_dl) < best_val:\n",
    "            best_val = loss_val / len(val_dl)\n",
    "            torch.save(model.state_dict(), 'model_tmp.pt')\n",
    "            best_model.load_state_dict(torch.load('model_tmp.pt'))\n",
    "            \n",
    "            \n",
    "        if scheduler != None:\n",
    "            scheduler.step()\n",
    "\n",
    "        print('{} Eopch {}, Training Loss {}, Val Loss {}, Weighted Loss {}'.format(time.strftime(\"%Y-%m-%d %H:%M:%S\",time.localtime()),\n",
    "                                                                  epoch, loss_train / len(trn_dl), loss_val / len(val_dl),\n",
    "                                                                                     weighted_loss))\n",
    "        \n",
    "        \n",
    "        \n",
    "        wandb.log({'training loss': loss_train / len(trn_dl),\n",
    "                  'val loss': loss_val / len(val_dl),\n",
    "                  'weighted loss': weighted_loss})\n",
    "    torch.save(best_model.state_dict(), PATH_MODEL)\n",
    "    print('Finish training: best_val:{}, best_weighted loss:{}'.format(best_val, best_weightloss))\n",
    "    wandb.finish()"
   ]
  },
  {
   "cell_type": "code",
   "execution_count": 12,
   "id": "31a6b12e-cf26-4b32-b308-1b789d6fe5d8",
   "metadata": {},
   "outputs": [],
   "source": [
    "import os\n",
    "\n",
    "project = \"FullVol2.5D-3fold\"\n",
    "name = \"FullVol2.5D-2phase_Effnetv2_3fold\"\n",
    "backbone = \"tf_efficientnetv2_s.in21k_ft_in1k\"\n",
    "# backbone = 'convnextv2_nano.fcmae_ft_in22k_in1k_384'\n",
    "n_eopchs = 20\n",
    "\n",
    "p = project + '/' + name\n",
    "if not os.path.exists(p):\n",
    "    os.mkdir(p)"
   ]
  },
  {
   "cell_type": "code",
   "execution_count": 13,
   "id": "59094468-bde4-4361-9ff8-d8682cfe6ad1",
   "metadata": {},
   "outputs": [],
   "source": [
    "# fold1_1phase_csv = pd.read_csv('autodl-tmp/train_3fold/fold1_1phase.csv')\n",
    "# fold2_1phase_csv = pd.read_csv('autodl-tmp/train_3fold/fold2_1phase.csv')\n",
    "# fold3_1phase_csv = pd.read_csv('autodl-tmp/train_3fold/fold3_1phase.csv')\n",
    "\n",
    "train_df_fold1 = pd.concat([fold1_2phase_csv, fold2_2phase_csv], axis=0).reset_index()\n",
    "train_df_fold2 = pd.concat([fold1_2phase_csv, fold3_2phase_csv], axis=0).reset_index()\n",
    "train_df_fold3 = pd.concat([fold2_2phase_csv, fold3_2phase_csv], axis=0).reset_index()\n",
    "\n",
    "val_df_fold1 = fold3_2phase_csv\n",
    "val_df_fold2 = fold2_2phase_csv\n",
    "val_df_fold3 = fold1_2phase_csv\n",
    "\n",
    "train_ds_fold1 = CTDataset_2phase(subjects = train_df_fold1, meta = train_series_meta, augmentation=True)\n",
    "train_dl_fold1 = DataLoader(train_ds_fold1, batch_size=4, shuffle=True, num_workers=8)\n",
    "val_ds_fold1 = CTDataset_2phase(subjects = val_df_fold1, meta = train_series_meta, augmentation=False)\n",
    "val_dl_fold1 = DataLoader(val_ds_fold1, batch_size=4, shuffle=False, num_workers=8)\n",
    "\n",
    "train_ds_fold2 = CTDataset_2phase(subjects = train_df_fold2, meta = train_series_meta, augmentation=True)\n",
    "train_dl_fold2 = DataLoader(train_ds_fold2, batch_size=4, shuffle=True, num_workers=8)\n",
    "val_ds_fold2 = CTDataset_2phase(subjects = val_df_fold2, meta = train_series_meta, augmentation=False)\n",
    "val_dl_fold2 = DataLoader(val_ds_fold2, batch_size=4, shuffle=False, num_workers=8)\n",
    "\n",
    "train_ds_fold3 = CTDataset_2phase(subjects = train_df_fold3, meta = train_series_meta, augmentation=True)\n",
    "train_dl_fold3 = DataLoader(train_ds_fold3, batch_size=4, shuffle=True, num_workers=8)\n",
    "val_ds_fold3 = CTDataset_2phase(subjects = val_df_fold3, meta = train_series_meta, augmentation=False)\n",
    "val_dl_fold3 = DataLoader(val_ds_fold3, batch_size=4, shuffle=False, num_workers=8)"
   ]
  },
  {
   "cell_type": "code",
   "execution_count": 14,
   "id": "732ea298-acdd-451a-8881-b6f393a121e9",
   "metadata": {},
   "outputs": [
    {
     "name": "stderr",
     "output_type": "stream",
     "text": [
      "\u001b[34m\u001b[1mwandb\u001b[0m: Currently logged in as: \u001b[33mnorthm\u001b[0m (\u001b[33mrsna2023\u001b[0m). Use \u001b[1m`wandb login --relogin`\u001b[0m to force relogin\n"
     ]
    },
    {
     "data": {
      "text/html": [
       "wandb version 0.15.11 is available!  To upgrade, please run:\n",
       " $ pip install wandb --upgrade"
      ],
      "text/plain": [
       "<IPython.core.display.HTML object>"
      ]
     },
     "metadata": {},
     "output_type": "display_data"
    },
    {
     "data": {
      "text/html": [
       "Tracking run with wandb version 0.15.8"
      ],
      "text/plain": [
       "<IPython.core.display.HTML object>"
      ]
     },
     "metadata": {},
     "output_type": "display_data"
    },
    {
     "data": {
      "text/html": [
       "Run data is saved locally in <code>/root/wandb/run-20230928_055944-49s9mq8u</code>"
      ],
      "text/plain": [
       "<IPython.core.display.HTML object>"
      ]
     },
     "metadata": {},
     "output_type": "display_data"
    },
    {
     "data": {
      "text/html": [
       "Syncing run <strong><a href='https://wandb.ai/rsna2023/FullVol2.5D-3fold/runs/49s9mq8u' target=\"_blank\">FullVol2.5D-2phase_Effnetv2_3fold</a></strong> to <a href='https://wandb.ai/rsna2023/FullVol2.5D-3fold' target=\"_blank\">Weights & Biases</a> (<a href='https://wandb.me/run' target=\"_blank\">docs</a>)<br/>"
      ],
      "text/plain": [
       "<IPython.core.display.HTML object>"
      ]
     },
     "metadata": {},
     "output_type": "display_data"
    },
    {
     "data": {
      "text/html": [
       " View project at <a href='https://wandb.ai/rsna2023/FullVol2.5D-3fold' target=\"_blank\">https://wandb.ai/rsna2023/FullVol2.5D-3fold</a>"
      ],
      "text/plain": [
       "<IPython.core.display.HTML object>"
      ]
     },
     "metadata": {},
     "output_type": "display_data"
    },
    {
     "data": {
      "text/html": [
       " View run at <a href='https://wandb.ai/rsna2023/FullVol2.5D-3fold/runs/49s9mq8u' target=\"_blank\">https://wandb.ai/rsna2023/FullVol2.5D-3fold/runs/49s9mq8u</a>"
      ],
      "text/plain": [
       "<IPython.core.display.HTML object>"
      ]
     },
     "metadata": {},
     "output_type": "display_data"
    },
    {
     "name": "stderr",
     "output_type": "stream",
     "text": [
      "100%|██████████| 263/263 [03:01<00:00,  1.45it/s]\n",
      "100%|██████████| 128/128 [01:16<00:00,  1.66it/s]\n"
     ]
    },
    {
     "name": "stdout",
     "output_type": "stream",
     "text": [
      "F1 score:  [0.         0.05405405 0.         0.         0.09836066 0.\n",
      " 0.12121212 0.        ]\n",
      "AUC score:  [0.67900738 0.6235242  0.62804878 0.52596554 0.54685765 0.53695437\n",
      " 0.56068737 0.54081633]\n",
      "2023-09-28 06:04:07 Eopch 1, Training Loss 0.7940957458980183, Val Loss 0.7164111116435379, Weighted Loss 0.5076543100240152\n"
     ]
    },
    {
     "name": "stderr",
     "output_type": "stream",
     "text": [
      "100%|██████████| 263/263 [03:02<00:00,  1.44it/s]\n",
      "100%|██████████| 128/128 [01:07<00:00,  1.90it/s]\n"
     ]
    },
    {
     "name": "stdout",
     "output_type": "stream",
     "text": [
      "F1 score:  [0.         0.06451613 0.         0.         0.11320755 0.\n",
      " 0.08       0.        ]\n",
      "AUC score:  [0.70046948 0.66263282 0.61737805 0.53048128 0.59105041 0.50892857\n",
      " 0.58101588 0.55565863]\n",
      "2023-09-28 06:08:19 Eopch 2, Training Loss 0.6944076723698881, Val Loss 0.6888369249645621, Weighted Loss 0.4229421280817416\n"
     ]
    },
    {
     "name": "stderr",
     "output_type": "stream",
     "text": [
      "100%|██████████| 263/263 [02:57<00:00,  1.48it/s]\n",
      "100%|██████████| 128/128 [01:08<00:00,  1.86it/s]\n"
     ]
    },
    {
     "name": "stdout",
     "output_type": "stream",
     "text": [
      "F1 score:  [0.         0.         0.         0.         0.2        0.\n",
      " 0.03636364 0.        ]\n",
      "AUC score:  [0.70234742 0.65672963 0.6625     0.55103981 0.60204308 0.55729167\n",
      " 0.59776657 0.5755102 ]\n",
      "2023-09-28 06:12:28 Eopch 3, Training Loss 0.6662907908057986, Val Loss 0.6805624607950449, Weighted Loss 0.4148623562985642\n"
     ]
    },
    {
     "name": "stderr",
     "output_type": "stream",
     "text": [
      "100%|██████████| 263/263 [03:01<00:00,  1.45it/s]\n",
      "100%|██████████| 128/128 [01:07<00:00,  1.89it/s]\n"
     ]
    },
    {
     "name": "stdout",
     "output_type": "stream",
     "text": [
      "F1 score:  [0.         0.         0.         0.         0.19444444 0.\n",
      " 0.03508772 0.        ]\n",
      "AUC score:  [0.66505701 0.66735537 0.69654472 0.53475936 0.64712414 0.62227183\n",
      " 0.62563018 0.53636364]\n",
      "2023-09-28 06:16:39 Eopch 4, Training Loss 0.6526836951195967, Val Loss 0.6803640207508579, Weighted Loss 0.3879436284496983\n"
     ]
    },
    {
     "name": "stderr",
     "output_type": "stream",
     "text": [
      "100%|██████████| 263/263 [02:58<00:00,  1.47it/s]\n",
      "100%|██████████| 128/128 [01:13<00:00,  1.73it/s]\n"
     ]
    },
    {
     "name": "stdout",
     "output_type": "stream",
     "text": [
      "F1 score:  [0.         0.09090909 0.08888889 0.         0.22222222 0.\n",
      " 0.06349206 0.06666667]\n",
      "AUC score:  [0.69537223 0.67532468 0.70833333 0.55698158 0.6844326  0.64484127\n",
      " 0.64319402 0.58552876]\n",
      "2023-09-28 06:20:54 Eopch 5, Training Loss 0.6445136010193553, Val Loss 0.6765506144147366, Weighted Loss 0.4366402042700286\n"
     ]
    },
    {
     "name": "stderr",
     "output_type": "stream",
     "text": [
      "100%|██████████| 263/263 [02:56<00:00,  1.49it/s]\n",
      "100%|██████████| 128/128 [01:14<00:00,  1.72it/s]\n"
     ]
    },
    {
     "name": "stdout",
     "output_type": "stream",
     "text": [
      "F1 score:  [0.         0.17777778 0.08888889 0.         0.19161677 0.\n",
      " 0.10126582 0.07407407]\n",
      "AUC score:  [0.69832327 0.68860685 0.74827236 0.60415924 0.68315567 0.62425595\n",
      " 0.63007535 0.61326531]\n",
      "2023-09-28 06:25:07 Eopch 6, Training Loss 0.6255815443317246, Val Loss 0.6699889288283885, Weighted Loss 0.4386165523719603\n"
     ]
    },
    {
     "name": "stderr",
     "output_type": "stream",
     "text": [
      "100%|██████████| 263/263 [02:56<00:00,  1.49it/s]\n",
      "100%|██████████| 128/128 [01:14<00:00,  1.72it/s]\n"
     ]
    },
    {
     "name": "stdout",
     "output_type": "stream",
     "text": [
      "F1 score:  [0.         0.21052632 0.16326531 0.         0.1875     0.\n",
      " 0.1025641  0.05263158]\n",
      "AUC score:  [0.71750503 0.6802686  0.74420732 0.60106952 0.68187875 0.66666667\n",
      " 0.63251477 0.64378479]\n",
      "2023-09-28 06:29:21 Eopch 7, Training Loss 0.6128937228097662, Val Loss 0.668622501543723, Weighted Loss 0.44475537317535485\n"
     ]
    },
    {
     "name": "stderr",
     "output_type": "stream",
     "text": [
      " 47%|████▋     | 123/263 [01:29<01:13,  1.89it/s]wandb: Network error (ReadTimeout), entering retry loop.\n",
      "100%|██████████| 263/263 [02:59<00:00,  1.47it/s]\n",
      "100%|██████████| 128/128 [01:14<00:00,  1.72it/s]\n"
     ]
    },
    {
     "name": "stdout",
     "output_type": "stream",
     "text": [
      "F1 score:  [0.         0.19354839 0.09302326 0.         0.23140496 0.\n",
      " 0.06896552 0.05882353]\n",
      "AUC score:  [0.72246814 0.67495573 0.74522358 0.64777184 0.70469687 0.71106151\n",
      " 0.65419851 0.63218924]\n",
      "2023-09-28 06:33:37 Eopch 8, Training Loss 0.5951695466562822, Val Loss 0.654148954548873, Weighted Loss 0.40388031239645694\n"
     ]
    },
    {
     "name": "stderr",
     "output_type": "stream",
     "text": [
      "100%|██████████| 263/263 [02:57<00:00,  1.48it/s]\n",
      "100%|██████████| 128/128 [01:10<00:00,  1.82it/s]\n"
     ]
    },
    {
     "name": "stdout",
     "output_type": "stream",
     "text": [
      "F1 score:  [0.         0.04545455 0.05128205 0.         0.21582734 0.\n",
      " 0.14084507 0.        ]\n",
      "AUC score:  [0.70221328 0.67458678 0.77550813 0.68461081 0.72856984 0.73660714\n",
      " 0.65306012 0.63886827]\n",
      "2023-09-28 06:37:47 Eopch 9, Training Loss 0.5756451603690934, Val Loss 0.6432534428313375, Weighted Loss 0.37784960960176184\n"
     ]
    },
    {
     "name": "stderr",
     "output_type": "stream",
     "text": [
      "100%|██████████| 263/263 [03:11<00:00,  1.37it/s]\n",
      "100%|██████████| 128/128 [01:06<00:00,  1.94it/s]\n"
     ]
    },
    {
     "name": "stdout",
     "output_type": "stream",
     "text": [
      "F1 score:  [0.         0.15384615 0.21212121 0.11428571 0.22485207 0.18181818\n",
      " 0.20472441 0.06060606]\n",
      "AUC score:  [0.71911469 0.67628394 0.79654472 0.69007724 0.7461137  0.76488095\n",
      " 0.65826422 0.62940631]\n",
      "2023-09-28 06:42:08 Eopch 10, Training Loss 0.5514893887047532, Val Loss 0.6378784329863265, Weighted Loss 0.40038974464840793\n"
     ]
    },
    {
     "name": "stderr",
     "output_type": "stream",
     "text": [
      "100%|██████████| 263/263 [03:17<00:00,  1.33it/s]\n",
      "100%|██████████| 128/128 [01:12<00:00,  1.76it/s]\n"
     ]
    },
    {
     "name": "stdout",
     "output_type": "stream",
     "text": [
      "F1 score:  [0.10526316 0.13636364 0.11111111 0.06666667 0.21714286 0.\n",
      " 0.19512195 0.03773585]\n",
      "AUC score:  [0.72528504 0.70196281 0.7546748  0.70255496 0.75416389 0.77951389\n",
      " 0.64444083 0.66957328]\n",
      "2023-09-28 06:46:40 Eopch 11, Training Loss 0.5324243294648798, Val Loss 0.6358691599452868, Weighted Loss 0.3809617931709728\n"
     ]
    },
    {
     "name": "stderr",
     "output_type": "stream",
     "text": [
      "100%|██████████| 263/263 [03:00<00:00,  1.46it/s]\n",
      "100%|██████████| 128/128 [01:06<00:00,  1.91it/s]\n"
     ]
    },
    {
     "name": "stdout",
     "output_type": "stream",
     "text": [
      "F1 score:  [0.0952381  0.225      0.23076923 0.08695652 0.22641509 0.15384615\n",
      " 0.20618557 0.12903226]\n",
      "AUC score:  [0.72850436 0.69281287 0.79979675 0.67629234 0.74683544 0.75793651\n",
      " 0.67777958 0.68821892]\n",
      "2023-09-28 06:50:48 Eopch 12, Training Loss 0.522908622717676, Val Loss 0.6371124921133742, Weighted Loss 0.41005411609391873\n"
     ]
    },
    {
     "name": "stderr",
     "output_type": "stream",
     "text": [
      "100%|██████████| 263/263 [03:03<00:00,  1.43it/s]\n",
      "100%|██████████| 128/128 [01:06<00:00,  1.92it/s]\n"
     ]
    },
    {
     "name": "stdout",
     "output_type": "stream",
     "text": [
      "F1 score:  [0.1        0.21875    0.20930233 0.10810811 0.24516129 0.28571429\n",
      " 0.22018349 0.08695652]\n",
      "AUC score:  [0.75412475 0.6765791  0.78384146 0.72299465 0.76759938 0.78422619\n",
      " 0.68341736 0.6729128 ]\n",
      "2023-09-28 06:55:01 Eopch 13, Training Loss 0.5179985652858313, Val Loss 0.6211353536928073, Weighted Loss 0.3896466662985557\n"
     ]
    },
    {
     "name": "stderr",
     "output_type": "stream",
     "text": [
      "100%|██████████| 263/263 [02:59<00:00,  1.46it/s]\n",
      "100%|██████████| 128/128 [01:06<00:00,  1.93it/s]\n"
     ]
    },
    {
     "name": "stdout",
     "output_type": "stream",
     "text": [
      "F1 score:  [0.1        0.08695652 0.08888889 0.08333333 0.26086957 0.18181818\n",
      " 0.17142857 0.        ]\n",
      "AUC score:  [0.76834339 0.6765791  0.76636179 0.71348782 0.74605818 0.79588294\n",
      " 0.69013932 0.67328386]\n",
      "2023-09-28 06:59:08 Eopch 14, Training Loss 0.4715619361445931, Val Loss 0.6351427540648729, Weighted Loss 0.3097076665093234\n"
     ]
    },
    {
     "name": "stderr",
     "output_type": "stream",
     "text": [
      "100%|██████████| 263/263 [03:07<00:00,  1.40it/s]\n",
      "100%|██████████| 128/128 [01:12<00:00,  1.76it/s]\n"
     ]
    },
    {
     "name": "stdout",
     "output_type": "stream",
     "text": [
      "F1 score:  [0.0952381  0.24242424 0.21686747 0.08333333 0.23036649 0.2\n",
      " 0.15909091 0.13793103]\n",
      "AUC score:  [0.75318578 0.68403188 0.75       0.73012478 0.75632911 0.79315476\n",
      " 0.70846208 0.69025974]\n",
      "2023-09-28 07:03:29 Eopch 15, Training Loss 0.4615827376454955, Val Loss 0.6303647798486054, Weighted Loss 0.4008830164906864\n"
     ]
    },
    {
     "name": "stderr",
     "output_type": "stream",
     "text": [
      "100%|██████████| 263/263 [03:10<00:00,  1.38it/s]\n",
      "100%|██████████| 128/128 [01:07<00:00,  1.91it/s]\n"
     ]
    },
    {
     "name": "stdout",
     "output_type": "stream",
     "text": [
      "F1 score:  [0.         0.19230769 0.21428571 0.11428571 0.24637681 0.23529412\n",
      " 0.175      0.09302326]\n",
      "AUC score:  [0.74688129 0.68941854 0.77754065 0.76339869 0.75816123 0.76165675\n",
      " 0.65544533 0.7       ]\n",
      "2023-09-28 07:07:48 Eopch 16, Training Loss 0.4359333646048158, Val Loss 0.6236940044909716, Weighted Loss 0.3487905832201938\n"
     ]
    },
    {
     "name": "stderr",
     "output_type": "stream",
     "text": [
      "100%|██████████| 263/263 [02:59<00:00,  1.47it/s]\n",
      "100%|██████████| 128/128 [01:07<00:00,  1.91it/s]\n"
     ]
    },
    {
     "name": "stdout",
     "output_type": "stream",
     "text": [
      "F1 score:  [0.19354839 0.23684211 0.17808219 0.17073171 0.24096386 0.12121212\n",
      " 0.234375   0.15384615]\n",
      "AUC score:  [0.73199195 0.64071724 0.76636179 0.72168746 0.74505885 0.74727183\n",
      " 0.69192823 0.68339518]\n",
      "2023-09-28 07:11:55 Eopch 17, Training Loss 0.40692978094512516, Val Loss 0.648756370996125, Weighted Loss 0.41032120654934595\n"
     ]
    },
    {
     "name": "stderr",
     "output_type": "stream",
     "text": [
      "100%|██████████| 263/263 [03:00<00:00,  1.46it/s]\n",
      "100%|██████████| 128/128 [01:06<00:00,  1.93it/s]\n"
     ]
    },
    {
     "name": "stdout",
     "output_type": "stream",
     "text": [
      "F1 score:  [0.         0.16393443 0.23913043 0.07407407 0.26548673 0.22222222\n",
      " 0.20224719 0.22222222]\n",
      "AUC score:  [0.73628437 0.65709858 0.77215447 0.76030897 0.7568843  0.74677579\n",
      " 0.6558248  0.73079777]\n",
      "2023-09-28 07:16:02 Eopch 18, Training Loss 0.4039561016761305, Val Loss 0.6367582718958147, Weighted Loss 0.3228795877184917\n"
     ]
    },
    {
     "name": "stderr",
     "output_type": "stream",
     "text": [
      "100%|██████████| 263/263 [02:58<00:00,  1.48it/s]\n",
      "100%|██████████| 128/128 [01:15<00:00,  1.70it/s]\n"
     ]
    },
    {
     "name": "stdout",
     "output_type": "stream",
     "text": [
      "F1 score:  [0.07407407 0.13793103 0.2        0.0625     0.24161074 0.36363636\n",
      " 0.19298246 0.26415094]\n",
      "AUC score:  [0.7433937  0.65532763 0.77947154 0.74046346 0.75194315 0.78249008\n",
      " 0.65322275 0.70111317]\n",
      "2023-09-28 07:20:17 Eopch 19, Training Loss 0.38121883987587213, Val Loss 0.635890442004893, Weighted Loss 0.3372273656850917\n"
     ]
    },
    {
     "name": "stderr",
     "output_type": "stream",
     "text": [
      "100%|██████████| 263/263 [02:58<00:00,  1.47it/s]\n",
      "100%|██████████| 128/128 [01:07<00:00,  1.90it/s]\n"
     ]
    },
    {
     "name": "stdout",
     "output_type": "stream",
     "text": [
      "F1 score:  [0.09090909 0.12       0.15873016 0.17647059 0.2183908  0.18181818\n",
      " 0.19736842 0.17021277]\n",
      "AUC score:  [0.73494299 0.62883707 0.80711382 0.7466429  0.75272041 0.78918651\n",
      " 0.66417304 0.67217069]\n",
      "2023-09-28 07:24:24 Eopch 20, Training Loss 0.3656503723034841, Val Loss 0.6435543674742803, Weighted Loss 0.34111495308123085\n",
      "Finish training: best_val:0.6211353536928073, best_weighted loss:0.3097076665093234\n"
     ]
    },
    {
     "data": {
      "text/html": [
       "Waiting for W&B process to finish... <strong style=\"color:green\">(success).</strong>"
      ],
      "text/plain": [
       "<IPython.core.display.HTML object>"
      ]
     },
     "metadata": {},
     "output_type": "display_data"
    },
    {
     "data": {
      "text/html": [
       "<style>\n",
       "    table.wandb td:nth-child(1) { padding: 0 10px; text-align: left ; width: auto;} td:nth-child(2) {text-align: left ; width: 100%}\n",
       "    .wandb-row { display: flex; flex-direction: row; flex-wrap: wrap; justify-content: flex-start; width: 100% }\n",
       "    .wandb-col { display: flex; flex-direction: column; flex-basis: 100%; flex: 1; padding: 10px; }\n",
       "    </style>\n",
       "<div class=\"wandb-row\"><div class=\"wandb-col\"><h3>Run history:</h3><br/><table class=\"wandb\"><tr><td>training loss</td><td>█▆▆▆▆▅▅▅▄▄▄▄▃▃▃▂▂▂▁▁</td></tr><tr><td>val loss</td><td>█▆▅▅▅▅▄▃▃▂▂▂▁▂▂▁▃▂▂▃</td></tr><tr><td>weighted loss</td><td>█▅▅▄▅▆▆▄▃▄▄▅▄▁▄▂▅▁▂▂</td></tr></table><br/></div><div class=\"wandb-col\"><h3>Run summary:</h3><br/><table class=\"wandb\"><tr><td>training loss</td><td>0.36565</td></tr><tr><td>val loss</td><td>0.64355</td></tr><tr><td>weighted loss</td><td>0.34111</td></tr></table><br/></div></div>"
      ],
      "text/plain": [
       "<IPython.core.display.HTML object>"
      ]
     },
     "metadata": {},
     "output_type": "display_data"
    },
    {
     "data": {
      "text/html": [
       " View run <strong style=\"color:#cdcd00\">FullVol2.5D-2phase_Effnetv2_3fold</strong> at: <a href='https://wandb.ai/rsna2023/FullVol2.5D-3fold/runs/49s9mq8u' target=\"_blank\">https://wandb.ai/rsna2023/FullVol2.5D-3fold/runs/49s9mq8u</a><br/>Synced 5 W&B file(s), 0 media file(s), 0 artifact file(s) and 0 other file(s)"
      ],
      "text/plain": [
       "<IPython.core.display.HTML object>"
      ]
     },
     "metadata": {},
     "output_type": "display_data"
    },
    {
     "data": {
      "text/html": [
       "Find logs at: <code>./wandb/run-20230928_055944-49s9mq8u/logs</code>"
      ],
      "text/plain": [
       "<IPython.core.display.HTML object>"
      ]
     },
     "metadata": {},
     "output_type": "display_data"
    },
    {
     "data": {
      "text/html": [
       "wandb version 0.15.11 is available!  To upgrade, please run:\n",
       " $ pip install wandb --upgrade"
      ],
      "text/plain": [
       "<IPython.core.display.HTML object>"
      ]
     },
     "metadata": {},
     "output_type": "display_data"
    },
    {
     "data": {
      "text/html": [
       "Tracking run with wandb version 0.15.8"
      ],
      "text/plain": [
       "<IPython.core.display.HTML object>"
      ]
     },
     "metadata": {},
     "output_type": "display_data"
    },
    {
     "data": {
      "text/html": [
       "Run data is saved locally in <code>/root/wandb/run-20230928_072433-337bg30s</code>"
      ],
      "text/plain": [
       "<IPython.core.display.HTML object>"
      ]
     },
     "metadata": {},
     "output_type": "display_data"
    },
    {
     "data": {
      "text/html": [
       "Syncing run <strong><a href='https://wandb.ai/rsna2023/FullVol2.5D-3fold/runs/337bg30s' target=\"_blank\">FullVol2.5D-2phase_Effnetv2_3fold</a></strong> to <a href='https://wandb.ai/rsna2023/FullVol2.5D-3fold' target=\"_blank\">Weights & Biases</a> (<a href='https://wandb.me/run' target=\"_blank\">docs</a>)<br/>"
      ],
      "text/plain": [
       "<IPython.core.display.HTML object>"
      ]
     },
     "metadata": {},
     "output_type": "display_data"
    },
    {
     "data": {
      "text/html": [
       " View project at <a href='https://wandb.ai/rsna2023/FullVol2.5D-3fold' target=\"_blank\">https://wandb.ai/rsna2023/FullVol2.5D-3fold</a>"
      ],
      "text/plain": [
       "<IPython.core.display.HTML object>"
      ]
     },
     "metadata": {},
     "output_type": "display_data"
    },
    {
     "data": {
      "text/html": [
       " View run at <a href='https://wandb.ai/rsna2023/FullVol2.5D-3fold/runs/337bg30s' target=\"_blank\">https://wandb.ai/rsna2023/FullVol2.5D-3fold/runs/337bg30s</a>"
      ],
      "text/plain": [
       "<IPython.core.display.HTML object>"
      ]
     },
     "metadata": {},
     "output_type": "display_data"
    },
    {
     "name": "stderr",
     "output_type": "stream",
     "text": [
      "100%|██████████| 260/260 [02:54<00:00,  1.49it/s]\n",
      "100%|██████████| 131/131 [01:08<00:00,  1.90it/s]\n"
     ]
    },
    {
     "name": "stdout",
     "output_type": "stream",
     "text": [
      "F1 score:  [0.09230769 0.1443299  0.025      0.0952381  0.15714286 0.\n",
      " 0.09302326 0.08695652]\n",
      "AUC score:  [0.73942057 0.62386157 0.44332289 0.59977214 0.57072605 0.51067961\n",
      " 0.54730191 0.52761011]\n",
      "2023-09-28 07:28:42 Eopch 1, Training Loss 0.7939906544410266, Val Loss 0.7211349781687934, Weighted Loss 0.5208135379776057\n"
     ]
    },
    {
     "name": "stderr",
     "output_type": "stream",
     "text": [
      "100%|██████████| 260/260 [02:59<00:00,  1.45it/s]\n",
      "100%|██████████| 131/131 [01:08<00:00,  1.92it/s]\n"
     ]
    },
    {
     "name": "stdout",
     "output_type": "stream",
     "text": [
      "F1 score:  [0.2        0.10169492 0.         0.06896552 0.14678899 0.\n",
      " 0.02898551 0.12765957]\n",
      "AUC score:  [0.76253255 0.61612022 0.49077619 0.58138021 0.59958246 0.48500539\n",
      " 0.56557377 0.54489902]\n",
      "2023-09-28 07:32:53 Eopch 2, Training Loss 0.7140444149191563, Val Loss 0.6983501083068265, Weighted Loss 0.48176883077808463\n"
     ]
    },
    {
     "name": "stderr",
     "output_type": "stream",
     "text": [
      "100%|██████████| 260/260 [03:12<00:00,  1.35it/s]\n",
      "100%|██████████| 131/131 [01:12<00:00,  1.80it/s]\n"
     ]
    },
    {
     "name": "stdout",
     "output_type": "stream",
     "text": [
      "F1 score:  [0.13333333 0.08510638 0.         0.09090909 0.13186813 0.\n",
      " 0.06349206 0.05      ]\n",
      "AUC score:  [0.74169922 0.63570128 0.51490892 0.60660807 0.62978427 0.54412082\n",
      " 0.60410974 0.55652433]\n",
      "2023-09-28 07:37:20 Eopch 3, Training Loss 0.690156176342414, Val Loss 0.6846996989413983, Weighted Loss 0.4703803324522454\n"
     ]
    },
    {
     "name": "stderr",
     "output_type": "stream",
     "text": [
      "100%|██████████| 260/260 [02:56<00:00,  1.48it/s]\n",
      "100%|██████████| 131/131 [01:08<00:00,  1.90it/s]\n"
     ]
    },
    {
     "name": "stdout",
     "output_type": "stream",
     "text": [
      "F1 score:  [0.08       0.0952381  0.         0.         0.20689655 0.\n",
      " 0.05970149 0.0625    ]\n",
      "AUC score:  [0.75260417 0.62938297 0.63348416 0.59195964 0.7125029  0.60560949\n",
      " 0.64765483 0.60533572]\n",
      "2023-09-28 07:41:28 Eopch 4, Training Loss 0.674345347056022, Val Loss 0.6789509299147221, Weighted Loss 0.487453467067437\n"
     ]
    },
    {
     "name": "stderr",
     "output_type": "stream",
     "text": [
      "100%|██████████| 260/260 [03:07<00:00,  1.39it/s]\n",
      "100%|██████████| 131/131 [01:09<00:00,  1.88it/s]\n"
     ]
    },
    {
     "name": "stdout",
     "output_type": "stream",
     "text": [
      "F1 score:  [0.1        0.0952381  0.         0.1        0.25287356 0.\n",
      " 0.0625     0.05714286]\n",
      "AUC score:  [0.75406901 0.65061475 0.6458986  0.5929362  0.73347251 0.58079827\n",
      " 0.62744763 0.61256427]\n",
      "2023-09-28 07:45:47 Eopch 5, Training Loss 0.6519600601150439, Val Loss 0.6631874279438994, Weighted Loss 0.44885607980012965\n"
     ]
    },
    {
     "name": "stderr",
     "output_type": "stream",
     "text": [
      "100%|██████████| 260/260 [02:57<00:00,  1.46it/s]\n",
      "100%|██████████| 131/131 [01:09<00:00,  1.88it/s]\n"
     ]
    },
    {
     "name": "stdout",
     "output_type": "stream",
     "text": [
      "F1 score:  [0.1875     0.0754717  0.1686747  0.07407407 0.2962963  0.\n",
      " 0.08       0.11111111]\n",
      "AUC score:  [0.77294922 0.67053734 0.69486019 0.57421875 0.73440037 0.62718447\n",
      " 0.64042577 0.58305388]\n",
      "2023-09-28 07:49:55 Eopch 6, Training Loss 0.6314527589541216, Val Loss 0.6651835547376225, Weighted Loss 0.4610395977859788\n"
     ]
    },
    {
     "name": "stderr",
     "output_type": "stream",
     "text": [
      "100%|██████████| 260/260 [02:58<00:00,  1.46it/s]\n",
      "100%|██████████| 131/131 [01:09<00:00,  1.88it/s]\n"
     ]
    },
    {
     "name": "stdout",
     "output_type": "stream",
     "text": [
      "F1 score:  [0.13333333 0.03846154 0.08510638 0.08695652 0.23404255 0.\n",
      " 0.08219178 0.05405405]\n",
      "AUC score:  [0.79475911 0.67076503 0.7097111  0.58837891 0.76534447 0.65458468\n",
      " 0.64105191 0.61614129]\n",
      "2023-09-28 07:54:06 Eopch 7, Training Loss 0.6164516226030313, Val Loss 0.6477070867105295, Weighted Loss 0.43387918612390214\n"
     ]
    },
    {
     "name": "stderr",
     "output_type": "stream",
     "text": [
      "100%|██████████| 260/260 [02:59<00:00,  1.45it/s]\n",
      "100%|██████████| 131/131 [01:08<00:00,  1.91it/s]\n"
     ]
    },
    {
     "name": "stdout",
     "output_type": "stream",
     "text": [
      "F1 score:  [0.11764706 0.03636364 0.08333333 0.12121212 0.368      0.\n",
      " 0.07317073 0.07272727]\n",
      "AUC score:  [0.77392578 0.67025273 0.70623042 0.63346354 0.79981443 0.68414239\n",
      " 0.64480874 0.64699307]\n",
      "2023-09-28 07:58:17 Eopch 8, Training Loss 0.5918323055482828, Val Loss 0.6455532470504746, Weighted Loss 0.4477725832647033\n"
     ]
    },
    {
     "name": "stderr",
     "output_type": "stream",
     "text": [
      "100%|██████████| 260/260 [02:56<00:00,  1.48it/s]\n",
      "100%|██████████| 131/131 [01:09<00:00,  1.89it/s]\n"
     ]
    },
    {
     "name": "stdout",
     "output_type": "stream",
     "text": [
      "F1 score:  [0.         0.         0.11111111 0.12903226 0.3539823  0.\n",
      " 0.14634146 0.03846154]\n",
      "AUC score:  [0.72932943 0.69108607 0.74347372 0.63834635 0.79786592 0.72837109\n",
      " 0.64833789 0.65608466]\n",
      "2023-09-28 08:02:25 Eopch 9, Training Loss 0.580533773280107, Val Loss 0.6338794259852125, Weighted Loss 0.4185340416793056\n"
     ]
    },
    {
     "name": "stderr",
     "output_type": "stream",
     "text": [
      "100%|██████████| 260/260 [02:58<00:00,  1.45it/s]\n",
      "100%|██████████| 131/131 [01:06<00:00,  1.97it/s]\n"
     ]
    },
    {
     "name": "stdout",
     "output_type": "stream",
     "text": [
      "F1 score:  [0.         0.         0.1369863  0.13793103 0.34285714 0.\n",
      " 0.10958904 0.04255319]\n",
      "AUC score:  [0.76855469 0.68772769 0.71295974 0.64990234 0.79614939 0.69708738\n",
      " 0.65101321 0.65928907]\n",
      "2023-09-28 08:06:32 Eopch 10, Training Loss 0.5607875620516447, Val Loss 0.6250869217150994, Weighted Loss 0.369832272961853\n"
     ]
    },
    {
     "name": "stderr",
     "output_type": "stream",
     "text": [
      "100%|██████████| 260/260 [02:55<00:00,  1.48it/s]\n",
      "100%|██████████| 131/131 [01:05<00:00,  2.00it/s]\n"
     ]
    },
    {
     "name": "stdout",
     "output_type": "stream",
     "text": [
      "F1 score:  [0.06896552 0.04347826 0.23880597 0.12903226 0.40350877 0.\n",
      " 0.05714286 0.08163265]\n",
      "AUC score:  [0.77490234 0.69746129 0.73802065 0.62988281 0.8013454  0.69255663\n",
      " 0.62949681 0.66264252]\n",
      "2023-09-28 08:10:36 Eopch 11, Training Loss 0.538790844896665, Val Loss 0.6230705874111816, Weighted Loss 0.3733529631826511\n"
     ]
    },
    {
     "name": "stderr",
     "output_type": "stream",
     "text": [
      "100%|██████████| 260/260 [02:49<00:00,  1.53it/s]\n",
      "100%|██████████| 131/131 [00:59<00:00,  2.20it/s]\n"
     ]
    },
    {
     "name": "stdout",
     "output_type": "stream",
     "text": [
      "F1 score:  [0.         0.03921569 0.14893617 0.08888889 0.35384615 0.\n",
      " 0.15555556 0.10526316]\n",
      "AUC score:  [0.76660156 0.67161885 0.76725838 0.66617839 0.79591742 0.74498382\n",
      " 0.65499772 0.67173411]\n",
      "2023-09-28 08:14:28 Eopch 12, Training Loss 0.5088525655177923, Val Loss 0.6224043524561037, Weighted Loss 0.40035135443251363\n"
     ]
    },
    {
     "name": "stderr",
     "output_type": "stream",
     "text": [
      "100%|██████████| 260/260 [02:54<00:00,  1.49it/s]\n",
      "100%|██████████| 131/131 [01:08<00:00,  1.91it/s]\n"
     ]
    },
    {
     "name": "stdout",
     "output_type": "stream",
     "text": [
      "F1 score:  [0.10526316 0.14285714 0.13592233 0.08163265 0.36986301 0.\n",
      " 0.1372549  0.13888889]\n",
      "AUC score:  [0.79475911 0.66678051 0.71852883 0.67854818 0.79610299 0.73613808\n",
      " 0.65528233 0.68902303]\n",
      "2023-09-28 08:18:34 Eopch 13, Training Loss 0.4981786343913812, Val Loss 0.6222873119680026, Weighted Loss 0.40585268971666033\n"
     ]
    },
    {
     "name": "stderr",
     "output_type": "stream",
     "text": [
      "100%|██████████| 260/260 [02:56<00:00,  1.47it/s]\n",
      "100%|██████████| 131/131 [01:07<00:00,  1.94it/s]\n"
     ]
    },
    {
     "name": "stdout",
     "output_type": "stream",
     "text": [
      "F1 score:  [0.05555556 0.03921569 0.13333333 0.13333333 0.37837838 0.\n",
      " 0.14457831 0.0754717 ]\n",
      "AUC score:  [0.76302083 0.6733265  0.73117531 0.68863932 0.79104616 0.7201726\n",
      " 0.665699   0.67464044]\n",
      "2023-09-28 08:22:40 Eopch 14, Training Loss 0.4764798204772748, Val Loss 0.6178396862881784, Weighted Loss 0.35953303619066285\n"
     ]
    },
    {
     "name": "stderr",
     "output_type": "stream",
     "text": [
      "100%|██████████| 260/260 [02:57<00:00,  1.47it/s]\n",
      "100%|██████████| 131/131 [01:06<00:00,  1.97it/s]\n"
     ]
    },
    {
     "name": "stdout",
     "output_type": "stream",
     "text": [
      "F1 score:  [0.0625     0.08       0.11111111 0.14285714 0.34285714 0.\n",
      " 0.10526316 0.12244898]\n",
      "AUC score:  [0.74348958 0.70497495 0.72479406 0.69905599 0.79137091 0.70204962\n",
      " 0.65135474 0.71517997]\n",
      "2023-09-28 08:26:46 Eopch 15, Training Loss 0.4600661342247174, Val Loss 0.6153706638071373, Weighted Loss 0.34135118798492725\n"
     ]
    },
    {
     "name": "stderr",
     "output_type": "stream",
     "text": [
      "100%|██████████| 260/260 [02:48<00:00,  1.54it/s]\n",
      "100%|██████████| 131/131 [01:03<00:00,  2.07it/s]\n"
     ]
    },
    {
     "name": "stdout",
     "output_type": "stream",
     "text": [
      "F1 score:  [0.05882353 0.10169492 0.14285714 0.10810811 0.37037037 0.\n",
      " 0.10638298 0.19354839]\n",
      "AUC score:  [0.74088542 0.69387523 0.74289361 0.67561849 0.7769891  0.71693635\n",
      " 0.64537796 0.69483568]\n",
      "2023-09-28 08:30:39 Eopch 16, Training Loss 0.4492371470309221, Val Loss 0.6214174395071641, Weighted Loss 0.3533720570255719\n"
     ]
    },
    {
     "name": "stderr",
     "output_type": "stream",
     "text": [
      "100%|██████████| 260/260 [02:43<00:00,  1.59it/s]\n",
      "100%|██████████| 131/131 [01:08<00:00,  1.91it/s]\n"
     ]
    },
    {
     "name": "stdout",
     "output_type": "stream",
     "text": [
      "F1 score:  [0.06060606 0.04081633 0.12765957 0.15384615 0.33333333 0.\n",
      " 0.05405405 0.04347826]\n",
      "AUC score:  [0.73225911 0.71123634 0.75368372 0.68196615 0.79234516 0.70722762\n",
      " 0.66956967 0.70489604]\n",
      "2023-09-28 08:34:32 Eopch 17, Training Loss 0.42665058340017614, Val Loss 0.617952861318379, Weighted Loss 0.32412232676534164\n"
     ]
    },
    {
     "name": "stderr",
     "output_type": "stream",
     "text": [
      "100%|██████████| 260/260 [02:51<00:00,  1.52it/s]\n",
      "100%|██████████| 131/131 [01:02<00:00,  2.10it/s]\n"
     ]
    },
    {
     "name": "stdout",
     "output_type": "stream",
     "text": [
      "F1 score:  [0.12903226 0.08163265 0.08       0.14814815 0.31818182 0.\n",
      " 0.05882353 0.04878049]\n",
      "AUC score:  [0.76123047 0.70338115 0.71307576 0.6875     0.78394804 0.68414239\n",
      " 0.64441029 0.69915791]\n",
      "2023-09-28 08:38:27 Eopch 18, Training Loss 0.40228964399832945, Val Loss 0.6312357940007257, Weighted Loss 0.3175119196763094\n"
     ]
    },
    {
     "name": "stderr",
     "output_type": "stream",
     "text": [
      "100%|██████████| 260/260 [02:48<00:00,  1.54it/s]\n",
      "100%|██████████| 131/131 [01:00<00:00,  2.18it/s]\n"
     ]
    },
    {
     "name": "stdout",
     "output_type": "stream",
     "text": [
      "F1 score:  [0.12903226 0.07272727 0.16393443 0.14285714 0.3963964  0.\n",
      " 0.09411765 0.14545455]\n",
      "AUC score:  [0.7405599  0.70303962 0.71574429 0.73616536 0.78997912 0.71499461\n",
      " 0.65750228 0.72643267]\n",
      "2023-09-28 08:42:16 Eopch 19, Training Loss 0.39186629426593966, Val Loss 0.6175252554639605, Weighted Loss 0.3244219870076697\n"
     ]
    },
    {
     "name": "stderr",
     "output_type": "stream",
     "text": [
      "100%|██████████| 260/260 [02:57<00:00,  1.46it/s]\n",
      "100%|██████████| 131/131 [01:05<00:00,  2.00it/s]\n"
     ]
    },
    {
     "name": "stdout",
     "output_type": "stream",
     "text": [
      "F1 score:  [0.0625     0.07272727 0.14814815 0.14285714 0.38938053 0.\n",
      " 0.12903226 0.11764706]\n",
      "AUC score:  [0.71582031 0.69034608 0.78605407 0.75992839 0.801299   0.73807983\n",
      " 0.66023452 0.73589686]\n",
      "2023-09-28 08:46:22 Eopch 20, Training Loss 0.3715245092860781, Val Loss 0.6078682202874249, Weighted Loss 0.3336230637109228\n",
      "Finish training: best_val:0.6078682202874249, best_weighted loss:0.3175119196763094\n"
     ]
    },
    {
     "data": {
      "text/html": [
       "Waiting for W&B process to finish... <strong style=\"color:green\">(success).</strong>"
      ],
      "text/plain": [
       "<IPython.core.display.HTML object>"
      ]
     },
     "metadata": {},
     "output_type": "display_data"
    },
    {
     "data": {
      "text/html": [
       "<style>\n",
       "    table.wandb td:nth-child(1) { padding: 0 10px; text-align: left ; width: auto;} td:nth-child(2) {text-align: left ; width: 100%}\n",
       "    .wandb-row { display: flex; flex-direction: row; flex-wrap: wrap; justify-content: flex-start; width: 100% }\n",
       "    .wandb-col { display: flex; flex-direction: column; flex-basis: 100%; flex: 1; padding: 10px; }\n",
       "    </style>\n",
       "<div class=\"wandb-row\"><div class=\"wandb-col\"><h3>Run history:</h3><br/><table class=\"wandb\"><tr><td>training loss</td><td>█▇▆▆▆▅▅▅▄▄▄▃▃▃▂▂▂▂▁▁</td></tr><tr><td>val loss</td><td>█▇▆▅▄▅▃▃▃▂▂▂▂▂▁▂▂▂▂▁</td></tr><tr><td>weighted loss</td><td>█▇▆▇▆▆▅▅▄▃▃▄▄▂▂▂▁▁▁▂</td></tr></table><br/></div><div class=\"wandb-col\"><h3>Run summary:</h3><br/><table class=\"wandb\"><tr><td>training loss</td><td>0.37152</td></tr><tr><td>val loss</td><td>0.60787</td></tr><tr><td>weighted loss</td><td>0.33362</td></tr></table><br/></div></div>"
      ],
      "text/plain": [
       "<IPython.core.display.HTML object>"
      ]
     },
     "metadata": {},
     "output_type": "display_data"
    },
    {
     "data": {
      "text/html": [
       " View run <strong style=\"color:#cdcd00\">FullVol2.5D-2phase_Effnetv2_3fold</strong> at: <a href='https://wandb.ai/rsna2023/FullVol2.5D-3fold/runs/337bg30s' target=\"_blank\">https://wandb.ai/rsna2023/FullVol2.5D-3fold/runs/337bg30s</a><br/>Synced 5 W&B file(s), 0 media file(s), 0 artifact file(s) and 0 other file(s)"
      ],
      "text/plain": [
       "<IPython.core.display.HTML object>"
      ]
     },
     "metadata": {},
     "output_type": "display_data"
    },
    {
     "data": {
      "text/html": [
       "Find logs at: <code>./wandb/run-20230928_072433-337bg30s/logs</code>"
      ],
      "text/plain": [
       "<IPython.core.display.HTML object>"
      ]
     },
     "metadata": {},
     "output_type": "display_data"
    },
    {
     "data": {
      "text/html": [
       "wandb version 0.15.11 is available!  To upgrade, please run:\n",
       " $ pip install wandb --upgrade"
      ],
      "text/plain": [
       "<IPython.core.display.HTML object>"
      ]
     },
     "metadata": {},
     "output_type": "display_data"
    },
    {
     "data": {
      "text/html": [
       "Tracking run with wandb version 0.15.8"
      ],
      "text/plain": [
       "<IPython.core.display.HTML object>"
      ]
     },
     "metadata": {},
     "output_type": "display_data"
    },
    {
     "data": {
      "text/html": [
       "Run data is saved locally in <code>/root/wandb/run-20230928_084632-6qx1wm7z</code>"
      ],
      "text/plain": [
       "<IPython.core.display.HTML object>"
      ]
     },
     "metadata": {},
     "output_type": "display_data"
    },
    {
     "data": {
      "text/html": [
       "Syncing run <strong><a href='https://wandb.ai/rsna2023/FullVol2.5D-3fold/runs/6qx1wm7z' target=\"_blank\">FullVol2.5D-2phase_Effnetv2_3fold</a></strong> to <a href='https://wandb.ai/rsna2023/FullVol2.5D-3fold' target=\"_blank\">Weights & Biases</a> (<a href='https://wandb.me/run' target=\"_blank\">docs</a>)<br/>"
      ],
      "text/plain": [
       "<IPython.core.display.HTML object>"
      ]
     },
     "metadata": {},
     "output_type": "display_data"
    },
    {
     "data": {
      "text/html": [
       " View project at <a href='https://wandb.ai/rsna2023/FullVol2.5D-3fold' target=\"_blank\">https://wandb.ai/rsna2023/FullVol2.5D-3fold</a>"
      ],
      "text/plain": [
       "<IPython.core.display.HTML object>"
      ]
     },
     "metadata": {},
     "output_type": "display_data"
    },
    {
     "data": {
      "text/html": [
       " View run at <a href='https://wandb.ai/rsna2023/FullVol2.5D-3fold/runs/6qx1wm7z' target=\"_blank\">https://wandb.ai/rsna2023/FullVol2.5D-3fold/runs/6qx1wm7z</a>"
      ],
      "text/plain": [
       "<IPython.core.display.HTML object>"
      ]
     },
     "metadata": {},
     "output_type": "display_data"
    },
    {
     "name": "stderr",
     "output_type": "stream",
     "text": [
      "100%|██████████| 259/259 [02:50<00:00,  1.52it/s]\n",
      "100%|██████████| 132/132 [01:08<00:00,  1.92it/s]\n"
     ]
    },
    {
     "name": "stdout",
     "output_type": "stream",
     "text": [
      "F1 score:  [0.         0.         0.         0.         0.08450704 0.\n",
      " 0.         0.        ]\n",
      "AUC score:  [0.69962659 0.57424345 0.54555225 0.59507095 0.441505   0.56799096\n",
      " 0.55099941 0.64986083]\n",
      "2023-09-28 08:50:37 Eopch 1, Training Loss 0.7959516693956603, Val Loss 0.7562434025334589, Weighted Loss 0.5565162693092037\n"
     ]
    },
    {
     "name": "stderr",
     "output_type": "stream",
     "text": [
      "100%|██████████| 259/259 [02:50<00:00,  1.52it/s]\n",
      "100%|██████████| 132/132 [01:05<00:00,  2.02it/s]\n"
     ]
    },
    {
     "name": "stdout",
     "output_type": "stream",
     "text": [
      "F1 score:  [0.         0.         0.         0.         0.04255319 0.\n",
      " 0.         0.        ]\n",
      "AUC score:  [0.73771471 0.61591012 0.54588294 0.61418969 0.53610621 0.58349483\n",
      " 0.59391534 0.64667992]\n",
      "2023-09-28 08:54:35 Eopch 2, Training Loss 0.7257456922162914, Val Loss 0.7221945637103283, Weighted Loss 0.485009098530529\n"
     ]
    },
    {
     "name": "stderr",
     "output_type": "stream",
     "text": [
      "100%|██████████| 259/259 [02:51<00:00,  1.51it/s]\n",
      "100%|██████████| 132/132 [01:05<00:00,  2.00it/s]\n"
     ]
    },
    {
     "name": "stdout",
     "output_type": "stream",
     "text": [
      "F1 score:  [0.         0.         0.         0.         0.07407407 0.\n",
      " 0.         0.        ]\n",
      "AUC score:  [0.73293503 0.63092818 0.52620701 0.57819268 0.56633353 0.59205426\n",
      " 0.61140506 0.65328032]\n",
      "2023-09-28 08:58:34 Eopch 3, Training Loss 0.6898553893833087, Val Loss 0.7096942123590093, Weighted Loss 0.44860847862869896\n"
     ]
    },
    {
     "name": "stderr",
     "output_type": "stream",
     "text": [
      "100%|██████████| 259/259 [02:49<00:00,  1.53it/s]\n",
      "100%|██████████| 132/132 [01:23<00:00,  1.59it/s]\n"
     ]
    },
    {
     "name": "stdout",
     "output_type": "stream",
     "text": [
      "F1 score:  [0.         0.         0.         0.         0.07843137 0.\n",
      " 0.         0.        ]\n",
      "AUC score:  [0.75399552 0.65599593 0.53480489 0.66646751 0.57520086 0.63824289\n",
      " 0.61272781 0.71316103]\n",
      "2023-09-28 09:02:49 Eopch 4, Training Loss 0.6641195212782119, Val Loss 0.6928978648149606, Weighted Loss 0.4021301107538905\n"
     ]
    },
    {
     "name": "stderr",
     "output_type": "stream",
     "text": [
      "100%|██████████| 259/259 [03:03<00:00,  1.41it/s]\n",
      "100%|██████████| 132/132 [01:09<00:00,  1.90it/s]\n"
     ]
    },
    {
     "name": "stdout",
     "output_type": "stream",
     "text": [
      "F1 score:  [0.         0.         0.         0.         0.10169492 0.\n",
      " 0.         0.        ]\n",
      "AUC score:  [0.77132188 0.64961608 0.52050265 0.64675131 0.59195571 0.69186047\n",
      " 0.61792083 0.73924453]\n",
      "2023-09-28 09:07:04 Eopch 5, Training Loss 0.6475830412969626, Val Loss 0.6907093203203245, Weighted Loss 0.37953909220470017\n"
     ]
    },
    {
     "name": "stderr",
     "output_type": "stream",
     "text": [
      "100%|██████████| 259/259 [02:55<00:00,  1.48it/s]\n",
      "100%|██████████| 132/132 [01:09<00:00,  1.89it/s]\n"
     ]
    },
    {
     "name": "stdout",
     "output_type": "stream",
     "text": [
      "F1 score:  [0.         0.         0.         0.         0.17021277 0.\n",
      " 0.         0.        ]\n",
      "AUC score:  [0.77684839 0.64013098 0.53835979 0.60283794 0.56559867 0.7002584\n",
      " 0.62879679 0.73518887]\n",
      "2023-09-28 09:11:10 Eopch 6, Training Loss 0.6339354188861074, Val Loss 0.6927816081001903, Weighted Loss 0.38079326013325226\n"
     ]
    },
    {
     "name": "stderr",
     "output_type": "stream",
     "text": [
      "100%|██████████| 259/259 [02:53<00:00,  1.49it/s]\n",
      "100%|██████████| 132/132 [01:24<00:00,  1.57it/s]\n"
     ]
    },
    {
     "name": "stdout",
     "output_type": "stream",
     "text": [
      "F1 score:  [0.         0.         0.14285714 0.14285714 0.14634146 0.\n",
      " 0.         0.        ]\n",
      "AUC score:  [0.76056759 0.6570122  0.56779101 0.68035848 0.60077405 0.73465762\n",
      " 0.64805017 0.72421471]\n",
      "2023-09-28 09:15:30 Eopch 7, Training Loss 0.6106765515900947, Val Loss 0.6833900215499329, Weighted Loss 0.35710884632825973\n"
     ]
    },
    {
     "name": "stderr",
     "output_type": "stream",
     "text": [
      "100%|██████████| 259/259 [02:53<00:00,  1.50it/s]\n",
      "100%|██████████| 132/132 [01:09<00:00,  1.91it/s]\n"
     ]
    },
    {
     "name": "stdout",
     "output_type": "stream",
     "text": [
      "F1 score:  [0.         0.         0.125      0.11764706 0.17391304 0.\n",
      " 0.14545455 0.        ]\n",
      "AUC score:  [0.77923824 0.66926378 0.58217593 0.64869305 0.61135607 0.71075581\n",
      " 0.65368411 0.72604374]\n",
      "2023-09-28 09:19:35 Eopch 8, Training Loss 0.5949863116023163, Val Loss 0.6832632414545073, Weighted Loss 0.3454012606757635\n"
     ]
    },
    {
     "name": "stderr",
     "output_type": "stream",
     "text": [
      "100%|██████████| 259/259 [03:06<00:00,  1.39it/s]\n",
      "100%|██████████| 132/132 [01:10<00:00,  1.88it/s]\n"
     ]
    },
    {
     "name": "stdout",
     "output_type": "stream",
     "text": [
      "F1 score:  [0.         0.0754717  0.15384615 0.15384615 0.20338983 0.\n",
      " 0.21538462 0.        ]\n",
      "AUC score:  [0.76430172 0.6320009  0.63839286 0.66422704 0.63183422 0.77002584\n",
      " 0.680874   0.70664016]\n",
      "2023-09-28 09:23:55 Eopch 9, Training Loss 0.5790426753547661, Val Loss 0.6759402940444874, Weighted Loss 0.3606732287910607\n"
     ]
    },
    {
     "name": "stderr",
     "output_type": "stream",
     "text": [
      "100%|██████████| 259/259 [02:54<00:00,  1.48it/s]\n",
      "100%|██████████| 132/132 [01:09<00:00,  1.91it/s]\n"
     ]
    },
    {
     "name": "stdout",
     "output_type": "stream",
     "text": [
      "F1 score:  [0.         0.05       0.06060606 0.11111111 0.14736842 0.\n",
      " 0.16393443 0.        ]\n",
      "AUC score:  [0.79581777 0.633243   0.62533069 0.67498133 0.62311385 0.75565245\n",
      " 0.67989418 0.71117296]\n",
      "2023-09-28 09:28:00 Eopch 10, Training Loss 0.554990708770439, Val Loss 0.69681890026638, Weighted Loss 0.31294930403387483\n"
     ]
    },
    {
     "name": "stderr",
     "output_type": "stream",
     "text": [
      "100%|██████████| 259/259 [02:53<00:00,  1.49it/s]\n",
      "100%|██████████| 132/132 [01:09<00:00,  1.90it/s]\n"
     ]
    },
    {
     "name": "stdout",
     "output_type": "stream",
     "text": [
      "F1 score:  [0.         0.04651163 0.18181818 0.24       0.16071429 0.\n",
      " 0.11764706 0.        ]\n",
      "AUC score:  [0.78207618 0.63053297 0.62954696 0.73427931 0.62997257 0.74337855\n",
      " 0.67587694 0.71029821]\n",
      "2023-09-28 09:32:04 Eopch 11, Training Loss 0.5352357904998493, Val Loss 0.6864816559986635, Weighted Loss 0.323246969948398\n"
     ]
    },
    {
     "name": "stderr",
     "output_type": "stream",
     "text": [
      "100%|██████████| 259/259 [02:51<00:00,  1.51it/s]\n",
      "100%|██████████| 132/132 [01:08<00:00,  1.93it/s]\n"
     ]
    },
    {
     "name": "stdout",
     "output_type": "stream",
     "text": [
      "F1 score:  [0.         0.0754717  0.15       0.24       0.21052632 0.\n",
      " 0.17391304 0.        ]\n",
      "AUC score:  [0.83286034 0.68541102 0.6609623  0.6948469  0.64251421 0.76518088\n",
      " 0.67656281 0.72532803]\n",
      "2023-09-28 09:36:05 Eopch 12, Training Loss 0.5296846043073993, Val Loss 0.6781051950811436, Weighted Loss 0.31198052495460504\n"
     ]
    },
    {
     "name": "stderr",
     "output_type": "stream",
     "text": [
      "100%|██████████| 259/259 [02:52<00:00,  1.50it/s]\n",
      "100%|██████████| 132/132 [01:08<00:00,  1.91it/s]\n"
     ]
    },
    {
     "name": "stdout",
     "output_type": "stream",
     "text": [
      "F1 score:  [0.07407407 0.03846154 0.17391304 0.3        0.15384615 0.\n",
      " 0.15873016 0.        ]\n",
      "AUC score:  [0.79641524 0.65842367 0.63963294 0.73696789 0.643592   0.80684755\n",
      " 0.66137566 0.67204771]\n",
      "2023-09-28 09:40:08 Eopch 13, Training Loss 0.5006516326693494, Val Loss 0.6911317768760703, Weighted Loss 0.30778431798743855\n"
     ]
    },
    {
     "name": "stderr",
     "output_type": "stream",
     "text": [
      "100%|██████████| 259/259 [02:54<00:00,  1.49it/s]\n",
      "100%|██████████| 132/132 [01:09<00:00,  1.91it/s]\n"
     ]
    },
    {
     "name": "stdout",
     "output_type": "stream",
     "text": [
      "F1 score:  [0.         0.125      0.19230769 0.17647059 0.19354839 0.\n",
      " 0.2        0.09756098]\n",
      "AUC score:  [0.82120986 0.64679313 0.64409722 0.71411501 0.65397805 0.75371447\n",
      " 0.68900647 0.67626243]\n",
      "2023-09-28 09:44:12 Eopch 14, Training Loss 0.4931747049783648, Val Loss 0.6792321348506393, Weighted Loss 0.3333693762368596\n"
     ]
    },
    {
     "name": "stderr",
     "output_type": "stream",
     "text": [
      "100%|██████████| 259/259 [02:52<00:00,  1.50it/s]\n",
      "100%|██████████| 132/132 [01:09<00:00,  1.91it/s]\n"
     ]
    },
    {
     "name": "stdout",
     "output_type": "stream",
     "text": [
      "F1 score:  [0.11428571 0.13888889 0.19230769 0.17391304 0.1971831  0.\n",
      " 0.21505376 0.08163265]\n",
      "AUC score:  [0.81643017 0.66683604 0.64699074 0.67602689 0.63707623 0.70138889\n",
      " 0.68572408 0.66019881]\n",
      "2023-09-28 09:48:15 Eopch 15, Training Loss 0.4551534101827264, Val Loss 0.6914627874326525, Weighted Loss 0.3497609106754238\n"
     ]
    },
    {
     "name": "stderr",
     "output_type": "stream",
     "text": [
      "100%|██████████| 259/259 [02:51<00:00,  1.51it/s]\n",
      "100%|██████████| 132/132 [01:10<00:00,  1.89it/s]\n"
     ]
    },
    {
     "name": "stdout",
     "output_type": "stream",
     "text": [
      "F1 score:  [0.         0.07017544 0.18181818 0.16666667 0.19753086 0.\n",
      " 0.15625    0.        ]\n",
      "AUC score:  [0.82823002 0.65565718 0.60590278 0.64047797 0.63021752 0.71463178\n",
      " 0.65525181 0.66107356]\n",
      "2023-09-28 09:52:17 Eopch 16, Training Loss 0.44139675370284487, Val Loss 0.736835797063329, Weighted Loss 0.29625622292250803\n"
     ]
    },
    {
     "name": "stderr",
     "output_type": "stream",
     "text": [
      "100%|██████████| 259/259 [02:55<00:00,  1.47it/s]\n",
      "100%|██████████| 132/132 [01:15<00:00,  1.76it/s]\n"
     ]
    },
    {
     "name": "stdout",
     "output_type": "stream",
     "text": [
      "F1 score:  [0.         0.0754717  0.20408163 0.13333333 0.1686747  0.\n",
      " 0.16393443 0.        ]\n",
      "AUC score:  [0.81553398 0.66480352 0.63888889 0.62957431 0.62531844 0.7251292\n",
      " 0.65833823 0.6493837 ]\n",
      "2023-09-28 09:56:29 Eopch 17, Training Loss 0.4295009977568991, Val Loss 0.7577738104049455, Weighted Loss 0.2857122292664789\n"
     ]
    },
    {
     "name": "stderr",
     "output_type": "stream",
     "text": [
      "100%|██████████| 259/259 [02:52<00:00,  1.50it/s]\n",
      "100%|██████████| 132/132 [01:11<00:00,  1.84it/s]\n"
     ]
    },
    {
     "name": "stdout",
     "output_type": "stream",
     "text": [
      "F1 score:  [0.         0.12903226 0.2        0.24       0.16666667 0.13333333\n",
      " 0.17142857 0.05128205]\n",
      "AUC score:  [0.80179238 0.64594625 0.61309524 0.64675131 0.63590045 0.72141473\n",
      " 0.63903586 0.67522863]\n",
      "2023-09-28 10:00:34 Eopch 18, Training Loss 0.3981979600653685, Val Loss 0.7400018090212886, Weighted Loss 0.30942321289971575\n"
     ]
    },
    {
     "name": "stderr",
     "output_type": "stream",
     "text": [
      "100%|██████████| 259/259 [02:53<00:00,  1.49it/s]\n",
      "100%|██████████| 132/132 [01:27<00:00,  1.50it/s]\n"
     ]
    },
    {
     "name": "stdout",
     "output_type": "stream",
     "text": [
      "F1 score:  [0.         0.06153846 0.14545455 0.20689655 0.15254237 0.\n",
      " 0.19565217 0.13953488]\n",
      "AUC score:  [0.79970127 0.65046296 0.62103175 0.6137416  0.61816578 0.71107881\n",
      " 0.63923182 0.67499006]\n",
      "2023-09-28 10:04:57 Eopch 19, Training Loss 0.39057898112935907, Val Loss 0.7538710215100737, Weighted Loss 0.3153516943362846\n"
     ]
    },
    {
     "name": "stderr",
     "output_type": "stream",
     "text": [
      "100%|██████████| 259/259 [02:54<00:00,  1.49it/s]\n",
      "100%|██████████| 132/132 [01:09<00:00,  1.91it/s]\n"
     ]
    },
    {
     "name": "stdout",
     "output_type": "stream",
     "text": [
      "F1 score:  [0.         0.07142857 0.16949153 0.13333333 0.13333333 0.\n",
      " 0.18421053 0.        ]\n",
      "AUC score:  [0.79507095 0.6732159  0.62136243 0.63181479 0.62541642 0.6873385\n",
      " 0.64643347 0.67395626]\n",
      "2023-09-28 10:09:01 Eopch 20, Training Loss 0.3673075426614423, Val Loss 0.7896336408783541, Weighted Loss 0.29410881518220666\n",
      "Finish training: best_val:0.6759402940444874, best_weighted loss:0.2857122292664789\n"
     ]
    },
    {
     "data": {
      "text/html": [
       "Waiting for W&B process to finish... <strong style=\"color:green\">(success).</strong>"
      ],
      "text/plain": [
       "<IPython.core.display.HTML object>"
      ]
     },
     "metadata": {},
     "output_type": "display_data"
    },
    {
     "data": {
      "text/html": [
       "<style>\n",
       "    table.wandb td:nth-child(1) { padding: 0 10px; text-align: left ; width: auto;} td:nth-child(2) {text-align: left ; width: 100%}\n",
       "    .wandb-row { display: flex; flex-direction: row; flex-wrap: wrap; justify-content: flex-start; width: 100% }\n",
       "    .wandb-col { display: flex; flex-direction: column; flex-basis: 100%; flex: 1; padding: 10px; }\n",
       "    </style>\n",
       "<div class=\"wandb-row\"><div class=\"wandb-col\"><h3>Run history:</h3><br/><table class=\"wandb\"><tr><td>training loss</td><td>█▇▆▆▆▅▅▅▄▄▄▄▃▃▂▂▂▂▁▁</td></tr><tr><td>val loss</td><td>▆▄▃▂▂▂▁▁▁▂▂▁▂▁▂▅▆▅▆█</td></tr><tr><td>weighted loss</td><td>█▆▅▄▃▃▃▃▃▂▂▂▂▂▃▁▁▂▂▁</td></tr></table><br/></div><div class=\"wandb-col\"><h3>Run summary:</h3><br/><table class=\"wandb\"><tr><td>training loss</td><td>0.36731</td></tr><tr><td>val loss</td><td>0.78963</td></tr><tr><td>weighted loss</td><td>0.29411</td></tr></table><br/></div></div>"
      ],
      "text/plain": [
       "<IPython.core.display.HTML object>"
      ]
     },
     "metadata": {},
     "output_type": "display_data"
    },
    {
     "data": {
      "text/html": [
       " View run <strong style=\"color:#cdcd00\">FullVol2.5D-2phase_Effnetv2_3fold</strong> at: <a href='https://wandb.ai/rsna2023/FullVol2.5D-3fold/runs/6qx1wm7z' target=\"_blank\">https://wandb.ai/rsna2023/FullVol2.5D-3fold/runs/6qx1wm7z</a><br/>Synced 5 W&B file(s), 0 media file(s), 0 artifact file(s) and 0 other file(s)"
      ],
      "text/plain": [
       "<IPython.core.display.HTML object>"
      ]
     },
     "metadata": {},
     "output_type": "display_data"
    },
    {
     "data": {
      "text/html": [
       "Find logs at: <code>./wandb/run-20230928_084632-6qx1wm7z/logs</code>"
      ],
      "text/plain": [
       "<IPython.core.display.HTML object>"
      ]
     },
     "metadata": {},
     "output_type": "display_data"
    }
   ],
   "source": [
    "net = FullVolNet_2phase(backbone=backbone, ch_out = 8).to(device)\n",
    "optimizer = optim.AdamW(net.parameters(), lr=1e-5)\n",
    "TrainClassifer(model=net,trn_dl=train_dl_fold1,val_dl=val_dl_fold1,optimizer=optimizer, \n",
    "               project=project, name=name, suffix='fold1', scheduler=None, n_eopchs=n_eopchs, device=device)\n",
    "\n",
    "net = FullVolNet_2phase(backbone=backbone, ch_out = 8).to(device)\n",
    "optimizer = optim.AdamW(net.parameters(), lr=1e-5)\n",
    "TrainClassifer(model=net,trn_dl=train_dl_fold2,val_dl=val_dl_fold2,optimizer=optimizer, \n",
    "               project=project, name=name, suffix='fold2', scheduler=None, n_eopchs=n_eopchs, device=device)\n",
    "\n",
    "net = FullVolNet_2phase(backbone=backbone, ch_out = 8).to(device)\n",
    "optimizer = optim.AdamW(net.parameters(), lr=1e-5)\n",
    "TrainClassifer(model=net,trn_dl=train_dl_fold3,val_dl=val_dl_fold3,optimizer=optimizer, \n",
    "               project=project, name=name, suffix='fold3', scheduler=None, n_eopchs=n_eopchs, device=device)"
   ]
  },
  {
   "cell_type": "code",
   "execution_count": null,
   "id": "92ea3821-71ab-4773-84c4-cacfabba3cba",
   "metadata": {},
   "outputs": [],
   "source": []
  }
 ],
 "metadata": {
  "kernelspec": {
   "display_name": "Python 3 (ipykernel)",
   "language": "python",
   "name": "python3"
  },
  "language_info": {
   "codemirror_mode": {
    "name": "ipython",
    "version": 3
   },
   "file_extension": ".py",
   "mimetype": "text/x-python",
   "name": "python",
   "nbconvert_exporter": "python",
   "pygments_lexer": "ipython3",
   "version": "3.8.10"
  }
 },
 "nbformat": 4,
 "nbformat_minor": 5
}
