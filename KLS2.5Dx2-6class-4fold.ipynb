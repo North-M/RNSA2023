{
 "cells": [
  {
   "cell_type": "code",
   "execution_count": 1,
   "id": "290beb39-046d-4947-ba9b-d65ac0af40c3",
   "metadata": {},
   "outputs": [],
   "source": [
    "import numpy as np\n",
    "import pandas as pd\n",
    "import matplotlib.pyplot as plt\n",
    "\n",
    "import os\n",
    "import random\n",
    "import re\n",
    "\n",
    "from tqdm import tqdm\n",
    "import time\n",
    "\n",
    "import pydicom as dicom\n",
    "import nibabel as nib\n",
    "import SimpleITK as sitk\n",
    "import monai\n",
    "\n",
    "import torch\n",
    "import torch.nn as nn\n",
    "import torch.optim as optim\n",
    "\n",
    "from monai.networks.nets import EfficientNetBN\n",
    "from monai.networks.nets import ResNet\n",
    "#from efficientnet_pytorch import EfficientNet\n",
    "import timm\n",
    "\n",
    "import wandb\n"
   ]
  },
  {
   "cell_type": "code",
   "execution_count": 2,
   "id": "498ba35a-469a-4117-b37f-fb6eeaa323a7",
   "metadata": {},
   "outputs": [
    {
     "name": "stdout",
     "output_type": "stream",
     "text": [
      "Finish seeding with seed 344\n",
      "Training on device cuda\n"
     ]
    }
   ],
   "source": [
    "SEED = 344\n",
    "device = torch.device('cuda' if torch.cuda.is_available() else 'cpu')\n",
    "def seed_everything(seed):\n",
    "    random.seed(seed)\n",
    "    os.environ['PYTHONHASHSEED'] = str(seed)\n",
    "    np.random.seed(seed)\n",
    "    torch.manual_seed(seed)\n",
    "    torch.cuda.manual_seed(seed)\n",
    "    torch.backends.cudnn.deterministic = True # Fix the network according to random seed\n",
    "    print('Finish seeding with seed {}'.format(seed))\n",
    "    \n",
    "seed_everything(SEED)\n",
    "print('Training on device {}'.format(device))"
   ]
  },
  {
   "cell_type": "code",
   "execution_count": 3,
   "id": "14f1c59e-d587-48fb-ba83-3ac818874299",
   "metadata": {},
   "outputs": [
    {
     "data": {
      "text/html": [
       "<div>\n",
       "<style scoped>\n",
       "    .dataframe tbody tr th:only-of-type {\n",
       "        vertical-align: middle;\n",
       "    }\n",
       "\n",
       "    .dataframe tbody tr th {\n",
       "        vertical-align: top;\n",
       "    }\n",
       "\n",
       "    .dataframe thead th {\n",
       "        text-align: right;\n",
       "    }\n",
       "</style>\n",
       "<table border=\"1\" class=\"dataframe\">\n",
       "  <thead>\n",
       "    <tr style=\"text-align: right;\">\n",
       "      <th></th>\n",
       "      <th>index</th>\n",
       "      <th>patient_id</th>\n",
       "      <th>series_id</th>\n",
       "      <th>middle_z</th>\n",
       "    </tr>\n",
       "  </thead>\n",
       "  <tbody>\n",
       "    <tr>\n",
       "      <th>0</th>\n",
       "      <td>0</td>\n",
       "      <td>10004</td>\n",
       "      <td>21057</td>\n",
       "      <td>128</td>\n",
       "    </tr>\n",
       "    <tr>\n",
       "      <th>1</th>\n",
       "      <td>1</td>\n",
       "      <td>10004</td>\n",
       "      <td>51033</td>\n",
       "      <td>131</td>\n",
       "    </tr>\n",
       "    <tr>\n",
       "      <th>2</th>\n",
       "      <td>2</td>\n",
       "      <td>10005</td>\n",
       "      <td>18667</td>\n",
       "      <td>120</td>\n",
       "    </tr>\n",
       "    <tr>\n",
       "      <th>3</th>\n",
       "      <td>3</td>\n",
       "      <td>10007</td>\n",
       "      <td>47578</td>\n",
       "      <td>127</td>\n",
       "    </tr>\n",
       "    <tr>\n",
       "      <th>4</th>\n",
       "      <td>4</td>\n",
       "      <td>10026</td>\n",
       "      <td>29700</td>\n",
       "      <td>110</td>\n",
       "    </tr>\n",
       "    <tr>\n",
       "      <th>...</th>\n",
       "      <td>...</td>\n",
       "      <td>...</td>\n",
       "      <td>...</td>\n",
       "      <td>...</td>\n",
       "    </tr>\n",
       "    <tr>\n",
       "      <th>4392</th>\n",
       "      <td>4393</td>\n",
       "      <td>9961</td>\n",
       "      <td>2003</td>\n",
       "      <td>133</td>\n",
       "    </tr>\n",
       "    <tr>\n",
       "      <th>4393</th>\n",
       "      <td>4394</td>\n",
       "      <td>9961</td>\n",
       "      <td>63032</td>\n",
       "      <td>129</td>\n",
       "    </tr>\n",
       "    <tr>\n",
       "      <th>4394</th>\n",
       "      <td>4395</td>\n",
       "      <td>9980</td>\n",
       "      <td>40214</td>\n",
       "      <td>94</td>\n",
       "    </tr>\n",
       "    <tr>\n",
       "      <th>4395</th>\n",
       "      <td>4396</td>\n",
       "      <td>9980</td>\n",
       "      <td>40466</td>\n",
       "      <td>151</td>\n",
       "    </tr>\n",
       "    <tr>\n",
       "      <th>4396</th>\n",
       "      <td>4397</td>\n",
       "      <td>9983</td>\n",
       "      <td>10806</td>\n",
       "      <td>105</td>\n",
       "    </tr>\n",
       "  </tbody>\n",
       "</table>\n",
       "<p>4397 rows × 4 columns</p>\n",
       "</div>"
      ],
      "text/plain": [
       "      index  patient_id  series_id  middle_z\n",
       "0         0       10004      21057       128\n",
       "1         1       10004      51033       131\n",
       "2         2       10005      18667       120\n",
       "3         3       10007      47578       127\n",
       "4         4       10026      29700       110\n",
       "...     ...         ...        ...       ...\n",
       "4392   4393        9961       2003       133\n",
       "4393   4394        9961      63032       129\n",
       "4394   4395        9980      40214        94\n",
       "4395   4396        9980      40466       151\n",
       "4396   4397        9983      10806       105\n",
       "\n",
       "[4397 rows x 4 columns]"
      ]
     },
     "execution_count": 3,
     "metadata": {},
     "output_type": "execute_result"
    }
   ],
   "source": [
    "dicom_tag_columns = [\n",
    "    'Columns',\n",
    "    'ImageOrientationPatient',\n",
    "    'ImagePositionPatient',\n",
    "    'InstanceNumber',\n",
    "    'PatientID',\n",
    "    'PatientPosition',\n",
    "    'PixelSpacing',\n",
    "    'RescaleIntercept',\n",
    "    'RescaleSlope',\n",
    "    'Rows',\n",
    "    'SeriesNumber',\n",
    "    'SliceThickness',\n",
    "    'path',\n",
    "    'WindowCenter',\n",
    "    'WindowWidth'\n",
    "]\n",
    "\n",
    "train_dicom_tags = pd.read_parquet('autodl-tmp/train_dicom_tags.parquet', columns=dicom_tag_columns)\n",
    "test_dicom_tags = pd.read_parquet('autodl-tmp/test_dicom_tags.parquet', columns=dicom_tag_columns)\n",
    "\n",
    "train_series_meta = pd.read_csv('autodl-tmp/train_series_meta.csv')\n",
    "test_series_meta = pd.read_csv('autodl-tmp/test_series_meta.csv')\n",
    "\n",
    "train_csv = pd.read_csv('autodl-tmp/train.csv')\n",
    "\n",
    "mid_z_csv = pd.read_csv('middle_z.csv')\n",
    "complete_series_meta = mid_z_csv[mid_z_csv.middle_z != -1].reset_index()\n",
    "complete_series_meta"
   ]
  },
  {
   "cell_type": "code",
   "execution_count": 4,
   "id": "b18abfaa-5f67-428a-bf3e-91dd6b5f1a60",
   "metadata": {},
   "outputs": [],
   "source": [
    "injury_series_meta = train_series_meta.loc[train_series_meta.patient_id.isin(train_csv.loc[train_csv.any_injury == 1, \"patient_id\"].values)]\n",
    "healthy_series_meta = train_series_meta.loc[train_series_meta.patient_id.isin(train_csv.loc[train_csv.any_injury == 0, \"patient_id\"].values)]"
   ]
  },
  {
   "cell_type": "code",
   "execution_count": 5,
   "id": "b6663e20-d085-4c93-958e-d5c13ba9b53d",
   "metadata": {},
   "outputs": [],
   "source": [
    "def raw_path_gen(patient_id, series_id, train=True):\n",
    "    if(train):\n",
    "        path = 'autodl-tmp/train_images_resample/'\n",
    "    else:\n",
    "        path = 'autodl-tmp/train_images_resample/'\n",
    "    \n",
    "    path += str(patient_id) + '/' + str(series_id)\n",
    "    \n",
    "    return path\n",
    "\n",
    "def create_3D_scans(folder, downsample_rate=1): \n",
    "    filenames = os.listdir(folder)\n",
    "    filenames = [int(filename.split('.')[0]) for filename in filenames]\n",
    "    filenames = sorted(filenames)\n",
    "    filenames = [str(filename) + '.dcm' for filename in filenames]\n",
    "        \n",
    "    volume = []\n",
    "    #for filename in tqdm(filenames[::downsample_rate], position=0): \n",
    "    for filename in filenames[::downsample_rate]: \n",
    "        filepath = os.path.join(folder, filename)\n",
    "        ds = dicom.dcmread(filepath)\n",
    "        image = ds.pixel_array\n",
    "        \n",
    "        if ds.PixelRepresentation == 1:\n",
    "            bit_shift = ds.BitsAllocated - ds.BitsStored\n",
    "            dtype = image.dtype \n",
    "            image = (image << bit_shift).astype(dtype) >>  bit_shift\n",
    "        \n",
    "        # find rescale params\n",
    "        if (\"RescaleIntercept\" in ds) and (\"RescaleSlope\" in ds):\n",
    "            intercept = float(ds.RescaleIntercept)\n",
    "            slope = float(ds.RescaleSlope)\n",
    "    \n",
    "        # find clipping params\n",
    "        center = int(ds.WindowCenter)\n",
    "        width = int(ds.WindowWidth)\n",
    "        low = center - width / 2\n",
    "        high = center + width / 2    \n",
    "        \n",
    "        \n",
    "        image = (image * slope) + intercept\n",
    "        image = np.clip(image, low, high)\n",
    "\n",
    "        image = (image / np.max(image) * 255).astype(np.int16)\n",
    "        image = image[::downsample_rate, ::downsample_rate]\n",
    "        volume.append( image )\n",
    "    \n",
    "    volume = np.stack(volume, axis=0)\n",
    "    return volume\n",
    "\n",
    "def plot_image_with_seg(volume, volume_seg=[], orientation='Coronal', num_subplots=20):\n",
    "    # simply copy\n",
    "    if len(volume_seg) == 0:\n",
    "        plot_mask = 0\n",
    "    else:\n",
    "        plot_mask = 1\n",
    "        \n",
    "    if orientation == 'Coronal':\n",
    "        slices = np.linspace(0, volume.shape[2]-1, num_subplots).astype(np.int16)\n",
    "        volume = volume.transpose([1, 0, 2])\n",
    "        if plot_mask:\n",
    "            volume_seg = volume_seg.transpose([1, 0, 2])\n",
    "        \n",
    "    elif orientation == 'Sagittal':\n",
    "        slices = np.linspace(0, volume.shape[2]-1, num_subplots).astype(np.int16)\n",
    "        volume = volume.transpose([2, 0, 1])\n",
    "        if plot_mask:\n",
    "            volume_seg = volume_seg.transpose([2, 0, 1])\n",
    "\n",
    "    elif orientation == 'Axial':\n",
    "        slices = np.linspace(0, volume.shape[0]-1, num_subplots).astype(np.int16)\n",
    "           \n",
    "    rows = np.max( [np.floor(np.sqrt(num_subplots)).astype(int) - 2, 1])\n",
    "    cols = np.ceil(num_subplots/rows).astype(int)\n",
    "    \n",
    "    fig, ax = plt.subplots(rows, cols, figsize=(cols * 2, rows * 4))\n",
    "    fig.tight_layout(h_pad=0.01, w_pad=0)\n",
    "    \n",
    "    ax = ax.ravel()\n",
    "    for this_ax in ax:\n",
    "        this_ax.axis('off')\n",
    "\n",
    "    for counter, this_slice in enumerate( slices ):\n",
    "        plt.sca(ax[counter])\n",
    "        \n",
    "        image = volume[this_slice, :, :]\n",
    "        plt.imshow(image, cmap='gray')\n",
    "        \n",
    "        if plot_mask:\n",
    "            mask = np.where(volume_seg[this_slice, :, :], volume_seg[this_slice, :, :], np.nan)\n",
    "            plt.imshow(mask, cmap='Set1', alpha=0.5)\n",
    "            \n",
    "def load_nii(patient_id, series_id, root='autodl-tmp/train_images_resample/'):\n",
    "    path = root + str(patient_id) + '/' + str(series_id) + '.nii.gz'\n",
    "    img = sitk.ReadImage(path)\n",
    "    img = sitk.GetArrayFromImage(img)\n",
    "    \n",
    "    # img = nib.load(path)\n",
    "    # img = img.get_fdata().transpose(2, 1, 0)\n",
    "    \n",
    "    return img"
   ]
  },
  {
   "cell_type": "code",
   "execution_count": 6,
   "id": "96459b79-cc54-4a03-8af9-f8c7af479be8",
   "metadata": {},
   "outputs": [],
   "source": [
    "from torch.utils.data import Dataset\n",
    "from torch.utils.data import DataLoader\n",
    "\n",
    "ds = 2\n",
    "\n",
    "midz_pd = pd.read_csv('middle_z.csv')\n",
    "\n",
    "class CTDataset(Dataset):\n",
    "    def __init__(self, root='autodl-tmp/train_images_resample/', augmentation=False, meta=train_series_meta, device='cpu'):\n",
    "        self.device = device\n",
    "        self.series_meta = meta\n",
    "        self.root = root\n",
    "        self.t = monai.transforms.Compose([monai.transforms.RandZoom(prob=0.5, min_zoom=0.9, max_zoom=1.1),\n",
    "                                           monai.transforms.RandRotate(range_x=3.14 / 24, prob=0.5),\n",
    "                                           monai.transforms.SpatialPad(spatial_size=(320//ds, 280, 280), mode=\"edge\"),\n",
    "                                           monai.transforms.RandSpatialCrop(roi_size=(320//ds, 256, 256), random_size=False),\n",
    "                                           monai.transforms.NormalizeIntensity(divisor = 400)\n",
    "                                ])\n",
    "        self.t_val = monai.transforms.Compose([monai.transforms.NormalizeIntensity(divisor = 400)])\n",
    "        \n",
    "        self.aug = augmentation\n",
    "        \n",
    "    def __len__(self):\n",
    "        #return 1100\n",
    "        return len(self.series_meta)\n",
    "    \n",
    "    def __getitem__(self, idx):\n",
    "\n",
    "        patient_id, series_id = self.series_meta.loc[idx, [\"patient_id\", \"series_id\"]].astype('int')\n",
    "        middle_z = midz_pd.loc[midz_pd.series_id == series_id, \"middle_z\"].values[0] // ds\n",
    "        \n",
    "        img_a = load_nii(patient_id, series_id, self.root).astype('float32')\n",
    "        #img_t = torch.from_numpy(img_a).unsqueeze(0)\n",
    "        #img_t = torch.from_numpy(img_a[::2, ::2, ::2]).unsqueeze(0)\n",
    "        if(self.aug):\n",
    "            img_t = self.t(np.expand_dims(img_a[::ds, :, :], 0))\n",
    "        else:\n",
    "            #img_t = torch.from_numpy(img_a[::ds, ::ds, ::ds]).unsqueeze(0)\n",
    "            img_t = self.t_val(np.expand_dims(img_a[::ds, :, :], 0))\n",
    "        label_columns = [\n",
    "            'kidney_low',\n",
    "            'kidney_high',\n",
    "            'liver_low',\n",
    "            'liver_high',\n",
    "            'spleen_low',\n",
    "            'spleen_high',\n",
    "            #'any_injury'\n",
    "        ]\n",
    "        label_a = train_csv.loc[train_csv.patient_id == patient_id, label_columns].values[0].astype('float32')\n",
    "        label_t = torch.from_numpy(label_a)\n",
    "        label_midz = torch.tensor(middle_z.astype('int'))\n",
    "        \n",
    "        return img_t, label_t, label_midz"
   ]
  },
  {
   "cell_type": "code",
   "execution_count": 7,
   "id": "97b82cb5-e383-44d5-9124-db85d860f34e",
   "metadata": {},
   "outputs": [],
   "source": [
    "# train_meta = complete_series_meta[0:3200].reset_index()\n",
    "# val_meta = complete_series_meta[3200:].reset_index()\n",
    "\n",
    "# # train_meta = injury_series_meta[-800:].reset_index()\n",
    "# # val_meta = injury_series_meta[0:-800].reset_index()\n",
    "\n",
    "# train_ds = CTDataset(meta = train_meta, augmentation=True)\n",
    "# train_dl = DataLoader(train_ds, batch_size=4, shuffle=True, num_workers=8)\n",
    "\n",
    "# val_ds = CTDataset(meta = val_meta, augmentation=False)\n",
    "# val_dl = DataLoader(val_ds, batch_size=4, shuffle=False, num_workers=8)"
   ]
  },
  {
   "cell_type": "code",
   "execution_count": 8,
   "id": "21cf9e78-703f-4084-afdf-a4dbead38f37",
   "metadata": {},
   "outputs": [],
   "source": [
    "# class EffNet(nn.Module):\n",
    "#     def __init__(self, ch_out=9):\n",
    "#         super(EffNet, self).__init__()\n",
    "#         #self.conv_in = nn.Conv3d(1, 3, kernel_size=5, padding=2, stride=2)\n",
    "#         self.net = EfficientNetBN(\"efficientnet-b0\", pretrained=False, progress=False, spatial_dims=3, in_channels=1, num_classes=ch_out,)\n",
    "#     def forward(self, x):\n",
    "#         #x = self.conv_in(x)\n",
    "#         #return torch.sigmoid(self.net(x))\n",
    "#         return self.net(x)\n",
    "\n",
    "class KLSVolNet(nn.Module):\n",
    "    def __init__(self, backbone = \"tf_efficientnetv2_s.in21k_ft_in1k\", \n",
    "                 ch_in = 3, ch_out = 9, slices = 15, dropout = 0.0, pretrained=True):\n",
    "        super(KLSVolNet, self).__init__()\n",
    "        self.slices = slices\n",
    "        \n",
    "        self.encoder = timm.create_model(\n",
    "            backbone,\n",
    "            in_chans=ch_in,\n",
    "            num_classes=ch_out,\n",
    "            features_only=False,\n",
    "            drop_rate=0.0,\n",
    "            drop_path_rate=0.0,\n",
    "            pretrained=False,\n",
    "        )\n",
    "        \n",
    "        if 'efficient' in backbone and pretrained:\n",
    "            self.encoder.load_state_dict(torch.load('pretrained/tf_efficientnetv2_s.in21k_ft_in1k_6class.pt'))\n",
    "        elif 'convnext' in backbone and pretrained:\n",
    "            self.encoder.load_state_dict(torch.load('pretrained/convnextv2_nano.fcmae_ft_in22k_in1k_384_6class.pt'))\n",
    "        \n",
    "        if 'efficient' in backbone:\n",
    "            hdim = self.encoder.conv_head.out_channels\n",
    "            self.encoder.classifier = nn.Identity()\n",
    "        elif 'convnext' in backbone:\n",
    "            hdim = self.encoder.head.fc.in_features\n",
    "            self.encoder.head.fc = nn.Identity()\n",
    "        \n",
    "        self.lstm = nn.LSTM(hdim, 256, num_layers=2, dropout=0.0, bidirectional=True, batch_first=True)\n",
    "        \n",
    "        self.head = nn.Sequential(\n",
    "            nn.Linear(512, 256),\n",
    "            nn.BatchNorm1d(256),\n",
    "            nn.Dropout(dropout),\n",
    "            nn.LeakyReLU(0.1),\n",
    "            nn.Linear(256, ch_out),\n",
    "        )\n",
    "        \n",
    "        self.head2 = nn.Conv1d(slices, 1, 1)\n",
    "        \n",
    "        \n",
    "    def slicer(self, img, mid_z, slices):\n",
    "        img_kls = []\n",
    "        for i in range(0, len(mid_z)):\n",
    "            z = mid_z[i]\n",
    "            if z < 30:\n",
    "                z = 30\n",
    "            elif img.shape[-3] - z < 30:\n",
    "                z = img.shape[-3] - 31\n",
    "                \n",
    "            slice_kls = img[i, :, z-30:z+30, :, :]\n",
    "            img_kls.append(slice_kls)\n",
    "            # plot_image_with_seg(slice_kls[0].numpy(), orientation='Axial', num_subplots=7)\n",
    "        img = torch.cat(img_kls, 0)\n",
    "        img = img.unsqueeze(1)\n",
    "        #print(img.shape)\n",
    "        z_length = img.shape[-3]\n",
    "        z_slices = (np.linspace(0, z_length, slices + 2)).astype('int')\n",
    "        z_slices = z_slices[1:-1]\n",
    "        #print(z_slices)\n",
    "        slices_list = []\n",
    "        for z in z_slices:\n",
    "            slices_list.append(img[:, :, z-1:z+2, :, :])\n",
    "        img_slice = torch.cat(slices_list, 1)\n",
    "        return img_slice\n",
    "        \n",
    "    def forward(self, x, mid_z):  # (bs, nslice, ch, sz, sz)\n",
    "        x = self.slicer(x, mid_z, self.slices)\n",
    "        bs, nslice,ch, sz1, sz2 = x.shape\n",
    "        x = x.view(bs*nslice, ch, sz1, sz2)\n",
    "        \n",
    "        feature_2d = self.encoder(x)\n",
    "        feature_2d = feature_2d.view(bs, nslice, -1)\n",
    "        \n",
    "        feature_lstm, _ = self.lstm(feature_2d)\n",
    "        feature_lstm = feature_lstm.contiguous().view(bs * nslice, -1)\n",
    "        \n",
    "        preds = self.head(feature_lstm)\n",
    "        preds = preds.view(bs, nslice, -1).contiguous()\n",
    "        preds = self.head2(preds)\n",
    "        \n",
    "        return preds.squeeze(1)\n",
    "        \n",
    "        \n",
    "        # bs = x.shape[0]\n",
    "        # x = x.view(bs * n_slice_per_c, in_chans, image_size, image_size)\n",
    "        # feat = self.encoder(x)\n",
    "        # feat = feat.view(bs, n_slice_per_c, -1)\n",
    "        # feat, _ = self.lstm(feat)\n",
    "        # feat = feat.contiguous().view(bs * n_slice_per_c, -1)\n",
    "        # feat = self.head(feat)\n",
    "        # feat = feat.view(bs, n_slice_per_c).contiguous()\n",
    "        "
   ]
  },
  {
   "cell_type": "code",
   "execution_count": 9,
   "id": "b2396566-5acc-4bda-a87f-d2cb569dcfe7",
   "metadata": {},
   "outputs": [],
   "source": [
    "# imgs, labels, midz = next(iter(train_dl))\n",
    "# net = KLSVolNet(ch_out = 6)\n",
    "# img_s = net(imgs, midz)\n",
    "# img_s.shape"
   ]
  },
  {
   "cell_type": "code",
   "execution_count": 10,
   "id": "39b377bd-a021-4d2a-980d-a01aad63d6cc",
   "metadata": {},
   "outputs": [],
   "source": [
    "# img_a = imgs[0, 0].numpy()\n",
    "# plot_image_with_seg(img_a, orientation='Coronal', num_subplots=7)"
   ]
  },
  {
   "cell_type": "code",
   "execution_count": 11,
   "id": "956083df-be19-4f19-909e-aadf9ff94280",
   "metadata": {},
   "outputs": [],
   "source": [
    "import sklearn.metrics\n",
    "\n",
    "def transform_9class(label_in):\n",
    "    label_out = [1 - label_in[0],\n",
    "                   label_in[0],\n",
    "                    1- label_in[1],\n",
    "                   label_in[1],\n",
    "                   (1 - label_in[2]) * (1 - label_in[3]),\n",
    "                   label_in[2],\n",
    "                   label_in[3],\n",
    "                   (1 - label_in[4]) * (1 - label_in[5]),\n",
    "                    label_in[4],\n",
    "                   label_in[5],\n",
    "                   (1 - label_in[6]) * (1 - label_in[7]),\n",
    "                   label_in[6],\n",
    "                   label_in[7]]\n",
    "    return label_out\n",
    "\n",
    "def transform_13class(label_in):\n",
    "    label_out = label_in\n",
    "    return label_out.tolist()\n",
    "\n",
    "def transform_kls9class(label_in):\n",
    "    label_out = [1, 1, 1, 1]\n",
    "    label_out.extend(label_in.tolist())\n",
    "    return label_out\n",
    "\n",
    "def transform_kls6class(label_in):\n",
    "    label_kls = label_in\n",
    "    label_in = [0.5, 0.5]\n",
    "    label_in.extend(label_kls.tolist())\n",
    "    label_out = [1, 1, 1, 1,\n",
    "                   (1 - label_in[2]) * (1 - label_in[3]),\n",
    "                   label_in[2],\n",
    "                   label_in[3],\n",
    "                   (1 - label_in[4]) * (1 - label_in[5]),\n",
    "                    label_in[4],\n",
    "                   label_in[5],\n",
    "                   (1 - label_in[6]) * (1 - label_in[7]),\n",
    "                   label_in[6],\n",
    "                   label_in[7]]\n",
    "    return label_out\n",
    "\n",
    "\n",
    "def loss_metrics(metrics, transform):\n",
    "    preds = [transform(x) for x in metrics[\"predict\"]]\n",
    "    targets = [transform(x) for x in metrics[\"label\"]]\n",
    "    targets_any_injury = metrics[\"label\"][:, -1]\n",
    "    \n",
    "    loss_list = []\n",
    "    \n",
    "    print(\"F1 score: \", sklearn.metrics.f1_score(metrics[\"label\"], np.around(metrics[\"predict\"]), average=None, zero_division=0.0))\n",
    "    print(\"AUC score: \", sklearn.metrics.roc_auc_score(metrics[\"label\"], metrics[\"predict\"], average=None))\n",
    "    \n",
    "    for i in range(0, len(preds)):\n",
    "        predict = preds[i]\n",
    "        target = targets[i]\n",
    "        \n",
    "        label_pred = np.zeros(14)\n",
    "        label_pred[0] = predict[0] / (predict[0] + predict[1])\n",
    "        label_pred[1] = predict[1] / (predict[0] + predict[1])\n",
    "        label_pred[2] = predict[2] / (predict[2] + predict[3])\n",
    "        label_pred[3] = predict[3] / (predict[2] + predict[3])\n",
    "        label_pred[4] = predict[4] / (predict[4] + predict[5] + predict[6])\n",
    "        label_pred[5] = predict[5] / (predict[4] + predict[5] + predict[6])\n",
    "        label_pred[6] = predict[6] / (predict[4] + predict[5] + predict[6])\n",
    "        label_pred[7] = predict[7] / (predict[7] + predict[8] + predict[9])\n",
    "        label_pred[8] = predict[8] / (predict[7] + predict[8] + predict[9])\n",
    "        label_pred[9] = predict[9] / (predict[7] + predict[8] + predict[9])\n",
    "        label_pred[10] = predict[10] / (predict[10] + predict[11] + predict[12])\n",
    "        label_pred[11] = predict[11] / (predict[10] + predict[11] + predict[12])\n",
    "        label_pred[12] = predict[12] / (predict[10] + predict[11] + predict[12])\n",
    "        label_pred[13] = max([1 - label_pred[x] for x in [0, 2, 4, 7, 10]])\n",
    "        \n",
    "        targets_any_injury = max([1 - target[x] for x in [0, 2, 4, 7, 10]])\n",
    "        \n",
    "        target.append(targets_any_injury)\n",
    "        label_target = np.array(target)\n",
    "        \n",
    "        weight = np.array([1, 2, 1, 6, 1, 2, 4, 1, 2, 4, 1, 2, 4, 6])\n",
    "        \n",
    "        loss_list.append(sklearn.metrics.log_loss(\n",
    "            y_true=label_target,\n",
    "            y_pred=label_pred,\n",
    "            sample_weight=weight))\n",
    "    #print(\"Weighted Loss: \" + np.mean(loss_list))\n",
    "    \n",
    "    return np.mean(loss_list)\n",
    "        \n",
    "    \n",
    "    \n",
    "    #print(np.array(preds).shape)\n",
    "    "
   ]
  },
  {
   "cell_type": "code",
   "execution_count": 12,
   "id": "d8c980ba-6bb7-46e4-9094-ad597a0c8fda",
   "metadata": {},
   "outputs": [],
   "source": [
    "import copy\n",
    "\n",
    "import torch.cuda.amp as amp\n",
    "\n",
    "scaler = amp.GradScaler()\n",
    "\n",
    "def TrainClassifer(model,trn_dl,val_dl,optimizer, project, name, suffix, scheduler=None,\n",
    "                   n_eopchs=20, device='cpu'):\n",
    " \n",
    "    #loss_fn = nn.BCELoss(weight=torch.Tensor([1, 6, 1, 6, 1, 4, 8, 1, 4, 8, 1, 4, 8]).to(device))\n",
    "    #loss_fn = nn.BCELoss()\n",
    "    loss_fn = nn.BCEWithLogitsLoss(pos_weight=torch.Tensor([10, 10, 6, 6, 6, 6]).to(device))\n",
    "    model.to(device)\n",
    "    best_model = copy.deepcopy(model)\n",
    "    bestweight_model = copy.deepcopy(model)\n",
    "    best_val = 999.0\n",
    "    best_weightloss = 999.0\n",
    "    metrics = {'predict': [], 'label' : []}\n",
    "    PATH_MODEL = project + '/' + name + '/' + suffix + '.pt'\n",
    "    wandb.init(name=name, \n",
    "               project=project)\n",
    "\n",
    "    for epoch in range(1, n_eopchs + 1):\n",
    "        loss_train = 0.0\n",
    "        model.train()\n",
    "        for imgs, labels, midz in tqdm(trn_dl, position=0):\n",
    "            imgs = imgs.to(device)\n",
    "            labels = labels.to(device)\n",
    "            midz = midz.to(device)\n",
    "            \n",
    "            with amp.autocast():\n",
    "                outputs = model(imgs, midz)\n",
    "                #outputs = model(imgs.unsqueeze(1))\n",
    "                loss = loss_fn(outputs, labels)\n",
    "                \n",
    "            optimizer.zero_grad()\n",
    "            \n",
    "            scaler.scale(loss).backward()\n",
    "            scaler.step(optimizer)\n",
    "            scaler.update()\n",
    "\n",
    "            # outputs = model(imgs, midz)\n",
    "            # #outputs = model(imgs.unsqueeze(1))\n",
    "            # loss = loss_fn(outputs, labels)\n",
    "            # optimizer.zero_grad()\n",
    "            # loss.backward()\n",
    "            # optimizer.step()\n",
    "            loss_train += loss.item()\n",
    "        torch.cuda.empty_cache()\n",
    "        \n",
    "        loss_val = 0.0\n",
    "        correct_val = 0.0\n",
    "        model.eval()\n",
    "        \n",
    "        for imgs, labels, midz in tqdm(val_dl):\n",
    "            imgs = imgs.to(device)\n",
    "            labels = labels.to(device)\n",
    "            midz = midz.to(device)\n",
    "            with torch.no_grad():\n",
    "                outputs = model(imgs, midz)\n",
    "                #outputs = model(imgs.unsqueeze(1))\n",
    "                loss = loss_fn(outputs, labels)\n",
    "                loss_val += loss.item()\n",
    "                outputs = torch.sigmoid(outputs)\n",
    "                metrics['predict'].extend((outputs.to('cpu').detach().numpy()).tolist())\n",
    "                metrics['label'].extend((labels.to('cpu').detach().numpy()).tolist())\n",
    "        \n",
    "        metrics['predict'] = np.array(metrics['predict'])\n",
    "        #metrics['predict'] = np.array([[0.5, 0.5, 0.33333, 0.33333, 0.33333, 0.33333, 0.33333, 0.33333, 0.33333]]*len(metrics['label']))\n",
    "        metrics['label'] = np.array(metrics['label'])\n",
    "        weighted_loss = loss_metrics(metrics, transform_kls6class)\n",
    "        metrics = {'predict': [], 'label' : []}\n",
    "        \n",
    "        torch.cuda.empty_cache()\n",
    "        \n",
    "        if (weighted_loss) < best_weightloss:\n",
    "            best_weightloss = weighted_loss\n",
    "            \n",
    "        if loss_val / len(val_dl) < best_val:\n",
    "            best_val = loss_val / len(val_dl)\n",
    "            torch.save(model.state_dict(), 'model_tmp.pt')\n",
    "            best_model.load_state_dict(torch.load('model_tmp.pt'))\n",
    "            \n",
    "            \n",
    "        if scheduler != None:\n",
    "            scheduler.step()\n",
    "\n",
    "        print('{} Eopch {}, Training Loss {}, Val Loss {}, Weighted Loss {}'.format(time.strftime(\"%Y-%m-%d %H:%M:%S\",time.localtime()),\n",
    "                                                                  epoch, loss_train / len(trn_dl), loss_val / len(val_dl),\n",
    "                                                                                     weighted_loss))\n",
    "        \n",
    "        \n",
    "        \n",
    "        wandb.log({'training loss': loss_train / len(trn_dl),\n",
    "                  'val loss': loss_val / len(val_dl),\n",
    "                  'weighted loss': weighted_loss})\n",
    "    torch.save(best_model.state_dict(), PATH_MODEL)\n",
    "    print('Finish training: best_val:{}, best_weighted loss:{}'.format(best_val, best_weightloss))\n",
    "    wandb.finish()"
   ]
  },
  {
   "cell_type": "code",
   "execution_count": 13,
   "id": "88482964-fb82-44d8-8541-6dace2cdf660",
   "metadata": {},
   "outputs": [],
   "source": [
    "import os\n",
    "\n",
    "project = \"KLS2.5Dx2-nophase-4fold\"\n",
    "name = \"KLS2.5Dx2-nophase_Effnetv2_4fold\"\n",
    "backbone = \"tf_efficientnetv2_s.in21k_ft_in1k\"\n",
    "# backbone = 'convnextv2_nano.fcmae_ft_in22k_in1k_384'\n",
    "n_eopchs = 12\n",
    "\n",
    "p = project + '/' + name\n",
    "if not os.path.exists(p):\n",
    "    os.mkdir(p)"
   ]
  },
  {
   "cell_type": "code",
   "execution_count": 14,
   "id": "902cd30a-74db-4512-900b-f2c3993a89f8",
   "metadata": {},
   "outputs": [],
   "source": [
    "# 4397 // 4 = 1099\n",
    "\n",
    "train_df_fold1 = complete_series_meta[1100:].reset_index(drop=True)\n",
    "train_df_fold2 = pd.concat([complete_series_meta[0:1100], complete_series_meta[2200:]], axis=0).reset_index(drop=True)\n",
    "train_df_fold3 = pd.concat([complete_series_meta[0:2200], complete_series_meta[3300:]], axis=0).reset_index(drop=True)\n",
    "train_df_fold4 = complete_series_meta[:3300].reset_index()\n",
    "\n",
    "val_df_fold1 = complete_series_meta[0:1100].reset_index(drop=True)\n",
    "val_df_fold2 = complete_series_meta[1100:2200].reset_index(drop=True)\n",
    "val_df_fold3 = complete_series_meta[2200:3300].reset_index(drop=True)\n",
    "val_df_fold4 = complete_series_meta[3300:].reset_index(drop=True)\n",
    "\n",
    "train_ds_fold1 = CTDataset(meta = train_df_fold1, augmentation=True)\n",
    "train_dl_fold1 = DataLoader(train_ds_fold1, batch_size=4, shuffle=True, num_workers=8)\n",
    "val_ds_fold1 = CTDataset(meta = val_df_fold1, augmentation=False)\n",
    "val_dl_fold1 = DataLoader(val_ds_fold1, batch_size=4, shuffle=False, num_workers=8)\n",
    "\n",
    "train_ds_fold2 = CTDataset(meta = train_df_fold2, augmentation=True)\n",
    "train_dl_fold2 = DataLoader(train_ds_fold2, batch_size=4, shuffle=True, num_workers=8)\n",
    "val_ds_fold2 = CTDataset(meta = val_df_fold2, augmentation=False)\n",
    "val_dl_fold2 = DataLoader(val_ds_fold2, batch_size=4, shuffle=False, num_workers=8)\n",
    "\n",
    "train_ds_fold3 = CTDataset(meta = train_df_fold3, augmentation=True)\n",
    "train_dl_fold3 = DataLoader(train_ds_fold3, batch_size=4, shuffle=True, num_workers=8)\n",
    "val_ds_fold3 = CTDataset(meta = val_df_fold3, augmentation=False)\n",
    "val_dl_fold3 = DataLoader(val_ds_fold3, batch_size=4, shuffle=False, num_workers=8)\n",
    "\n",
    "train_ds_fold4 = CTDataset(meta = train_df_fold4, augmentation=True)\n",
    "train_dl_fold4 = DataLoader(train_ds_fold4, batch_size=4, shuffle=True, num_workers=8)\n",
    "val_ds_fold4 = CTDataset(meta = val_df_fold4, augmentation=False)\n",
    "val_dl_fold4 = DataLoader(val_ds_fold4, batch_size=4, shuffle=False, num_workers=8)"
   ]
  },
  {
   "cell_type": "code",
   "execution_count": 15,
   "id": "3d0fdfa7-8b11-4f15-b997-1fec5f1604f5",
   "metadata": {},
   "outputs": [
    {
     "name": "stderr",
     "output_type": "stream",
     "text": [
      "\u001b[34m\u001b[1mwandb\u001b[0m: Currently logged in as: \u001b[33mnorthm\u001b[0m (\u001b[33mrsna2023\u001b[0m). Use \u001b[1m`wandb login --relogin`\u001b[0m to force relogin\n"
     ]
    },
    {
     "data": {
      "application/vnd.jupyter.widget-view+json": {
       "model_id": "5bede2cf752844b8ac553f443707a2ac",
       "version_major": 2,
       "version_minor": 0
      },
      "text/plain": [
       "VBox(children=(Label(value='Waiting for wandb.init()...\\r'), FloatProgress(value=0.016670822290082772, max=1.0…"
      ]
     },
     "metadata": {},
     "output_type": "display_data"
    },
    {
     "data": {
      "text/html": [
       "wandb version 0.15.11 is available!  To upgrade, please run:\n",
       " $ pip install wandb --upgrade"
      ],
      "text/plain": [
       "<IPython.core.display.HTML object>"
      ]
     },
     "metadata": {},
     "output_type": "display_data"
    },
    {
     "data": {
      "text/html": [
       "Tracking run with wandb version 0.15.8"
      ],
      "text/plain": [
       "<IPython.core.display.HTML object>"
      ]
     },
     "metadata": {},
     "output_type": "display_data"
    },
    {
     "data": {
      "text/html": [
       "Run data is saved locally in <code>/root/wandb/run-20231004_024049-q6rt8d2s</code>"
      ],
      "text/plain": [
       "<IPython.core.display.HTML object>"
      ]
     },
     "metadata": {},
     "output_type": "display_data"
    },
    {
     "data": {
      "text/html": [
       "Syncing run <strong><a href='https://wandb.ai/rsna2023/KLS2.5Dx2-nophase-4fold/runs/q6rt8d2s' target=\"_blank\">KLS2.5Dx2-nophase_Effnetv2_4fold</a></strong> to <a href='https://wandb.ai/rsna2023/KLS2.5Dx2-nophase-4fold' target=\"_blank\">Weights & Biases</a> (<a href='https://wandb.me/run' target=\"_blank\">docs</a>)<br/>"
      ],
      "text/plain": [
       "<IPython.core.display.HTML object>"
      ]
     },
     "metadata": {},
     "output_type": "display_data"
    },
    {
     "data": {
      "text/html": [
       " View project at <a href='https://wandb.ai/rsna2023/KLS2.5Dx2-nophase-4fold' target=\"_blank\">https://wandb.ai/rsna2023/KLS2.5Dx2-nophase-4fold</a>"
      ],
      "text/plain": [
       "<IPython.core.display.HTML object>"
      ]
     },
     "metadata": {},
     "output_type": "display_data"
    },
    {
     "data": {
      "text/html": [
       " View run at <a href='https://wandb.ai/rsna2023/KLS2.5Dx2-nophase-4fold/runs/q6rt8d2s' target=\"_blank\">https://wandb.ai/rsna2023/KLS2.5Dx2-nophase-4fold/runs/q6rt8d2s</a>"
      ],
      "text/plain": [
       "<IPython.core.display.HTML object>"
      ]
     },
     "metadata": {},
     "output_type": "display_data"
    },
    {
     "name": "stderr",
     "output_type": "stream",
     "text": [
      "100%|██████████| 825/825 [23:26<00:00,  1.70s/it]\n",
      "100%|██████████| 275/275 [03:21<00:00,  1.37it/s]\n"
     ]
    },
    {
     "name": "stdout",
     "output_type": "stream",
     "text": [
      "F1 score:  [0.         0.         0.11111111 0.         0.         0.        ]\n",
      "AUC score:  [0.54665136 0.76725746 0.63020833 0.66753598 0.62616422 0.68340796]\n",
      "2023-10-04 03:07:41 Eopch 1, Training Loss 0.6720599909081604, Val Loss 0.695117086334662, Weighted Loss 0.5005865122420716\n"
     ]
    },
    {
     "name": "stderr",
     "output_type": "stream",
     "text": [
      "100%|██████████| 825/825 [23:25<00:00,  1.70s/it]\n",
      "100%|██████████| 275/275 [03:30<00:00,  1.31it/s]\n"
     ]
    },
    {
     "name": "stdout",
     "output_type": "stream",
     "text": [
      "F1 score:  [0.         0.16666667 0.26415094 0.         0.24752475 0.21176471]\n",
      "AUC score:  [0.66855703 0.80766924 0.70186335 0.75936122 0.70551471 0.75704639]\n",
      "2023-10-04 03:34:39 Eopch 2, Training Loss 0.5949021696141272, Val Loss 0.6551582938974554, Weighted Loss 0.5096649422195338\n"
     ]
    },
    {
     "name": "stderr",
     "output_type": "stream",
     "text": [
      "100%|██████████| 825/825 [23:23<00:00,  1.70s/it]\n",
      "100%|██████████| 275/275 [03:27<00:00,  1.33it/s]\n"
     ]
    },
    {
     "name": "stdout",
     "output_type": "stream",
     "text": [
      "F1 score:  [0.12195122 0.09756098 0.22826087 0.         0.2259887  0.24691358]\n",
      "AUC score:  [0.73033126 0.83665378 0.69953416 0.80685148 0.72055147 0.80477466]\n",
      "2023-10-04 04:01:32 Eopch 3, Training Loss 0.534466760447531, Val Loss 0.6253911812468008, Weighted Loss 0.4648979999768082\n"
     ]
    },
    {
     "name": "stderr",
     "output_type": "stream",
     "text": [
      "100%|██████████| 825/825 [23:22<00:00,  1.70s/it]\n",
      "100%|██████████| 275/275 [03:29<00:00,  1.31it/s]\n"
     ]
    },
    {
     "name": "stdout",
     "output_type": "stream",
     "text": [
      "F1 score:  [0.09411765 0.22222222 0.32128514 0.05405405 0.17567568 0.27184466]\n",
      "AUC score:  [0.77277433 0.87276786 0.72154287 0.79352201 0.74448529 0.83097842]\n",
      "2023-10-04 04:28:27 Eopch 4, Training Loss 0.4817624850887241, Val Loss 0.6041884283721447, Weighted Loss 0.4524494226446627\n"
     ]
    },
    {
     "name": "stderr",
     "output_type": "stream",
     "text": [
      "100%|██████████| 825/825 [23:24<00:00,  1.70s/it]\n",
      "100%|██████████| 275/275 [03:25<00:00,  1.34it/s]\n"
     ]
    },
    {
     "name": "stdout",
     "output_type": "stream",
     "text": [
      "F1 score:  [0.24561404 0.2195122  0.25806452 0.09756098 0.2125     0.32214765]\n",
      "AUC score:  [0.81911063 0.85097948 0.71837258 0.8256866  0.74838235 0.84969539]\n",
      "2023-10-04 04:55:18 Eopch 5, Training Loss 0.42391622788978345, Val Loss 0.5938822773031213, Weighted Loss 0.4498474964993964\n"
     ]
    },
    {
     "name": "stderr",
     "output_type": "stream",
     "text": [
      "100%|██████████| 825/825 [23:22<00:00,  1.70s/it]\n",
      "100%|██████████| 275/275 [03:26<00:00,  1.33it/s]\n"
     ]
    },
    {
     "name": "stdout",
     "output_type": "stream",
     "text": [
      "F1 score:  [0.27272727 0.27586207 0.28115016 0.18181818 0.20359281 0.33333333]\n",
      "AUC score:  [0.85403727 0.89359009 0.70884015 0.83966    0.74708333 0.8726512 ]\n",
      "2023-10-04 05:22:09 Eopch 6, Training Loss 0.37613292629068545, Val Loss 0.5718219070949337, Weighted Loss 0.4627629232469721\n"
     ]
    },
    {
     "name": "stderr",
     "output_type": "stream",
     "text": [
      "100%|██████████| 825/825 [23:23<00:00,  1.70s/it]\n",
      "100%|██████████| 275/275 [03:20<00:00,  1.37it/s]\n"
     ]
    },
    {
     "name": "stdout",
     "output_type": "stream",
     "text": [
      "F1 score:  [0.21818182 0.25       0.31683168 0.125      0.21582734 0.37762238]\n",
      "AUC score:  [0.86202628 0.83891924 0.69215839 0.85482469 0.7553799  0.86945831]\n",
      "2023-10-04 05:48:55 Eopch 7, Training Loss 0.32305688708117514, Val Loss 0.6059444340860302, Weighted Loss 0.42844373209881886\n"
     ]
    },
    {
     "name": "stderr",
     "output_type": "stream",
     "text": [
      "100%|██████████| 825/825 [23:23<00:00,  1.70s/it]\n",
      "100%|██████████| 275/275 [03:30<00:00,  1.31it/s]\n"
     ]
    },
    {
     "name": "stdout",
     "output_type": "stream",
     "text": [
      "F1 score:  [0.2875817  0.22641509 0.2832618  0.24657534 0.25870647 0.38216561]\n",
      "AUC score:  [0.87197317 0.86777052 0.66971834 0.86886249 0.75666667 0.87762405]\n",
      "2023-10-04 06:15:49 Eopch 8, Training Loss 0.2769767564625451, Val Loss 0.5904450258341702, Weighted Loss 0.44524665848377687\n"
     ]
    },
    {
     "name": "stderr",
     "output_type": "stream",
     "text": [
      "100%|██████████| 825/825 [23:23<00:00,  1.70s/it]\n",
      "100%|██████████| 275/275 [03:19<00:00,  1.38it/s]\n"
     ]
    },
    {
     "name": "stdout",
     "output_type": "stream",
     "text": [
      "F1 score:  [0.14634146 0.24489796 0.28888889 0.21276596 0.09917355 0.41176471]\n",
      "AUC score:  [0.86036097 0.85797575 0.69021739 0.86161821 0.72477941 0.86389827]\n",
      "2023-10-04 06:42:34 Eopch 9, Training Loss 0.2344209292880965, Val Loss 0.668400447984988, Weighted Loss 0.40730745007206925\n"
     ]
    },
    {
     "name": "stderr",
     "output_type": "stream",
     "text": [
      "100%|██████████| 825/825 [23:25<00:00,  1.70s/it]\n",
      "100%|██████████| 275/275 [03:25<00:00,  1.34it/s]\n"
     ]
    },
    {
     "name": "stdout",
     "output_type": "stream",
     "text": [
      "F1 score:  [0.24161074 0.23333333 0.29230769 0.30769231 0.25210084 0.44094488]\n",
      "AUC score:  [0.87145558 0.84948028 0.68163389 0.88309347 0.71563725 0.87597255]\n",
      "2023-10-04 07:09:26 Eopch 10, Training Loss 0.19626132901870844, Val Loss 0.622183856530623, Weighted Loss 0.4350695621170031\n"
     ]
    },
    {
     "name": "stderr",
     "output_type": "stream",
     "text": [
      "100%|██████████| 825/825 [23:25<00:00,  1.70s/it]\n",
      "100%|██████████| 275/275 [03:29<00:00,  1.31it/s]\n"
     ]
    },
    {
     "name": "stdout",
     "output_type": "stream",
     "text": [
      "F1 score:  [0.23853211 0.2962963  0.36082474 0.35087719 0.19875776 0.40559441]\n",
      "AUC score:  [0.85786299 0.87513326 0.69830487 0.91058952 0.72517157 0.86764166]\n",
      "2023-10-04 07:36:23 Eopch 11, Training Loss 0.16275244907899336, Val Loss 0.6465592230179094, Weighted Loss 0.41231958510394034\n"
     ]
    },
    {
     "name": "stderr",
     "output_type": "stream",
     "text": [
      "100%|██████████| 825/825 [23:20<00:00,  1.70s/it]\n",
      "100%|██████████| 275/275 [03:21<00:00,  1.37it/s]\n"
     ]
    },
    {
     "name": "stdout",
     "output_type": "stream",
     "text": [
      "F1 score:  [0.21238938 0.23529412 0.23170732 0.25       0.25       0.45112782]\n",
      "AUC score:  [0.85709785 0.84538246 0.65774888 0.88409157 0.72708333 0.86118247]\n",
      "2023-10-04 08:03:06 Eopch 12, Training Loss 0.13050101359459487, Val Loss 0.718915954540399, Weighted Loss 0.42110679979349075\n",
      "Finish training: best_val:0.5718219070949337, best_weighted loss:0.40730745007206925\n"
     ]
    },
    {
     "data": {
      "text/html": [
       "Waiting for W&B process to finish... <strong style=\"color:green\">(success).</strong>"
      ],
      "text/plain": [
       "<IPython.core.display.HTML object>"
      ]
     },
     "metadata": {},
     "output_type": "display_data"
    },
    {
     "data": {
      "text/html": [
       "<style>\n",
       "    table.wandb td:nth-child(1) { padding: 0 10px; text-align: left ; width: auto;} td:nth-child(2) {text-align: left ; width: 100%}\n",
       "    .wandb-row { display: flex; flex-direction: row; flex-wrap: wrap; justify-content: flex-start; width: 100% }\n",
       "    .wandb-col { display: flex; flex-direction: column; flex-basis: 100%; flex: 1; padding: 10px; }\n",
       "    </style>\n",
       "<div class=\"wandb-row\"><div class=\"wandb-col\"><h3>Run history:</h3><br/><table class=\"wandb\"><tr><td>training loss</td><td>█▇▆▆▅▄▃▃▂▂▁▁</td></tr><tr><td>val loss</td><td>▇▅▄▃▂▁▃▂▆▃▅█</td></tr><tr><td>weighted loss</td><td>▇█▅▄▄▅▂▄▁▃▁▂</td></tr></table><br/></div><div class=\"wandb-col\"><h3>Run summary:</h3><br/><table class=\"wandb\"><tr><td>training loss</td><td>0.1305</td></tr><tr><td>val loss</td><td>0.71892</td></tr><tr><td>weighted loss</td><td>0.42111</td></tr></table><br/></div></div>"
      ],
      "text/plain": [
       "<IPython.core.display.HTML object>"
      ]
     },
     "metadata": {},
     "output_type": "display_data"
    },
    {
     "data": {
      "text/html": [
       " View run <strong style=\"color:#cdcd00\">KLS2.5Dx2-nophase_Effnetv2_4fold</strong> at: <a href='https://wandb.ai/rsna2023/KLS2.5Dx2-nophase-4fold/runs/q6rt8d2s' target=\"_blank\">https://wandb.ai/rsna2023/KLS2.5Dx2-nophase-4fold/runs/q6rt8d2s</a><br/>Synced 5 W&B file(s), 0 media file(s), 0 artifact file(s) and 0 other file(s)"
      ],
      "text/plain": [
       "<IPython.core.display.HTML object>"
      ]
     },
     "metadata": {},
     "output_type": "display_data"
    },
    {
     "data": {
      "text/html": [
       "Find logs at: <code>./wandb/run-20231004_024049-q6rt8d2s/logs</code>"
      ],
      "text/plain": [
       "<IPython.core.display.HTML object>"
      ]
     },
     "metadata": {},
     "output_type": "display_data"
    },
    {
     "data": {
      "application/vnd.jupyter.widget-view+json": {
       "model_id": "af6636f3b5994c1bba7f1ea0d03eb700",
       "version_major": 2,
       "version_minor": 0
      },
      "text/plain": [
       "VBox(children=(Label(value='Waiting for wandb.init()...\\r'), FloatProgress(value=0.016669102727125087, max=1.0…"
      ]
     },
     "metadata": {},
     "output_type": "display_data"
    },
    {
     "data": {
      "text/html": [
       "wandb version 0.15.11 is available!  To upgrade, please run:\n",
       " $ pip install wandb --upgrade"
      ],
      "text/plain": [
       "<IPython.core.display.HTML object>"
      ]
     },
     "metadata": {},
     "output_type": "display_data"
    },
    {
     "data": {
      "text/html": [
       "Tracking run with wandb version 0.15.8"
      ],
      "text/plain": [
       "<IPython.core.display.HTML object>"
      ]
     },
     "metadata": {},
     "output_type": "display_data"
    },
    {
     "data": {
      "text/html": [
       "Run data is saved locally in <code>/root/wandb/run-20231004_080317-7ufv5cne</code>"
      ],
      "text/plain": [
       "<IPython.core.display.HTML object>"
      ]
     },
     "metadata": {},
     "output_type": "display_data"
    },
    {
     "data": {
      "text/html": [
       "Syncing run <strong><a href='https://wandb.ai/rsna2023/KLS2.5Dx2-nophase-4fold/runs/7ufv5cne' target=\"_blank\">KLS2.5Dx2-nophase_Effnetv2_4fold</a></strong> to <a href='https://wandb.ai/rsna2023/KLS2.5Dx2-nophase-4fold' target=\"_blank\">Weights & Biases</a> (<a href='https://wandb.me/run' target=\"_blank\">docs</a>)<br/>"
      ],
      "text/plain": [
       "<IPython.core.display.HTML object>"
      ]
     },
     "metadata": {},
     "output_type": "display_data"
    },
    {
     "data": {
      "text/html": [
       " View project at <a href='https://wandb.ai/rsna2023/KLS2.5Dx2-nophase-4fold' target=\"_blank\">https://wandb.ai/rsna2023/KLS2.5Dx2-nophase-4fold</a>"
      ],
      "text/plain": [
       "<IPython.core.display.HTML object>"
      ]
     },
     "metadata": {},
     "output_type": "display_data"
    },
    {
     "data": {
      "text/html": [
       " View run at <a href='https://wandb.ai/rsna2023/KLS2.5Dx2-nophase-4fold/runs/7ufv5cne' target=\"_blank\">https://wandb.ai/rsna2023/KLS2.5Dx2-nophase-4fold/runs/7ufv5cne</a>"
      ],
      "text/plain": [
       "<IPython.core.display.HTML object>"
      ]
     },
     "metadata": {},
     "output_type": "display_data"
    },
    {
     "name": "stderr",
     "output_type": "stream",
     "text": [
      "100%|██████████| 825/825 [23:30<00:00,  1.71s/it]\n",
      "100%|██████████| 275/275 [03:22<00:00,  1.36it/s]\n"
     ]
    },
    {
     "name": "stdout",
     "output_type": "stream",
     "text": [
      "F1 score:  [0.06153846 0.09375    0.2506812  0.         0.13402062 0.19402985]\n",
      "AUC score:  [0.58962276 0.67422595 0.69128844 0.75665116 0.60977564 0.64281213]\n",
      "2023-10-04 08:30:14 Eopch 1, Training Loss 0.6990965938929355, Val Loss 0.710586852051995, Weighted Loss 0.6245343411550824\n"
     ]
    },
    {
     "name": "stderr",
     "output_type": "stream",
     "text": [
      "100%|██████████| 825/825 [23:26<00:00,  1.70s/it]\n",
      "100%|██████████| 275/275 [03:22<00:00,  1.36it/s]\n"
     ]
    },
    {
     "name": "stdout",
     "output_type": "stream",
     "text": [
      "F1 score:  [0.12403101 0.11764706 0.26578073 0.         0.18539326 0.28865979]\n",
      "AUC score:  [0.62722637 0.74056815 0.73959435 0.79981395 0.69014423 0.76496534]\n",
      "2023-10-04 08:57:05 Eopch 2, Training Loss 0.5887359294024381, Val Loss 0.6326062835346569, Weighted Loss 0.5335022198361941\n"
     ]
    },
    {
     "name": "stderr",
     "output_type": "stream",
     "text": [
      "100%|██████████| 825/825 [23:26<00:00,  1.71s/it]\n",
      "100%|██████████| 275/275 [03:31<00:00,  1.30it/s]\n"
     ]
    },
    {
     "name": "stdout",
     "output_type": "stream",
     "text": [
      "F1 score:  [0.10926366 0.12       0.27151052 0.1509434  0.16632017 0.26262626]\n",
      "AUC score:  [0.66144663 0.77477477 0.75485386 0.8427907  0.68796474 0.79541363]\n",
      "2023-10-04 09:24:05 Eopch 3, Training Loss 0.5351786560000795, Val Loss 0.6605800152908672, Weighted Loss 0.5944054473117178\n"
     ]
    },
    {
     "name": "stderr",
     "output_type": "stream",
     "text": [
      "100%|██████████| 825/825 [23:28<00:00,  1.71s/it]\n",
      "100%|██████████| 275/275 [03:34<00:00,  1.28it/s]\n"
     ]
    },
    {
     "name": "stdout",
     "output_type": "stream",
     "text": [
      "F1 score:  [0.12396694 0.19354839 0.26993865 0.28125    0.20532319 0.3826087 ]\n",
      "AUC score:  [0.65944078 0.77539609 0.75473753 0.85555349 0.70482372 0.83711405]\n",
      "2023-10-04 09:51:10 Eopch 4, Training Loss 0.48761062506473424, Val Loss 0.5952232907576994, Weighted Loss 0.510958840450633\n"
     ]
    },
    {
     "name": "stderr",
     "output_type": "stream",
     "text": [
      "100%|██████████| 825/825 [23:28<00:00,  1.71s/it]\n",
      "100%|██████████| 275/275 [03:24<00:00,  1.35it/s]\n"
     ]
    },
    {
     "name": "stdout",
     "output_type": "stream",
     "text": [
      "F1 score:  [0.12280702 0.10434783 0.26835443 0.18421053 0.19653179 0.30681818]\n",
      "AUC score:  [0.66545832 0.73594284 0.73641132 0.84554419 0.69804487 0.84485552]\n",
      "2023-10-04 10:18:04 Eopch 5, Training Loss 0.43194544439966026, Val Loss 0.6176102743907408, Weighted Loss 0.5459884753732874\n"
     ]
    },
    {
     "name": "stderr",
     "output_type": "stream",
     "text": [
      "100%|██████████| 825/825 [23:30<00:00,  1.71s/it]\n",
      "100%|██████████| 275/275 [03:31<00:00,  1.30it/s]\n"
     ]
    },
    {
     "name": "stdout",
     "output_type": "stream",
     "text": [
      "F1 score:  [0.13293051 0.19834711 0.28045977 0.25316456 0.1728972  0.30687831]\n",
      "AUC score:  [0.70900698 0.76490283 0.76851656 0.85748837 0.685      0.86634711]\n",
      "2023-10-04 10:45:07 Eopch 6, Training Loss 0.3900458668759375, Val Loss 0.6256428903070363, Weighted Loss 0.5659652594665959\n"
     ]
    },
    {
     "name": "stderr",
     "output_type": "stream",
     "text": [
      "100%|██████████| 825/825 [23:30<00:00,  1.71s/it]\n",
      "100%|██████████| 275/275 [03:26<00:00,  1.33it/s]\n"
     ]
    },
    {
     "name": "stdout",
     "output_type": "stream",
     "text": [
      "F1 score:  [0.17518248 0.22222222 0.23188406 0.24489796 0.21602787 0.41481481]\n",
      "AUC score:  [0.68186761 0.8131925  0.76983842 0.82909767 0.68294872 0.89562517]\n",
      "2023-10-04 11:12:06 Eopch 7, Training Loss 0.3439701747984597, Val Loss 0.5885968101701953, Weighted Loss 0.4620685963150945\n"
     ]
    },
    {
     "name": "stderr",
     "output_type": "stream",
     "text": [
      "100%|██████████| 825/825 [23:30<00:00,  1.71s/it]\n",
      "100%|██████████| 275/275 [03:31<00:00,  1.30it/s]\n"
     ]
    },
    {
     "name": "stdout",
     "output_type": "stream",
     "text": [
      "F1 score:  [0.10880829 0.20512821 0.29223744 0.23529412 0.19101124 0.39705882]\n",
      "AUC score:  [0.66308997 0.80252666 0.77192166 0.85469767 0.67022436 0.89065172]\n",
      "2023-10-04 11:39:09 Eopch 8, Training Loss 0.2995577045462348, Val Loss 0.6322890168428421, Weighted Loss 0.5676339958422156\n"
     ]
    },
    {
     "name": "stderr",
     "output_type": "stream",
     "text": [
      "100%|██████████| 825/825 [23:29<00:00,  1.71s/it]\n",
      "100%|██████████| 275/275 [03:30<00:00,  1.31it/s]\n"
     ]
    },
    {
     "name": "stdout",
     "output_type": "stream",
     "text": [
      "F1 score:  [0.16460905 0.18644068 0.29295775 0.20618557 0.19318182 0.37333333]\n",
      "AUC score:  [0.70240943 0.76407442 0.75787826 0.8404093  0.6781891  0.88122243]\n",
      "2023-10-04 12:06:11 Eopch 9, Training Loss 0.2649247878022266, Val Loss 0.6296614603427323, Weighted Loss 0.5313290667224118\n"
     ]
    },
    {
     "name": "stderr",
     "output_type": "stream",
     "text": [
      "100%|██████████| 825/825 [23:28<00:00,  1.71s/it]\n",
      "100%|██████████| 275/275 [03:32<00:00,  1.30it/s]\n"
     ]
    },
    {
     "name": "stdout",
     "output_type": "stream",
     "text": [
      "F1 score:  [0.19428571 0.20634921 0.25974026 0.25531915 0.20183486 0.34319527]\n",
      "AUC score:  [0.68749849 0.76479928 0.73745823 0.86634419 0.69830128 0.88196507]\n",
      "2023-10-04 12:33:13 Eopch 10, Training Loss 0.2215394971406821, Val Loss 0.655096462206407, Weighted Loss 0.5378875117850449\n"
     ]
    },
    {
     "name": "stderr",
     "output_type": "stream",
     "text": [
      "100%|██████████| 825/825 [23:30<00:00,  1.71s/it]\n",
      "100%|██████████| 275/275 [03:30<00:00,  1.31it/s]\n"
     ]
    },
    {
     "name": "stdout",
     "output_type": "stream",
     "text": [
      "F1 score:  [0.16923077 0.24324324 0.26480836 0.20689655 0.17431193 0.38888889]\n",
      "AUC score:  [0.6487832  0.77736357 0.72651326 0.84316279 0.67099359 0.87649653]\n",
      "2023-10-04 13:00:16 Eopch 11, Training Loss 0.19577766688258358, Val Loss 0.6729699832201004, Weighted Loss 0.4792422666227153\n"
     ]
    },
    {
     "name": "stderr",
     "output_type": "stream",
     "text": [
      "100%|██████████| 825/825 [23:32<00:00,  1.71s/it]\n",
      "100%|██████████| 275/275 [03:31<00:00,  1.30it/s]\n"
     ]
    },
    {
     "name": "stdout",
     "output_type": "stream",
     "text": [
      "F1 score:  [0.17910448 0.21538462 0.24271845 0.27692308 0.21428571 0.39252336]\n",
      "AUC score:  [0.65902994 0.74622899 0.71735544 0.86530233 0.67123397 0.85921325]\n",
      "2023-10-04 13:27:21 Eopch 12, Training Loss 0.1645331087911671, Val Loss 0.7278805334120989, Weighted Loss 0.46648807831781924\n",
      "Finish training: best_val:0.5885968101701953, best_weighted loss:0.4620685963150945\n"
     ]
    },
    {
     "data": {
      "text/html": [
       "Waiting for W&B process to finish... <strong style=\"color:green\">(success).</strong>"
      ],
      "text/plain": [
       "<IPython.core.display.HTML object>"
      ]
     },
     "metadata": {},
     "output_type": "display_data"
    },
    {
     "data": {
      "text/html": [
       "<style>\n",
       "    table.wandb td:nth-child(1) { padding: 0 10px; text-align: left ; width: auto;} td:nth-child(2) {text-align: left ; width: 100%}\n",
       "    .wandb-row { display: flex; flex-direction: row; flex-wrap: wrap; justify-content: flex-start; width: 100% }\n",
       "    .wandb-col { display: flex; flex-direction: column; flex-basis: 100%; flex: 1; padding: 10px; }\n",
       "    </style>\n",
       "<div class=\"wandb-row\"><div class=\"wandb-col\"><h3>Run history:</h3><br/><table class=\"wandb\"><tr><td>training loss</td><td>█▇▆▅▅▄▃▃▂▂▁▁</td></tr><tr><td>val loss</td><td>▇▃▅▁▂▃▁▃▃▄▅█</td></tr><tr><td>weighted loss</td><td>█▄▇▃▅▅▁▆▄▄▂▁</td></tr></table><br/></div><div class=\"wandb-col\"><h3>Run summary:</h3><br/><table class=\"wandb\"><tr><td>training loss</td><td>0.16453</td></tr><tr><td>val loss</td><td>0.72788</td></tr><tr><td>weighted loss</td><td>0.46649</td></tr></table><br/></div></div>"
      ],
      "text/plain": [
       "<IPython.core.display.HTML object>"
      ]
     },
     "metadata": {},
     "output_type": "display_data"
    },
    {
     "data": {
      "text/html": [
       " View run <strong style=\"color:#cdcd00\">KLS2.5Dx2-nophase_Effnetv2_4fold</strong> at: <a href='https://wandb.ai/rsna2023/KLS2.5Dx2-nophase-4fold/runs/7ufv5cne' target=\"_blank\">https://wandb.ai/rsna2023/KLS2.5Dx2-nophase-4fold/runs/7ufv5cne</a><br/>Synced 5 W&B file(s), 0 media file(s), 0 artifact file(s) and 0 other file(s)"
      ],
      "text/plain": [
       "<IPython.core.display.HTML object>"
      ]
     },
     "metadata": {},
     "output_type": "display_data"
    },
    {
     "data": {
      "text/html": [
       "Find logs at: <code>./wandb/run-20231004_080317-7ufv5cne/logs</code>"
      ],
      "text/plain": [
       "<IPython.core.display.HTML object>"
      ]
     },
     "metadata": {},
     "output_type": "display_data"
    },
    {
     "data": {
      "application/vnd.jupyter.widget-view+json": {
       "model_id": "09737cad4e454e568dfeaf52ddfb0919",
       "version_major": 2,
       "version_minor": 0
      },
      "text/plain": [
       "VBox(children=(Label(value='Waiting for wandb.init()...\\r'), FloatProgress(value=0.016668784680465856, max=1.0…"
      ]
     },
     "metadata": {},
     "output_type": "display_data"
    },
    {
     "data": {
      "text/html": [
       "wandb version 0.15.11 is available!  To upgrade, please run:\n",
       " $ pip install wandb --upgrade"
      ],
      "text/plain": [
       "<IPython.core.display.HTML object>"
      ]
     },
     "metadata": {},
     "output_type": "display_data"
    },
    {
     "data": {
      "text/html": [
       "Tracking run with wandb version 0.15.8"
      ],
      "text/plain": [
       "<IPython.core.display.HTML object>"
      ]
     },
     "metadata": {},
     "output_type": "display_data"
    },
    {
     "data": {
      "text/html": [
       "Run data is saved locally in <code>/root/wandb/run-20231004_132731-ckoyjsid</code>"
      ],
      "text/plain": [
       "<IPython.core.display.HTML object>"
      ]
     },
     "metadata": {},
     "output_type": "display_data"
    },
    {
     "data": {
      "text/html": [
       "Syncing run <strong><a href='https://wandb.ai/rsna2023/KLS2.5Dx2-nophase-4fold/runs/ckoyjsid' target=\"_blank\">KLS2.5Dx2-nophase_Effnetv2_4fold</a></strong> to <a href='https://wandb.ai/rsna2023/KLS2.5Dx2-nophase-4fold' target=\"_blank\">Weights & Biases</a> (<a href='https://wandb.me/run' target=\"_blank\">docs</a>)<br/>"
      ],
      "text/plain": [
       "<IPython.core.display.HTML object>"
      ]
     },
     "metadata": {},
     "output_type": "display_data"
    },
    {
     "data": {
      "text/html": [
       " View project at <a href='https://wandb.ai/rsna2023/KLS2.5Dx2-nophase-4fold' target=\"_blank\">https://wandb.ai/rsna2023/KLS2.5Dx2-nophase-4fold</a>"
      ],
      "text/plain": [
       "<IPython.core.display.HTML object>"
      ]
     },
     "metadata": {},
     "output_type": "display_data"
    },
    {
     "data": {
      "text/html": [
       " View run at <a href='https://wandb.ai/rsna2023/KLS2.5Dx2-nophase-4fold/runs/ckoyjsid' target=\"_blank\">https://wandb.ai/rsna2023/KLS2.5Dx2-nophase-4fold/runs/ckoyjsid</a>"
      ],
      "text/plain": [
       "<IPython.core.display.HTML object>"
      ]
     },
     "metadata": {},
     "output_type": "display_data"
    },
    {
     "name": "stderr",
     "output_type": "stream",
     "text": [
      "100%|██████████| 825/825 [23:30<00:00,  1.71s/it]\n",
      " 79%|███████▉  | 217/275 [02:53<01:02,  1.07s/it]IOPub message rate exceeded.\n",
      "The Jupyter server will temporarily stop sending output\n",
      "to the client in order to avoid crashing it.\n",
      "To change this limit, set the config variable\n",
      "`--ServerApp.iopub_msg_rate_limit`.\n",
      "\n",
      "Current values:\n",
      "ServerApp.iopub_msg_rate_limit=1000.0 (msgs/sec)\n",
      "ServerApp.rate_limit_window=3.0 (secs)\n",
      "\n",
      "100%|██████████| 825/825 [23:26<00:00,  1.71s/it]\n",
      "100%|██████████| 275/275 [03:18<00:00,  1.38it/s]\n"
     ]
    },
    {
     "name": "stdout",
     "output_type": "stream",
     "text": [
      "F1 score:  [0.23834197 0.23333333 0.31549296 0.25       0.22594142 0.42384106]\n",
      "AUC score:  [0.8238428  0.84633038 0.76290376 0.87858458 0.69013977 0.8670415 ]\n",
      "2023-10-04 16:36:21 Eopch 7, Training Loss 0.3678479951078242, Val Loss 0.5402472373030403, Weighted Loss 0.4780455630618948\n"
     ]
    },
    {
     "name": "stderr",
     "output_type": "stream",
     "text": [
      "100%|██████████| 825/825 [23:27<00:00,  1.71s/it]\n",
      "100%|██████████| 275/275 [03:30<00:00,  1.31it/s]\n"
     ]
    },
    {
     "name": "stdout",
     "output_type": "stream",
     "text": [
      "F1 score:  [0.20731707 0.22222222 0.3042394  0.23529412 0.24573379 0.44594595]\n",
      "AUC score:  [0.80999108 0.85250894 0.74994702 0.8520784  0.70236508 0.8793498 ]\n",
      "2023-10-04 17:03:20 Eopch 8, Training Loss 0.31134742896665224, Val Loss 0.5585354118320075, Weighted Loss 0.4978696536498193\n"
     ]
    },
    {
     "name": "stderr",
     "output_type": "stream",
     "text": [
      "100%|██████████| 825/825 [23:27<00:00,  1.71s/it]\n",
      "100%|██████████| 275/275 [03:25<00:00,  1.34it/s]\n"
     ]
    },
    {
     "name": "stdout",
     "output_type": "stream",
     "text": [
      "F1 score:  [0.21505376 0.26315789 0.28882834 0.23376623 0.21404682 0.41428571]\n",
      "AUC score:  [0.8145505  0.87055916 0.74668766 0.92166535 0.70696068 0.86320304]\n",
      "2023-10-04 17:30:14 Eopch 9, Training Loss 0.28226625377481634, Val Loss 0.5535002233223482, Weighted Loss 0.48610762346639386\n"
     ]
    },
    {
     "name": "stderr",
     "output_type": "stream",
     "text": [
      " 18%|█▊        | 152/825 [04:28<18:43,  1.67s/it]IOPub message rate exceeded.\n",
      "The Jupyter server will temporarily stop sending output\n",
      "to the client in order to avoid crashing it.\n",
      "To change this limit, set the config variable\n",
      "`--ServerApp.iopub_msg_rate_limit`.\n",
      "\n",
      "Current values:\n",
      "ServerApp.iopub_msg_rate_limit=1000.0 (msgs/sec)\n",
      "ServerApp.rate_limit_window=3.0 (secs)\n",
      "\n",
      "100%|██████████| 825/825 [23:30<00:00,  1.71s/it]\n",
      "100%|██████████| 275/275 [03:31<00:00,  1.30it/s]\n"
     ]
    },
    {
     "name": "stdout",
     "output_type": "stream",
     "text": [
      "F1 score:  [0.12060302 0.12903226 0.24608501 0.15384615 0.22429907 0.33333333]\n",
      "AUC score:  [0.74426642 0.76066715 0.75726027 0.89424327 0.74428246 0.85846829]\n",
      "2023-10-04 21:06:00 Eopch 5, Training Loss 0.49310236437754196, Val Loss 0.5829471138390627, Weighted Loss 0.5214706214240067\n"
     ]
    },
    {
     "name": "stderr",
     "output_type": "stream",
     "text": [
      "100%|██████████| 825/825 [23:27<00:00,  1.71s/it]\n",
      "100%|██████████| 275/275 [03:30<00:00,  1.30it/s]\n"
     ]
    },
    {
     "name": "stdout",
     "output_type": "stream",
     "text": [
      "F1 score:  [0.14814815 0.16666667 0.24561404 0.13953488 0.19123506 0.41791045]\n",
      "AUC score:  [0.76882396 0.75860254 0.74020874 0.88012999 0.74759081 0.87516869]\n",
      "2023-10-04 21:33:01 Eopch 6, Training Loss 0.44810426432978023, Val Loss 0.5516063197092577, Weighted Loss 0.47012716699883794\n"
     ]
    },
    {
     "name": "stderr",
     "output_type": "stream",
     "text": [
      "100%|██████████| 275/275 [03:24<00:00,  1.35it/s]\n"
     ]
    },
    {
     "name": "stdout",
     "output_type": "stream",
     "text": [
      "F1 score:  [0.13483146 0.15517241 0.25507246 0.20833333 0.21774194 0.43209877]\n",
      "AUC score:  [0.74397843 0.77467412 0.7569863  0.8641597  0.74551794 0.90182186]\n",
      "2023-10-04 21:59:56 Eopch 7, Training Loss 0.38824111674771167, Val Loss 0.5482682138545947, Weighted Loss 0.4795232641377206\n"
     ]
    },
    {
     "name": "stderr",
     "output_type": "stream",
     "text": [
      "100%|██████████| 825/825 [23:30<00:00,  1.71s/it]\n",
      "100%|██████████| 275/275 [03:29<00:00,  1.31it/s]\n"
     ]
    },
    {
     "name": "stdout",
     "output_type": "stream",
     "text": [
      "F1 score:  [0.06       0.20408163 0.25       0.17857143 0.23931624 0.47863248]\n",
      "AUC score:  [0.75442455 0.75831916 0.74131768 0.84545032 0.73010186 0.89964575]\n",
      "2023-10-04 22:26:57 Eopch 8, Training Loss 0.3517447210983797, Val Loss 0.5594747824966908, Weighted Loss 0.4538200726892968\n"
     ]
    },
    {
     "name": "stderr",
     "output_type": "stream",
     "text": [
      "100%|██████████| 825/825 [23:29<00:00,  1.71s/it]\n",
      "100%|██████████| 275/275 [03:31<00:00,  1.30it/s]\n"
     ]
    },
    {
     "name": "stdout",
     "output_type": "stream",
     "text": [
      "F1 score:  [0.04651163 0.25       0.24561404 0.20408163 0.1981982  0.51094891]\n",
      "AUC score:  [0.74672741 0.78139422 0.75191129 0.82237697 0.72791917 0.91737517]\n",
      "2023-10-04 22:54:01 Eopch 9, Training Loss 0.3025226848730535, Val Loss 0.556865749176253, Weighted Loss 0.43898134647158477\n"
     ]
    },
    {
     "name": "stderr",
     "output_type": "stream",
     "text": [
      "100%|██████████| 825/825 [23:31<00:00,  1.71s/it]\n",
      "100%|██████████| 275/275 [03:33<00:00,  1.29it/s]\n"
     ]
    },
    {
     "name": "stdout",
     "output_type": "stream",
     "text": [
      "F1 score:  [0.11111111 0.24489796 0.2392638  0.17142857 0.19762846 0.53658537]\n",
      "AUC score:  [0.7445544  0.78657599 0.7456621  0.84730734 0.71014194 0.90873819]\n",
      "2023-10-04 23:21:07 Eopch 10, Training Loss 0.26427097617225215, Val Loss 0.5686047594452446, Weighted Loss 0.44220225701152294\n"
     ]
    },
    {
     "name": "stderr",
     "output_type": "stream",
     "text": [
      "100%|██████████| 825/825 [23:29<00:00,  1.71s/it]\n",
      "100%|██████████| 275/275 [03:33<00:00,  1.29it/s]\n"
     ]
    },
    {
     "name": "stdout",
     "output_type": "stream",
     "text": [
      "F1 score:  [0.12       0.26923077 0.22764228 0.24390244 0.21296296 0.53125   ]\n",
      "AUC score:  [0.75586449 0.77406688 0.74734508 0.83282266 0.70503528 0.91192645]\n",
      "2023-10-04 23:48:12 Eopch 11, Training Loss 0.2219030103245468, Val Loss 0.5730201077461242, Weighted Loss 0.4381416539002072\n"
     ]
    },
    {
     "name": "stderr",
     "output_type": "stream",
     "text": [
      "100%|██████████| 825/825 [23:29<00:00,  1.71s/it]\n",
      "100%|██████████| 275/275 [03:22<00:00,  1.36it/s]\n"
     ]
    },
    {
     "name": "stdout",
     "output_type": "stream",
     "text": [
      "F1 score:  [0.14611872 0.18556701 0.26086957 0.25925926 0.21587302 0.368     ]\n",
      "AUC score:  [0.74300974 0.76864222 0.75328115 0.81318477 0.69402575 0.92950405]\n",
      "2023-10-05 00:15:05 Eopch 12, Training Loss 0.18955247396095232, Val Loss 0.5887762835621834, Weighted Loss 0.5270731996462156\n",
      "Finish training: best_val:0.5482682138545947, best_weighted loss:0.4381416539002072\n"
     ]
    },
    {
     "data": {
      "text/html": [
       "Waiting for W&B process to finish... <strong style=\"color:green\">(success).</strong>"
      ],
      "text/plain": [
       "<IPython.core.display.HTML object>"
      ]
     },
     "metadata": {},
     "output_type": "display_data"
    },
    {
     "data": {
      "text/html": [
       "<style>\n",
       "    table.wandb td:nth-child(1) { padding: 0 10px; text-align: left ; width: auto;} td:nth-child(2) {text-align: left ; width: 100%}\n",
       "    .wandb-row { display: flex; flex-direction: row; flex-wrap: wrap; justify-content: flex-start; width: 100% }\n",
       "    .wandb-col { display: flex; flex-direction: column; flex-basis: 100%; flex: 1; padding: 10px; }\n",
       "    </style>\n",
       "<div class=\"wandb-row\"><div class=\"wandb-col\"><h3>Run history:</h3><br/><table class=\"wandb\"><tr><td>training loss</td><td>█▇▆▆▅▄▄▃▂▂▁▁</td></tr><tr><td>val loss</td><td>█▆▄▃▃▁▁▂▂▂▃▄</td></tr><tr><td>weighted loss</td><td>██▅▆█▄▄▂▁▁▁█</td></tr></table><br/></div><div class=\"wandb-col\"><h3>Run summary:</h3><br/><table class=\"wandb\"><tr><td>training loss</td><td>0.18955</td></tr><tr><td>val loss</td><td>0.58878</td></tr><tr><td>weighted loss</td><td>0.52707</td></tr></table><br/></div></div>"
      ],
      "text/plain": [
       "<IPython.core.display.HTML object>"
      ]
     },
     "metadata": {},
     "output_type": "display_data"
    },
    {
     "data": {
      "text/html": [
       " View run <strong style=\"color:#cdcd00\">KLS2.5Dx2-nophase_Effnetv2_4fold</strong> at: <a href='https://wandb.ai/rsna2023/KLS2.5Dx2-nophase-4fold/runs/373uvgyb' target=\"_blank\">https://wandb.ai/rsna2023/KLS2.5Dx2-nophase-4fold/runs/373uvgyb</a><br/>Synced 5 W&B file(s), 0 media file(s), 0 artifact file(s) and 0 other file(s)"
      ],
      "text/plain": [
       "<IPython.core.display.HTML object>"
      ]
     },
     "metadata": {},
     "output_type": "display_data"
    },
    {
     "data": {
      "text/html": [
       "Find logs at: <code>./wandb/run-20231004_185103-373uvgyb/logs</code>"
      ],
      "text/plain": [
       "<IPython.core.display.HTML object>"
      ]
     },
     "metadata": {},
     "output_type": "display_data"
    }
   ],
   "source": [
    "net = KLSVolNet(backbone=backbone, ch_out = 6).to(device)\n",
    "optimizer = optim.AdamW(net.parameters(), lr=1e-5)\n",
    "TrainClassifer(model=net,trn_dl=train_dl_fold1,val_dl=val_dl_fold1,optimizer=optimizer, \n",
    "               project=project, name=name, suffix='fold1', scheduler=None, n_eopchs=n_eopchs, device=device)\n",
    "\n",
    "net = KLSVolNet(backbone=backbone, ch_out = 6).to(device)\n",
    "optimizer = optim.AdamW(net.parameters(), lr=1e-5)\n",
    "TrainClassifer(model=net,trn_dl=train_dl_fold2,val_dl=val_dl_fold2,optimizer=optimizer, \n",
    "               project=project, name=name, suffix='fold2', scheduler=None, n_eopchs=n_eopchs, device=device)\n",
    "\n",
    "net = KLSVolNet(backbone=backbone, ch_out = 6).to(device)\n",
    "optimizer = optim.AdamW(net.parameters(), lr=1e-5)\n",
    "TrainClassifer(model=net,trn_dl=train_dl_fold3,val_dl=val_dl_fold3,optimizer=optimizer, \n",
    "               project=project, name=name, suffix='fold3', scheduler=None, n_eopchs=n_eopchs, device=device)\n",
    "\n",
    "net = KLSVolNet(backbone=backbone, ch_out = 6).to(device)\n",
    "optimizer = optim.AdamW(net.parameters(), lr=1e-5)\n",
    "TrainClassifer(model=net,trn_dl=train_dl_fold4,val_dl=val_dl_fold4,optimizer=optimizer, \n",
    "               project=project, name=name, suffix='fold4', scheduler=None, n_eopchs=n_eopchs, device=device)"
   ]
  },
  {
   "cell_type": "code",
   "execution_count": 16,
   "id": "d6bea54d-c0bc-4f01-80a2-953649b113a8",
   "metadata": {},
   "outputs": [],
   "source": [
    "# net = KLSVolNet(ch_out = 6, slices = 10).to(device)\n",
    "\n",
    "# optimizer = optim.AdamW(net.parameters(), lr=1e-5)\n",
    "# TrainClassifer(model=net,trn_dl=train_dl,val_dl=val_dl,optimizer=optimizer, \n",
    "#                scheduler=None, n_eopchs=15, device=device)"
   ]
  },
  {
   "cell_type": "code",
   "execution_count": 17,
   "id": "d80efa8c-d2f4-4b23-aaf4-e8cd70587d27",
   "metadata": {},
   "outputs": [],
   "source": [
    "# out -> rescale by threshold -> transform -> average -> post processing\n",
    "# 5/6 = 0.833*4=3.53\n",
    "# 0.2' 0.1 0.2 -> 0.25 0.5\n",
    "# 0.8; 0.8 0.9 -> 0.5 0.75\n",
    "# 0.5; 0.45 0.55 -> 0.375 0.625"
   ]
  }
 ],
 "metadata": {
  "kernelspec": {
   "display_name": "Python 3 (ipykernel)",
   "language": "python",
   "name": "python3"
  },
  "language_info": {
   "codemirror_mode": {
    "name": "ipython",
    "version": 3
   },
   "file_extension": ".py",
   "mimetype": "text/x-python",
   "name": "python",
   "nbconvert_exporter": "python",
   "pygments_lexer": "ipython3",
   "version": "3.8.10"
  }
 },
 "nbformat": 4,
 "nbformat_minor": 5
}
