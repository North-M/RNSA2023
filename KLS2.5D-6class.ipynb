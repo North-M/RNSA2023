{
 "cells": [
  {
   "cell_type": "code",
   "execution_count": 1,
   "id": "290beb39-046d-4947-ba9b-d65ac0af40c3",
   "metadata": {},
   "outputs": [],
   "source": [
    "import numpy as np\n",
    "import pandas as pd\n",
    "import matplotlib.pyplot as plt\n",
    "\n",
    "import os\n",
    "import random\n",
    "import re\n",
    "\n",
    "from tqdm import tqdm\n",
    "import time\n",
    "\n",
    "import pydicom as dicom\n",
    "import nibabel as nib\n",
    "import SimpleITK as sitk\n",
    "import monai\n",
    "\n",
    "import torch\n",
    "import torch.nn as nn\n",
    "import torch.optim as optim\n",
    "\n",
    "from monai.networks.nets import EfficientNetBN\n",
    "from monai.networks.nets import ResNet\n",
    "#from efficientnet_pytorch import EfficientNet\n",
    "import timm\n",
    "\n",
    "import wandb\n"
   ]
  },
  {
   "cell_type": "code",
   "execution_count": 2,
   "id": "498ba35a-469a-4117-b37f-fb6eeaa323a7",
   "metadata": {},
   "outputs": [
    {
     "name": "stdout",
     "output_type": "stream",
     "text": [
      "Finish seeding with seed 344\n",
      "Training on device cuda\n"
     ]
    }
   ],
   "source": [
    "SEED = 344\n",
    "device = torch.device('cuda' if torch.cuda.is_available() else 'cpu')\n",
    "def seed_everything(seed):\n",
    "    random.seed(seed)\n",
    "    os.environ['PYTHONHASHSEED'] = str(seed)\n",
    "    np.random.seed(seed)\n",
    "    torch.manual_seed(seed)\n",
    "    torch.cuda.manual_seed(seed)\n",
    "    torch.backends.cudnn.deterministic = True # Fix the network according to random seed\n",
    "    print('Finish seeding with seed {}'.format(seed))\n",
    "    \n",
    "seed_everything(SEED)\n",
    "print('Training on device {}'.format(device))"
   ]
  },
  {
   "cell_type": "code",
   "execution_count": 3,
   "id": "14f1c59e-d587-48fb-ba83-3ac818874299",
   "metadata": {},
   "outputs": [
    {
     "data": {
      "text/html": [
       "<div>\n",
       "<style scoped>\n",
       "    .dataframe tbody tr th:only-of-type {\n",
       "        vertical-align: middle;\n",
       "    }\n",
       "\n",
       "    .dataframe tbody tr th {\n",
       "        vertical-align: top;\n",
       "    }\n",
       "\n",
       "    .dataframe thead th {\n",
       "        text-align: right;\n",
       "    }\n",
       "</style>\n",
       "<table border=\"1\" class=\"dataframe\">\n",
       "  <thead>\n",
       "    <tr style=\"text-align: right;\">\n",
       "      <th></th>\n",
       "      <th>index</th>\n",
       "      <th>patient_id</th>\n",
       "      <th>series_id</th>\n",
       "      <th>middle_z</th>\n",
       "    </tr>\n",
       "  </thead>\n",
       "  <tbody>\n",
       "    <tr>\n",
       "      <th>0</th>\n",
       "      <td>0</td>\n",
       "      <td>10004</td>\n",
       "      <td>21057</td>\n",
       "      <td>128</td>\n",
       "    </tr>\n",
       "    <tr>\n",
       "      <th>1</th>\n",
       "      <td>1</td>\n",
       "      <td>10004</td>\n",
       "      <td>51033</td>\n",
       "      <td>131</td>\n",
       "    </tr>\n",
       "    <tr>\n",
       "      <th>2</th>\n",
       "      <td>2</td>\n",
       "      <td>10005</td>\n",
       "      <td>18667</td>\n",
       "      <td>120</td>\n",
       "    </tr>\n",
       "    <tr>\n",
       "      <th>3</th>\n",
       "      <td>3</td>\n",
       "      <td>10007</td>\n",
       "      <td>47578</td>\n",
       "      <td>127</td>\n",
       "    </tr>\n",
       "    <tr>\n",
       "      <th>4</th>\n",
       "      <td>4</td>\n",
       "      <td>10026</td>\n",
       "      <td>29700</td>\n",
       "      <td>110</td>\n",
       "    </tr>\n",
       "    <tr>\n",
       "      <th>...</th>\n",
       "      <td>...</td>\n",
       "      <td>...</td>\n",
       "      <td>...</td>\n",
       "      <td>...</td>\n",
       "    </tr>\n",
       "    <tr>\n",
       "      <th>4392</th>\n",
       "      <td>4393</td>\n",
       "      <td>9961</td>\n",
       "      <td>2003</td>\n",
       "      <td>133</td>\n",
       "    </tr>\n",
       "    <tr>\n",
       "      <th>4393</th>\n",
       "      <td>4394</td>\n",
       "      <td>9961</td>\n",
       "      <td>63032</td>\n",
       "      <td>129</td>\n",
       "    </tr>\n",
       "    <tr>\n",
       "      <th>4394</th>\n",
       "      <td>4395</td>\n",
       "      <td>9980</td>\n",
       "      <td>40214</td>\n",
       "      <td>94</td>\n",
       "    </tr>\n",
       "    <tr>\n",
       "      <th>4395</th>\n",
       "      <td>4396</td>\n",
       "      <td>9980</td>\n",
       "      <td>40466</td>\n",
       "      <td>151</td>\n",
       "    </tr>\n",
       "    <tr>\n",
       "      <th>4396</th>\n",
       "      <td>4397</td>\n",
       "      <td>9983</td>\n",
       "      <td>10806</td>\n",
       "      <td>105</td>\n",
       "    </tr>\n",
       "  </tbody>\n",
       "</table>\n",
       "<p>4397 rows × 4 columns</p>\n",
       "</div>"
      ],
      "text/plain": [
       "      index  patient_id  series_id  middle_z\n",
       "0         0       10004      21057       128\n",
       "1         1       10004      51033       131\n",
       "2         2       10005      18667       120\n",
       "3         3       10007      47578       127\n",
       "4         4       10026      29700       110\n",
       "...     ...         ...        ...       ...\n",
       "4392   4393        9961       2003       133\n",
       "4393   4394        9961      63032       129\n",
       "4394   4395        9980      40214        94\n",
       "4395   4396        9980      40466       151\n",
       "4396   4397        9983      10806       105\n",
       "\n",
       "[4397 rows x 4 columns]"
      ]
     },
     "execution_count": 3,
     "metadata": {},
     "output_type": "execute_result"
    }
   ],
   "source": [
    "dicom_tag_columns = [\n",
    "    'Columns',\n",
    "    'ImageOrientationPatient',\n",
    "    'ImagePositionPatient',\n",
    "    'InstanceNumber',\n",
    "    'PatientID',\n",
    "    'PatientPosition',\n",
    "    'PixelSpacing',\n",
    "    'RescaleIntercept',\n",
    "    'RescaleSlope',\n",
    "    'Rows',\n",
    "    'SeriesNumber',\n",
    "    'SliceThickness',\n",
    "    'path',\n",
    "    'WindowCenter',\n",
    "    'WindowWidth'\n",
    "]\n",
    "\n",
    "train_dicom_tags = pd.read_parquet('autodl-tmp/train_dicom_tags.parquet', columns=dicom_tag_columns)\n",
    "test_dicom_tags = pd.read_parquet('autodl-tmp/test_dicom_tags.parquet', columns=dicom_tag_columns)\n",
    "\n",
    "train_series_meta = pd.read_csv('autodl-tmp/train_series_meta.csv')\n",
    "test_series_meta = pd.read_csv('autodl-tmp/test_series_meta.csv')\n",
    "\n",
    "train_csv = pd.read_csv('autodl-tmp/train.csv')\n",
    "\n",
    "mid_z_csv = pd.read_csv('middle_z.csv')\n",
    "complete_series_meta = mid_z_csv[mid_z_csv.middle_z != -1].reset_index()\n",
    "complete_series_meta"
   ]
  },
  {
   "cell_type": "code",
   "execution_count": 4,
   "id": "b18abfaa-5f67-428a-bf3e-91dd6b5f1a60",
   "metadata": {},
   "outputs": [],
   "source": [
    "injury_series_meta = train_series_meta.loc[train_series_meta.patient_id.isin(train_csv.loc[train_csv.any_injury == 1, \"patient_id\"].values)]\n",
    "healthy_series_meta = train_series_meta.loc[train_series_meta.patient_id.isin(train_csv.loc[train_csv.any_injury == 0, \"patient_id\"].values)]"
   ]
  },
  {
   "cell_type": "code",
   "execution_count": 5,
   "id": "b6663e20-d085-4c93-958e-d5c13ba9b53d",
   "metadata": {},
   "outputs": [],
   "source": [
    "def raw_path_gen(patient_id, series_id, train=True):\n",
    "    if(train):\n",
    "        path = 'autodl-tmp/train_images_resample/'\n",
    "    else:\n",
    "        path = 'autodl-tmp/train_images_resample/'\n",
    "    \n",
    "    path += str(patient_id) + '/' + str(series_id)\n",
    "    \n",
    "    return path\n",
    "\n",
    "def create_3D_scans(folder, downsample_rate=1): \n",
    "    filenames = os.listdir(folder)\n",
    "    filenames = [int(filename.split('.')[0]) for filename in filenames]\n",
    "    filenames = sorted(filenames)\n",
    "    filenames = [str(filename) + '.dcm' for filename in filenames]\n",
    "        \n",
    "    volume = []\n",
    "    #for filename in tqdm(filenames[::downsample_rate], position=0): \n",
    "    for filename in filenames[::downsample_rate]: \n",
    "        filepath = os.path.join(folder, filename)\n",
    "        ds = dicom.dcmread(filepath)\n",
    "        image = ds.pixel_array\n",
    "        \n",
    "        if ds.PixelRepresentation == 1:\n",
    "            bit_shift = ds.BitsAllocated - ds.BitsStored\n",
    "            dtype = image.dtype \n",
    "            image = (image << bit_shift).astype(dtype) >>  bit_shift\n",
    "        \n",
    "        # find rescale params\n",
    "        if (\"RescaleIntercept\" in ds) and (\"RescaleSlope\" in ds):\n",
    "            intercept = float(ds.RescaleIntercept)\n",
    "            slope = float(ds.RescaleSlope)\n",
    "    \n",
    "        # find clipping params\n",
    "        center = int(ds.WindowCenter)\n",
    "        width = int(ds.WindowWidth)\n",
    "        low = center - width / 2\n",
    "        high = center + width / 2    \n",
    "        \n",
    "        \n",
    "        image = (image * slope) + intercept\n",
    "        image = np.clip(image, low, high)\n",
    "\n",
    "        image = (image / np.max(image) * 255).astype(np.int16)\n",
    "        image = image[::downsample_rate, ::downsample_rate]\n",
    "        volume.append( image )\n",
    "    \n",
    "    volume = np.stack(volume, axis=0)\n",
    "    return volume\n",
    "\n",
    "def plot_image_with_seg(volume, volume_seg=[], orientation='Coronal', num_subplots=20):\n",
    "    # simply copy\n",
    "    if len(volume_seg) == 0:\n",
    "        plot_mask = 0\n",
    "    else:\n",
    "        plot_mask = 1\n",
    "        \n",
    "    if orientation == 'Coronal':\n",
    "        slices = np.linspace(0, volume.shape[2]-1, num_subplots).astype(np.int16)\n",
    "        volume = volume.transpose([1, 0, 2])\n",
    "        if plot_mask:\n",
    "            volume_seg = volume_seg.transpose([1, 0, 2])\n",
    "        \n",
    "    elif orientation == 'Sagittal':\n",
    "        slices = np.linspace(0, volume.shape[2]-1, num_subplots).astype(np.int16)\n",
    "        volume = volume.transpose([2, 0, 1])\n",
    "        if plot_mask:\n",
    "            volume_seg = volume_seg.transpose([2, 0, 1])\n",
    "\n",
    "    elif orientation == 'Axial':\n",
    "        slices = np.linspace(0, volume.shape[0]-1, num_subplots).astype(np.int16)\n",
    "           \n",
    "    rows = np.max( [np.floor(np.sqrt(num_subplots)).astype(int) - 2, 1])\n",
    "    cols = np.ceil(num_subplots/rows).astype(int)\n",
    "    \n",
    "    fig, ax = plt.subplots(rows, cols, figsize=(cols * 2, rows * 4))\n",
    "    fig.tight_layout(h_pad=0.01, w_pad=0)\n",
    "    \n",
    "    ax = ax.ravel()\n",
    "    for this_ax in ax:\n",
    "        this_ax.axis('off')\n",
    "\n",
    "    for counter, this_slice in enumerate( slices ):\n",
    "        plt.sca(ax[counter])\n",
    "        \n",
    "        image = volume[this_slice, :, :]\n",
    "        plt.imshow(image, cmap='gray')\n",
    "        \n",
    "        if plot_mask:\n",
    "            mask = np.where(volume_seg[this_slice, :, :], volume_seg[this_slice, :, :], np.nan)\n",
    "            plt.imshow(mask, cmap='Set1', alpha=0.5)\n",
    "            \n",
    "def load_nii(patient_id, series_id, root='autodl-tmp/train_images_resample/'):\n",
    "    path = root + str(patient_id) + '/' + str(series_id) + '.nii.gz'\n",
    "    img = sitk.ReadImage(path)\n",
    "    img = sitk.GetArrayFromImage(img)\n",
    "    \n",
    "    # img = nib.load(path)\n",
    "    # img = img.get_fdata().transpose(2, 1, 0)\n",
    "    \n",
    "    return img"
   ]
  },
  {
   "cell_type": "code",
   "execution_count": 6,
   "id": "96459b79-cc54-4a03-8af9-f8c7af479be8",
   "metadata": {},
   "outputs": [],
   "source": [
    "from torch.utils.data import Dataset\n",
    "from torch.utils.data import DataLoader\n",
    "\n",
    "ds = 2\n",
    "\n",
    "midz_pd = pd.read_csv('middle_z.csv')\n",
    "\n",
    "class CTDataset(Dataset):\n",
    "    def __init__(self, root='autodl-tmp/train_images_resample/', augmentation=False, meta=train_series_meta, device='cpu'):\n",
    "        self.device = device\n",
    "        self.series_meta = meta\n",
    "        self.root = root\n",
    "        self.t = monai.transforms.Compose([monai.transforms.RandZoom(prob=0.5, min_zoom=0.9, max_zoom=1.1),\n",
    "                                           monai.transforms.RandRotate(range_x=3.14 / 24, prob=0.5),\n",
    "                                           monai.transforms.SpatialPad(spatial_size=(320//ds, 280//ds, 280//ds), mode=\"edge\"),\n",
    "                                           monai.transforms.RandSpatialCrop(roi_size=(320//ds, 256//ds, 256//ds), random_size=False),\n",
    "                                           monai.transforms.NormalizeIntensity(divisor = 400)\n",
    "                                ])\n",
    "        self.t_val = monai.transforms.Compose([monai.transforms.NormalizeIntensity(divisor = 400)])\n",
    "        \n",
    "        self.aug = augmentation\n",
    "        \n",
    "    def __len__(self):\n",
    "        #return 1100\n",
    "        return len(self.series_meta)\n",
    "    \n",
    "    def __getitem__(self, idx):\n",
    "\n",
    "        patient_id, series_id = self.series_meta.loc[idx, [\"patient_id\", \"series_id\"]].astype('int')\n",
    "        middle_z = midz_pd.loc[midz_pd.series_id == series_id, \"middle_z\"].values[0] // ds\n",
    "        \n",
    "        img_a = load_nii(patient_id, series_id, self.root).astype('float32')\n",
    "        #img_t = torch.from_numpy(img_a).unsqueeze(0)\n",
    "        #img_t = torch.from_numpy(img_a[::2, ::2, ::2]).unsqueeze(0)\n",
    "        if(self.aug):\n",
    "            img_t = self.t(np.expand_dims(img_a[::ds, ::ds, ::ds], 0))\n",
    "        else:\n",
    "            #img_t = torch.from_numpy(img_a[::ds, ::ds, ::ds]).unsqueeze(0)\n",
    "            img_t = self.t_val(np.expand_dims(img_a[::ds, ::ds, ::ds], 0))\n",
    "        label_columns = [\n",
    "            'kidney_low',\n",
    "            'kidney_high',\n",
    "            'liver_low',\n",
    "            'liver_high',\n",
    "            'spleen_low',\n",
    "            'spleen_high',\n",
    "            #'any_injury'\n",
    "        ]\n",
    "        label_a = train_csv.loc[train_csv.patient_id == patient_id, label_columns].values[0].astype('float32')\n",
    "        label_t = torch.from_numpy(label_a)\n",
    "        label_midz = torch.tensor(middle_z.astype('int'))\n",
    "        \n",
    "        return img_t, label_t, label_midz"
   ]
  },
  {
   "cell_type": "code",
   "execution_count": 7,
   "id": "97b82cb5-e383-44d5-9124-db85d860f34e",
   "metadata": {},
   "outputs": [],
   "source": [
    "# train_meta = complete_series_meta[-3200:].reset_index()\n",
    "# val_meta = complete_series_meta[0:-3200].reset_index()\n",
    "\n",
    "# # train_meta = injury_series_meta[-800:].reset_index()\n",
    "# # val_meta = injury_series_meta[0:-800].reset_index()\n",
    "\n",
    "# train_ds = CTDataset(meta = train_meta, augmentation=True)\n",
    "# train_dl = DataLoader(train_ds, batch_size=4, shuffle=True, num_workers=8)\n",
    "\n",
    "# val_ds = CTDataset(meta = val_meta, augmentation=False)\n",
    "# val_dl = DataLoader(val_ds, batch_size=4, shuffle=False, num_workers=8)"
   ]
  },
  {
   "cell_type": "code",
   "execution_count": 8,
   "id": "21cf9e78-703f-4084-afdf-a4dbead38f37",
   "metadata": {},
   "outputs": [],
   "source": [
    "# class EffNet(nn.Module):\n",
    "#     def __init__(self, ch_out=9):\n",
    "#         super(EffNet, self).__init__()\n",
    "#         #self.conv_in = nn.Conv3d(1, 3, kernel_size=5, padding=2, stride=2)\n",
    "#         self.net = EfficientNetBN(\"efficientnet-b0\", pretrained=False, progress=False, spatial_dims=3, in_channels=1, num_classes=ch_out,)\n",
    "#     def forward(self, x):\n",
    "#         #x = self.conv_in(x)\n",
    "#         #return torch.sigmoid(self.net(x))\n",
    "#         return self.net(x)\n",
    "\n",
    "class KLSVolNet(nn.Module):\n",
    "    def __init__(self, backbone = \"tf_efficientnetv2_s.in21k_ft_in1k\", \n",
    "                 ch_in = 3, ch_out = 9, slices = 15, dropout = 0.0, pretrained=True):\n",
    "        super(KLSVolNet, self).__init__()\n",
    "        self.slices = slices\n",
    "        \n",
    "        self.encoder = timm.create_model(\n",
    "            backbone,\n",
    "            in_chans=ch_in,\n",
    "            num_classes=ch_out,\n",
    "            features_only=False,\n",
    "            drop_rate=0.0,\n",
    "            drop_path_rate=0.0,\n",
    "            pretrained=False,\n",
    "        )\n",
    "        \n",
    "        if 'efficient' in backbone and pretrained:\n",
    "            self.encoder.load_state_dict(torch.load('pretrained/tf_efficientnetv2_s.in21k_ft_in1k_6class.pt'))\n",
    "        elif 'convnext' in backbone and pretrained:\n",
    "            self.encoder.load_state_dict(torch.load('pretrained/convnextv2_nano.fcmae_ft_in22k_in1k_384_6class.pt'))\n",
    "        \n",
    "        if 'efficient' in backbone:\n",
    "            hdim = self.encoder.conv_head.out_channels\n",
    "            self.encoder.classifier = nn.Identity()\n",
    "        elif 'convnext' in backbone:\n",
    "            hdim = self.encoder.head.fc.in_features\n",
    "            self.encoder.head.fc = nn.Identity()\n",
    "        \n",
    "        self.lstm = nn.LSTM(hdim, 256, num_layers=2, dropout=0.0, bidirectional=True, batch_first=True)\n",
    "        \n",
    "        self.head = nn.Sequential(\n",
    "            nn.Linear(512, 256),\n",
    "            nn.BatchNorm1d(256),\n",
    "            nn.Dropout(dropout),\n",
    "            nn.LeakyReLU(0.1),\n",
    "            nn.Linear(256, ch_out),\n",
    "        )\n",
    "        \n",
    "        self.head2 = nn.Conv1d(slices, 1, 1)\n",
    "        \n",
    "        \n",
    "    def slicer(self, img, mid_z, slices):\n",
    "        img_kls = []\n",
    "        for i in range(0, len(mid_z)):\n",
    "            z = mid_z[i]\n",
    "            if z < 30:\n",
    "                z = 30\n",
    "            elif img.shape[-3] - z < 30:\n",
    "                z = img.shape[-3] - 31\n",
    "                \n",
    "            slice_kls = img[i, :, z-30:z+30, :, :]\n",
    "            img_kls.append(slice_kls)\n",
    "            # plot_image_with_seg(slice_kls[0].numpy(), orientation='Axial', num_subplots=7)\n",
    "        img = torch.cat(img_kls, 0)\n",
    "        img = img.unsqueeze(1)\n",
    "        #print(img.shape)\n",
    "        z_length = img.shape[-3]\n",
    "        z_slices = (np.linspace(0, z_length, slices + 2)).astype('int')\n",
    "        z_slices = z_slices[1:-1]\n",
    "        #print(z_slices)\n",
    "        slices_list = []\n",
    "        for z in z_slices:\n",
    "            slices_list.append(img[:, :, z-1:z+2, :, :])\n",
    "        img_slice = torch.cat(slices_list, 1)\n",
    "        return img_slice\n",
    "        \n",
    "    def forward(self, x, mid_z):  # (bs, nslice, ch, sz, sz)\n",
    "        x = self.slicer(x, mid_z, self.slices)\n",
    "        bs, nslice,ch, sz1, sz2 = x.shape\n",
    "        x = x.view(bs*nslice, ch, sz1, sz2)\n",
    "        \n",
    "        feature_2d = self.encoder(x)\n",
    "        feature_2d = feature_2d.view(bs, nslice, -1)\n",
    "        \n",
    "        feature_lstm, _ = self.lstm(feature_2d)\n",
    "        feature_lstm = feature_lstm.contiguous().view(bs * nslice, -1)\n",
    "        \n",
    "        preds = self.head(feature_lstm)\n",
    "        preds = preds.view(bs, nslice, -1).contiguous()\n",
    "        preds = self.head2(preds)\n",
    "        \n",
    "        return preds.squeeze(1)\n",
    "        \n",
    "        \n",
    "        # bs = x.shape[0]\n",
    "        # x = x.view(bs * n_slice_per_c, in_chans, image_size, image_size)\n",
    "        # feat = self.encoder(x)\n",
    "        # feat = feat.view(bs, n_slice_per_c, -1)\n",
    "        # feat, _ = self.lstm(feat)\n",
    "        # feat = feat.contiguous().view(bs * n_slice_per_c, -1)\n",
    "        # feat = self.head(feat)\n",
    "        # feat = feat.view(bs, n_slice_per_c).contiguous()\n",
    "        "
   ]
  },
  {
   "cell_type": "code",
   "execution_count": 9,
   "id": "b2396566-5acc-4bda-a87f-d2cb569dcfe7",
   "metadata": {},
   "outputs": [],
   "source": [
    "# imgs, labels, midz = next(iter(train_dl))\n",
    "# net = KLSVolNet(ch_out = 9)\n",
    "# img_s = net(imgs, midz)\n",
    "# img_s.shape"
   ]
  },
  {
   "cell_type": "code",
   "execution_count": 10,
   "id": "956083df-be19-4f19-909e-aadf9ff94280",
   "metadata": {},
   "outputs": [],
   "source": [
    "import sklearn.metrics\n",
    "\n",
    "def transform_9class(label_in):\n",
    "    label_out = [1 - label_in[0],\n",
    "                   label_in[0],\n",
    "                    1- label_in[1],\n",
    "                   label_in[1],\n",
    "                   (1 - label_in[2]) * (1 - label_in[3]),\n",
    "                   label_in[2],\n",
    "                   label_in[3],\n",
    "                   (1 - label_in[4]) * (1 - label_in[5]),\n",
    "                    label_in[4],\n",
    "                   label_in[5],\n",
    "                   (1 - label_in[6]) * (1 - label_in[7]),\n",
    "                   label_in[6],\n",
    "                   label_in[7]]\n",
    "    return label_out\n",
    "\n",
    "def transform_13class(label_in):\n",
    "    label_out = label_in\n",
    "    return label_out.tolist()\n",
    "\n",
    "def transform_kls9class(label_in):\n",
    "    label_out = [1, 1, 1, 1]\n",
    "    label_out.extend(label_in.tolist())\n",
    "    return label_out\n",
    "\n",
    "def transform_kls6class(label_in):\n",
    "    label_kls = label_in\n",
    "    label_in = [0.5, 0.5]\n",
    "    label_in.extend(label_kls.tolist())\n",
    "    label_out = [1, 1, 1, 1,\n",
    "                   (1 - label_in[2]) * (1 - label_in[3]),\n",
    "                   label_in[2],\n",
    "                   label_in[3],\n",
    "                   (1 - label_in[4]) * (1 - label_in[5]),\n",
    "                    label_in[4],\n",
    "                   label_in[5],\n",
    "                   (1 - label_in[6]) * (1 - label_in[7]),\n",
    "                   label_in[6],\n",
    "                   label_in[7]]\n",
    "    return label_out\n",
    "\n",
    "\n",
    "def loss_metrics(metrics, transform):\n",
    "    preds = [transform(x) for x in metrics[\"predict\"]]\n",
    "    targets = [transform(x) for x in metrics[\"label\"]]\n",
    "    targets_any_injury = metrics[\"label\"][:, -1]\n",
    "    \n",
    "    loss_list = []\n",
    "    \n",
    "    print(\"F1 score: \", sklearn.metrics.f1_score(metrics[\"label\"], np.around(metrics[\"predict\"]), average=None, zero_division=0.0))\n",
    "    print(\"AUC score: \", sklearn.metrics.roc_auc_score(metrics[\"label\"], metrics[\"predict\"], average=None))\n",
    "    \n",
    "    for i in range(0, len(preds)):\n",
    "        predict = preds[i]\n",
    "        target = targets[i]\n",
    "        \n",
    "        label_pred = np.zeros(14)\n",
    "        label_pred[0] = predict[0] / (predict[0] + predict[1])\n",
    "        label_pred[1] = predict[1] / (predict[0] + predict[1])\n",
    "        label_pred[2] = predict[2] / (predict[2] + predict[3])\n",
    "        label_pred[3] = predict[3] / (predict[2] + predict[3])\n",
    "        label_pred[4] = predict[4] / (predict[4] + predict[5] + predict[6])\n",
    "        label_pred[5] = predict[5] / (predict[4] + predict[5] + predict[6])\n",
    "        label_pred[6] = predict[6] / (predict[4] + predict[5] + predict[6])\n",
    "        label_pred[7] = predict[7] / (predict[7] + predict[8] + predict[9])\n",
    "        label_pred[8] = predict[8] / (predict[7] + predict[8] + predict[9])\n",
    "        label_pred[9] = predict[9] / (predict[7] + predict[8] + predict[9])\n",
    "        label_pred[10] = predict[10] / (predict[10] + predict[11] + predict[12])\n",
    "        label_pred[11] = predict[11] / (predict[10] + predict[11] + predict[12])\n",
    "        label_pred[12] = predict[12] / (predict[10] + predict[11] + predict[12])\n",
    "        label_pred[13] = max([1 - label_pred[x] for x in [0, 2, 4, 7, 10]])\n",
    "        \n",
    "        targets_any_injury = max([1 - target[x] for x in [0, 2, 4, 7, 10]])\n",
    "        \n",
    "        target.append(targets_any_injury)\n",
    "        label_target = np.array(target)\n",
    "        \n",
    "        weight = np.array([1, 2, 1, 6, 1, 2, 4, 1, 2, 4, 1, 2, 4, 6])\n",
    "        \n",
    "        loss_list.append(sklearn.metrics.log_loss(\n",
    "            y_true=label_target,\n",
    "            y_pred=label_pred,\n",
    "            sample_weight=weight))\n",
    "    #print(\"Weighted Loss: \" + np.mean(loss_list))\n",
    "    \n",
    "    return np.mean(loss_list)\n",
    "        \n",
    "    \n",
    "    \n",
    "    #print(np.array(preds).shape)\n",
    "    "
   ]
  },
  {
   "cell_type": "code",
   "execution_count": 11,
   "id": "d8c980ba-6bb7-46e4-9094-ad597a0c8fda",
   "metadata": {},
   "outputs": [],
   "source": [
    "import copy\n",
    "\n",
    "def TrainClassifer(model,trn_dl,val_dl,optimizer, project, name, suffix, scheduler=None,\n",
    "                   n_eopchs=20, device='cpu'):\n",
    " \n",
    "    #loss_fn = nn.BCELoss(weight=torch.Tensor([1, 6, 1, 6, 1, 4, 8, 1, 4, 8, 1, 4, 8]).to(device))\n",
    "    #loss_fn = nn.BCELoss()\n",
    "    loss_fn = nn.BCEWithLogitsLoss(pos_weight=torch.Tensor([10, 10, 6, 6, 6, 6]).to(device))\n",
    "    model.to(device)\n",
    "    best_model = copy.deepcopy(model)\n",
    "    bestweight_model = copy.deepcopy(model)\n",
    "    best_val = 999.0\n",
    "    best_weightloss = 999.0\n",
    "    metrics = {'predict': [], 'label' : []}\n",
    "    PATH_MODEL = project + '/' + name + '/' + suffix + '.pt'\n",
    "    wandb.init(name=name, \n",
    "               project=project)\n",
    "\n",
    "\n",
    "    for epoch in range(1, n_eopchs + 1):\n",
    "        loss_train = 0.0\n",
    "        model.train()\n",
    "        for imgs, labels, midz in tqdm(trn_dl, position=0):\n",
    "            imgs = imgs.to(device)\n",
    "            labels = labels.to(device)\n",
    "            midz = midz.to(device)\n",
    "\n",
    "            outputs = model(imgs, midz)\n",
    "            #outputs = model(imgs.unsqueeze(1))\n",
    "            loss = loss_fn(outputs, labels)\n",
    "            optimizer.zero_grad()\n",
    "            loss.backward()\n",
    "            optimizer.step()\n",
    "            loss_train += loss.item()\n",
    "        torch.cuda.empty_cache()\n",
    "        \n",
    "        loss_val = 0.0\n",
    "        correct_val = 0.0\n",
    "        model.eval()\n",
    "        \n",
    "        for imgs, labels, midz in tqdm(val_dl):\n",
    "            imgs = imgs.to(device)\n",
    "            labels = labels.to(device)\n",
    "            midz = midz.to(device)\n",
    "            with torch.no_grad():\n",
    "                outputs = model(imgs, midz)\n",
    "                #outputs = model(imgs.unsqueeze(1))\n",
    "                loss = loss_fn(outputs, labels)\n",
    "                loss_val += loss.item()\n",
    "                outputs = torch.sigmoid(outputs)\n",
    "                metrics['predict'].extend((outputs.to('cpu').detach().numpy()).tolist())\n",
    "                metrics['label'].extend((labels.to('cpu').detach().numpy()).tolist())\n",
    "        \n",
    "        metrics['predict'] = np.array(metrics['predict'])\n",
    "        #metrics['predict'] = np.array([[0.5, 0.5, 0.33333, 0.33333, 0.33333, 0.33333, 0.33333, 0.33333, 0.33333]]*len(metrics['label']))\n",
    "        metrics['label'] = np.array(metrics['label'])\n",
    "        weighted_loss = loss_metrics(metrics, transform_kls6class)\n",
    "        metrics = {'predict': [], 'label' : []}\n",
    "        \n",
    "        torch.cuda.empty_cache()\n",
    "        \n",
    "        if (weighted_loss) < best_weightloss:\n",
    "            best_weightloss = weighted_loss\n",
    "            \n",
    "        if loss_val / len(val_dl) < best_val:\n",
    "            best_val = loss_val / len(val_dl)\n",
    "            torch.save(model.state_dict(), 'model_tmp.pt')\n",
    "            best_model.load_state_dict(torch.load('model_tmp.pt'))\n",
    "            \n",
    "            \n",
    "        if scheduler != None:\n",
    "            scheduler.step()\n",
    "\n",
    "        print('{} Eopch {}, Training Loss {}, Val Loss {}, Weighted Loss {}'.format(time.strftime(\"%Y-%m-%d %H:%M:%S\",time.localtime()),\n",
    "                                                                  epoch, loss_train / len(trn_dl), loss_val / len(val_dl),\n",
    "                                                                                     weighted_loss))\n",
    "        \n",
    "        \n",
    "        \n",
    "        wandb.log({'training loss': loss_train / len(trn_dl),\n",
    "                  'val loss': loss_val / len(val_dl),\n",
    "                  'weighted loss': weighted_loss})\n",
    "    torch.save(best_model.state_dict(), PATH_MODEL)\n",
    "    print('Finish training: best_val:{}, best_weighted loss:{}'.format(best_val, best_weightloss))\n",
    "    wandb.finish()"
   ]
  },
  {
   "cell_type": "code",
   "execution_count": 12,
   "id": "4e6bf94a-47e1-45fd-aa7f-f85fc55386f0",
   "metadata": {},
   "outputs": [],
   "source": [
    "import os\n",
    "\n",
    "project = \"KLS2.5D-nophase-4fold\"\n",
    "name = \"KLS2.5D-nophase_Convnetv2_4fold\"\n",
    "# backbone = \"tf_efficientnetv2_s.in21k_ft_in1k\"\n",
    "backbone = 'convnextv2_nano.fcmae_ft_in22k_in1k_384'\n",
    "n_eopchs = 15\n",
    "\n",
    "p = project + '/' + name\n",
    "if not os.path.exists(p):\n",
    "    os.mkdir(p)"
   ]
  },
  {
   "cell_type": "code",
   "execution_count": 13,
   "id": "01a26ef2-9158-4455-9e98-10ce92919d08",
   "metadata": {},
   "outputs": [],
   "source": [
    "# 4397 // 4 = 1099\n",
    "\n",
    "train_df_fold1 = complete_series_meta[1100:].reset_index(drop=True)\n",
    "train_df_fold2 = pd.concat([complete_series_meta[0:1100], complete_series_meta[2200:]], axis=0).reset_index(drop=True)\n",
    "train_df_fold3 = pd.concat([complete_series_meta[0:2200], complete_series_meta[3300:]], axis=0).reset_index(drop=True)\n",
    "train_df_fold4 = complete_series_meta[:3300].reset_index()\n",
    "\n",
    "val_df_fold1 = complete_series_meta[0:1100].reset_index(drop=True)\n",
    "val_df_fold2 = complete_series_meta[1100:2200].reset_index(drop=True)\n",
    "val_df_fold3 = complete_series_meta[2200:3300].reset_index(drop=True)\n",
    "val_df_fold4 = complete_series_meta[3300:].reset_index(drop=True)\n",
    "\n",
    "train_ds_fold1 = CTDataset(meta = train_df_fold1, augmentation=True)\n",
    "train_dl_fold1 = DataLoader(train_ds_fold1, batch_size=4, shuffle=True, num_workers=8)\n",
    "val_ds_fold1 = CTDataset(meta = val_df_fold1, augmentation=False)\n",
    "val_dl_fold1 = DataLoader(val_ds_fold1, batch_size=4, shuffle=False, num_workers=8)\n",
    "\n",
    "train_ds_fold2 = CTDataset(meta = train_df_fold2, augmentation=True)\n",
    "train_dl_fold2 = DataLoader(train_ds_fold2, batch_size=4, shuffle=True, num_workers=8)\n",
    "val_ds_fold2 = CTDataset(meta = val_df_fold2, augmentation=False)\n",
    "val_dl_fold2 = DataLoader(val_ds_fold2, batch_size=4, shuffle=False, num_workers=8)\n",
    "\n",
    "train_ds_fold3 = CTDataset(meta = train_df_fold3, augmentation=True)\n",
    "train_dl_fold3 = DataLoader(train_ds_fold3, batch_size=4, shuffle=True, num_workers=8)\n",
    "val_ds_fold3 = CTDataset(meta = val_df_fold3, augmentation=False)\n",
    "val_dl_fold3 = DataLoader(val_ds_fold3, batch_size=4, shuffle=False, num_workers=8)\n",
    "\n",
    "train_ds_fold4 = CTDataset(meta = train_df_fold4, augmentation=True)\n",
    "train_dl_fold4 = DataLoader(train_ds_fold4, batch_size=4, shuffle=True, num_workers=8)\n",
    "val_ds_fold4 = CTDataset(meta = val_df_fold4, augmentation=False)\n",
    "val_dl_fold4 = DataLoader(val_ds_fold4, batch_size=4, shuffle=False, num_workers=8)"
   ]
  },
  {
   "cell_type": "code",
   "execution_count": 14,
   "id": "c3f48832-1762-4995-a0ee-cb4a174346c0",
   "metadata": {},
   "outputs": [
    {
     "name": "stderr",
     "output_type": "stream",
     "text": [
      "\u001b[34m\u001b[1mwandb\u001b[0m: Currently logged in as: \u001b[33mnorthm\u001b[0m (\u001b[33mrsna2023\u001b[0m). Use \u001b[1m`wandb login --relogin`\u001b[0m to force relogin\n"
     ]
    },
    {
     "data": {
      "application/vnd.jupyter.widget-view+json": {
       "model_id": "9756826432d0457f86e2927707bf10af",
       "version_major": 2,
       "version_minor": 0
      },
      "text/plain": [
       "VBox(children=(Label(value='Waiting for wandb.init()...\\r'), FloatProgress(value=0.016670358770837387, max=1.0…"
      ]
     },
     "metadata": {},
     "output_type": "display_data"
    },
    {
     "data": {
      "text/html": [
       "wandb version 0.15.11 is available!  To upgrade, please run:\n",
       " $ pip install wandb --upgrade"
      ],
      "text/plain": [
       "<IPython.core.display.HTML object>"
      ]
     },
     "metadata": {},
     "output_type": "display_data"
    },
    {
     "data": {
      "text/html": [
       "Tracking run with wandb version 0.15.8"
      ],
      "text/plain": [
       "<IPython.core.display.HTML object>"
      ]
     },
     "metadata": {},
     "output_type": "display_data"
    },
    {
     "data": {
      "text/html": [
       "Run data is saved locally in <code>/root/wandb/run-20230929_195743-6v0uhide</code>"
      ],
      "text/plain": [
       "<IPython.core.display.HTML object>"
      ]
     },
     "metadata": {},
     "output_type": "display_data"
    },
    {
     "data": {
      "text/html": [
       "Syncing run <strong><a href='https://wandb.ai/rsna2023/KLS2.5D-nophase-4fold/runs/6v0uhide' target=\"_blank\">KLS2.5D-nophase_Convnetv2_4fold</a></strong> to <a href='https://wandb.ai/rsna2023/KLS2.5D-nophase-4fold' target=\"_blank\">Weights & Biases</a> (<a href='https://wandb.me/run' target=\"_blank\">docs</a>)<br/>"
      ],
      "text/plain": [
       "<IPython.core.display.HTML object>"
      ]
     },
     "metadata": {},
     "output_type": "display_data"
    },
    {
     "data": {
      "text/html": [
       " View project at <a href='https://wandb.ai/rsna2023/KLS2.5D-nophase-4fold' target=\"_blank\">https://wandb.ai/rsna2023/KLS2.5D-nophase-4fold</a>"
      ],
      "text/plain": [
       "<IPython.core.display.HTML object>"
      ]
     },
     "metadata": {},
     "output_type": "display_data"
    },
    {
     "data": {
      "text/html": [
       " View run at <a href='https://wandb.ai/rsna2023/KLS2.5D-nophase-4fold/runs/6v0uhide' target=\"_blank\">https://wandb.ai/rsna2023/KLS2.5D-nophase-4fold/runs/6v0uhide</a>"
      ],
      "text/plain": [
       "<IPython.core.display.HTML object>"
      ]
     },
     "metadata": {},
     "output_type": "display_data"
    },
    {
     "name": "stderr",
     "output_type": "stream",
     "text": [
      "100%|██████████| 825/825 [08:05<00:00,  1.70it/s]\n",
      "100%|██████████| 275/275 [01:14<00:00,  3.69it/s]\n"
     ]
    },
    {
     "name": "stdout",
     "output_type": "stream",
     "text": [
      "F1 score:  [0.         0.         0.15254237 0.         0.         0.03571429]\n",
      "AUC score:  [0.5226393  0.70425773 0.66069272 0.73321742 0.6303799  0.69161039]\n",
      "2023-09-29 20:07:08 Eopch 1, Training Loss 0.7574615525838101, Val Loss 0.708661732565273, Weighted Loss 0.5362167124606804\n"
     ]
    },
    {
     "name": "stderr",
     "output_type": "stream",
     "text": [
      "100%|██████████| 825/825 [08:04<00:00,  1.70it/s]\n",
      "100%|██████████| 275/275 [01:16<00:00,  3.58it/s]\n"
     ]
    },
    {
     "name": "stdout",
     "output_type": "stream",
     "text": [
      "F1 score:  [0.15172414 0.17391304 0.25641026 0.         0.21538462 0.25373134]\n",
      "AUC score:  [0.67346296 0.8388193  0.70664036 0.75881387 0.71606618 0.79668233]\n",
      "2023-09-29 20:16:31 Eopch 2, Training Loss 0.6374018750407479, Val Loss 0.6629406348141756, Weighted Loss 0.5425911536013621\n"
     ]
    },
    {
     "name": "stderr",
     "output_type": "stream",
     "text": [
      "100%|██████████| 825/825 [08:04<00:00,  1.70it/s]\n",
      "100%|██████████| 275/275 [01:14<00:00,  3.67it/s]\n"
     ]
    },
    {
     "name": "stdout",
     "output_type": "stream",
     "text": [
      "F1 score:  [0.16326531 0.20895522 0.26181818 0.05263158 0.15602837 0.29824561]\n",
      "AUC score:  [0.68523269 0.85957489 0.70536793 0.80685148 0.70482843 0.83903406]\n",
      "2023-09-29 20:25:53 Eopch 3, Training Loss 0.5903166091803348, Val Loss 0.6237343688173728, Weighted Loss 0.48192638214977396\n"
     ]
    },
    {
     "name": "stderr",
     "output_type": "stream",
     "text": [
      " 85%|████████▌ | 703/825 [06:54<01:11,  1.71it/s]IOPub message rate exceeded.\n",
      "The Jupyter server will temporarily stop sending output\n",
      "to the client in order to avoid crashing it.\n",
      "To change this limit, set the config variable\n",
      "`--ServerApp.iopub_msg_rate_limit`.\n",
      "\n",
      "Current values:\n",
      "ServerApp.iopub_msg_rate_limit=1000.0 (msgs/sec)\n",
      "ServerApp.rate_limit_window=3.0 (secs)\n",
      "\n",
      "100%|██████████| 825/825 [08:04<00:00,  1.70it/s]\n",
      "100%|██████████| 275/275 [01:15<00:00,  3.66it/s]\n"
     ]
    },
    {
     "name": "stdout",
     "output_type": "stream",
     "text": [
      "F1 score:  [0.20588235 0.22695035 0.2642487  0.37735849 0.25433526 0.42592593]\n",
      "AUC score:  [0.81598254 0.87463353 0.7070609  0.88789079 0.75242647 0.94267469]\n",
      "2023-09-29 20:54:00 Eopch 6, Training Loss 0.4697844863841028, Val Loss 0.5743232035230507, Weighted Loss 0.5105168936294258\n"
     ]
    },
    {
     "name": "stderr",
     "output_type": "stream",
     "text": [
      "100%|██████████| 825/825 [08:03<00:00,  1.70it/s]\n",
      "100%|██████████| 275/275 [01:17<00:00,  3.54it/s]\n"
     ]
    },
    {
     "name": "stdout",
     "output_type": "stream",
     "text": [
      "F1 score:  [0.10526316 0.25       0.19480519 0.4        0.26086957 0.46153846]\n",
      "AUC score:  [0.74880727 0.85537713 0.7245622  0.89561802 0.76011029 0.93100411]\n",
      "2023-09-29 21:03:23 Eopch 7, Training Loss 0.434714688297474, Val Loss 0.6174408673901449, Weighted Loss 0.41939695055153325\n"
     ]
    },
    {
     "name": "stderr",
     "output_type": "stream",
     "text": [
      "100%|██████████| 825/825 [08:05<00:00,  1.70it/s]\n",
      "100%|██████████| 275/275 [01:15<00:00,  3.65it/s]\n"
     ]
    },
    {
     "name": "stdout",
     "output_type": "stream",
     "text": [
      "F1 score:  [0.13483146 0.31192661 0.24438903 0.43902439 0.23376623 0.51851852]\n",
      "AUC score:  [0.75425331 0.88992537 0.70124871 0.87536624 0.76164216 0.9385276 ]\n",
      "2023-09-29 21:12:45 Eopch 8, Training Loss 0.404581160391822, Val Loss 0.5831583168289878, Weighted Loss 0.45634999576103513\n"
     ]
    },
    {
     "name": "stderr",
     "output_type": "stream",
     "text": [
      "100%|██████████| 825/825 [08:04<00:00,  1.70it/s]\n",
      "100%|██████████| 275/275 [01:16<00:00,  3.61it/s]\n"
     ]
    },
    {
     "name": "stdout",
     "output_type": "stream",
     "text": [
      "F1 score:  [0.10434783 0.20833333 0.27642276 0.45454545 0.2        0.49541284]\n",
      "AUC score:  [0.78346386 0.882496   0.71111542 0.90862552 0.72193627 0.92889386]\n",
      "2023-09-29 21:22:08 Eopch 9, Training Loss 0.37675113692428125, Val Loss 0.5998922205648639, Weighted Loss 0.4172820221866261\n"
     ]
    },
    {
     "name": "stderr",
     "output_type": "stream",
     "text": [
      "100%|██████████| 825/825 [08:05<00:00,  1.70it/s]\n",
      "100%|██████████| 275/275 [01:16<00:00,  3.60it/s]\n"
     ]
    },
    {
     "name": "stdout",
     "output_type": "stream",
     "text": [
      "F1 score:  [0.18181818 0.34782609 0.24107143 0.42253521 0.24561404 0.48618785]\n",
      "AUC score:  [0.74417139 0.90145256 0.68480418 0.92028076 0.68719363 0.91608558]\n",
      "2023-09-29 21:31:31 Eopch 10, Training Loss 0.33455772613937207, Val Loss 0.6098119515722448, Weighted Loss 0.44146722343009426\n"
     ]
    },
    {
     "name": "stderr",
     "output_type": "stream",
     "text": [
      "100%|██████████| 825/825 [08:05<00:00,  1.70it/s]\n",
      "100%|██████████| 275/275 [01:17<00:00,  3.55it/s]\n"
     ]
    },
    {
     "name": "stdout",
     "output_type": "stream",
     "text": [
      "F1 score:  [0.10869565 0.30188679 0.24888889 0.39130435 0.23963134 0.53731343]\n",
      "AUC score:  [0.80074714 0.86124067 0.71554736 0.89858012 0.73324755 0.91683793]\n",
      "2023-09-29 21:40:55 Eopch 11, Training Loss 0.3140420576568806, Val Loss 0.6295687557282773, Weighted Loss 0.4161967740318053\n"
     ]
    },
    {
     "name": "stderr",
     "output_type": "stream",
     "text": [
      "100%|██████████| 825/825 [08:05<00:00,  1.70it/s]\n",
      "100%|██████████| 275/275 [01:15<00:00,  3.66it/s]\n"
     ]
    },
    {
     "name": "stdout",
     "output_type": "stream",
     "text": [
      "F1 score:  [0.16071429 0.20408163 0.28806584 0.4        0.29665072 0.58064516]\n",
      "AUC score:  [0.78672698 0.83835288 0.72702079 0.92594739 0.7575     0.92309527]\n",
      "2023-09-29 21:50:18 Eopch 12, Training Loss 0.2805330384951649, Val Loss 0.632599305910143, Weighted Loss 0.41688145403951676\n"
     ]
    },
    {
     "name": "stderr",
     "output_type": "stream",
     "text": [
      "100%|██████████| 825/825 [08:04<00:00,  1.70it/s]\n",
      "100%|██████████| 275/275 [01:17<00:00,  3.53it/s]\n"
     ]
    },
    {
     "name": "stdout",
     "output_type": "stream",
     "text": [
      "F1 score:  [0.17931034 0.12765957 0.27096774 0.43243243 0.22068966 0.5840708 ]\n",
      "AUC score:  [0.76431272 0.81003465 0.7097783  0.9218262  0.6891299  0.91990238]\n",
      "2023-09-29 21:59:42 Eopch 13, Training Loss 0.2545585169710896, Val Loss 0.66681405342438, Weighted Loss 0.43469193404319456\n"
     ]
    },
    {
     "name": "stderr",
     "output_type": "stream",
     "text": [
      "100%|██████████| 825/825 [08:05<00:00,  1.70it/s]\n",
      "100%|██████████| 275/275 [01:16<00:00,  3.61it/s]\n"
     ]
    },
    {
     "name": "stdout",
     "output_type": "stream",
     "text": [
      "F1 score:  [0.17254902 0.29850746 0.28762542 0.53125    0.28196721 0.49101796]\n",
      "AUC score:  [0.76802592 0.8709355  0.71555814 0.93222576 0.74240196 0.92140708]\n",
      "2023-09-29 22:09:04 Eopch 14, Training Loss 0.22200636685684774, Val Loss 0.6224602904373949, Weighted Loss 0.503049156016522\n"
     ]
    },
    {
     "name": "stderr",
     "output_type": "stream",
     "text": [
      "100%|██████████| 825/825 [08:04<00:00,  1.70it/s]\n",
      "100%|██████████| 275/275 [01:16<00:00,  3.60it/s]\n"
     ]
    },
    {
     "name": "stdout",
     "output_type": "stream",
     "text": [
      "F1 score:  [0.07692308 0.22641509 0.27848101 0.58064516 0.24864865 0.52252252]\n",
      "AUC score:  [0.75036007 0.85897521 0.73910887 0.95096429 0.72441176 0.91834263]\n",
      "2023-09-29 22:18:27 Eopch 15, Training Loss 0.20361978269436143, Val Loss 0.6710920964587819, Weighted Loss 0.41863313077247655\n",
      "Finish training: best_val:0.5743232035230507, best_weighted loss:0.4161967740318053\n"
     ]
    },
    {
     "data": {
      "text/html": [
       "Waiting for W&B process to finish... <strong style=\"color:green\">(success).</strong>"
      ],
      "text/plain": [
       "<IPython.core.display.HTML object>"
      ]
     },
     "metadata": {},
     "output_type": "display_data"
    },
    {
     "data": {
      "text/html": [
       "<style>\n",
       "    table.wandb td:nth-child(1) { padding: 0 10px; text-align: left ; width: auto;} td:nth-child(2) {text-align: left ; width: 100%}\n",
       "    .wandb-row { display: flex; flex-direction: row; flex-wrap: wrap; justify-content: flex-start; width: 100% }\n",
       "    .wandb-col { display: flex; flex-direction: column; flex-basis: 100%; flex: 1; padding: 10px; }\n",
       "    </style>\n",
       "<div class=\"wandb-row\"><div class=\"wandb-col\"><h3>Run history:</h3><br/><table class=\"wandb\"><tr><td>training loss</td><td>█▆▆▆▅▄▄▄▃▃▂▂▂▁▁</td></tr><tr><td>val loss</td><td>█▆▄▄▂▁▃▁▂▃▄▄▆▄▆</td></tr><tr><td>weighted loss</td><td>██▅▆▅▆▁▃▁▂▁▁▂▆▁</td></tr></table><br/></div><div class=\"wandb-col\"><h3>Run summary:</h3><br/><table class=\"wandb\"><tr><td>training loss</td><td>0.20362</td></tr><tr><td>val loss</td><td>0.67109</td></tr><tr><td>weighted loss</td><td>0.41863</td></tr></table><br/></div></div>"
      ],
      "text/plain": [
       "<IPython.core.display.HTML object>"
      ]
     },
     "metadata": {},
     "output_type": "display_data"
    },
    {
     "data": {
      "text/html": [
       " View run <strong style=\"color:#cdcd00\">KLS2.5D-nophase_Convnetv2_4fold</strong> at: <a href='https://wandb.ai/rsna2023/KLS2.5D-nophase-4fold/runs/6v0uhide' target=\"_blank\">https://wandb.ai/rsna2023/KLS2.5D-nophase-4fold/runs/6v0uhide</a><br/>Synced 5 W&B file(s), 0 media file(s), 0 artifact file(s) and 0 other file(s)"
      ],
      "text/plain": [
       "<IPython.core.display.HTML object>"
      ]
     },
     "metadata": {},
     "output_type": "display_data"
    },
    {
     "data": {
      "text/html": [
       "Find logs at: <code>./wandb/run-20230929_195743-6v0uhide/logs</code>"
      ],
      "text/plain": [
       "<IPython.core.display.HTML object>"
      ]
     },
     "metadata": {},
     "output_type": "display_data"
    },
    {
     "data": {
      "application/vnd.jupyter.widget-view+json": {
       "model_id": "68ae9d50842d457f8d4890d5a61803ae",
       "version_major": 2,
       "version_minor": 0
      },
      "text/plain": [
       "VBox(children=(Label(value='Waiting for wandb.init()...\\r'), FloatProgress(value=0.01666869797433416, max=1.0)…"
      ]
     },
     "metadata": {},
     "output_type": "display_data"
    },
    {
     "data": {
      "text/html": [
       "wandb version 0.15.11 is available!  To upgrade, please run:\n",
       " $ pip install wandb --upgrade"
      ],
      "text/plain": [
       "<IPython.core.display.HTML object>"
      ]
     },
     "metadata": {},
     "output_type": "display_data"
    },
    {
     "data": {
      "text/html": [
       "Tracking run with wandb version 0.15.8"
      ],
      "text/plain": [
       "<IPython.core.display.HTML object>"
      ]
     },
     "metadata": {},
     "output_type": "display_data"
    },
    {
     "data": {
      "text/html": [
       "Run data is saved locally in <code>/root/wandb/run-20230929_221836-us3jb4hy</code>"
      ],
      "text/plain": [
       "<IPython.core.display.HTML object>"
      ]
     },
     "metadata": {},
     "output_type": "display_data"
    },
    {
     "data": {
      "text/html": [
       "Syncing run <strong><a href='https://wandb.ai/rsna2023/KLS2.5D-nophase-4fold/runs/us3jb4hy' target=\"_blank\">KLS2.5D-nophase_Convnetv2_4fold</a></strong> to <a href='https://wandb.ai/rsna2023/KLS2.5D-nophase-4fold' target=\"_blank\">Weights & Biases</a> (<a href='https://wandb.me/run' target=\"_blank\">docs</a>)<br/>"
      ],
      "text/plain": [
       "<IPython.core.display.HTML object>"
      ]
     },
     "metadata": {},
     "output_type": "display_data"
    },
    {
     "data": {
      "text/html": [
       " View project at <a href='https://wandb.ai/rsna2023/KLS2.5D-nophase-4fold' target=\"_blank\">https://wandb.ai/rsna2023/KLS2.5D-nophase-4fold</a>"
      ],
      "text/plain": [
       "<IPython.core.display.HTML object>"
      ]
     },
     "metadata": {},
     "output_type": "display_data"
    },
    {
     "data": {
      "text/html": [
       " View run at <a href='https://wandb.ai/rsna2023/KLS2.5D-nophase-4fold/runs/us3jb4hy' target=\"_blank\">https://wandb.ai/rsna2023/KLS2.5D-nophase-4fold/runs/us3jb4hy</a>"
      ],
      "text/plain": [
       "<IPython.core.display.HTML object>"
      ]
     },
     "metadata": {},
     "output_type": "display_data"
    },
    {
     "name": "stderr",
     "output_type": "stream",
     "text": [
      "100%|██████████| 825/825 [08:03<00:00,  1.70it/s]\n",
      "100%|██████████| 275/275 [01:15<00:00,  3.64it/s]\n"
     ]
    },
    {
     "name": "stdout",
     "output_type": "stream",
     "text": [
      "F1 score:  [0.         0.07142857 0.05454545 0.         0.11320755 0.26086957]\n",
      "AUC score:  [0.54805578 0.62583273 0.62922465 0.72543256 0.66592949 0.78362139]\n",
      "2023-09-29 22:28:00 Eopch 1, Training Loss 0.7349752955364458, Val Loss 0.6538545757532119, Weighted Loss 0.518719158599015\n"
     ]
    },
    {
     "name": "stderr",
     "output_type": "stream",
     "text": [
      "100%|██████████| 825/825 [08:04<00:00,  1.70it/s]\n",
      "100%|██████████| 275/275 [01:16<00:00,  3.61it/s]\n"
     ]
    },
    {
     "name": "stdout",
     "output_type": "stream",
     "text": [
      "F1 score:  [0.01769912 0.         0.08333333 0.         0.02739726 0.29090909]\n",
      "AUC score:  [0.50317794 0.7214801  0.71796878 0.7899907  0.70586538 0.81710775]\n",
      "2023-09-29 22:37:23 Eopch 2, Training Loss 0.6362044217189153, Val Loss 0.6327671506188133, Weighted Loss 0.4651934024603698\n"
     ]
    },
    {
     "name": "stderr",
     "output_type": "stream",
     "text": [
      "100%|██████████| 825/825 [08:04<00:00,  1.70it/s]\n",
      "100%|██████████| 275/275 [01:16<00:00,  3.61it/s]\n"
     ]
    },
    {
     "name": "stdout",
     "output_type": "stream",
     "text": [
      "F1 score:  [0.08421053 0.         0.19491525 0.07692308 0.16393443 0.38518519]\n",
      "AUC score:  [0.5375432  0.74219047 0.74475488 0.77581395 0.74483974 0.89283464]\n",
      "2023-09-29 22:46:46 Eopch 3, Training Loss 0.5868717065001979, Val Loss 0.6027593046426774, Weighted Loss 0.46647383997824593\n"
     ]
    },
    {
     "name": "stderr",
     "output_type": "stream",
     "text": [
      "100%|██████████| 825/825 [08:04<00:00,  1.70it/s]\n",
      "100%|██████████| 275/275 [01:18<00:00,  3.52it/s]\n"
     ]
    },
    {
     "name": "stdout",
     "output_type": "stream",
     "text": [
      "F1 score:  [0.08988764 0.14901961 0.29778672 0.20512821 0.19457014 0.36781609]\n",
      "AUC score:  [0.621813   0.87104346 0.78358572 0.83985116 0.75307692 0.92571339]\n",
      "2023-09-29 22:56:09 Eopch 4, Training Loss 0.5350179290049004, Val Loss 0.6261664854396474, Weighted Loss 0.5877506791249406\n"
     ]
    },
    {
     "name": "stderr",
     "output_type": "stream",
     "text": [
      "100%|██████████| 825/825 [08:05<00:00,  1.70it/s]\n",
      "100%|██████████| 275/275 [01:15<00:00,  3.63it/s]\n"
     ]
    },
    {
     "name": "stdout",
     "output_type": "stream",
     "text": [
      "F1 score:  [0.10810811 0.15884477 0.2936803  0.22058824 0.22222222 0.4       ]\n",
      "AUC score:  [0.68078011 0.88861275 0.79307136 0.84026047 0.76472756 0.92458817]\n",
      "2023-09-29 23:05:32 Eopch 5, Training Loss 0.506206210436243, Val Loss 0.5972140447930856, Weighted Loss 0.5559431267500228\n"
     ]
    },
    {
     "name": "stderr",
     "output_type": "stream",
     "text": [
      "100%|██████████| 825/825 [08:04<00:00,  1.70it/s]\n",
      "100%|██████████| 275/275 [01:17<00:00,  3.54it/s]\n"
     ]
    },
    {
     "name": "stdout",
     "output_type": "stream",
     "text": [
      "F1 score:  [0.17142857 0.25301205 0.33862434 0.22222222 0.24107143 0.45544554]\n",
      "AUC score:  [0.56567341 0.86531359 0.79920477 0.84260465 0.77578526 0.9337024 ]\n",
      "2023-09-29 23:14:56 Eopch 6, Training Loss 0.46357786761991904, Val Loss 0.5562587613680146, Weighted Loss 0.4853078397996392\n"
     ]
    },
    {
     "name": "stderr",
     "output_type": "stream",
     "text": [
      "100%|██████████| 825/825 [08:04<00:00,  1.70it/s]\n",
      "100%|██████████| 275/275 [01:15<00:00,  3.62it/s]\n"
     ]
    },
    {
     "name": "stdout",
     "output_type": "stream",
     "text": [
      "F1 score:  [0.11678832 0.24113475 0.33255269 0.2247191  0.22580645 0.4       ]\n",
      "AUC score:  [0.63413809 0.82603293 0.80646969 0.81696744 0.80142628 0.9168242 ]\n",
      "2023-09-29 23:24:18 Eopch 7, Training Loss 0.4152919363523975, Val Loss 0.5933544101227414, Weighted Loss 0.5511208028980144\n"
     ]
    },
    {
     "name": "stderr",
     "output_type": "stream",
     "text": [
      "100%|██████████| 825/825 [08:05<00:00,  1.70it/s]\n",
      "100%|██████████| 275/275 [01:17<00:00,  3.57it/s]\n"
     ]
    },
    {
     "name": "stdout",
     "output_type": "stream",
     "text": [
      "F1 score:  [0.13829787 0.25       0.29739777 0.25531915 0.27428571 0.50980392]\n",
      "AUC score:  [0.6354431  0.82620552 0.80536991 0.83657674 0.77012821 0.94511207]\n",
      "2023-09-29 23:33:43 Eopch 8, Training Loss 0.3884972693974322, Val Loss 0.5546468537639487, Weighted Loss 0.44605628177389955\n"
     ]
    },
    {
     "name": "stderr",
     "output_type": "stream",
     "text": [
      "100%|██████████| 825/825 [08:05<00:00,  1.70it/s]\n",
      "100%|██████████| 275/275 [01:14<00:00,  3.71it/s]\n"
     ]
    },
    {
     "name": "stdout",
     "output_type": "stream",
     "text": [
      "F1 score:  [0.125      0.23529412 0.35962145 0.2962963  0.33142857 0.46728972]\n",
      "AUC score:  [0.57425264 0.77919299 0.79650818 0.86314419 0.79373397 0.93352237]\n",
      "2023-09-29 23:43:04 Eopch 9, Training Loss 0.35567411351384537, Val Loss 0.5824042264439843, Weighted Loss 0.445387682001385\n"
     ]
    },
    {
     "name": "stderr",
     "output_type": "stream",
     "text": [
      "100%|██████████| 825/825 [08:04<00:00,  1.70it/s]\n",
      "100%|██████████| 275/275 [01:15<00:00,  3.66it/s]\n"
     ]
    },
    {
     "name": "stdout",
     "output_type": "stream",
     "text": [
      "F1 score:  [0.12631579 0.27586207 0.34507042 0.29508197 0.19068736 0.31016043]\n",
      "AUC score:  [0.63964813 0.8623451  0.82793664 0.84245581 0.77182692 0.91380862]\n",
      "2023-09-29 23:52:25 Eopch 10, Training Loss 0.3219832699226611, Val Loss 0.6045180676742034, Weighted Loss 0.5091158222144597\n"
     ]
    },
    {
     "name": "stderr",
     "output_type": "stream",
     "text": [
      "100%|██████████| 825/825 [08:05<00:00,  1.70it/s]\n",
      "100%|██████████| 275/275 [01:15<00:00,  3.64it/s]\n"
     ]
    },
    {
     "name": "stdout",
     "output_type": "stream",
     "text": [
      "F1 score:  [0.1627907  0.29032258 0.3539823  0.24657534 0.24050633 0.51851852]\n",
      "AUC score:  [0.63331642 0.75982879 0.80944122 0.86690233 0.76009615 0.91203079]\n",
      "2023-09-30 00:01:47 Eopch 11, Training Loss 0.2918796483133778, Val Loss 0.5973789973556995, Weighted Loss 0.435319582716709\n"
     ]
    },
    {
     "name": "stderr",
     "output_type": "stream",
     "text": [
      "100%|██████████| 825/825 [08:03<00:00,  1.70it/s]\n",
      "100%|██████████| 275/275 [01:14<00:00,  3.70it/s]\n"
     ]
    },
    {
     "name": "stdout",
     "output_type": "stream",
     "text": [
      "F1 score:  [0.1260274  0.24358974 0.26200873 0.33333333 0.26086957 0.44262295]\n",
      "AUC score:  [0.72087291 0.88626558 0.7392348  0.8808186  0.76402244 0.90721487]\n",
      "2023-09-30 00:11:07 Eopch 12, Training Loss 0.2674166386326154, Val Loss 0.6435303708369081, Weighted Loss 0.5275708546065367\n"
     ]
    },
    {
     "name": "stderr",
     "output_type": "stream",
     "text": [
      "100%|██████████| 825/825 [08:05<00:00,  1.70it/s]\n",
      "100%|██████████| 275/275 [01:14<00:00,  3.67it/s]\n"
     ]
    },
    {
     "name": "stdout",
     "output_type": "stream",
     "text": [
      "F1 score:  [0.22580645 0.25       0.26       0.29787234 0.26751592 0.51485149]\n",
      "AUC score:  [0.63667561 0.85440613 0.77697644 0.89506977 0.76282051 0.90363669]\n",
      "2023-09-30 00:20:29 Eopch 13, Training Loss 0.2401195053530462, Val Loss 0.6502380283312365, Weighted Loss 0.4006744959634824\n"
     ]
    },
    {
     "name": "stderr",
     "output_type": "stream",
     "text": [
      "100%|██████████| 825/825 [08:03<00:00,  1.71it/s]\n",
      "100%|██████████| 275/275 [01:11<00:00,  3.83it/s]\n"
     ]
    },
    {
     "name": "stdout",
     "output_type": "stream",
     "text": [
      "F1 score:  [0.18045113 0.29508197 0.29934924 0.30379747 0.275      0.46428571]\n",
      "AUC score:  [0.73416467 0.80749715 0.783131   0.88963721 0.73623397 0.92958412]\n",
      "2023-09-30 00:29:46 Eopch 14, Training Loss 0.21868529527702116, Val Loss 0.6255985621227459, Weighted Loss 0.490302739149411\n"
     ]
    },
    {
     "name": "stderr",
     "output_type": "stream",
     "text": [
      "100%|██████████| 825/825 [08:04<00:00,  1.70it/s]\n",
      "100%|██████████| 275/275 [01:12<00:00,  3.80it/s]\n"
     ]
    },
    {
     "name": "stdout",
     "output_type": "stream",
     "text": [
      "F1 score:  [0.16161616 0.19047619 0.18300654 0.41860465 0.23728814 0.5       ]\n",
      "AUC score:  [0.68788516 0.79938559 0.72665073 0.86195349 0.76357372 0.88083986]\n",
      "2023-09-30 00:39:04 Eopch 15, Training Loss 0.19442060738350406, Val Loss 0.7748107064176689, Weighted Loss 0.4038443932843637\n",
      "Finish training: best_val:0.5546468537639487, best_weighted loss:0.4006744959634824\n"
     ]
    },
    {
     "data": {
      "text/html": [
       "Waiting for W&B process to finish... <strong style=\"color:green\">(success).</strong>"
      ],
      "text/plain": [
       "<IPython.core.display.HTML object>"
      ]
     },
     "metadata": {},
     "output_type": "display_data"
    },
    {
     "data": {
      "text/html": [
       "<style>\n",
       "    table.wandb td:nth-child(1) { padding: 0 10px; text-align: left ; width: auto;} td:nth-child(2) {text-align: left ; width: 100%}\n",
       "    .wandb-row { display: flex; flex-direction: row; flex-wrap: wrap; justify-content: flex-start; width: 100% }\n",
       "    .wandb-col { display: flex; flex-direction: column; flex-basis: 100%; flex: 1; padding: 10px; }\n",
       "    </style>\n",
       "<div class=\"wandb-row\"><div class=\"wandb-col\"><h3>Run history:</h3><br/><table class=\"wandb\"><tr><td>training loss</td><td>█▇▆▅▅▄▄▄▃▃▂▂▂▁▁</td></tr><tr><td>val loss</td><td>▄▃▃▃▂▁▂▁▂▃▂▄▄▃█</td></tr><tr><td>weighted loss</td><td>▅▃▃█▇▄▇▃▃▅▂▆▁▄▁</td></tr></table><br/></div><div class=\"wandb-col\"><h3>Run summary:</h3><br/><table class=\"wandb\"><tr><td>training loss</td><td>0.19442</td></tr><tr><td>val loss</td><td>0.77481</td></tr><tr><td>weighted loss</td><td>0.40384</td></tr></table><br/></div></div>"
      ],
      "text/plain": [
       "<IPython.core.display.HTML object>"
      ]
     },
     "metadata": {},
     "output_type": "display_data"
    },
    {
     "data": {
      "text/html": [
       " View run <strong style=\"color:#cdcd00\">KLS2.5D-nophase_Convnetv2_4fold</strong> at: <a href='https://wandb.ai/rsna2023/KLS2.5D-nophase-4fold/runs/us3jb4hy' target=\"_blank\">https://wandb.ai/rsna2023/KLS2.5D-nophase-4fold/runs/us3jb4hy</a><br/>Synced 5 W&B file(s), 0 media file(s), 0 artifact file(s) and 0 other file(s)"
      ],
      "text/plain": [
       "<IPython.core.display.HTML object>"
      ]
     },
     "metadata": {},
     "output_type": "display_data"
    },
    {
     "data": {
      "text/html": [
       "Find logs at: <code>./wandb/run-20230929_221836-us3jb4hy/logs</code>"
      ],
      "text/plain": [
       "<IPython.core.display.HTML object>"
      ]
     },
     "metadata": {},
     "output_type": "display_data"
    },
    {
     "data": {
      "application/vnd.jupyter.widget-view+json": {
       "model_id": "688eefc50ecf43eab2eedc1d772a721e",
       "version_major": 2,
       "version_minor": 0
      },
      "text/plain": [
       "VBox(children=(Label(value='Waiting for wandb.init()...\\r'), FloatProgress(value=0.016669495217502116, max=1.0…"
      ]
     },
     "metadata": {},
     "output_type": "display_data"
    },
    {
     "data": {
      "text/html": [
       "wandb version 0.15.11 is available!  To upgrade, please run:\n",
       " $ pip install wandb --upgrade"
      ],
      "text/plain": [
       "<IPython.core.display.HTML object>"
      ]
     },
     "metadata": {},
     "output_type": "display_data"
    },
    {
     "data": {
      "text/html": [
       "Tracking run with wandb version 0.15.8"
      ],
      "text/plain": [
       "<IPython.core.display.HTML object>"
      ]
     },
     "metadata": {},
     "output_type": "display_data"
    },
    {
     "data": {
      "text/html": [
       "Run data is saved locally in <code>/root/wandb/run-20230930_003913-13d4p4z3</code>"
      ],
      "text/plain": [
       "<IPython.core.display.HTML object>"
      ]
     },
     "metadata": {},
     "output_type": "display_data"
    },
    {
     "data": {
      "text/html": [
       "Syncing run <strong><a href='https://wandb.ai/rsna2023/KLS2.5D-nophase-4fold/runs/13d4p4z3' target=\"_blank\">KLS2.5D-nophase_Convnetv2_4fold</a></strong> to <a href='https://wandb.ai/rsna2023/KLS2.5D-nophase-4fold' target=\"_blank\">Weights & Biases</a> (<a href='https://wandb.me/run' target=\"_blank\">docs</a>)<br/>"
      ],
      "text/plain": [
       "<IPython.core.display.HTML object>"
      ]
     },
     "metadata": {},
     "output_type": "display_data"
    },
    {
     "data": {
      "text/html": [
       " View project at <a href='https://wandb.ai/rsna2023/KLS2.5D-nophase-4fold' target=\"_blank\">https://wandb.ai/rsna2023/KLS2.5D-nophase-4fold</a>"
      ],
      "text/plain": [
       "<IPython.core.display.HTML object>"
      ]
     },
     "metadata": {},
     "output_type": "display_data"
    },
    {
     "data": {
      "text/html": [
       " View run at <a href='https://wandb.ai/rsna2023/KLS2.5D-nophase-4fold/runs/13d4p4z3' target=\"_blank\">https://wandb.ai/rsna2023/KLS2.5D-nophase-4fold/runs/13d4p4z3</a>"
      ],
      "text/plain": [
       "<IPython.core.display.HTML object>"
      ]
     },
     "metadata": {},
     "output_type": "display_data"
    },
    {
     "name": "stderr",
     "output_type": "stream",
     "text": [
      "100%|██████████| 825/825 [08:04<00:00,  1.70it/s]\n",
      "100%|██████████| 275/275 [01:11<00:00,  3.84it/s]\n"
     ]
    },
    {
     "name": "stdout",
     "output_type": "stream",
     "text": [
      "F1 score:  [0. 0. 0. 0. 0. 0.]\n",
      "AUC score:  [0.69816136 0.71993468 0.7042503  0.78656932 0.67031014 0.68567876]\n",
      "2023-09-30 00:48:33 Eopch 1, Training Loss 0.7258950951605132, Val Loss 0.6402953093160283, Weighted Loss 0.5132769306953905\n"
     ]
    },
    {
     "name": "stderr",
     "output_type": "stream",
     "text": [
      "100%|██████████| 825/825 [08:06<00:00,  1.70it/s]\n",
      "100%|██████████| 275/275 [01:10<00:00,  3.88it/s]\n"
     ]
    },
    {
     "name": "stdout",
     "output_type": "stream",
     "text": [
      "F1 score:  [0.18681319 0.         0.25700165 0.         0.20481928 0.1741573 ]\n",
      "AUC score:  [0.741798   0.69945717 0.7365261  0.88568798 0.70377423 0.70797066]\n",
      "2023-09-30 00:57:52 Eopch 2, Training Loss 0.6400395840225798, Val Loss 0.6645852216807279, Weighted Loss 0.5907749477294777\n"
     ]
    },
    {
     "name": "stderr",
     "output_type": "stream",
     "text": [
      "100%|██████████| 825/825 [08:04<00:00,  1.70it/s]\n",
      "100%|██████████| 275/275 [01:12<00:00,  3.77it/s]\n"
     ]
    },
    {
     "name": "stdout",
     "output_type": "stream",
     "text": [
      "F1 score:  [0.13333333 0.         0.32663317 0.         0.27149321 0.25675676]\n",
      "AUC score:  [0.69952423 0.75426983 0.77030041 0.893186   0.74070407 0.76057379]\n",
      "2023-09-30 01:07:12 Eopch 3, Training Loss 0.5995630806503874, Val Loss 0.5980199398235841, Weighted Loss 0.5064317392710824\n"
     ]
    },
    {
     "name": "stderr",
     "output_type": "stream",
     "text": [
      "100%|██████████| 825/825 [08:03<00:00,  1.70it/s]\n",
      "100%|██████████| 275/275 [01:13<00:00,  3.73it/s]\n"
     ]
    },
    {
     "name": "stdout",
     "output_type": "stream",
     "text": [
      "F1 score:  [0.19607843 0.15686275 0.33540373 0.24489796 0.25592417 0.31351351]\n",
      "AUC score:  [0.79291803 0.77690984 0.77058295 0.9269929  0.73462315 0.82110613]\n",
      "2023-09-30 01:16:31 Eopch 4, Training Loss 0.562494715036768, Val Loss 0.579702058000998, Weighted Loss 0.5104223371350601\n"
     ]
    },
    {
     "name": "stderr",
     "output_type": "stream",
     "text": [
      "100%|██████████| 825/825 [08:04<00:00,  1.70it/s]\n",
      "100%|██████████| 275/275 [01:13<00:00,  3.76it/s]\n"
     ]
    },
    {
     "name": "stdout",
     "output_type": "stream",
     "text": [
      "F1 score:  [0.11428571 0.1025641  0.35151515 0.22222222 0.27488152 0.41509434]\n",
      "AUC score:  [0.77765388 0.82205746 0.79537634 0.86944225 0.72917698 0.83649601]\n",
      "2023-09-30 01:25:51 Eopch 5, Training Loss 0.5223253705194503, Val Loss 0.5492050718719309, Weighted Loss 0.45647206144601055\n"
     ]
    },
    {
     "name": "stderr",
     "output_type": "stream",
     "text": [
      "100%|██████████| 825/825 [08:03<00:00,  1.71it/s]\n",
      "100%|██████████| 275/275 [01:12<00:00,  3.78it/s]\n"
     ]
    },
    {
     "name": "stdout",
     "output_type": "stream",
     "text": [
      "F1 score:  [0.1910828  0.11764706 0.30331754 0.38095238 0.25806452 0.43809524]\n",
      "AUC score:  [0.79326494 0.82082175 0.78635506 0.92482242 0.72110294 0.85554414]\n",
      "2023-09-30 01:35:09 Eopch 6, Training Loss 0.47297540500308527, Val Loss 0.549397935135798, Weighted Loss 0.4388948348838764\n"
     ]
    },
    {
     "name": "stderr",
     "output_type": "stream",
     "text": [
      "100%|██████████| 825/825 [08:03<00:00,  1.70it/s]\n",
      "100%|██████████| 275/275 [01:13<00:00,  3.74it/s]\n"
     ]
    },
    {
     "name": "stdout",
     "output_type": "stream",
     "text": [
      "F1 score:  [0.15873016 0.16107383 0.33532934 0.26666667 0.31147541 0.43312102]\n",
      "AUC score:  [0.77326792 0.84602145 0.78793933 0.95317022 0.74494421 0.87596187]\n",
      "2023-09-30 01:44:27 Eopch 7, Training Loss 0.44679485450188317, Val Loss 0.5567869399081576, Weighted Loss 0.49154943248628447\n"
     ]
    },
    {
     "name": "stderr",
     "output_type": "stream",
     "text": [
      "100%|██████████| 825/825 [08:04<00:00,  1.70it/s]\n",
      "100%|██████████| 275/275 [01:08<00:00,  4.02it/s]\n"
     ]
    },
    {
     "name": "stdout",
     "output_type": "stream",
     "text": [
      "F1 score:  [0.15789474 0.17094017 0.31128405 0.4375     0.29390681 0.39053254]\n",
      "AUC score:  [0.77589454 0.86574871 0.77628432 0.91140489 0.75483363 0.89428916]\n",
      "2023-09-30 01:53:42 Eopch 8, Training Loss 0.408575021507162, Val Loss 0.5357848775928671, Weighted Loss 0.4653986660383943\n"
     ]
    },
    {
     "name": "stderr",
     "output_type": "stream",
     "text": [
      "100%|██████████| 825/825 [08:06<00:00,  1.70it/s]\n",
      "100%|██████████| 275/275 [01:09<00:00,  3.96it/s]\n"
     ]
    },
    {
     "name": "stdout",
     "output_type": "stream",
     "text": [
      "F1 score:  [0.19565217 0.1589404  0.33232628 0.41025641 0.25842697 0.49056604]\n",
      "AUC score:  [0.815393   0.8607176  0.78115824 0.90778742 0.6893019  0.86933016]\n",
      "2023-09-30 02:02:59 Eopch 9, Training Loss 0.3745463257621635, Val Loss 0.5529317820884965, Weighted Loss 0.4789627686261759\n"
     ]
    },
    {
     "name": "stderr",
     "output_type": "stream",
     "text": [
      "100%|██████████| 825/825 [08:04<00:00,  1.70it/s]\n",
      "100%|██████████| 275/275 [01:10<00:00,  3.91it/s]\n"
     ]
    },
    {
     "name": "stdout",
     "output_type": "stream",
     "text": [
      "F1 score:  [0.12307692 0.25641026 0.2320442  0.51851852 0.28571429 0.46153846]\n",
      "AUC score:  [0.76573496 0.8391809  0.75359994 0.89325178 0.70419317 0.88223315]\n",
      "2023-09-30 02:12:15 Eopch 10, Training Loss 0.33993825433832225, Val Loss 0.6436405275186354, Weighted Loss 0.3956068263404758\n"
     ]
    },
    {
     "name": "stderr",
     "output_type": "stream",
     "text": [
      "100%|██████████| 825/825 [08:06<00:00,  1.70it/s]\n",
      "100%|██████████| 275/275 [01:12<00:00,  3.79it/s]\n"
     ]
    },
    {
     "name": "stdout",
     "output_type": "stream",
     "text": [
      "F1 score:  [0.16140351 0.16042781 0.30179028 0.26865672 0.27941176 0.42553191]\n",
      "AUC score:  [0.7758202  0.87757624 0.76338813 0.94350171 0.7092077  0.88607162]\n",
      "2023-09-30 02:21:36 Eopch 11, Training Loss 0.3153988939704317, Val Loss 0.58684114146639, Weighted Loss 0.5142211639908703\n"
     ]
    },
    {
     "name": "stderr",
     "output_type": "stream",
     "text": [
      "100%|██████████| 825/825 [08:02<00:00,  1.71it/s]\n",
      "100%|██████████| 275/275 [01:13<00:00,  3.74it/s]\n"
     ]
    },
    {
     "name": "stdout",
     "output_type": "stream",
     "text": [
      "F1 score:  [0.21276596 0.30555556 0.33333333 0.39130435 0.34008097 0.46031746]\n",
      "AUC score:  [0.79096045 0.8779293  0.77995742 0.94790845 0.6985058  0.88830621]\n",
      "2023-09-30 02:30:53 Eopch 12, Training Loss 0.29148404120044275, Val Loss 0.5736507501182231, Weighted Loss 0.42700372646799656\n"
     ]
    },
    {
     "name": "stderr",
     "output_type": "stream",
     "text": [
      "100%|██████████| 825/825 [08:03<00:00,  1.70it/s]\n",
      "100%|██████████| 275/275 [01:13<00:00,  3.76it/s]\n"
     ]
    },
    {
     "name": "stdout",
     "output_type": "stream",
     "text": [
      "F1 score:  [0.17272727 0.18181818 0.28158845 0.46153846 0.19858156 0.44262295]\n",
      "AUC score:  [0.77034394 0.82845668 0.70661662 0.93554328 0.68556956 0.87942189]\n",
      "2023-09-30 02:40:12 Eopch 13, Training Loss 0.263743013556708, Val Loss 0.6260416863113641, Weighted Loss 0.4496258286752523\n"
     ]
    },
    {
     "name": "stderr",
     "output_type": "stream",
     "text": [
      "100%|██████████| 825/825 [08:03<00:00,  1.71it/s]\n",
      "100%|██████████| 275/275 [01:13<00:00,  3.76it/s]\n"
     ]
    },
    {
     "name": "stdout",
     "output_type": "stream",
     "text": [
      "F1 score:  [0.18978102 0.18543046 0.27586207 0.37037037 0.19387755 0.42038217]\n",
      "AUC score:  [0.78895332 0.87845889 0.75842339 0.94113391 0.67458836 0.89320791]\n",
      "2023-09-30 02:49:29 Eopch 14, Training Loss 0.2313587293706157, Val Loss 0.6198287376490507, Weighted Loss 0.5483506907184632\n"
     ]
    },
    {
     "name": "stderr",
     "output_type": "stream",
     "text": [
      "100%|██████████| 825/825 [08:03<00:00,  1.71it/s]\n",
      "100%|██████████| 275/275 [01:13<00:00,  3.74it/s]\n"
     ]
    },
    {
     "name": "stdout",
     "output_type": "stream",
     "text": [
      "F1 score:  [0.16       0.36363636 0.33670034 0.41176471 0.30046948 0.46315789]\n",
      "AUC score:  [0.7076519  0.89116907 0.74667756 0.9454091  0.69637303 0.86868141]\n",
      "2023-09-30 02:58:48 Eopch 15, Training Loss 0.22659827168918018, Val Loss 0.6624655889110131, Weighted Loss 0.4229283940224837\n",
      "Finish training: best_val:0.5357848775928671, best_weighted loss:0.3956068263404758\n"
     ]
    },
    {
     "data": {
      "text/html": [
       "Waiting for W&B process to finish... <strong style=\"color:green\">(success).</strong>"
      ],
      "text/plain": [
       "<IPython.core.display.HTML object>"
      ]
     },
     "metadata": {},
     "output_type": "display_data"
    },
    {
     "data": {
      "text/html": [
       "<style>\n",
       "    table.wandb td:nth-child(1) { padding: 0 10px; text-align: left ; width: auto;} td:nth-child(2) {text-align: left ; width: 100%}\n",
       "    .wandb-row { display: flex; flex-direction: row; flex-wrap: wrap; justify-content: flex-start; width: 100% }\n",
       "    .wandb-col { display: flex; flex-direction: column; flex-basis: 100%; flex: 1; padding: 10px; }\n",
       "    </style>\n",
       "<div class=\"wandb-row\"><div class=\"wandb-col\"><h3>Run history:</h3><br/><table class=\"wandb\"><tr><td>training loss</td><td>█▇▆▆▅▄▄▄▃▃▂▂▂▁▁</td></tr><tr><td>val loss</td><td>▇█▄▃▂▂▂▁▂▇▄▃▆▆█</td></tr><tr><td>weighted loss</td><td>▅█▅▅▃▃▄▄▄▁▅▂▃▆▂</td></tr></table><br/></div><div class=\"wandb-col\"><h3>Run summary:</h3><br/><table class=\"wandb\"><tr><td>training loss</td><td>0.2266</td></tr><tr><td>val loss</td><td>0.66247</td></tr><tr><td>weighted loss</td><td>0.42293</td></tr></table><br/></div></div>"
      ],
      "text/plain": [
       "<IPython.core.display.HTML object>"
      ]
     },
     "metadata": {},
     "output_type": "display_data"
    },
    {
     "data": {
      "text/html": [
       " View run <strong style=\"color:#cdcd00\">KLS2.5D-nophase_Convnetv2_4fold</strong> at: <a href='https://wandb.ai/rsna2023/KLS2.5D-nophase-4fold/runs/13d4p4z3' target=\"_blank\">https://wandb.ai/rsna2023/KLS2.5D-nophase-4fold/runs/13d4p4z3</a><br/>Synced 5 W&B file(s), 0 media file(s), 0 artifact file(s) and 0 other file(s)"
      ],
      "text/plain": [
       "<IPython.core.display.HTML object>"
      ]
     },
     "metadata": {},
     "output_type": "display_data"
    },
    {
     "data": {
      "text/html": [
       "Find logs at: <code>./wandb/run-20230930_003913-13d4p4z3/logs</code>"
      ],
      "text/plain": [
       "<IPython.core.display.HTML object>"
      ]
     },
     "metadata": {},
     "output_type": "display_data"
    },
    {
     "data": {
      "application/vnd.jupyter.widget-view+json": {
       "model_id": "7f3a341d817e489bb5a14dc6de79cf19",
       "version_major": 2,
       "version_minor": 0
      },
      "text/plain": [
       "VBox(children=(Label(value='Waiting for wandb.init()...\\r'), FloatProgress(value=0.016669074228654306, max=1.0…"
      ]
     },
     "metadata": {},
     "output_type": "display_data"
    },
    {
     "data": {
      "text/html": [
       "wandb version 0.15.11 is available!  To upgrade, please run:\n",
       " $ pip install wandb --upgrade"
      ],
      "text/plain": [
       "<IPython.core.display.HTML object>"
      ]
     },
     "metadata": {},
     "output_type": "display_data"
    },
    {
     "data": {
      "text/html": [
       "Tracking run with wandb version 0.15.8"
      ],
      "text/plain": [
       "<IPython.core.display.HTML object>"
      ]
     },
     "metadata": {},
     "output_type": "display_data"
    },
    {
     "data": {
      "text/html": [
       "Run data is saved locally in <code>/root/wandb/run-20230930_025857-zn2541hv</code>"
      ],
      "text/plain": [
       "<IPython.core.display.HTML object>"
      ]
     },
     "metadata": {},
     "output_type": "display_data"
    },
    {
     "data": {
      "text/html": [
       "Syncing run <strong><a href='https://wandb.ai/rsna2023/KLS2.5D-nophase-4fold/runs/zn2541hv' target=\"_blank\">KLS2.5D-nophase_Convnetv2_4fold</a></strong> to <a href='https://wandb.ai/rsna2023/KLS2.5D-nophase-4fold' target=\"_blank\">Weights & Biases</a> (<a href='https://wandb.me/run' target=\"_blank\">docs</a>)<br/>"
      ],
      "text/plain": [
       "<IPython.core.display.HTML object>"
      ]
     },
     "metadata": {},
     "output_type": "display_data"
    },
    {
     "data": {
      "text/html": [
       " View project at <a href='https://wandb.ai/rsna2023/KLS2.5D-nophase-4fold' target=\"_blank\">https://wandb.ai/rsna2023/KLS2.5D-nophase-4fold</a>"
      ],
      "text/plain": [
       "<IPython.core.display.HTML object>"
      ]
     },
     "metadata": {},
     "output_type": "display_data"
    },
    {
     "data": {
      "text/html": [
       " View run at <a href='https://wandb.ai/rsna2023/KLS2.5D-nophase-4fold/runs/zn2541hv' target=\"_blank\">https://wandb.ai/rsna2023/KLS2.5D-nophase-4fold/runs/zn2541hv</a>"
      ],
      "text/plain": [
       "<IPython.core.display.HTML object>"
      ]
     },
     "metadata": {},
     "output_type": "display_data"
    },
    {
     "name": "stderr",
     "output_type": "stream",
     "text": [
      "100%|██████████| 825/825 [08:05<00:00,  1.70it/s]\n",
      "100%|██████████| 275/275 [01:12<00:00,  3.81it/s]\n"
     ]
    },
    {
     "name": "stdout",
     "output_type": "stream",
     "text": [
      "F1 score:  [0.         0.11428571 0.1369863  0.         0.05825243 0.2962963 ]\n",
      "AUC score:  [0.74950257 0.66739535 0.72023483 0.78597957 0.6273783  0.85202429]\n",
      "2023-09-30 03:08:18 Eopch 1, Training Loss 0.6979454428860635, Val Loss 0.6000928685881874, Weighted Loss 0.46611972710028204\n"
     ]
    },
    {
     "name": "stderr",
     "output_type": "stream",
     "text": [
      "100%|██████████| 825/825 [08:05<00:00,  1.70it/s]\n",
      "100%|██████████| 275/275 [01:12<00:00,  3.79it/s]\n"
     ]
    },
    {
     "name": "stdout",
     "output_type": "stream",
     "text": [
      "F1 score:  [0.10958904 0.06666667 0.20638821 0.0952381  0.19298246 0.35820896]\n",
      "AUC score:  [0.76471358 0.65132378 0.70131768 0.83319406 0.74041128 0.88341768]\n",
      "2023-09-30 03:17:38 Eopch 2, Training Loss 0.6263051145185123, Val Loss 0.6094908268343319, Weighted Loss 0.5439023707160392\n"
     ]
    },
    {
     "name": "stderr",
     "output_type": "stream",
     "text": [
      "100%|██████████| 825/825 [08:04<00:00,  1.70it/s]\n",
      "100%|██████████| 275/275 [01:11<00:00,  3.83it/s]\n"
     ]
    },
    {
     "name": "stdout",
     "output_type": "stream",
     "text": [
      "F1 score:  [0.15483871 0.07207207 0.24161074 0.125      0.25       0.3923445 ]\n",
      "AUC score:  [0.79374804 0.67986398 0.73562948 0.84517177 0.74112511 0.91420378]\n",
      "2023-09-30 03:26:56 Eopch 3, Training Loss 0.5726339549006838, Val Loss 0.5699879437955943, Weighted Loss 0.505891842672009\n"
     ]
    },
    {
     "name": "stderr",
     "output_type": "stream",
     "text": [
      "100%|██████████| 825/825 [08:05<00:00,  1.70it/s]\n",
      "100%|██████████| 275/275 [01:12<00:00,  3.77it/s]\n"
     ]
    },
    {
     "name": "stdout",
     "output_type": "stream",
     "text": [
      "F1 score:  [0.10731707 0.05063291 0.23974763 0.12903226 0.19487179 0.49032258]\n",
      "AUC score:  [0.81605404 0.7480366  0.76223092 0.85389972 0.75363095 0.92648448]\n",
      "2023-09-30 03:36:16 Eopch 4, Training Loss 0.5343227300860665, Val Loss 0.5307538561116565, Weighted Loss 0.4662870926656339\n"
     ]
    },
    {
     "name": "stderr",
     "output_type": "stream",
     "text": [
      "100%|██████████| 825/825 [08:04<00:00,  1.70it/s]\n",
      "100%|██████████| 275/275 [01:11<00:00,  3.82it/s]\n"
     ]
    },
    {
     "name": "stdout",
     "output_type": "stream",
     "text": [
      "F1 score:  [0.14159292 0.11538462 0.23232323 0.4        0.3125     0.47777778]\n",
      "AUC score:  [0.82568855 0.70986155 0.73094586 0.91833798 0.76691925 0.92144062]\n",
      "2023-09-30 03:45:33 Eopch 5, Training Loss 0.4918259290131656, Val Loss 0.5339877840876579, Weighted Loss 0.449944609852169\n"
     ]
    },
    {
     "name": "stderr",
     "output_type": "stream",
     "text": [
      "100%|██████████| 825/825 [08:04<00:00,  1.70it/s]\n",
      "100%|██████████| 275/275 [01:11<00:00,  3.86it/s]\n"
     ]
    },
    {
     "name": "stdout",
     "output_type": "stream",
     "text": [
      "F1 score:  [0.18348624 0.15686275 0.24444444 0.30136986 0.22343324 0.36101083]\n",
      "AUC score:  [0.84165881 0.79665614 0.73976517 0.91494893 0.7215633  0.94671053]\n",
      "2023-09-30 03:54:50 Eopch 6, Training Loss 0.4484166550997532, Val Loss 0.551258987527002, Weighted Loss 0.5320061327240984\n"
     ]
    },
    {
     "name": "stderr",
     "output_type": "stream",
     "text": [
      "100%|██████████| 825/825 [08:04<00:00,  1.70it/s]\n",
      "100%|██████████| 275/275 [01:11<00:00,  3.84it/s]\n"
     ]
    },
    {
     "name": "stdout",
     "output_type": "stream",
     "text": [
      "F1 score:  [0.21656051 0.12       0.25720621 0.26229508 0.22340426 0.56198347]\n",
      "AUC score:  [0.85885957 0.79519877 0.76348337 0.96128134 0.73228455 0.93756748]\n",
      "2023-09-30 04:04:07 Eopch 7, Training Loss 0.4109858841155515, Val Loss 0.5552649477462877, Weighted Loss 0.49207510520459385\n"
     ]
    },
    {
     "name": "stderr",
     "output_type": "stream",
     "text": [
      "100%|██████████| 825/825 [08:04<00:00,  1.70it/s]\n",
      "100%|██████████| 275/275 [01:13<00:00,  3.75it/s]\n"
     ]
    },
    {
     "name": "stdout",
     "output_type": "stream",
     "text": [
      "F1 score:  [0.1416309  0.11464968 0.28037383 0.20869565 0.23021583 0.39484979]\n",
      "AUC score:  [0.85469683 0.75738807 0.77288976 0.9178273  0.74343135 0.9359143 ]\n",
      "2023-09-30 04:13:26 Eopch 8, Training Loss 0.37090868589552967, Val Loss 0.5834488008239053, Weighted Loss 0.5444880725379974\n"
     ]
    },
    {
     "name": "stderr",
     "output_type": "stream",
     "text": [
      "100%|██████████| 825/825 [08:04<00:00,  1.70it/s]\n",
      "100%|██████████| 275/275 [01:12<00:00,  3.78it/s]\n"
     ]
    },
    {
     "name": "stdout",
     "output_type": "stream",
     "text": [
      "F1 score:  [0.1981982  0.21621622 0.26315789 0.375      0.27317073 0.50505051]\n",
      "AUC score:  [0.84503613 0.7934985  0.75830398 0.92409471 0.73552426 0.88181511]\n",
      "2023-09-30 04:22:44 Eopch 9, Training Loss 0.3319530414360942, Val Loss 0.5744430601732298, Weighted Loss 0.41866974873598783\n"
     ]
    },
    {
     "name": "stderr",
     "output_type": "stream",
     "text": [
      "100%|██████████| 825/825 [08:04<00:00,  1.70it/s]\n",
      "100%|██████████| 275/275 [01:13<00:00,  3.74it/s]\n"
     ]
    },
    {
     "name": "stdout",
     "output_type": "stream",
     "text": [
      "F1 score:  [0.12307692 0.2020202  0.2748538  0.27722772 0.27027027 0.54716981]\n",
      "AUC score:  [0.80738821 0.83232127 0.77054142 0.94842154 0.73821486 0.88112348]\n",
      "2023-09-30 04:32:04 Eopch 10, Training Loss 0.2897789208184589, Val Loss 0.5982973328706893, Weighted Loss 0.46183637323092847\n"
     ]
    },
    {
     "name": "stderr",
     "output_type": "stream",
     "text": [
      "100%|██████████| 825/825 [08:05<00:00,  1.70it/s]\n",
      "100%|██████████| 275/275 [01:14<00:00,  3.69it/s]\n"
     ]
    },
    {
     "name": "stdout",
     "output_type": "stream",
     "text": [
      "F1 score:  [0.22033898 0.22222222 0.25913621 0.36       0.27312775 0.54545455]\n",
      "AUC score:  [0.84265368 0.8222816  0.72547945 0.90589601 0.74801636 0.91145412]\n",
      "2023-09-30 04:41:25 Eopch 11, Training Loss 0.26895650520920755, Val Loss 0.5795612798495726, Weighted Loss 0.4466049896276603\n"
     ]
    },
    {
     "name": "stderr",
     "output_type": "stream",
     "text": [
      "100%|██████████| 825/825 [08:06<00:00,  1.70it/s]\n",
      "100%|██████████| 275/275 [01:14<00:00,  3.72it/s]\n"
     ]
    },
    {
     "name": "stdout",
     "output_type": "stream",
     "text": [
      "F1 score:  [0.27586207 0.23529412 0.25333333 0.30769231 0.27173913 0.59459459]\n",
      "AUC score:  [0.83097707 0.78155615 0.75128506 0.93036212 0.71011449 0.92859312]\n",
      "2023-09-30 04:50:47 Eopch 12, Training Loss 0.2398789991980249, Val Loss 0.6586927727677605, Weighted Loss 0.4075327834844012\n"
     ]
    },
    {
     "name": "stderr",
     "output_type": "stream",
     "text": [
      "100%|██████████| 825/825 [08:04<00:00,  1.70it/s]\n",
      "100%|██████████| 275/275 [01:09<00:00,  3.93it/s]\n"
     ]
    },
    {
     "name": "stdout",
     "output_type": "stream",
     "text": [
      "F1 score:  [0.12698413 0.20512821 0.22222222 0.34782609 0.22040816 0.58267717]\n",
      "AUC score:  [0.78374699 0.82292932 0.70083496 0.88454039 0.71895506 0.90946356]\n",
      "2023-09-30 05:00:03 Eopch 13, Training Loss 0.21016007222009428, Val Loss 0.711703642945398, Weighted Loss 0.42608043799934414\n"
     ]
    },
    {
     "name": "stderr",
     "output_type": "stream",
     "text": [
      "100%|██████████| 825/825 [08:03<00:00,  1.70it/s]\n",
      "100%|██████████| 275/275 [01:12<00:00,  3.79it/s]\n"
     ]
    },
    {
     "name": "stdout",
     "output_type": "stream",
     "text": [
      "F1 score:  [0.17647059 0.21428571 0.27509294 0.40909091 0.26470588 0.59813084]\n",
      "AUC score:  [0.82655252 0.84677354 0.73146771 0.93426184 0.72518738 0.87645074]\n",
      "2023-09-30 05:09:20 Eopch 14, Training Loss 0.1932284695406755, Val Loss 0.6598901142179966, Weighted Loss 0.4276874313846148\n"
     ]
    },
    {
     "name": "stderr",
     "output_type": "stream",
     "text": [
      "100%|██████████| 825/825 [08:03<00:00,  1.71it/s]\n",
      "100%|██████████| 275/275 [01:13<00:00,  3.72it/s]\n"
     ]
    },
    {
     "name": "stdout",
     "output_type": "stream",
     "text": [
      "F1 score:  [0.11538462 0.19047619 0.2991453  0.25       0.25941423 0.56756757]\n",
      "AUC score:  [0.77264635 0.84997166 0.75335943 0.87929434 0.72816627 0.88102227]\n",
      "2023-09-30 05:18:39 Eopch 15, Training Loss 0.16322265721631773, Val Loss 0.6645377515899864, Weighted Loss 0.44908336320365716\n",
      "Finish training: best_val:0.5307538561116565, best_weighted loss:0.4075327834844012\n"
     ]
    },
    {
     "data": {
      "text/html": [
       "Waiting for W&B process to finish... <strong style=\"color:green\">(success).</strong>"
      ],
      "text/plain": [
       "<IPython.core.display.HTML object>"
      ]
     },
     "metadata": {},
     "output_type": "display_data"
    },
    {
     "data": {
      "text/html": [
       "<style>\n",
       "    table.wandb td:nth-child(1) { padding: 0 10px; text-align: left ; width: auto;} td:nth-child(2) {text-align: left ; width: 100%}\n",
       "    .wandb-row { display: flex; flex-direction: row; flex-wrap: wrap; justify-content: flex-start; width: 100% }\n",
       "    .wandb-col { display: flex; flex-direction: column; flex-basis: 100%; flex: 1; padding: 10px; }\n",
       "    </style>\n",
       "<div class=\"wandb-row\"><div class=\"wandb-col\"><h3>Run history:</h3><br/><table class=\"wandb\"><tr><td>training loss</td><td>█▇▆▆▅▅▄▄▃▃▂▂▂▁▁</td></tr><tr><td>val loss</td><td>▄▄▃▁▁▂▂▃▃▄▃▆█▆▆</td></tr><tr><td>weighted loss</td><td>▄█▆▄▃▇▅█▂▄▃▁▂▂▃</td></tr></table><br/></div><div class=\"wandb-col\"><h3>Run summary:</h3><br/><table class=\"wandb\"><tr><td>training loss</td><td>0.16322</td></tr><tr><td>val loss</td><td>0.66454</td></tr><tr><td>weighted loss</td><td>0.44908</td></tr></table><br/></div></div>"
      ],
      "text/plain": [
       "<IPython.core.display.HTML object>"
      ]
     },
     "metadata": {},
     "output_type": "display_data"
    },
    {
     "data": {
      "text/html": [
       " View run <strong style=\"color:#cdcd00\">KLS2.5D-nophase_Convnetv2_4fold</strong> at: <a href='https://wandb.ai/rsna2023/KLS2.5D-nophase-4fold/runs/zn2541hv' target=\"_blank\">https://wandb.ai/rsna2023/KLS2.5D-nophase-4fold/runs/zn2541hv</a><br/>Synced 5 W&B file(s), 0 media file(s), 0 artifact file(s) and 0 other file(s)"
      ],
      "text/plain": [
       "<IPython.core.display.HTML object>"
      ]
     },
     "metadata": {},
     "output_type": "display_data"
    },
    {
     "data": {
      "text/html": [
       "Find logs at: <code>./wandb/run-20230930_025857-zn2541hv/logs</code>"
      ],
      "text/plain": [
       "<IPython.core.display.HTML object>"
      ]
     },
     "metadata": {},
     "output_type": "display_data"
    }
   ],
   "source": [
    "net = KLSVolNet(backbone=backbone, ch_out = 6).to(device)\n",
    "optimizer = optim.AdamW(net.parameters(), lr=1e-5)\n",
    "TrainClassifer(model=net,trn_dl=train_dl_fold1,val_dl=val_dl_fold1,optimizer=optimizer, \n",
    "               project=project, name=name, suffix='fold1', scheduler=None, n_eopchs=n_eopchs, device=device)\n",
    "\n",
    "net = KLSVolNet(backbone=backbone, ch_out = 6).to(device)\n",
    "optimizer = optim.AdamW(net.parameters(), lr=1e-5)\n",
    "TrainClassifer(model=net,trn_dl=train_dl_fold2,val_dl=val_dl_fold2,optimizer=optimizer, \n",
    "               project=project, name=name, suffix='fold2', scheduler=None, n_eopchs=n_eopchs, device=device)\n",
    "\n",
    "net = KLSVolNet(backbone=backbone, ch_out = 6).to(device)\n",
    "optimizer = optim.AdamW(net.parameters(), lr=1e-5)\n",
    "TrainClassifer(model=net,trn_dl=train_dl_fold3,val_dl=val_dl_fold3,optimizer=optimizer, \n",
    "               project=project, name=name, suffix='fold3', scheduler=None, n_eopchs=n_eopchs, device=device)\n",
    "\n",
    "net = KLSVolNet(backbone=backbone, ch_out = 6).to(device)\n",
    "optimizer = optim.AdamW(net.parameters(), lr=1e-5)\n",
    "TrainClassifer(model=net,trn_dl=train_dl_fold4,val_dl=val_dl_fold4,optimizer=optimizer, \n",
    "               project=project, name=name, suffix='fold4', scheduler=None, n_eopchs=n_eopchs, device=device)"
   ]
  },
  {
   "cell_type": "code",
   "execution_count": 15,
   "id": "d6bea54d-c0bc-4f01-80a2-953649b113a8",
   "metadata": {},
   "outputs": [],
   "source": [
    "# net = KLSVolNet(backbone = 'convnextv2_nano.fcmae_ft_in22k_in1k_384', ch_out = 6, slices = 10).to(device)\n",
    "\n",
    "# optimizer = optim.AdamW(net.parameters(), lr=1e-5)\n",
    "# TrainClassifer(model=net,trn_dl=train_dl,val_dl=val_dl,optimizer=optimizer, \n",
    "#                scheduler=None, n_eopchs=20, device=device)"
   ]
  },
  {
   "cell_type": "code",
   "execution_count": null,
   "id": "d80efa8c-d2f4-4b23-aaf4-e8cd70587d27",
   "metadata": {},
   "outputs": [],
   "source": []
  }
 ],
 "metadata": {
  "kernelspec": {
   "display_name": "Python 3 (ipykernel)",
   "language": "python",
   "name": "python3"
  },
  "language_info": {
   "codemirror_mode": {
    "name": "ipython",
    "version": 3
   },
   "file_extension": ".py",
   "mimetype": "text/x-python",
   "name": "python",
   "nbconvert_exporter": "python",
   "pygments_lexer": "ipython3",
   "version": "3.8.10"
  }
 },
 "nbformat": 4,
 "nbformat_minor": 5
}
