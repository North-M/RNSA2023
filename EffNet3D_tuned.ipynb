{
 "cells": [
  {
   "cell_type": "code",
   "execution_count": 1,
   "id": "b60c252e-e168-41d7-b339-0f7426b38745",
   "metadata": {},
   "outputs": [],
   "source": [
    "import numpy as np\n",
    "import pandas as pd\n",
    "import matplotlib.pyplot as plt\n",
    "\n",
    "import os\n",
    "import random\n",
    "import re\n",
    "\n",
    "from tqdm import tqdm\n",
    "import time\n",
    "\n",
    "import pydicom as dicom\n",
    "import nibabel as nib\n",
    "import SimpleITK as sitk\n",
    "import monai\n",
    "\n",
    "import torch\n",
    "import torch.nn as nn\n",
    "import torch.optim as optim\n",
    "\n",
    "from monai.networks.nets import EfficientNetBN\n",
    "from monai.networks.nets import ResNet\n",
    "#from efficientnet_pytorch import EfficientNet\n",
    "\n",
    "import wandb\n"
   ]
  },
  {
   "cell_type": "code",
   "execution_count": 2,
   "id": "b393ecf4-0bbc-4c5b-a0be-adf2ed757a7b",
   "metadata": {},
   "outputs": [
    {
     "name": "stdout",
     "output_type": "stream",
     "text": [
      "Finish seeding with seed 344\n",
      "Training on device cuda\n"
     ]
    }
   ],
   "source": [
    "SEED = 344\n",
    "device = torch.device('cuda' if torch.cuda.is_available() else 'cpu')\n",
    "def seed_everything(seed):\n",
    "    random.seed(seed)\n",
    "    os.environ['PYTHONHASHSEED'] = str(seed)\n",
    "    np.random.seed(seed)\n",
    "    torch.manual_seed(seed)\n",
    "    torch.cuda.manual_seed(seed)\n",
    "    torch.backends.cudnn.deterministic = True # Fix the network according to random seed\n",
    "    print('Finish seeding with seed {}'.format(seed))\n",
    "    \n",
    "seed_everything(SEED)\n",
    "print('Training on device {}'.format(device))"
   ]
  },
  {
   "cell_type": "code",
   "execution_count": 3,
   "id": "c78cd76f-3351-4f00-8017-d4f59550987d",
   "metadata": {},
   "outputs": [
    {
     "data": {
      "text/html": [
       "<div>\n",
       "<style scoped>\n",
       "    .dataframe tbody tr th:only-of-type {\n",
       "        vertical-align: middle;\n",
       "    }\n",
       "\n",
       "    .dataframe tbody tr th {\n",
       "        vertical-align: top;\n",
       "    }\n",
       "\n",
       "    .dataframe thead th {\n",
       "        text-align: right;\n",
       "    }\n",
       "</style>\n",
       "<table border=\"1\" class=\"dataframe\">\n",
       "  <thead>\n",
       "    <tr style=\"text-align: right;\">\n",
       "      <th></th>\n",
       "      <th>patient_id</th>\n",
       "      <th>bowel_healthy</th>\n",
       "      <th>bowel_injury</th>\n",
       "      <th>extravasation_healthy</th>\n",
       "      <th>extravasation_injury</th>\n",
       "      <th>kidney_healthy</th>\n",
       "      <th>kidney_low</th>\n",
       "      <th>kidney_high</th>\n",
       "      <th>liver_healthy</th>\n",
       "      <th>liver_low</th>\n",
       "      <th>liver_high</th>\n",
       "      <th>spleen_healthy</th>\n",
       "      <th>spleen_low</th>\n",
       "      <th>spleen_high</th>\n",
       "      <th>any_injury</th>\n",
       "    </tr>\n",
       "  </thead>\n",
       "  <tbody>\n",
       "    <tr>\n",
       "      <th>0</th>\n",
       "      <td>10004</td>\n",
       "      <td>1</td>\n",
       "      <td>0</td>\n",
       "      <td>0</td>\n",
       "      <td>1</td>\n",
       "      <td>0</td>\n",
       "      <td>1</td>\n",
       "      <td>0</td>\n",
       "      <td>1</td>\n",
       "      <td>0</td>\n",
       "      <td>0</td>\n",
       "      <td>0</td>\n",
       "      <td>0</td>\n",
       "      <td>1</td>\n",
       "      <td>1</td>\n",
       "    </tr>\n",
       "    <tr>\n",
       "      <th>1</th>\n",
       "      <td>10005</td>\n",
       "      <td>1</td>\n",
       "      <td>0</td>\n",
       "      <td>1</td>\n",
       "      <td>0</td>\n",
       "      <td>1</td>\n",
       "      <td>0</td>\n",
       "      <td>0</td>\n",
       "      <td>1</td>\n",
       "      <td>0</td>\n",
       "      <td>0</td>\n",
       "      <td>1</td>\n",
       "      <td>0</td>\n",
       "      <td>0</td>\n",
       "      <td>0</td>\n",
       "    </tr>\n",
       "    <tr>\n",
       "      <th>2</th>\n",
       "      <td>10007</td>\n",
       "      <td>1</td>\n",
       "      <td>0</td>\n",
       "      <td>1</td>\n",
       "      <td>0</td>\n",
       "      <td>1</td>\n",
       "      <td>0</td>\n",
       "      <td>0</td>\n",
       "      <td>1</td>\n",
       "      <td>0</td>\n",
       "      <td>0</td>\n",
       "      <td>1</td>\n",
       "      <td>0</td>\n",
       "      <td>0</td>\n",
       "      <td>0</td>\n",
       "    </tr>\n",
       "    <tr>\n",
       "      <th>3</th>\n",
       "      <td>10026</td>\n",
       "      <td>1</td>\n",
       "      <td>0</td>\n",
       "      <td>1</td>\n",
       "      <td>0</td>\n",
       "      <td>1</td>\n",
       "      <td>0</td>\n",
       "      <td>0</td>\n",
       "      <td>1</td>\n",
       "      <td>0</td>\n",
       "      <td>0</td>\n",
       "      <td>1</td>\n",
       "      <td>0</td>\n",
       "      <td>0</td>\n",
       "      <td>0</td>\n",
       "    </tr>\n",
       "    <tr>\n",
       "      <th>4</th>\n",
       "      <td>10051</td>\n",
       "      <td>1</td>\n",
       "      <td>0</td>\n",
       "      <td>1</td>\n",
       "      <td>0</td>\n",
       "      <td>1</td>\n",
       "      <td>0</td>\n",
       "      <td>0</td>\n",
       "      <td>1</td>\n",
       "      <td>0</td>\n",
       "      <td>0</td>\n",
       "      <td>0</td>\n",
       "      <td>1</td>\n",
       "      <td>0</td>\n",
       "      <td>1</td>\n",
       "    </tr>\n",
       "    <tr>\n",
       "      <th>...</th>\n",
       "      <td>...</td>\n",
       "      <td>...</td>\n",
       "      <td>...</td>\n",
       "      <td>...</td>\n",
       "      <td>...</td>\n",
       "      <td>...</td>\n",
       "      <td>...</td>\n",
       "      <td>...</td>\n",
       "      <td>...</td>\n",
       "      <td>...</td>\n",
       "      <td>...</td>\n",
       "      <td>...</td>\n",
       "      <td>...</td>\n",
       "      <td>...</td>\n",
       "      <td>...</td>\n",
       "    </tr>\n",
       "    <tr>\n",
       "      <th>3142</th>\n",
       "      <td>9951</td>\n",
       "      <td>1</td>\n",
       "      <td>0</td>\n",
       "      <td>1</td>\n",
       "      <td>0</td>\n",
       "      <td>1</td>\n",
       "      <td>0</td>\n",
       "      <td>0</td>\n",
       "      <td>1</td>\n",
       "      <td>0</td>\n",
       "      <td>0</td>\n",
       "      <td>1</td>\n",
       "      <td>0</td>\n",
       "      <td>0</td>\n",
       "      <td>0</td>\n",
       "    </tr>\n",
       "    <tr>\n",
       "      <th>3143</th>\n",
       "      <td>9960</td>\n",
       "      <td>1</td>\n",
       "      <td>0</td>\n",
       "      <td>1</td>\n",
       "      <td>0</td>\n",
       "      <td>1</td>\n",
       "      <td>0</td>\n",
       "      <td>0</td>\n",
       "      <td>1</td>\n",
       "      <td>0</td>\n",
       "      <td>0</td>\n",
       "      <td>1</td>\n",
       "      <td>0</td>\n",
       "      <td>0</td>\n",
       "      <td>0</td>\n",
       "    </tr>\n",
       "    <tr>\n",
       "      <th>3144</th>\n",
       "      <td>9961</td>\n",
       "      <td>1</td>\n",
       "      <td>0</td>\n",
       "      <td>1</td>\n",
       "      <td>0</td>\n",
       "      <td>1</td>\n",
       "      <td>0</td>\n",
       "      <td>0</td>\n",
       "      <td>1</td>\n",
       "      <td>0</td>\n",
       "      <td>0</td>\n",
       "      <td>1</td>\n",
       "      <td>0</td>\n",
       "      <td>0</td>\n",
       "      <td>0</td>\n",
       "    </tr>\n",
       "    <tr>\n",
       "      <th>3145</th>\n",
       "      <td>9980</td>\n",
       "      <td>1</td>\n",
       "      <td>0</td>\n",
       "      <td>1</td>\n",
       "      <td>0</td>\n",
       "      <td>1</td>\n",
       "      <td>0</td>\n",
       "      <td>0</td>\n",
       "      <td>1</td>\n",
       "      <td>0</td>\n",
       "      <td>0</td>\n",
       "      <td>0</td>\n",
       "      <td>0</td>\n",
       "      <td>1</td>\n",
       "      <td>1</td>\n",
       "    </tr>\n",
       "    <tr>\n",
       "      <th>3146</th>\n",
       "      <td>9983</td>\n",
       "      <td>1</td>\n",
       "      <td>0</td>\n",
       "      <td>1</td>\n",
       "      <td>0</td>\n",
       "      <td>1</td>\n",
       "      <td>0</td>\n",
       "      <td>0</td>\n",
       "      <td>1</td>\n",
       "      <td>0</td>\n",
       "      <td>0</td>\n",
       "      <td>0</td>\n",
       "      <td>0</td>\n",
       "      <td>1</td>\n",
       "      <td>1</td>\n",
       "    </tr>\n",
       "  </tbody>\n",
       "</table>\n",
       "<p>3147 rows × 15 columns</p>\n",
       "</div>"
      ],
      "text/plain": [
       "      patient_id  bowel_healthy  bowel_injury  extravasation_healthy  \\\n",
       "0          10004              1             0                      0   \n",
       "1          10005              1             0                      1   \n",
       "2          10007              1             0                      1   \n",
       "3          10026              1             0                      1   \n",
       "4          10051              1             0                      1   \n",
       "...          ...            ...           ...                    ...   \n",
       "3142        9951              1             0                      1   \n",
       "3143        9960              1             0                      1   \n",
       "3144        9961              1             0                      1   \n",
       "3145        9980              1             0                      1   \n",
       "3146        9983              1             0                      1   \n",
       "\n",
       "      extravasation_injury  kidney_healthy  kidney_low  kidney_high  \\\n",
       "0                        1               0           1            0   \n",
       "1                        0               1           0            0   \n",
       "2                        0               1           0            0   \n",
       "3                        0               1           0            0   \n",
       "4                        0               1           0            0   \n",
       "...                    ...             ...         ...          ...   \n",
       "3142                     0               1           0            0   \n",
       "3143                     0               1           0            0   \n",
       "3144                     0               1           0            0   \n",
       "3145                     0               1           0            0   \n",
       "3146                     0               1           0            0   \n",
       "\n",
       "      liver_healthy  liver_low  liver_high  spleen_healthy  spleen_low  \\\n",
       "0                 1          0           0               0           0   \n",
       "1                 1          0           0               1           0   \n",
       "2                 1          0           0               1           0   \n",
       "3                 1          0           0               1           0   \n",
       "4                 1          0           0               0           1   \n",
       "...             ...        ...         ...             ...         ...   \n",
       "3142              1          0           0               1           0   \n",
       "3143              1          0           0               1           0   \n",
       "3144              1          0           0               1           0   \n",
       "3145              1          0           0               0           0   \n",
       "3146              1          0           0               0           0   \n",
       "\n",
       "      spleen_high  any_injury  \n",
       "0               1           1  \n",
       "1               0           0  \n",
       "2               0           0  \n",
       "3               0           0  \n",
       "4               0           1  \n",
       "...           ...         ...  \n",
       "3142            0           0  \n",
       "3143            0           0  \n",
       "3144            0           0  \n",
       "3145            1           1  \n",
       "3146            1           1  \n",
       "\n",
       "[3147 rows x 15 columns]"
      ]
     },
     "execution_count": 3,
     "metadata": {},
     "output_type": "execute_result"
    }
   ],
   "source": [
    "dicom_tag_columns = [\n",
    "    'Columns',\n",
    "    'ImageOrientationPatient',\n",
    "    'ImagePositionPatient',\n",
    "    'InstanceNumber',\n",
    "    'PatientID',\n",
    "    'PatientPosition',\n",
    "    'PixelSpacing',\n",
    "    'RescaleIntercept',\n",
    "    'RescaleSlope',\n",
    "    'Rows',\n",
    "    'SeriesNumber',\n",
    "    'SliceThickness',\n",
    "    'path',\n",
    "    'WindowCenter',\n",
    "    'WindowWidth'\n",
    "]\n",
    "\n",
    "train_dicom_tags = pd.read_parquet('autodl-tmp/train_dicom_tags.parquet', columns=dicom_tag_columns)\n",
    "test_dicom_tags = pd.read_parquet('autodl-tmp/test_dicom_tags.parquet', columns=dicom_tag_columns)\n",
    "\n",
    "train_series_meta = pd.read_csv('autodl-tmp/train_series_meta.csv')\n",
    "test_series_meta = pd.read_csv('autodl-tmp/test_series_meta.csv')\n",
    "\n",
    "train_csv = pd.read_csv('autodl-tmp/train.csv')\n",
    "\n",
    "train_csv"
   ]
  },
  {
   "cell_type": "code",
   "execution_count": 4,
   "id": "0a5bd6c2-f7d8-4d58-a0d1-34d701f73a04",
   "metadata": {},
   "outputs": [],
   "source": [
    "injury_series_meta = train_series_meta.loc[train_series_meta.patient_id.isin(train_csv.loc[train_csv.any_injury == 1, \"patient_id\"].values)]\n",
    "healthy_series_meta = train_series_meta.loc[train_series_meta.patient_id.isin(train_csv.loc[train_csv.any_injury == 0, \"patient_id\"].values)]"
   ]
  },
  {
   "cell_type": "code",
   "execution_count": 5,
   "id": "c980beba-6117-49bd-a541-2182c67b4d9b",
   "metadata": {},
   "outputs": [],
   "source": [
    "def raw_path_gen(patient_id, series_id, train=True):\n",
    "    if(train):\n",
    "        path = 'autodl-tmp/train_images_resample/'\n",
    "    else:\n",
    "        path = 'autodl-tmp/train_images_resample/'\n",
    "    \n",
    "    path += str(patient_id) + '/' + str(series_id)\n",
    "    \n",
    "    return path\n",
    "\n",
    "def create_3D_scans(folder, downsample_rate=1): \n",
    "    filenames = os.listdir(folder)\n",
    "    filenames = [int(filename.split('.')[0]) for filename in filenames]\n",
    "    filenames = sorted(filenames)\n",
    "    filenames = [str(filename) + '.dcm' for filename in filenames]\n",
    "        \n",
    "    volume = []\n",
    "    #for filename in tqdm(filenames[::downsample_rate], position=0): \n",
    "    for filename in filenames[::downsample_rate]: \n",
    "        filepath = os.path.join(folder, filename)\n",
    "        ds = dicom.dcmread(filepath)\n",
    "        image = ds.pixel_array\n",
    "        \n",
    "        if ds.PixelRepresentation == 1:\n",
    "            bit_shift = ds.BitsAllocated - ds.BitsStored\n",
    "            dtype = image.dtype \n",
    "            image = (image << bit_shift).astype(dtype) >>  bit_shift\n",
    "        \n",
    "        # find rescale params\n",
    "        if (\"RescaleIntercept\" in ds) and (\"RescaleSlope\" in ds):\n",
    "            intercept = float(ds.RescaleIntercept)\n",
    "            slope = float(ds.RescaleSlope)\n",
    "    \n",
    "        # find clipping params\n",
    "        center = int(ds.WindowCenter)\n",
    "        width = int(ds.WindowWidth)\n",
    "        low = center - width / 2\n",
    "        high = center + width / 2    \n",
    "        \n",
    "        \n",
    "        image = (image * slope) + intercept\n",
    "        image = np.clip(image, low, high)\n",
    "\n",
    "        image = (image / np.max(image) * 255).astype(np.int16)\n",
    "        image = image[::downsample_rate, ::downsample_rate]\n",
    "        volume.append( image )\n",
    "    \n",
    "    volume = np.stack(volume, axis=0)\n",
    "    return volume\n",
    "\n",
    "def plot_image_with_seg(volume, volume_seg=[], orientation='Coronal', num_subplots=20):\n",
    "    # simply copy\n",
    "    if len(volume_seg) == 0:\n",
    "        plot_mask = 0\n",
    "    else:\n",
    "        plot_mask = 1\n",
    "        \n",
    "    if orientation == 'Coronal':\n",
    "        slices = np.linspace(0, volume.shape[2]-1, num_subplots).astype(np.int16)\n",
    "        volume = volume.transpose([1, 0, 2])\n",
    "        if plot_mask:\n",
    "            volume_seg = volume_seg.transpose([1, 0, 2])\n",
    "        \n",
    "    elif orientation == 'Sagittal':\n",
    "        slices = np.linspace(0, volume.shape[2]-1, num_subplots).astype(np.int16)\n",
    "        volume = volume.transpose([2, 0, 1])\n",
    "        if plot_mask:\n",
    "            volume_seg = volume_seg.transpose([2, 0, 1])\n",
    "\n",
    "    elif orientation == 'Axial':\n",
    "        slices = np.linspace(0, volume.shape[0]-1, num_subplots).astype(np.int16)\n",
    "           \n",
    "    rows = np.max( [np.floor(np.sqrt(num_subplots)).astype(int) - 2, 1])\n",
    "    cols = np.ceil(num_subplots/rows).astype(int)\n",
    "    \n",
    "    fig, ax = plt.subplots(rows, cols, figsize=(cols * 2, rows * 4))\n",
    "    fig.tight_layout(h_pad=0.01, w_pad=0)\n",
    "    \n",
    "    ax = ax.ravel()\n",
    "    for this_ax in ax:\n",
    "        this_ax.axis('off')\n",
    "\n",
    "    for counter, this_slice in enumerate( slices ):\n",
    "        plt.sca(ax[counter])\n",
    "        \n",
    "        image = volume[this_slice, :, :]\n",
    "        plt.imshow(image, cmap='gray')\n",
    "        \n",
    "        if plot_mask:\n",
    "            mask = np.where(volume_seg[this_slice, :, :], volume_seg[this_slice, :, :], np.nan)\n",
    "            plt.imshow(mask, cmap='Set1', alpha=0.5)\n",
    "            \n",
    "def load_nii(patient_id, series_id, root='autodl-tmp/train_images_resample/'):\n",
    "    path = root + str(patient_id) + '/' + str(series_id) + '.nii.gz'\n",
    "    img = sitk.ReadImage(path)\n",
    "    img = sitk.GetArrayFromImage(img)\n",
    "    \n",
    "    # img = nib.load(path)\n",
    "    # img = img.get_fdata().transpose(2, 1, 0)\n",
    "    \n",
    "    return img"
   ]
  },
  {
   "cell_type": "code",
   "execution_count": 6,
   "id": "94afa805-f494-43b3-a32f-fc489f01e399",
   "metadata": {},
   "outputs": [],
   "source": [
    "from torch.utils.data import Dataset\n",
    "from torch.utils.data import DataLoader\n",
    "\n",
    "ds = 2\n",
    "\n",
    "class CTDataset(Dataset):\n",
    "    def __init__(self, root='autodl-tmp/train_images_resample/', augmentation=False, meta=train_series_meta, device='cpu'):\n",
    "        self.device = device\n",
    "        self.series_meta = meta\n",
    "        self.root = root\n",
    "        self.t = monai.transforms.Compose([monai.transforms.RandZoom(prob=0.5, min_zoom=0.9, max_zoom=1.1),\n",
    "                                           monai.transforms.RandRotate(range_x=3.14 / 24, prob=0.5),\n",
    "                                           monai.transforms.SpatialPad(spatial_size=(352//ds, 280//ds, 280//ds), mode=\"edge\"),\n",
    "                                           monai.transforms.RandSpatialCrop(roi_size=(320//ds, 256//ds, 256//ds), random_size=False),\n",
    "                                           monai.transforms.NormalizeIntensity(divisor = 400)\n",
    "                                ])\n",
    "        self.t_val = monai.transforms.Compose([monai.transforms.NormalizeIntensity(divisor = 400)])\n",
    "        \n",
    "        self.aug = augmentation\n",
    "        \n",
    "    def __len__(self):\n",
    "        #return 1100\n",
    "        return len(self.series_meta)\n",
    "    \n",
    "    def __getitem__(self, idx):\n",
    "\n",
    "        patient_id, series_id = self.series_meta.loc[idx, [\"patient_id\", \"series_id\"]].astype('int')\n",
    "        img_a = load_nii(patient_id, series_id, self.root).astype('float32')\n",
    "        #img_t = torch.from_numpy(img_a).unsqueeze(0)\n",
    "        #img_t = torch.from_numpy(img_a[::2, ::2, ::2]).unsqueeze(0)\n",
    "        if(self.aug):\n",
    "            img_t = self.t(np.expand_dims(img_a[::ds, ::ds, ::ds], 0))\n",
    "        else:\n",
    "            #img_t = torch.from_numpy(img_a[::ds, ::ds, ::ds]).unsqueeze(0)\n",
    "            img_t = self.t_val(np.expand_dims(img_a[::ds, ::ds, ::ds], 0))\n",
    "        label_columns = [\n",
    "            'bowel_healthy',\n",
    "            'bowel_injury',\n",
    "            'extravasation_healthy',\n",
    "            'extravasation_injury',\n",
    "            'kidney_healthy',\n",
    "            'kidney_low',\n",
    "            'kidney_high',\n",
    "            'liver_healthy',\n",
    "            'liver_low',\n",
    "            'liver_high',\n",
    "            'spleen_healthy',\n",
    "            'spleen_low',\n",
    "            'spleen_high',\n",
    "            #'any_injury'\n",
    "        ]\n",
    "        label_a = train_csv.loc[train_csv.patient_id == patient_id, label_columns].values[0].astype('float32')\n",
    "        # for i in range(4, 13):\n",
    "        #     if label_a[i] == 0:\n",
    "        #         label_a[i] = 0.01\n",
    "        #     else:\n",
    "        #         label_a[i] = 0.98\n",
    "        label_t = torch.from_numpy(label_a)\n",
    "        return img_t, label_t"
   ]
  },
  {
   "cell_type": "code",
   "execution_count": 7,
   "id": "ee1d2c08-0c4e-4e93-93d9-a1f3ccb71cc2",
   "metadata": {},
   "outputs": [],
   "source": [
    "train_meta = train_series_meta[-3600:].reset_index()\n",
    "val_meta = train_series_meta[0:-3600].reset_index()\n",
    "\n",
    "# train_meta = injury_series_meta[-1000:].reset_index()\n",
    "# val_meta = injury_series_meta[0:-1000].reset_index()\n",
    "\n",
    "train_ds = CTDataset(meta = train_meta, augmentation=True)\n",
    "train_dl = DataLoader(train_ds, batch_size=4, shuffle=True, num_workers=8)\n",
    "\n",
    "val_ds = CTDataset(meta = val_meta, augmentation=False)\n",
    "val_dl = DataLoader(val_ds, batch_size=4, shuffle=False, num_workers=8)"
   ]
  },
  {
   "cell_type": "code",
   "execution_count": 8,
   "id": "92c933fa-df43-4339-80df-3e6d9f46510c",
   "metadata": {},
   "outputs": [],
   "source": [
    "class EffNet(nn.Module):\n",
    "    def __init__(self, ch_out=9):\n",
    "        super(EffNet, self).__init__()\n",
    "        #self.conv_in = nn.Conv3d(1, 3, kernel_size=5, padding=2, stride=2)\n",
    "        self.net = EfficientNetBN(\"efficientnet-b0\", pretrained=False, progress=False, spatial_dims=3, in_channels=1, num_classes=ch_out,)\n",
    "    def forward(self, x):\n",
    "        #x = self.conv_in(x)\n",
    "        #return torch.sigmoid(self.net(x))\n",
    "        return self.net(x)"
   ]
  },
  {
   "cell_type": "code",
   "execution_count": 9,
   "id": "5a036cda-e382-4698-82bf-938252d03daa",
   "metadata": {},
   "outputs": [],
   "source": [
    "import sklearn.metrics\n",
    "from scipy.special import softmax\n",
    "from scipy.special import expit\n",
    "\n",
    "def transform_9class(label_in):\n",
    "    label_out = [1 - label_in[0],\n",
    "                   label_in[0],\n",
    "                    1- label_in[1],\n",
    "                   label_in[1],\n",
    "                   (1 - label_in[2]) * (1 - label_in[3]),\n",
    "                   label_in[2],\n",
    "                   label_in[3],\n",
    "                   (1 - label_in[4]) * (1 - label_in[5]),\n",
    "                    label_in[4],\n",
    "                   label_in[5],\n",
    "                   (1 - label_in[6]) * (1 - label_in[7]),\n",
    "                   label_in[6],\n",
    "                   label_in[7]]\n",
    "    return label_out\n",
    "\n",
    "def transform_13class(label_in):\n",
    "    label_out = label_in\n",
    "    return label_out.tolist()\n",
    "\n",
    "def transform_13class_crossentropy(label_in):\n",
    "    bowl_label = label_in[0:2]\n",
    "    extravasation_label = label_in[2:4]\n",
    "    kidney_label = label_in[4:7]\n",
    "    liver_label = label_in[7:10]\n",
    "    spleen_label = label_in[10:13]\n",
    "    \n",
    "    label_in[0:2] = softmax(bowl_label)\n",
    "    label_in[2:4] = softmax(extravasation_label)\n",
    "    label_in[4:7] = softmax(kidney_label)\n",
    "    label_in[7:10] = softmax(liver_label)\n",
    "    label_in[10:13] = softmax(spleen_label)\n",
    "    \n",
    "    \n",
    "    label_out = label_in\n",
    "    return label_out.tolist()\n",
    "\n",
    "\n",
    "def loss_metrics(metrics, transform):\n",
    "    preds = [transform(x) for x in metrics[\"predict\"]]\n",
    "    targets = [np.round(x).tolist() for x in metrics[\"label\"]]\n",
    "    targets_any_injury = metrics[\"label\"][:, -1]\n",
    "    \n",
    "    loss_list = []\n",
    "    \n",
    "    print(\"F1 score: \", sklearn.metrics.f1_score(targets, np.around(preds), average=None, zero_division=0.0))\n",
    "    \n",
    "    for i in range(0, len(preds)):\n",
    "        predict = preds[i]\n",
    "        target = targets[i]\n",
    "        \n",
    "        label_pred = np.zeros(14)\n",
    "        label_pred[0] = predict[0] / (predict[0] + predict[1])\n",
    "        label_pred[1] = predict[1] / (predict[0] + predict[1])\n",
    "        label_pred[2] = predict[2] / (predict[2] + predict[3])\n",
    "        label_pred[3] = predict[3] / (predict[2] + predict[3])        \n",
    "        label_pred[4] = predict[4] / (predict[4] + predict[5] + predict[6])\n",
    "        label_pred[5] = predict[5] / (predict[4] + predict[5] + predict[6])\n",
    "        label_pred[6] = predict[6] / (predict[4] + predict[5] + predict[6])\n",
    "        label_pred[7] = predict[7] / (predict[7] + predict[8] + predict[9])\n",
    "        label_pred[8] = predict[8] / (predict[7] + predict[8] + predict[9])\n",
    "        label_pred[9] = predict[9] / (predict[7] + predict[8] + predict[9])\n",
    "        label_pred[10] = predict[10] / (predict[10] + predict[11] + predict[12])\n",
    "        label_pred[11] = predict[11] / (predict[10] + predict[11] + predict[12])\n",
    "        label_pred[12] = predict[12] / (predict[10] + predict[11] + predict[12])\n",
    "        label_pred[13] = max([1 - label_pred[x] for x in [0, 2, 4, 7, 10]])\n",
    "        \n",
    "        targets_any_injury = max([1 - target[x] for x in [0, 2, 4, 7, 10]])\n",
    "        \n",
    "        target.append(targets_any_injury)\n",
    "        label_target = np.array(target)\n",
    "        \n",
    "        weight = np.array([1, 2, 1, 6, 1, 2, 4, 1, 2, 4, 1, 2, 4, 6])\n",
    "        \n",
    "        loss_list.append(sklearn.metrics.log_loss(\n",
    "            y_true=label_target,\n",
    "            y_pred=label_pred,\n",
    "            sample_weight=weight))\n",
    "    #print(\"Weighted Loss: \" + np.mean(loss_list))\n",
    "    \n",
    "    return np.mean(loss_list)\n",
    "        \n",
    "    \n",
    "    \n",
    "    #print(np.array(preds).shape)\n",
    "    "
   ]
  },
  {
   "cell_type": "code",
   "execution_count": 10,
   "id": "c12f7ea2-77d1-4b63-9897-edc464d19114",
   "metadata": {},
   "outputs": [],
   "source": [
    "import copy\n",
    "\n",
    "def loss_fn(outputs, labels):\n",
    "    bowl_label = labels[:, 0:2]\n",
    "    bowl_pred = outputs[:, 0:2]\n",
    "    extravasation_label = labels[:, 2:4]\n",
    "    extravasation_pred = outputs[:, 2:4]\n",
    "    kidney_label = labels[:, 4:7]\n",
    "    kidney_pred = outputs[:, 4:7]\n",
    "    liver_label = labels[:, 7:10]\n",
    "    liver_pred = outputs[:, 7:10]\n",
    "    spleen_label = labels[:, 10:13]\n",
    "    spleen_pred = outputs[:, 10:13]\n",
    "    \n",
    "    #loss_bowl = nn.CrossEntropyLoss(weight=torch.Tensor([1, 30]).to(device))\n",
    "    #loss_extravasation = nn.CrossEntropyLoss(weight=torch.Tensor([1, 15]).to(device))\n",
    "    loss_bowl = nn.BCEWithLogitsLoss(pos_weight=torch.Tensor([1, 30]).to(device))\n",
    "    loss_extravasation = nn.BCEWithLogitsLoss(pos_weight=torch.Tensor([1, 15]).to(device))\n",
    "    loss_kidney = nn.CrossEntropyLoss(weight=torch.Tensor([1, 30, 30]).to(device))\n",
    "    loss_liver = nn.CrossEntropyLoss(weight=torch.Tensor([1, 18, 18]).to(device))\n",
    "    loss_spleen = nn.CrossEntropyLoss(weight=torch.Tensor([1, 18, 18]).to(device))\n",
    "    # loss_bowl = nn.BCEWithLogitsLoss()\n",
    "    # loss_extravasation = nn.BCEWithLogitsLoss()\n",
    "    # loss_kidney = nn.CrossEntropyLoss()\n",
    "    # loss_liver = nn.CrossEntropyLoss()\n",
    "    # loss_spleen = nn.CrossEntropyLoss()\n",
    "    \n",
    "    loss = (loss_bowl(bowl_pred, bowl_label) + \n",
    "            loss_extravasation(extravasation_pred, extravasation_label) + \n",
    "            loss_kidney(kidney_pred, kidney_label) + \n",
    "            loss_liver(liver_pred, liver_label) + \n",
    "            loss_spleen(spleen_pred, spleen_label))\n",
    "    return loss\n",
    "\n",
    "def TrainClassifer(model,trn_dl,val_dl,optimizer, scheduler=None,\n",
    "                   n_eopchs=20, device='cpu'):\n",
    " \n",
    "    #loss_fn = nn.BCELoss(weight=torch.Tensor([1, 6, 1, 6, 1, 4, 8, 1, 4, 8, 1, 4, 8]).to(device))\n",
    "    #loss_fn = nn.BCELoss()\n",
    "    #loss_fn = nn.BCEWithLogitsLoss(pos_weight=torch.Tensor([1, 30, 1, 15, 1, 30, 30, 1, 18, 18, 1, 18, 18]).to(device))\n",
    "    model.to(device)\n",
    "    best_model = copy.deepcopy(model)\n",
    "    bestweight_model = copy.deepcopy(model)\n",
    "    best_val = 999.0\n",
    "    best_weightloss = 999.0\n",
    "    metrics = {'predict': [], 'label' : []}\n",
    "    PATH_MODEL = 'EffNet3D-tune/normal_13class_posweight_bestloss.pt'\n",
    "    PATH_MODEL2 = 'EffNet3D-tune/normal_13class_posweight_bestmetric.pt'\n",
    "    wandb.init(name='EffNet_tune_normal_13class_posweight_patient', \n",
    "               project='EffNet3D-tune')\n",
    "\n",
    "    for epoch in range(1, n_eopchs + 1):\n",
    "        loss_train = 0.0\n",
    "        model.train()\n",
    "        for imgs, labels in tqdm(trn_dl, position=0):\n",
    "            imgs = imgs.to(device)\n",
    "            labels = labels.to(device)\n",
    "\n",
    "            outputs = model(imgs)\n",
    "            #outputs = model(imgs.unsqueeze(1))\n",
    "            loss = loss_fn(outputs, labels)\n",
    "            optimizer.zero_grad()\n",
    "            loss.backward()\n",
    "            optimizer.step()\n",
    "            loss_train += loss.item()\n",
    "        torch.cuda.empty_cache()\n",
    "        \n",
    "        loss_val = 0.0\n",
    "        correct_val = 0.0\n",
    "        model.eval()\n",
    "        \n",
    "        for imgs, labels in tqdm(val_dl, position=0):\n",
    "            imgs = imgs.to(device)\n",
    "            labels = labels.to(device)\n",
    "            with torch.no_grad():\n",
    "                outputs = model(imgs)\n",
    "                #outputs = model(imgs.unsqueeze(1))\n",
    "                loss = loss_fn(outputs, labels)\n",
    "                loss_val += loss.item()\n",
    "                #outputs = torch.sigmoid(outputs)\n",
    "                metrics['predict'].extend((outputs.to('cpu').detach().numpy()).tolist())\n",
    "                metrics['label'].extend((labels.to('cpu').detach().numpy()).tolist())\n",
    "        \n",
    "        metrics['predict'] = np.array(metrics['predict'])\n",
    "        #metrics['predict'] = np.array([[0.5, 0.5, 0.33333, 0.33333, 0.33333, 0.33333, 0.33333, 0.33333, 0.33333]]*len(metrics['label']))\n",
    "        metrics['label'] = np.array(metrics['label'])\n",
    "        weighted_loss = loss_metrics(metrics, transform_13class_crossentropy)\n",
    "        metrics = {'predict': [], 'label' : []}\n",
    "        \n",
    "        torch.cuda.empty_cache()\n",
    "        \n",
    "        if (weighted_loss) < best_weightloss:\n",
    "            best_weightloss = weighted_loss\n",
    "            torch.save(model.state_dict(), 'model_tmp.pt')\n",
    "            bestweight_model.load_state_dict(torch.load('model_tmp.pt'))\n",
    "            \n",
    "        if loss_val / len(val_dl) < best_val:\n",
    "            best_val = loss_val / len(val_dl)\n",
    "            torch.save(model.state_dict(), 'model_tmp.pt')\n",
    "            best_model.load_state_dict(torch.load('model_tmp.pt'))\n",
    "            \n",
    "            \n",
    "        if scheduler != None:\n",
    "            scheduler.step()\n",
    "\n",
    "        print('{} Eopch {}, Training Loss {}, Val Loss {}, Weighted Loss {}'.format(time.strftime(\"%Y-%m-%d %H:%M:%S\",time.localtime()),\n",
    "                                                                  epoch, loss_train / len(trn_dl), loss_val / len(val_dl),\n",
    "                                                                                     weighted_loss))\n",
    "        \n",
    "        \n",
    "        \n",
    "        wandb.log({'training loss': loss_train / len(trn_dl),\n",
    "                  'val loss': loss_val / len(val_dl),\n",
    "                  'weighted loss': weighted_loss})\n",
    "    torch.save(best_model.state_dict(), PATH_MODEL)\n",
    "    torch.save(bestweight_model.state_dict(), PATH_MODEL2)\n",
    "    print('Finish training: best_val:{}, best_weighted loss:{}'.format(best_val, best_weightloss))\n",
    "    wandb.finish()"
   ]
  },
  {
   "cell_type": "code",
   "execution_count": 11,
   "id": "f2fccae5-bcab-466d-a643-c3b83aa0dccb",
   "metadata": {},
   "outputs": [
    {
     "name": "stderr",
     "output_type": "stream",
     "text": [
      "\u001b[34m\u001b[1mwandb\u001b[0m: Currently logged in as: \u001b[33mnorthm\u001b[0m (\u001b[33mrsna2023\u001b[0m). Use \u001b[1m`wandb login --relogin`\u001b[0m to force relogin\n"
     ]
    },
    {
     "data": {
      "text/html": [
       "wandb version 0.15.10 is available!  To upgrade, please run:\n",
       " $ pip install wandb --upgrade"
      ],
      "text/plain": [
       "<IPython.core.display.HTML object>"
      ]
     },
     "metadata": {},
     "output_type": "display_data"
    },
    {
     "data": {
      "text/html": [
       "Tracking run with wandb version 0.15.8"
      ],
      "text/plain": [
       "<IPython.core.display.HTML object>"
      ]
     },
     "metadata": {},
     "output_type": "display_data"
    },
    {
     "data": {
      "text/html": [
       "Run data is saved locally in <code>/root/wandb/run-20230919_030924-3uu9djep</code>"
      ],
      "text/plain": [
       "<IPython.core.display.HTML object>"
      ]
     },
     "metadata": {},
     "output_type": "display_data"
    },
    {
     "data": {
      "text/html": [
       "Syncing run <strong><a href='https://wandb.ai/rsna2023/EffNet3D-tune/runs/3uu9djep' target=\"_blank\">EffNet_tune_normal_13class_posweight_patient</a></strong> to <a href='https://wandb.ai/rsna2023/EffNet3D-tune' target=\"_blank\">Weights & Biases</a> (<a href='https://wandb.me/run' target=\"_blank\">docs</a>)<br/>"
      ],
      "text/plain": [
       "<IPython.core.display.HTML object>"
      ]
     },
     "metadata": {},
     "output_type": "display_data"
    },
    {
     "data": {
      "text/html": [
       " View project at <a href='https://wandb.ai/rsna2023/EffNet3D-tune' target=\"_blank\">https://wandb.ai/rsna2023/EffNet3D-tune</a>"
      ],
      "text/plain": [
       "<IPython.core.display.HTML object>"
      ]
     },
     "metadata": {},
     "output_type": "display_data"
    },
    {
     "data": {
      "text/html": [
       " View run at <a href='https://wandb.ai/rsna2023/EffNet3D-tune/runs/3uu9djep' target=\"_blank\">https://wandb.ai/rsna2023/EffNet3D-tune/runs/3uu9djep</a>"
      ],
      "text/plain": [
       "<IPython.core.display.HTML object>"
      ]
     },
     "metadata": {},
     "output_type": "display_data"
    },
    {
     "name": "stderr",
     "output_type": "stream",
     "text": [
      "100%|██████████| 900/900 [04:52<00:00,  3.08it/s]\n",
      "100%|██████████| 278/278 [01:00<00:00,  4.60it/s]\n"
     ]
    },
    {
     "name": "stdout",
     "output_type": "stream",
     "text": [
      "F1 score:  [0.98677611 0.         0.96603071 0.         0.6954933  0.04878049\n",
      " 0.         0.62508295 0.16536661 0.         0.         0.13376483\n",
      " 0.        ]\n",
      "2023-09-19 03:15:21 Eopch 1, Training Loss 14.546101359261407, Val Loss 26.034089627883418, Weighted Loss 1.1473969342345165\n"
     ]
    },
    {
     "name": "stderr",
     "output_type": "stream",
     "text": [
      "100%|██████████| 900/900 [04:50<00:00,  3.10it/s]\n",
      "100%|██████████| 278/278 [01:03<00:00,  4.40it/s]\n"
     ]
    },
    {
     "name": "stdout",
     "output_type": "stream",
     "text": [
      "F1 score:  [0.98677611 0.         0.96603071 0.         0.         0.08274232\n",
      " 0.         0.00603015 0.14970563 0.         0.         0.\n",
      " 0.06361829]\n",
      "2023-09-19 03:21:17 Eopch 2, Training Loss 12.049710024992624, Val Loss 14.491142020808708, Weighted Loss 0.7518165801490556\n"
     ]
    },
    {
     "name": "stderr",
     "output_type": "stream",
     "text": [
      "100%|██████████| 900/900 [04:49<00:00,  3.10it/s]\n",
      "100%|██████████| 278/278 [00:59<00:00,  4.68it/s]\n"
     ]
    },
    {
     "name": "stdout",
     "output_type": "stream",
     "text": [
      "F1 score:  [0.98677611 0.         0.96603071 0.         0.         0.0623053\n",
      " 0.         0.03171457 0.14965986 0.         0.         0.14082146\n",
      " 0.        ]\n",
      "2023-09-19 03:27:08 Eopch 3, Training Loss 10.971156595812904, Val Loss 12.087315034523284, Weighted Loss 0.7189210144357822\n"
     ]
    },
    {
     "name": "stderr",
     "output_type": "stream",
     "text": [
      "100%|██████████| 900/900 [04:50<00:00,  3.10it/s]\n",
      "100%|██████████| 278/278 [01:02<00:00,  4.43it/s]\n"
     ]
    },
    {
     "name": "stdout",
     "output_type": "stream",
     "text": [
      "F1 score:  [0.98677611 0.         0.96554935 0.         0.03784295 0.06306306\n",
      " 0.         0.66279819 0.19805825 0.         0.         0.125\n",
      " 0.11267606]\n",
      "2023-09-19 03:33:03 Eopch 4, Training Loss 10.829753062725068, Val Loss 11.84571717368613, Weighted Loss 0.5050896267597272\n"
     ]
    },
    {
     "name": "stderr",
     "output_type": "stream",
     "text": [
      "100%|██████████| 900/900 [04:51<00:00,  3.08it/s]\n",
      "100%|██████████| 278/278 [01:03<00:00,  4.37it/s]\n"
     ]
    },
    {
     "name": "stdout",
     "output_type": "stream",
     "text": [
      "F1 score:  [0.98677611 0.         0.96603071 0.         0.         0.\n",
      " 0.         0.09003831 0.17511521 0.         0.23285199 0.01709402\n",
      " 0.        ]\n",
      "2023-09-19 03:39:00 Eopch 5, Training Loss 10.523011889192793, Val Loss 10.861159856370884, Weighted Loss 0.46304597014915505\n"
     ]
    },
    {
     "name": "stderr",
     "output_type": "stream",
     "text": [
      "100%|██████████| 900/900 [04:51<00:00,  3.09it/s]\n",
      "100%|██████████| 278/278 [00:59<00:00,  4.70it/s]\n"
     ]
    },
    {
     "name": "stdout",
     "output_type": "stream",
     "text": [
      "F1 score:  [0.98677611 0.         0.96603071 0.         0.23966245 0.\n",
      " 0.         0.2761578  0.16263736 0.         0.05805806 0.\n",
      " 0.        ]\n",
      "2023-09-19 03:44:53 Eopch 6, Training Loss 10.40033528327942, Val Loss 10.84593650334173, Weighted Loss 0.48888243716212537\n"
     ]
    },
    {
     "name": "stderr",
     "output_type": "stream",
     "text": [
      "100%|██████████| 900/900 [04:50<00:00,  3.10it/s]\n",
      "100%|██████████| 278/278 [01:00<00:00,  4.60it/s]\n"
     ]
    },
    {
     "name": "stdout",
     "output_type": "stream",
     "text": [
      "F1 score:  [0.98677611 0.         0.96603071 0.         0.         0.\n",
      " 0.         0.01401401 0.15506608 0.         0.         0.\n",
      " 0.        ]\n",
      "2023-09-19 03:50:45 Eopch 7, Training Loss 10.305877307256063, Val Loss 10.98325433233659, Weighted Loss 0.48300256328010527\n"
     ]
    },
    {
     "name": "stderr",
     "output_type": "stream",
     "text": [
      "100%|██████████| 900/900 [04:50<00:00,  3.10it/s]\n",
      "100%|██████████| 278/278 [01:00<00:00,  4.58it/s]\n"
     ]
    },
    {
     "name": "stdout",
     "output_type": "stream",
     "text": [
      "F1 score:  [0.98677611 0.         0.96603071 0.         0.         0.08650066\n",
      " 0.         0.43444531 0.23063063 0.         0.1364073  0.1184669\n",
      " 0.        ]\n",
      "2023-09-19 03:56:37 Eopch 8, Training Loss 10.155728449026743, Val Loss 10.84369301195625, Weighted Loss 0.4864020451946381\n"
     ]
    },
    {
     "name": "stderr",
     "output_type": "stream",
     "text": [
      "100%|██████████| 900/900 [04:50<00:00,  3.10it/s]\n",
      "100%|██████████| 278/278 [01:00<00:00,  4.63it/s]\n"
     ]
    },
    {
     "name": "stdout",
     "output_type": "stream",
     "text": [
      "F1 score:  [0.98677611 0.         0.96603071 0.         0.12623986 0.\n",
      " 0.         0.49335303 0.1615894  0.         0.         0.\n",
      " 0.        ]\n",
      "2023-09-19 04:02:29 Eopch 9, Training Loss 10.088518832789527, Val Loss 11.420096723295801, Weighted Loss 0.5153135607211817\n"
     ]
    },
    {
     "name": "stderr",
     "output_type": "stream",
     "text": [
      "100%|██████████| 900/900 [04:51<00:00,  3.09it/s]\n",
      "100%|██████████| 278/278 [01:00<00:00,  4.60it/s]\n"
     ]
    },
    {
     "name": "stdout",
     "output_type": "stream",
     "text": [
      "F1 score:  [0.98677611 0.         0.96603071 0.         0.27295285 0.\n",
      " 0.         0.19964029 0.15895372 0.         0.1068999  0.0875\n",
      " 0.        ]\n",
      "2023-09-19 04:08:22 Eopch 10, Training Loss 10.0555115281211, Val Loss 11.161548907808262, Weighted Loss 0.5029545853534138\n"
     ]
    },
    {
     "name": "stderr",
     "output_type": "stream",
     "text": [
      "100%|██████████| 900/900 [04:51<00:00,  3.09it/s]\n",
      "100%|██████████| 278/278 [01:01<00:00,  4.49it/s]\n"
     ]
    },
    {
     "name": "stdout",
     "output_type": "stream",
     "text": [
      "F1 score:  [0.98677611 0.         0.96603071 0.         0.02101242 0.\n",
      " 0.         0.14869888 0.16403785 0.         0.05220884 0.\n",
      " 0.        ]\n",
      "2023-09-19 04:14:17 Eopch 11, Training Loss 10.138657644059922, Val Loss 10.886168991061423, Weighted Loss 0.4979821187542813\n"
     ]
    },
    {
     "name": "stderr",
     "output_type": "stream",
     "text": [
      "100%|██████████| 900/900 [04:52<00:00,  3.08it/s]\n",
      "100%|██████████| 278/278 [01:06<00:00,  4.20it/s]\n"
     ]
    },
    {
     "name": "stdout",
     "output_type": "stream",
     "text": [
      "F1 score:  [0.98677611 0.         0.96603071 0.         0.         0.\n",
      " 0.         0.1923775  0.16352201 0.         0.03846154 0.\n",
      " 0.        ]\n",
      "2023-09-19 04:20:17 Eopch 12, Training Loss 9.989473423163096, Val Loss 10.84194731197769, Weighted Loss 0.532837173882934\n"
     ]
    },
    {
     "name": "stderr",
     "output_type": "stream",
     "text": [
      "100%|██████████| 900/900 [04:52<00:00,  3.08it/s]\n",
      "100%|██████████| 278/278 [01:03<00:00,  4.40it/s]\n"
     ]
    },
    {
     "name": "stdout",
     "output_type": "stream",
     "text": [
      "F1 score:  [0.98677611 0.         0.96603071 0.         0.34177215 0.09677419\n",
      " 0.         0.38095238 0.17811705 0.         0.27055703 0.11023622\n",
      " 0.        ]\n",
      "2023-09-19 04:26:14 Eopch 13, Training Loss 9.937427784601848, Val Loss 10.734364408383266, Weighted Loss 0.4854021327930724\n"
     ]
    },
    {
     "name": "stderr",
     "output_type": "stream",
     "text": [
      "100%|██████████| 900/900 [04:50<00:00,  3.09it/s]\n",
      "100%|██████████| 278/278 [00:59<00:00,  4.64it/s]\n"
     ]
    },
    {
     "name": "stdout",
     "output_type": "stream",
     "text": [
      "F1 score:  [0.98306636 0.         0.96603071 0.         0.58142665 0.\n",
      " 0.         0.35409836 0.18181818 0.         0.72065286 0.03883495\n",
      " 0.        ]\n",
      "2023-09-19 04:32:06 Eopch 14, Training Loss 9.86578310834037, Val Loss 11.709241600345365, Weighted Loss 0.4161761500466737\n"
     ]
    },
    {
     "name": "stderr",
     "output_type": "stream",
     "text": [
      "100%|██████████| 900/900 [04:51<00:00,  3.09it/s]\n",
      "100%|██████████| 278/278 [01:04<00:00,  4.34it/s]\n"
     ]
    },
    {
     "name": "stdout",
     "output_type": "stream",
     "text": [
      "F1 score:  [0.98585121 0.         0.96603071 0.         0.00769231 0.\n",
      " 0.         0.16236162 0.16339869 0.         0.         0.064\n",
      " 0.        ]\n",
      "2023-09-19 04:38:03 Eopch 15, Training Loss 9.8880971704589, Val Loss 10.880508923702102, Weighted Loss 0.5578771241350771\n"
     ]
    },
    {
     "name": "stderr",
     "output_type": "stream",
     "text": [
      "100%|██████████| 900/900 [04:51<00:00,  3.09it/s]\n",
      "100%|██████████| 278/278 [01:00<00:00,  4.57it/s]\n"
     ]
    },
    {
     "name": "stdout",
     "output_type": "stream",
     "text": [
      "F1 score:  [0.98677611 0.         0.96603071 0.         0.75882013 0.\n",
      " 0.         0.52608696 0.18152866 0.         0.70103093 0.\n",
      " 0.        ]\n",
      "2023-09-19 04:43:56 Eopch 16, Training Loss 9.743565282026927, Val Loss 11.565711094321108, Weighted Loss 0.3999042256894261\n"
     ]
    },
    {
     "name": "stderr",
     "output_type": "stream",
     "text": [
      "100%|██████████| 900/900 [04:50<00:00,  3.09it/s]\n",
      "100%|██████████| 278/278 [00:58<00:00,  4.72it/s]\n"
     ]
    },
    {
     "name": "stdout",
     "output_type": "stream",
     "text": [
      "F1 score:  [0.98677611 0.         0.96603071 0.         0.16799293 0.07407407\n",
      " 0.09302326 0.         0.14890017 0.         0.29895105 0.06363636\n",
      " 0.32692308]\n",
      "2023-09-19 04:49:48 Eopch 17, Training Loss 9.73729169925054, Val Loss 10.36038426272303, Weighted Loss 0.49958287303030513\n"
     ]
    },
    {
     "name": "stderr",
     "output_type": "stream",
     "text": [
      "100%|██████████| 900/900 [04:50<00:00,  3.10it/s]\n",
      "100%|██████████| 278/278 [01:01<00:00,  4.56it/s]\n"
     ]
    },
    {
     "name": "stdout",
     "output_type": "stream",
     "text": [
      "F1 score:  [0.98492462 0.         0.96506754 0.         0.09383625 0.12955466\n",
      " 0.         0.19125683 0.16956078 0.         0.12560386 0.09567198\n",
      " 0.16528926]\n",
      "2023-09-19 04:55:41 Eopch 18, Training Loss 9.575783449808757, Val Loss 10.466877270087922, Weighted Loss 0.556334185623197\n"
     ]
    },
    {
     "name": "stderr",
     "output_type": "stream",
     "text": [
      "100%|██████████| 900/900 [04:52<00:00,  3.08it/s]\n",
      "100%|██████████| 278/278 [01:11<00:00,  3.90it/s]\n"
     ]
    },
    {
     "name": "stdout",
     "output_type": "stream",
     "text": [
      "F1 score:  [0.98677611 0.         0.96603071 0.         0.46559297 0.1\n",
      " 0.08888889 0.45146379 0.19402985 0.         0.20129271 0.01652893\n",
      " 0.21134021]\n",
      "2023-09-19 05:01:47 Eopch 19, Training Loss 9.5234483077791, Val Loss 10.713937498682695, Weighted Loss 0.4890910256546688\n"
     ]
    },
    {
     "name": "stderr",
     "output_type": "stream",
     "text": [
      "100%|██████████| 900/900 [04:52<00:00,  3.08it/s]\n",
      "100%|██████████| 278/278 [00:59<00:00,  4.67it/s]\n"
     ]
    },
    {
     "name": "stdout",
     "output_type": "stream",
     "text": [
      "F1 score:  [0.98677611 0.         0.96603071 0.         0.80222841 0.05405405\n",
      " 0.         0.6977918  0.21495327 0.         0.40163934 0.09090909\n",
      " 0.27160494]\n",
      "2023-09-19 05:07:40 Eopch 20, Training Loss 9.440176541805267, Val Loss 10.889253068313325, Weighted Loss 0.42107906684136714\n"
     ]
    },
    {
     "name": "stderr",
     "output_type": "stream",
     "text": [
      "100%|██████████| 900/900 [04:51<00:00,  3.09it/s]\n",
      "100%|██████████| 278/278 [00:58<00:00,  4.74it/s]\n"
     ]
    },
    {
     "name": "stdout",
     "output_type": "stream",
     "text": [
      "F1 score:  [0.98677611 0.         0.96603071 0.         0.13165014 0.05\n",
      " 0.         0.40919905 0.18788628 0.         0.45862884 0.15384615\n",
      " 0.08163265]\n",
      "2023-09-19 05:13:31 Eopch 21, Training Loss 9.4020824514495, Val Loss 10.362263156784524, Weighted Loss 0.5050321476512352\n"
     ]
    },
    {
     "name": "stderr",
     "output_type": "stream",
     "text": [
      "100%|██████████| 900/900 [04:51<00:00,  3.09it/s]\n",
      "100%|██████████| 278/278 [00:59<00:00,  4.65it/s]\n"
     ]
    },
    {
     "name": "stdout",
     "output_type": "stream",
     "text": [
      "F1 score:  [0.98677611 0.         0.96603071 0.         0.44691908 0.07142857\n",
      " 0.         0.53372009 0.20397351 0.         0.503443   0.11888112\n",
      " 0.26666667]\n",
      "2023-09-19 05:19:25 Eopch 22, Training Loss 9.160354330539704, Val Loss 10.282580815630851, Weighted Loss 0.45770092834680953\n"
     ]
    },
    {
     "name": "stderr",
     "output_type": "stream",
     "text": [
      "100%|██████████| 900/900 [04:48<00:00,  3.12it/s]\n",
      "100%|██████████| 278/278 [00:58<00:00,  4.75it/s]\n"
     ]
    },
    {
     "name": "stdout",
     "output_type": "stream",
     "text": [
      "F1 score:  [0.98585121 0.         0.96554935 0.         0.57355932 0.08362369\n",
      " 0.         0.51361295 0.19799139 0.         0.22140897 0.10872675\n",
      " 0.28125   ]\n",
      "2023-09-19 05:25:14 Eopch 23, Training Loss 9.040381195280286, Val Loss 10.276592689023602, Weighted Loss 0.5070693698938084\n"
     ]
    },
    {
     "name": "stderr",
     "output_type": "stream",
     "text": [
      "100%|██████████| 900/900 [04:49<00:00,  3.11it/s]\n",
      "100%|██████████| 278/278 [01:00<00:00,  4.59it/s]\n"
     ]
    },
    {
     "name": "stdout",
     "output_type": "stream",
     "text": [
      "F1 score:  [0.98677611 0.         0.96554935 0.         0.56598639 0.11229947\n",
      " 0.06451613 0.4047619  0.18275418 0.         0.61004954 0.14177215\n",
      " 0.26315789]\n",
      "2023-09-19 05:31:06 Eopch 24, Training Loss 9.003461635112762, Val Loss 10.37413469192793, Weighted Loss 0.46928237280979807\n"
     ]
    },
    {
     "name": "stderr",
     "output_type": "stream",
     "text": [
      "100%|██████████| 900/900 [04:50<00:00,  3.09it/s]\n",
      "100%|██████████| 278/278 [00:59<00:00,  4.65it/s]\n"
     ]
    },
    {
     "name": "stdout",
     "output_type": "stream",
     "text": [
      "F1 score:  [0.98348624 0.14285714 0.95807819 0.1010101  0.67917448 0.09345794\n",
      " 0.         0.67058824 0.21006565 0.         0.67688208 0.14790997\n",
      " 0.33333333]\n",
      "2023-09-19 05:36:58 Eopch 25, Training Loss 8.809227921697829, Val Loss 10.173356005399347, Weighted Loss 0.4176260862851139\n"
     ]
    },
    {
     "name": "stderr",
     "output_type": "stream",
     "text": [
      "100%|██████████| 900/900 [04:53<00:00,  3.07it/s]\n",
      "100%|██████████| 278/278 [01:01<00:00,  4.56it/s]\n"
     ]
    },
    {
     "name": "stdout",
     "output_type": "stream",
     "text": [
      "F1 score:  [0.95578551 0.02083333 0.96410256 0.         0.60185185 0.08921933\n",
      " 0.07272727 0.49438202 0.20114943 0.09756098 0.42071197 0.14040562\n",
      " 0.28828829]\n",
      "2023-09-19 05:42:54 Eopch 26, Training Loss 8.818252040810055, Val Loss 10.263799949944449, Weighted Loss 0.5017894357114298\n"
     ]
    },
    {
     "name": "stderr",
     "output_type": "stream",
     "text": [
      "100%|██████████| 900/900 [04:51<00:00,  3.08it/s]\n",
      "100%|██████████| 278/278 [00:59<00:00,  4.67it/s]\n"
     ]
    },
    {
     "name": "stdout",
     "output_type": "stream",
     "text": [
      "F1 score:  [0.98672769 0.21621622 0.96261682 0.02439024 0.73159145 0.1\n",
      " 0.07317073 0.71064095 0.19646365 0.         0.50460123 0.16438356\n",
      " 0.33057851]\n",
      "2023-09-19 05:48:47 Eopch 27, Training Loss 8.674833469920689, Val Loss 10.830130212598567, Weighted Loss 0.41864019369436634\n"
     ]
    },
    {
     "name": "stderr",
     "output_type": "stream",
     "text": [
      "100%|██████████| 900/900 [04:49<00:00,  3.11it/s]\n",
      "100%|██████████| 278/278 [01:00<00:00,  4.63it/s]\n"
     ]
    },
    {
     "name": "stdout",
     "output_type": "stream",
     "text": [
      "F1 score:  [0.97974217 0.12       0.95660377 0.09803922 0.70588235 0.12260536\n",
      " 0.0952381  0.68458093 0.20168067 0.         0.82583622 0.14457831\n",
      " 0.42105263]\n",
      "2023-09-19 05:54:38 Eopch 28, Training Loss 8.497733639876047, Val Loss 10.60927370254942, Weighted Loss 0.373864370180773\n"
     ]
    },
    {
     "name": "stderr",
     "output_type": "stream",
     "text": [
      "100%|██████████| 900/900 [04:49<00:00,  3.11it/s]\n",
      "100%|██████████| 278/278 [01:02<00:00,  4.43it/s]\n"
     ]
    },
    {
     "name": "stdout",
     "output_type": "stream",
     "text": [
      "F1 score:  [0.98446069 0.         0.94561069 0.0952381  0.57489879 0.07453416\n",
      " 0.15668203 0.56413891 0.20364742 0.         0.64982935 0.13513514\n",
      " 0.29319372]\n",
      "2023-09-19 06:00:32 Eopch 29, Training Loss 8.381470173199972, Val Loss 10.389443567330888, Weighted Loss 0.45367130317604326\n"
     ]
    },
    {
     "name": "stderr",
     "output_type": "stream",
     "text": [
      "100%|██████████| 900/900 [04:50<00:00,  3.10it/s]\n",
      "100%|██████████| 278/278 [01:01<00:00,  4.52it/s]\n"
     ]
    },
    {
     "name": "stdout",
     "output_type": "stream",
     "text": [
      "F1 score:  [0.98631387 0.         0.96554935 0.         0.76860465 0.05333333\n",
      " 0.21818182 0.70728643 0.20664207 0.         0.73235855 0.17391304\n",
      " 0.24761905]\n",
      "2023-09-19 06:06:25 Eopch 30, Training Loss 8.380880272123548, Val Loss 10.831680521047373, Weighted Loss 0.39131052132088895\n",
      "Finish training: best_val:10.173356005399347, best_weighted loss:0.373864370180773\n"
     ]
    },
    {
     "data": {
      "text/html": [
       "Waiting for W&B process to finish... <strong style=\"color:green\">(success).</strong>"
      ],
      "text/plain": [
       "<IPython.core.display.HTML object>"
      ]
     },
     "metadata": {},
     "output_type": "display_data"
    },
    {
     "data": {
      "application/vnd.jupyter.widget-view+json": {
       "model_id": "7115a825dd794580b8cd0d2a058a44af",
       "version_major": 2,
       "version_minor": 0
      },
      "text/plain": [
       "VBox(children=(Label(value='0.011 MB of 0.011 MB uploaded (0.000 MB deduped)\\r'), FloatProgress(value=1.0, max…"
      ]
     },
     "metadata": {},
     "output_type": "display_data"
    },
    {
     "data": {
      "text/html": [
       "<style>\n",
       "    table.wandb td:nth-child(1) { padding: 0 10px; text-align: left ; width: auto;} td:nth-child(2) {text-align: left ; width: 100%}\n",
       "    .wandb-row { display: flex; flex-direction: row; flex-wrap: wrap; justify-content: flex-start; width: 100% }\n",
       "    .wandb-col { display: flex; flex-direction: column; flex-basis: 100%; flex: 1; padding: 10px; }\n",
       "    </style>\n",
       "<div class=\"wandb-row\"><div class=\"wandb-col\"><h3>Run history:</h3><br/><table class=\"wandb\"><tr><td>training loss</td><td>█▅▄▄▃▃▃▃▃▃▃▃▃▃▃▃▃▂▂▂▂▂▂▂▁▁▁▁▁▁</td></tr><tr><td>val loss</td><td>█▃▂▂▁▁▁▁▂▁▁▁▁▂▁▂▁▁▁▁▁▁▁▁▁▁▁▁▁▁</td></tr><tr><td>weighted loss</td><td>█▄▄▂▂▂▂▂▂▂▂▂▂▁▃▁▂▃▂▁▂▂▂▂▁▂▁▁▂▁</td></tr></table><br/></div><div class=\"wandb-col\"><h3>Run summary:</h3><br/><table class=\"wandb\"><tr><td>training loss</td><td>8.38088</td></tr><tr><td>val loss</td><td>10.83168</td></tr><tr><td>weighted loss</td><td>0.39131</td></tr></table><br/></div></div>"
      ],
      "text/plain": [
       "<IPython.core.display.HTML object>"
      ]
     },
     "metadata": {},
     "output_type": "display_data"
    },
    {
     "data": {
      "text/html": [
       " View run <strong style=\"color:#cdcd00\">EffNet_tune_normal_13class_posweight_patient</strong> at: <a href='https://wandb.ai/rsna2023/EffNet3D-tune/runs/3uu9djep' target=\"_blank\">https://wandb.ai/rsna2023/EffNet3D-tune/runs/3uu9djep</a><br/>Synced 5 W&B file(s), 0 media file(s), 0 artifact file(s) and 0 other file(s)"
      ],
      "text/plain": [
       "<IPython.core.display.HTML object>"
      ]
     },
     "metadata": {},
     "output_type": "display_data"
    },
    {
     "data": {
      "text/html": [
       "Find logs at: <code>./wandb/run-20230919_030924-3uu9djep/logs</code>"
      ],
      "text/plain": [
       "<IPython.core.display.HTML object>"
      ]
     },
     "metadata": {},
     "output_type": "display_data"
    }
   ],
   "source": [
    "net = EffNet(ch_out=13).to(device)\n",
    "\n",
    "optimizer = optim.AdamW(net.parameters(), lr=1e-4)\n",
    "TrainClassifer(model=net,trn_dl=train_dl,val_dl=val_dl,optimizer=optimizer, \n",
    "               scheduler=None, n_eopchs=30, device=device)"
   ]
  },
  {
   "cell_type": "code",
   "execution_count": 12,
   "id": "fb030008-fe75-4e5b-ae10-ec48fe71283e",
   "metadata": {},
   "outputs": [
    {
     "name": "stdout",
     "output_type": "stream",
     "text": [
      "metatensor([[ 5.4777, -2.1630,  3.7284, -1.0469,  1.3183,  0.7446, -1.0790,  1.4052,\n",
      "          1.0009, -1.1236,  1.8384,  0.3309, -1.9226],\n",
      "        [ 5.5490, -2.3044,  3.7017, -0.9131,  1.0832,  0.7730, -0.9335,  1.2717,\n",
      "          1.0988, -1.1344,  1.8401,  0.3495, -1.9262],\n",
      "        [ 4.6217, -1.2320,  3.2242, -0.6879,  1.6444,  0.5884, -1.1596,  1.6119,\n",
      "          0.8541, -1.1229,  1.5023,  0.3066, -1.4751],\n",
      "        [ 3.8422, -1.2337,  2.6608, -0.4747,  1.7175,  0.3330, -0.9043,  1.1602,\n",
      "          0.5149, -0.4375,  0.4147, -0.0238,  0.0256]], device='cuda:0',\n",
      "       grad_fn=<AliasBackward0>)\n",
      "tensor([[1., 0., 0., 1., 0., 1., 0., 1., 0., 0., 0., 0., 1.],\n",
      "        [1., 0., 0., 1., 0., 1., 0., 1., 0., 0., 0., 0., 1.],\n",
      "        [1., 0., 1., 0., 1., 0., 0., 1., 0., 0., 1., 0., 0.],\n",
      "        [1., 0., 1., 0., 1., 0., 0., 1., 0., 0., 1., 0., 0.]])\n"
     ]
    }
   ],
   "source": [
    "net = EffNet(ch_out=13).to(device)\n",
    "net.load_state_dict(torch.load('model_tmp.pt'))\n",
    "net.eval()\n",
    "imgs, labels = next(iter(val_dl))\n",
    "print(net(imgs.to(device)))\n",
    "print(labels)"
   ]
  },
  {
   "cell_type": "code",
   "execution_count": null,
   "id": "5ea32f1f-f90f-4ddb-9bd2-b6a96883d34c",
   "metadata": {},
   "outputs": [],
   "source": []
  }
 ],
 "metadata": {
  "kernelspec": {
   "display_name": "Python 3 (ipykernel)",
   "language": "python",
   "name": "python3"
  },
  "language_info": {
   "codemirror_mode": {
    "name": "ipython",
    "version": 3
   },
   "file_extension": ".py",
   "mimetype": "text/x-python",
   "name": "python",
   "nbconvert_exporter": "python",
   "pygments_lexer": "ipython3",
   "version": "3.8.10"
  }
 },
 "nbformat": 4,
 "nbformat_minor": 5
}
