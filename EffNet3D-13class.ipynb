{
 "cells": [
  {
   "cell_type": "code",
   "execution_count": 1,
   "id": "9043fd6d-b1e7-4d89-9aa8-4366f05b96da",
   "metadata": {},
   "outputs": [],
   "source": [
    "import numpy as np\n",
    "import pandas as pd\n",
    "import matplotlib.pyplot as plt\n",
    "\n",
    "import os\n",
    "import random\n",
    "import re\n",
    "\n",
    "from tqdm import tqdm\n",
    "import time\n",
    "\n",
    "import pydicom as dicom\n",
    "import nibabel as nib\n",
    "import SimpleITK as sitk\n",
    "import monai\n",
    "\n",
    "import torch\n",
    "import torch.nn as nn\n",
    "import torch.optim as optim\n",
    "\n",
    "from monai.networks.nets import EfficientNetBN\n",
    "from monai.networks.nets import ResNet\n",
    "#from efficientnet_pytorch import EfficientNet\n",
    "\n",
    "import wandb\n"
   ]
  },
  {
   "cell_type": "code",
   "execution_count": 2,
   "id": "690ffede-d1d3-43c2-a78f-615e25abf55f",
   "metadata": {},
   "outputs": [
    {
     "name": "stdout",
     "output_type": "stream",
     "text": [
      "Finish seeding with seed 344\n",
      "Training on device cuda\n"
     ]
    }
   ],
   "source": [
    "SEED = 344\n",
    "device = torch.device('cuda' if torch.cuda.is_available() else 'cpu')\n",
    "def seed_everything(seed):\n",
    "    random.seed(seed)\n",
    "    os.environ['PYTHONHASHSEED'] = str(seed)\n",
    "    np.random.seed(seed)\n",
    "    torch.manual_seed(seed)\n",
    "    torch.cuda.manual_seed(seed)\n",
    "    torch.backends.cudnn.deterministic = True # Fix the network according to random seed\n",
    "    print('Finish seeding with seed {}'.format(seed))\n",
    "    \n",
    "seed_everything(SEED)\n",
    "print('Training on device {}'.format(device))"
   ]
  },
  {
   "cell_type": "code",
   "execution_count": 3,
   "id": "94622e17-ad1b-4755-a50f-e817afc9d23c",
   "metadata": {},
   "outputs": [
    {
     "data": {
      "text/html": [
       "<div>\n",
       "<style scoped>\n",
       "    .dataframe tbody tr th:only-of-type {\n",
       "        vertical-align: middle;\n",
       "    }\n",
       "\n",
       "    .dataframe tbody tr th {\n",
       "        vertical-align: top;\n",
       "    }\n",
       "\n",
       "    .dataframe thead th {\n",
       "        text-align: right;\n",
       "    }\n",
       "</style>\n",
       "<table border=\"1\" class=\"dataframe\">\n",
       "  <thead>\n",
       "    <tr style=\"text-align: right;\">\n",
       "      <th></th>\n",
       "      <th>patient_id</th>\n",
       "      <th>bowel_healthy</th>\n",
       "      <th>bowel_injury</th>\n",
       "      <th>extravasation_healthy</th>\n",
       "      <th>extravasation_injury</th>\n",
       "      <th>kidney_healthy</th>\n",
       "      <th>kidney_low</th>\n",
       "      <th>kidney_high</th>\n",
       "      <th>liver_healthy</th>\n",
       "      <th>liver_low</th>\n",
       "      <th>liver_high</th>\n",
       "      <th>spleen_healthy</th>\n",
       "      <th>spleen_low</th>\n",
       "      <th>spleen_high</th>\n",
       "      <th>any_injury</th>\n",
       "    </tr>\n",
       "  </thead>\n",
       "  <tbody>\n",
       "    <tr>\n",
       "      <th>0</th>\n",
       "      <td>10004</td>\n",
       "      <td>1</td>\n",
       "      <td>0</td>\n",
       "      <td>0</td>\n",
       "      <td>1</td>\n",
       "      <td>0</td>\n",
       "      <td>1</td>\n",
       "      <td>0</td>\n",
       "      <td>1</td>\n",
       "      <td>0</td>\n",
       "      <td>0</td>\n",
       "      <td>0</td>\n",
       "      <td>0</td>\n",
       "      <td>1</td>\n",
       "      <td>1</td>\n",
       "    </tr>\n",
       "    <tr>\n",
       "      <th>1</th>\n",
       "      <td>10005</td>\n",
       "      <td>1</td>\n",
       "      <td>0</td>\n",
       "      <td>1</td>\n",
       "      <td>0</td>\n",
       "      <td>1</td>\n",
       "      <td>0</td>\n",
       "      <td>0</td>\n",
       "      <td>1</td>\n",
       "      <td>0</td>\n",
       "      <td>0</td>\n",
       "      <td>1</td>\n",
       "      <td>0</td>\n",
       "      <td>0</td>\n",
       "      <td>0</td>\n",
       "    </tr>\n",
       "    <tr>\n",
       "      <th>2</th>\n",
       "      <td>10007</td>\n",
       "      <td>1</td>\n",
       "      <td>0</td>\n",
       "      <td>1</td>\n",
       "      <td>0</td>\n",
       "      <td>1</td>\n",
       "      <td>0</td>\n",
       "      <td>0</td>\n",
       "      <td>1</td>\n",
       "      <td>0</td>\n",
       "      <td>0</td>\n",
       "      <td>1</td>\n",
       "      <td>0</td>\n",
       "      <td>0</td>\n",
       "      <td>0</td>\n",
       "    </tr>\n",
       "    <tr>\n",
       "      <th>3</th>\n",
       "      <td>10026</td>\n",
       "      <td>1</td>\n",
       "      <td>0</td>\n",
       "      <td>1</td>\n",
       "      <td>0</td>\n",
       "      <td>1</td>\n",
       "      <td>0</td>\n",
       "      <td>0</td>\n",
       "      <td>1</td>\n",
       "      <td>0</td>\n",
       "      <td>0</td>\n",
       "      <td>1</td>\n",
       "      <td>0</td>\n",
       "      <td>0</td>\n",
       "      <td>0</td>\n",
       "    </tr>\n",
       "    <tr>\n",
       "      <th>4</th>\n",
       "      <td>10051</td>\n",
       "      <td>1</td>\n",
       "      <td>0</td>\n",
       "      <td>1</td>\n",
       "      <td>0</td>\n",
       "      <td>1</td>\n",
       "      <td>0</td>\n",
       "      <td>0</td>\n",
       "      <td>1</td>\n",
       "      <td>0</td>\n",
       "      <td>0</td>\n",
       "      <td>0</td>\n",
       "      <td>1</td>\n",
       "      <td>0</td>\n",
       "      <td>1</td>\n",
       "    </tr>\n",
       "    <tr>\n",
       "      <th>...</th>\n",
       "      <td>...</td>\n",
       "      <td>...</td>\n",
       "      <td>...</td>\n",
       "      <td>...</td>\n",
       "      <td>...</td>\n",
       "      <td>...</td>\n",
       "      <td>...</td>\n",
       "      <td>...</td>\n",
       "      <td>...</td>\n",
       "      <td>...</td>\n",
       "      <td>...</td>\n",
       "      <td>...</td>\n",
       "      <td>...</td>\n",
       "      <td>...</td>\n",
       "      <td>...</td>\n",
       "    </tr>\n",
       "    <tr>\n",
       "      <th>3142</th>\n",
       "      <td>9951</td>\n",
       "      <td>1</td>\n",
       "      <td>0</td>\n",
       "      <td>1</td>\n",
       "      <td>0</td>\n",
       "      <td>1</td>\n",
       "      <td>0</td>\n",
       "      <td>0</td>\n",
       "      <td>1</td>\n",
       "      <td>0</td>\n",
       "      <td>0</td>\n",
       "      <td>1</td>\n",
       "      <td>0</td>\n",
       "      <td>0</td>\n",
       "      <td>0</td>\n",
       "    </tr>\n",
       "    <tr>\n",
       "      <th>3143</th>\n",
       "      <td>9960</td>\n",
       "      <td>1</td>\n",
       "      <td>0</td>\n",
       "      <td>1</td>\n",
       "      <td>0</td>\n",
       "      <td>1</td>\n",
       "      <td>0</td>\n",
       "      <td>0</td>\n",
       "      <td>1</td>\n",
       "      <td>0</td>\n",
       "      <td>0</td>\n",
       "      <td>1</td>\n",
       "      <td>0</td>\n",
       "      <td>0</td>\n",
       "      <td>0</td>\n",
       "    </tr>\n",
       "    <tr>\n",
       "      <th>3144</th>\n",
       "      <td>9961</td>\n",
       "      <td>1</td>\n",
       "      <td>0</td>\n",
       "      <td>1</td>\n",
       "      <td>0</td>\n",
       "      <td>1</td>\n",
       "      <td>0</td>\n",
       "      <td>0</td>\n",
       "      <td>1</td>\n",
       "      <td>0</td>\n",
       "      <td>0</td>\n",
       "      <td>1</td>\n",
       "      <td>0</td>\n",
       "      <td>0</td>\n",
       "      <td>0</td>\n",
       "    </tr>\n",
       "    <tr>\n",
       "      <th>3145</th>\n",
       "      <td>9980</td>\n",
       "      <td>1</td>\n",
       "      <td>0</td>\n",
       "      <td>1</td>\n",
       "      <td>0</td>\n",
       "      <td>1</td>\n",
       "      <td>0</td>\n",
       "      <td>0</td>\n",
       "      <td>1</td>\n",
       "      <td>0</td>\n",
       "      <td>0</td>\n",
       "      <td>0</td>\n",
       "      <td>0</td>\n",
       "      <td>1</td>\n",
       "      <td>1</td>\n",
       "    </tr>\n",
       "    <tr>\n",
       "      <th>3146</th>\n",
       "      <td>9983</td>\n",
       "      <td>1</td>\n",
       "      <td>0</td>\n",
       "      <td>1</td>\n",
       "      <td>0</td>\n",
       "      <td>1</td>\n",
       "      <td>0</td>\n",
       "      <td>0</td>\n",
       "      <td>1</td>\n",
       "      <td>0</td>\n",
       "      <td>0</td>\n",
       "      <td>0</td>\n",
       "      <td>0</td>\n",
       "      <td>1</td>\n",
       "      <td>1</td>\n",
       "    </tr>\n",
       "  </tbody>\n",
       "</table>\n",
       "<p>3147 rows × 15 columns</p>\n",
       "</div>"
      ],
      "text/plain": [
       "      patient_id  bowel_healthy  bowel_injury  extravasation_healthy  \\\n",
       "0          10004              1             0                      0   \n",
       "1          10005              1             0                      1   \n",
       "2          10007              1             0                      1   \n",
       "3          10026              1             0                      1   \n",
       "4          10051              1             0                      1   \n",
       "...          ...            ...           ...                    ...   \n",
       "3142        9951              1             0                      1   \n",
       "3143        9960              1             0                      1   \n",
       "3144        9961              1             0                      1   \n",
       "3145        9980              1             0                      1   \n",
       "3146        9983              1             0                      1   \n",
       "\n",
       "      extravasation_injury  kidney_healthy  kidney_low  kidney_high  \\\n",
       "0                        1               0           1            0   \n",
       "1                        0               1           0            0   \n",
       "2                        0               1           0            0   \n",
       "3                        0               1           0            0   \n",
       "4                        0               1           0            0   \n",
       "...                    ...             ...         ...          ...   \n",
       "3142                     0               1           0            0   \n",
       "3143                     0               1           0            0   \n",
       "3144                     0               1           0            0   \n",
       "3145                     0               1           0            0   \n",
       "3146                     0               1           0            0   \n",
       "\n",
       "      liver_healthy  liver_low  liver_high  spleen_healthy  spleen_low  \\\n",
       "0                 1          0           0               0           0   \n",
       "1                 1          0           0               1           0   \n",
       "2                 1          0           0               1           0   \n",
       "3                 1          0           0               1           0   \n",
       "4                 1          0           0               0           1   \n",
       "...             ...        ...         ...             ...         ...   \n",
       "3142              1          0           0               1           0   \n",
       "3143              1          0           0               1           0   \n",
       "3144              1          0           0               1           0   \n",
       "3145              1          0           0               0           0   \n",
       "3146              1          0           0               0           0   \n",
       "\n",
       "      spleen_high  any_injury  \n",
       "0               1           1  \n",
       "1               0           0  \n",
       "2               0           0  \n",
       "3               0           0  \n",
       "4               0           1  \n",
       "...           ...         ...  \n",
       "3142            0           0  \n",
       "3143            0           0  \n",
       "3144            0           0  \n",
       "3145            1           1  \n",
       "3146            1           1  \n",
       "\n",
       "[3147 rows x 15 columns]"
      ]
     },
     "execution_count": 3,
     "metadata": {},
     "output_type": "execute_result"
    }
   ],
   "source": [
    "dicom_tag_columns = [\n",
    "    'Columns',\n",
    "    'ImageOrientationPatient',\n",
    "    'ImagePositionPatient',\n",
    "    'InstanceNumber',\n",
    "    'PatientID',\n",
    "    'PatientPosition',\n",
    "    'PixelSpacing',\n",
    "    'RescaleIntercept',\n",
    "    'RescaleSlope',\n",
    "    'Rows',\n",
    "    'SeriesNumber',\n",
    "    'SliceThickness',\n",
    "    'path',\n",
    "    'WindowCenter',\n",
    "    'WindowWidth'\n",
    "]\n",
    "\n",
    "train_dicom_tags = pd.read_parquet('autodl-tmp/train_dicom_tags.parquet', columns=dicom_tag_columns)\n",
    "test_dicom_tags = pd.read_parquet('autodl-tmp/test_dicom_tags.parquet', columns=dicom_tag_columns)\n",
    "\n",
    "train_series_meta = pd.read_csv('autodl-tmp/train_series_meta.csv')\n",
    "test_series_meta = pd.read_csv('autodl-tmp/test_series_meta.csv')\n",
    "\n",
    "train_csv = pd.read_csv('autodl-tmp/train.csv')\n",
    "\n",
    "train_csv"
   ]
  },
  {
   "cell_type": "code",
   "execution_count": 4,
   "id": "d18b3467-e445-4953-b56b-4705fa9095c5",
   "metadata": {},
   "outputs": [],
   "source": [
    "injury_series_meta = train_series_meta.loc[train_series_meta.patient_id.isin(train_csv.loc[train_csv.any_injury == 1, \"patient_id\"].values)]\n",
    "healthy_series_meta = train_series_meta.loc[train_series_meta.patient_id.isin(train_csv.loc[train_csv.any_injury == 0, \"patient_id\"].values)]"
   ]
  },
  {
   "cell_type": "code",
   "execution_count": 5,
   "id": "5e0777da-72c7-457c-a455-12d412194d2f",
   "metadata": {},
   "outputs": [],
   "source": [
    "def raw_path_gen(patient_id, series_id, train=True):\n",
    "    if(train):\n",
    "        path = 'autodl-tmp/train_images_resample/'\n",
    "    else:\n",
    "        path = 'autodl-tmp/train_images_resample/'\n",
    "    \n",
    "    path += str(patient_id) + '/' + str(series_id)\n",
    "    \n",
    "    return path\n",
    "\n",
    "def create_3D_scans(folder, downsample_rate=1): \n",
    "    filenames = os.listdir(folder)\n",
    "    filenames = [int(filename.split('.')[0]) for filename in filenames]\n",
    "    filenames = sorted(filenames)\n",
    "    filenames = [str(filename) + '.dcm' for filename in filenames]\n",
    "        \n",
    "    volume = []\n",
    "    #for filename in tqdm(filenames[::downsample_rate], position=0): \n",
    "    for filename in filenames[::downsample_rate]: \n",
    "        filepath = os.path.join(folder, filename)\n",
    "        ds = dicom.dcmread(filepath)\n",
    "        image = ds.pixel_array\n",
    "        \n",
    "        if ds.PixelRepresentation == 1:\n",
    "            bit_shift = ds.BitsAllocated - ds.BitsStored\n",
    "            dtype = image.dtype \n",
    "            image = (image << bit_shift).astype(dtype) >>  bit_shift\n",
    "        \n",
    "        # find rescale params\n",
    "        if (\"RescaleIntercept\" in ds) and (\"RescaleSlope\" in ds):\n",
    "            intercept = float(ds.RescaleIntercept)\n",
    "            slope = float(ds.RescaleSlope)\n",
    "    \n",
    "        # find clipping params\n",
    "        center = int(ds.WindowCenter)\n",
    "        width = int(ds.WindowWidth)\n",
    "        low = center - width / 2\n",
    "        high = center + width / 2    \n",
    "        \n",
    "        \n",
    "        image = (image * slope) + intercept\n",
    "        image = np.clip(image, low, high)\n",
    "\n",
    "        image = (image / np.max(image) * 255).astype(np.int16)\n",
    "        image = image[::downsample_rate, ::downsample_rate]\n",
    "        volume.append( image )\n",
    "    \n",
    "    volume = np.stack(volume, axis=0)\n",
    "    return volume\n",
    "\n",
    "def plot_image_with_seg(volume, volume_seg=[], orientation='Coronal', num_subplots=20):\n",
    "    # simply copy\n",
    "    if len(volume_seg) == 0:\n",
    "        plot_mask = 0\n",
    "    else:\n",
    "        plot_mask = 1\n",
    "        \n",
    "    if orientation == 'Coronal':\n",
    "        slices = np.linspace(0, volume.shape[2]-1, num_subplots).astype(np.int16)\n",
    "        volume = volume.transpose([1, 0, 2])\n",
    "        if plot_mask:\n",
    "            volume_seg = volume_seg.transpose([1, 0, 2])\n",
    "        \n",
    "    elif orientation == 'Sagittal':\n",
    "        slices = np.linspace(0, volume.shape[2]-1, num_subplots).astype(np.int16)\n",
    "        volume = volume.transpose([2, 0, 1])\n",
    "        if plot_mask:\n",
    "            volume_seg = volume_seg.transpose([2, 0, 1])\n",
    "\n",
    "    elif orientation == 'Axial':\n",
    "        slices = np.linspace(0, volume.shape[0]-1, num_subplots).astype(np.int16)\n",
    "           \n",
    "    rows = np.max( [np.floor(np.sqrt(num_subplots)).astype(int) - 2, 1])\n",
    "    cols = np.ceil(num_subplots/rows).astype(int)\n",
    "    \n",
    "    fig, ax = plt.subplots(rows, cols, figsize=(cols * 2, rows * 4))\n",
    "    fig.tight_layout(h_pad=0.01, w_pad=0)\n",
    "    \n",
    "    ax = ax.ravel()\n",
    "    for this_ax in ax:\n",
    "        this_ax.axis('off')\n",
    "\n",
    "    for counter, this_slice in enumerate( slices ):\n",
    "        plt.sca(ax[counter])\n",
    "        \n",
    "        image = volume[this_slice, :, :]\n",
    "        plt.imshow(image, cmap='gray')\n",
    "        \n",
    "        if plot_mask:\n",
    "            mask = np.where(volume_seg[this_slice, :, :], volume_seg[this_slice, :, :], np.nan)\n",
    "            plt.imshow(mask, cmap='Set1', alpha=0.5)\n",
    "            \n",
    "def load_nii(patient_id, series_id, root='autodl-tmp/train_images_resample/'):\n",
    "    path = root + str(patient_id) + '/' + str(series_id) + '.nii.gz'\n",
    "    img = sitk.ReadImage(path)\n",
    "    img = sitk.GetArrayFromImage(img)\n",
    "    \n",
    "    # img = nib.load(path)\n",
    "    # img = img.get_fdata().transpose(2, 1, 0)\n",
    "    \n",
    "    return img"
   ]
  },
  {
   "cell_type": "code",
   "execution_count": 6,
   "id": "d7d68861-c262-421d-a7a0-8124c0449fa3",
   "metadata": {},
   "outputs": [],
   "source": [
    "# t = monai.transforms.Compose([#monai.transforms.NormalizeIntensity(),\n",
    "#                                     monai.transforms.RandRotate(range_x=3.14 / 12, prob=1),\n",
    "#                                     monai.transforms.SpatialPad(spatial_size=(176, 140, 140), mode=\"edge\"),\n",
    "#                                     monai.transforms.RandSpatialCrop(roi_size=(160, 128, 128), random_size=False),\n",
    "#                                 ])\n",
    "# img_t = t(np.expand_dims(img_a[::2, ::2, ::2], 0)).numpy().squeeze(0)\n",
    "# img_t[:, 0, :]\n",
    "# plot_image_with_seg(img_t, orientation='Axial', num_subplots=7)\n",
    "# plot_image_with_seg(img_t, orientation='Sagittal', num_subplots=7)"
   ]
  },
  {
   "cell_type": "code",
   "execution_count": 7,
   "id": "a7a12ecb-17d7-4418-b146-51d94d7ce15e",
   "metadata": {},
   "outputs": [],
   "source": [
    "from torch.utils.data import Dataset\n",
    "from torch.utils.data import DataLoader\n",
    "\n",
    "ds = 2\n",
    "\n",
    "class CTDataset(Dataset):\n",
    "    def __init__(self, root='autodl-tmp/train_images_resample/', augmentation=False, meta=train_series_meta, device='cpu'):\n",
    "        self.device = device\n",
    "        self.series_meta = meta\n",
    "        self.root = root\n",
    "        self.t = monai.transforms.Compose([monai.transforms.RandZoom(prob=0.5, min_zoom=0.9, max_zoom=1.1),\n",
    "                                           monai.transforms.RandRotate(range_x=3.14 / 24, prob=0.5),\n",
    "                                           monai.transforms.SpatialPad(spatial_size=(352//ds, 280//ds, 280//ds), mode=\"edge\"),\n",
    "                                           monai.transforms.RandSpatialCrop(roi_size=(320//ds, 256//ds, 256//ds), random_size=False),\n",
    "                                           monai.transforms.NormalizeIntensity(divisor = 400)\n",
    "                                ])\n",
    "        self.t_val = monai.transforms.Compose([monai.transforms.NormalizeIntensity(divisor = 400)])\n",
    "        \n",
    "        self.aug = augmentation\n",
    "        \n",
    "    def __len__(self):\n",
    "        #return 1100\n",
    "        return len(self.series_meta)\n",
    "    \n",
    "    def __getitem__(self, idx):\n",
    "\n",
    "        patient_id, series_id = self.series_meta.loc[idx, [\"patient_id\", \"series_id\"]].astype('int')\n",
    "        img_a = load_nii(patient_id, series_id, self.root).astype('float32')\n",
    "        #img_t = torch.from_numpy(img_a).unsqueeze(0)\n",
    "        #img_t = torch.from_numpy(img_a[::2, ::2, ::2]).unsqueeze(0)\n",
    "        if(self.aug):\n",
    "            img_t = self.t(np.expand_dims(img_a[::ds, ::ds, ::ds], 0))\n",
    "        else:\n",
    "            #img_t = torch.from_numpy(img_a[::ds, ::ds, ::ds]).unsqueeze(0)\n",
    "            img_t = self.t_val(np.expand_dims(img_a[::ds, ::ds, ::ds], 0))\n",
    "        label_columns = [\n",
    "            'bowel_healthy',\n",
    "            'bowel_injury',\n",
    "            'extravasation_healthy',\n",
    "            'extravasation_injury',\n",
    "            'kidney_healthy',\n",
    "            'kidney_low',\n",
    "            'kidney_high',\n",
    "            'liver_healthy',\n",
    "            'liver_low',\n",
    "            'liver_high',\n",
    "            'spleen_healthy',\n",
    "            'spleen_low',\n",
    "            'spleen_high',\n",
    "            #'any_injury'\n",
    "        ]\n",
    "        label_a = train_csv.loc[train_csv.patient_id == patient_id, label_columns].values[0].astype('float32')\n",
    "        label_t = torch.from_numpy(label_a)\n",
    "        return img_t, label_t"
   ]
  },
  {
   "cell_type": "code",
   "execution_count": 8,
   "id": "b372cbd7-461d-43cf-8cfa-bc17510c4bcb",
   "metadata": {},
   "outputs": [],
   "source": [
    "train_meta = train_series_meta[-3600:].reset_index()\n",
    "val_meta = train_series_meta[0:-3600].reset_index()\n",
    "\n",
    "# train_meta = injury_series_meta[-800:].reset_index()\n",
    "# val_meta = injury_series_meta[0:-800].reset_index()\n",
    "\n",
    "train_ds = CTDataset(meta = train_meta, augmentation=True)\n",
    "train_dl = DataLoader(train_ds, batch_size=4, shuffle=True, num_workers=8)\n",
    "\n",
    "val_ds = CTDataset(meta = val_meta, augmentation=False)\n",
    "val_dl = DataLoader(val_ds, batch_size=4, shuffle=False, num_workers=8)"
   ]
  },
  {
   "cell_type": "code",
   "execution_count": 9,
   "id": "66fe12cf-0044-4d16-96f7-d8e22242bc15",
   "metadata": {},
   "outputs": [],
   "source": [
    "class EffNet(nn.Module):\n",
    "    def __init__(self, ch_out=9):\n",
    "        super(EffNet, self).__init__()\n",
    "        #self.conv_in = nn.Conv3d(1, 3, kernel_size=5, padding=2, stride=2)\n",
    "        self.net = EfficientNetBN(\"efficientnet-b0\", pretrained=False, progress=False, spatial_dims=3, in_channels=1, num_classes=ch_out,)\n",
    "    def forward(self, x):\n",
    "        #x = self.conv_in(x)\n",
    "        #return torch.sigmoid(self.net(x))\n",
    "        return self.net(x)"
   ]
  },
  {
   "cell_type": "code",
   "execution_count": 10,
   "id": "cbacca9e-f922-4179-be41-2214a8987f1b",
   "metadata": {},
   "outputs": [
    {
     "name": "stdout",
     "output_type": "stream",
     "text": [
      "Linear(in_features=1280, out_features=9, bias=True)\n"
     ]
    }
   ],
   "source": [
    "print(EffNet().net._fc)"
   ]
  },
  {
   "cell_type": "code",
   "execution_count": 11,
   "id": "54d2f8dc-d149-49b6-b7a0-d1ad7742bdc5",
   "metadata": {},
   "outputs": [],
   "source": [
    "import sklearn.metrics\n",
    "\n",
    "def transform_9class(label_in):\n",
    "    label_out = [1 - label_in[0],\n",
    "                   label_in[0],\n",
    "                    1- label_in[1],\n",
    "                   label_in[1],\n",
    "                   (1 - label_in[2]) * (1 - label_in[3]),\n",
    "                   label_in[2],\n",
    "                   label_in[3],\n",
    "                   (1 - label_in[4]) * (1 - label_in[5]),\n",
    "                    label_in[4],\n",
    "                   label_in[5],\n",
    "                   (1 - label_in[6]) * (1 - label_in[7]),\n",
    "                   label_in[6],\n",
    "                   label_in[7]]\n",
    "    return label_out\n",
    "\n",
    "def transform_13class(label_in):\n",
    "    label_out = label_in\n",
    "    return label_out.tolist()\n",
    "\n",
    "\n",
    "def loss_metrics(metrics, transform):\n",
    "    preds = [transform(x) for x in metrics[\"predict\"]]\n",
    "    targets = [transform(x) for x in metrics[\"label\"]]\n",
    "    targets_any_injury = metrics[\"label\"][:, -1]\n",
    "    \n",
    "    loss_list = []\n",
    "    \n",
    "    print(\"F1 score: \", sklearn.metrics.f1_score(metrics[\"label\"], np.around(metrics[\"predict\"]), average=None, zero_division=0.0))\n",
    "    print(\"AUC score: \", sklearn.metrics.roc_auc_score(metrics[\"label\"], metrics[\"predict\"], average=None))\n",
    "    \n",
    "    for i in range(0, len(preds)):\n",
    "        predict = preds[i]\n",
    "        target = targets[i]\n",
    "        \n",
    "        label_pred = np.zeros(14)\n",
    "        label_pred[0] = predict[0] / (predict[0] + predict[1])\n",
    "        label_pred[1] = predict[1] / (predict[0] + predict[1])\n",
    "        label_pred[2] = predict[2] / (predict[2] + predict[3])\n",
    "        label_pred[3] = predict[3] / (predict[2] + predict[3])\n",
    "        label_pred[4] = predict[4] / (predict[4] + predict[5] + predict[6])\n",
    "        label_pred[5] = predict[5] / (predict[4] + predict[5] + predict[6])\n",
    "        label_pred[6] = predict[6] / (predict[4] + predict[5] + predict[6])\n",
    "        label_pred[7] = predict[7] / (predict[7] + predict[8] + predict[9])\n",
    "        label_pred[8] = predict[8] / (predict[7] + predict[8] + predict[9])\n",
    "        label_pred[9] = predict[9] / (predict[7] + predict[8] + predict[9])\n",
    "        label_pred[10] = predict[10] / (predict[10] + predict[11] + predict[12])\n",
    "        label_pred[11] = predict[11] / (predict[10] + predict[11] + predict[12])\n",
    "        label_pred[12] = predict[12] / (predict[10] + predict[11] + predict[12])\n",
    "        label_pred[13] = max([1 - label_pred[x] for x in [0, 2, 4, 7, 10]])\n",
    "        \n",
    "        targets_any_injury = max([1 - target[x] for x in [0, 2, 4, 7, 10]])\n",
    "        \n",
    "        target.append(targets_any_injury)\n",
    "        label_target = np.array(target)\n",
    "        \n",
    "        weight = np.array([1, 2, 1, 6, 1, 2, 4, 1, 2, 4, 1, 2, 4, 6])\n",
    "        \n",
    "        loss_list.append(sklearn.metrics.log_loss(\n",
    "            y_true=label_target,\n",
    "            y_pred=label_pred,\n",
    "            sample_weight=weight))\n",
    "    #print(\"Weighted Loss: \" + np.mean(loss_list))\n",
    "    \n",
    "    return np.mean(loss_list)\n",
    "        \n",
    "    \n",
    "    \n",
    "    #print(np.array(preds).shape)\n",
    "    "
   ]
  },
  {
   "cell_type": "code",
   "execution_count": 12,
   "id": "b9b0b2a5-7151-4764-baa9-682316079e1b",
   "metadata": {},
   "outputs": [],
   "source": [
    "# torch.cuda.empty_cache()\n",
    "\n",
    "# net = EffNet(ch_out=8).to(device)\n",
    "# #net.load_state_dict(torch.load('EffNet3D/test_metrics.pt'))\n",
    "\n",
    "# imgs, labels = next(iter(val_dl))\n",
    "\n",
    "# outputs = net(imgs.to(device))"
   ]
  },
  {
   "cell_type": "code",
   "execution_count": 13,
   "id": "767c1edd-7c25-4168-a49c-ee569a06f4cb",
   "metadata": {},
   "outputs": [],
   "source": [
    "# print(outputs)\n",
    "# print(labels)\n",
    "\n",
    "# metrics = {\"predict\": outputs.to('cpu').detach().numpy(),\n",
    "#           \"label\": labels.to('cpu').detach().numpy()}\n",
    "\n",
    "# loss_metrics(metrics, transform_9class)\n"
   ]
  },
  {
   "cell_type": "code",
   "execution_count": 14,
   "id": "c1bbcd20-d1fb-437e-9d52-ed3daede5624",
   "metadata": {},
   "outputs": [],
   "source": [
    "import copy\n",
    "\n",
    "def TrainClassifer(model,trn_dl,val_dl,optimizer, project, name, suffix, scheduler=None,\n",
    "                   n_eopchs=20, device='cpu'):\n",
    " \n",
    "    #loss_fn = nn.BCELoss(weight=torch.Tensor([1, 6, 1, 6, 1, 4, 8, 1, 4, 8, 1, 4, 8]).to(device))\n",
    "    #loss_fn = nn.BCELoss()\n",
    "    loss_fn = nn.BCEWithLogitsLoss(pos_weight=torch.Tensor([1, 30, 1, 15, 1, 30, 30, 1, 18, 18, 1, 18, 18]).to(device))\n",
    "    model.to(device)\n",
    "    best_model = copy.deepcopy(model)\n",
    "    bestweight_model = copy.deepcopy(model)\n",
    "    best_val = 999.0\n",
    "    best_weightloss = 999.0\n",
    "    metrics = {'predict': [], 'label' : []}\n",
    "    PATH_MODEL2 = project + '/' + name + '/' + suffix + '.pt'\n",
    "    wandb.init(name=name, \n",
    "               project=project)\n",
    "\n",
    "    for epoch in range(1, n_eopchs + 1):\n",
    "        loss_train = 0.0\n",
    "        model.train()\n",
    "        for imgs, labels in tqdm(trn_dl, position=0):\n",
    "            imgs = imgs.to(device)\n",
    "            labels = labels.to(device)\n",
    "\n",
    "            outputs = model(imgs)\n",
    "            #outputs = model(imgs.unsqueeze(1))\n",
    "            loss = loss_fn(outputs, labels)\n",
    "            optimizer.zero_grad()\n",
    "            loss.backward()\n",
    "            optimizer.step()\n",
    "            loss_train += loss.item()\n",
    "        torch.cuda.empty_cache()\n",
    "        \n",
    "        loss_val = 0.0\n",
    "        correct_val = 0.0\n",
    "        model.eval()\n",
    "        \n",
    "        for imgs, labels in tqdm(val_dl):\n",
    "            imgs = imgs.to(device)\n",
    "            labels = labels.to(device)\n",
    "            with torch.no_grad():\n",
    "                outputs = model(imgs)\n",
    "                #outputs = model(imgs.unsqueeze(1))\n",
    "                loss = loss_fn(outputs, labels)\n",
    "                loss_val += loss.item()\n",
    "                outputs = torch.sigmoid(outputs)\n",
    "                metrics['predict'].extend((outputs.to('cpu').detach().numpy()).tolist())\n",
    "                metrics['label'].extend((labels.to('cpu').detach().numpy()).tolist())\n",
    "        \n",
    "        metrics['predict'] = np.array(metrics['predict'])\n",
    "        #metrics['predict'] = np.array([[0.5, 0.5, 0.33333, 0.33333, 0.33333, 0.33333, 0.33333, 0.33333, 0.33333]]*len(metrics['label']))\n",
    "        metrics['label'] = np.array(metrics['label'])\n",
    "        weighted_loss = loss_metrics(metrics, transform_13class)\n",
    "        metrics = {'predict': [], 'label' : []}\n",
    "        \n",
    "        torch.cuda.empty_cache()\n",
    "        \n",
    "        if (weighted_loss) < best_weightloss:\n",
    "            best_weightloss = weighted_loss\n",
    "            torch.save(model.state_dict(), 'model_tmp.pt')\n",
    "            bestweight_model.load_state_dict(torch.load('model_tmp.pt'))\n",
    "            \n",
    "        if loss_val / len(val_dl) < best_val:\n",
    "            best_val = loss_val / len(val_dl)\n",
    "            #torch.save(model.state_dict(), 'model_tmp.pt')\n",
    "            #best_model.load_state_dict(torch.load('model_tmp.pt'))\n",
    "            \n",
    "            \n",
    "        if scheduler != None:\n",
    "            scheduler.step()\n",
    "\n",
    "        print('{} Eopch {}, Training Loss {}, Val Loss {}, Weighted Loss {}'.format(time.strftime(\"%Y-%m-%d %H:%M:%S\",time.localtime()),\n",
    "                                                                  epoch, loss_train / len(trn_dl), loss_val / len(val_dl),\n",
    "                                                                                     weighted_loss))\n",
    "        \n",
    "        \n",
    "        \n",
    "        wandb.log({'training loss': loss_train / len(trn_dl),\n",
    "                  'val loss': loss_val / len(val_dl),\n",
    "                  'weighted loss': weighted_loss})\n",
    "    #torch.save(best_model.state_dict(), PATH_MODEL)\n",
    "    torch.save(bestweight_model.state_dict(), PATH_MODEL2)\n",
    "    print('Finish training: best_val:{}, best_weighted loss:{}'.format(best_val, best_weightloss))\n",
    "    wandb.finish()"
   ]
  },
  {
   "cell_type": "code",
   "execution_count": 15,
   "id": "c2e5cb89-f0c4-4a6d-8666-c0784df3cca2",
   "metadata": {},
   "outputs": [],
   "source": [
    "import os\n",
    "\n",
    "project = \"Effnet3D-nophase-4fold\"\n",
    "name = \"Effnet3D-nophase_4fold\"\n",
    "# backbone = \"tf_efficientnetv2_s.in21k_ft_in1k\"\n",
    "# backbone = 'convnextv2_nano.fcmae_ft_in22k_in1k_384'\n",
    "n_eopchs = 30\n",
    "\n",
    "p = project + '/' + name\n",
    "if not os.path.exists(p):\n",
    "    os.mkdir(p)"
   ]
  },
  {
   "cell_type": "code",
   "execution_count": 16,
   "id": "c136d710-5ee4-4407-b5bf-542c6668011c",
   "metadata": {},
   "outputs": [],
   "source": [
    "# 4711 // 4 = 1178\n",
    "\n",
    "train_df_fold1 = train_series_meta[1178:].reset_index(drop=True)\n",
    "train_df_fold2 = pd.concat([train_series_meta[0:1178], train_series_meta[2356:]], axis=0).reset_index(drop=True)\n",
    "train_df_fold3 = pd.concat([train_series_meta[0:2356], train_series_meta[3534:]], axis=0).reset_index(drop=True)\n",
    "train_df_fold4 = train_series_meta[:3534].reset_index()\n",
    "\n",
    "val_df_fold1 = train_series_meta[0:1178].reset_index(drop=True)\n",
    "val_df_fold2 = train_series_meta[1178:2356].reset_index(drop=True)\n",
    "val_df_fold3 = train_series_meta[2356:3534].reset_index(drop=True)\n",
    "val_df_fold4 = train_series_meta[3534:].reset_index(drop=True)\n",
    "\n",
    "train_ds_fold1 = CTDataset(meta = train_df_fold1, augmentation=True)\n",
    "train_dl_fold1 = DataLoader(train_ds_fold1, batch_size=4, shuffle=True, num_workers=8)\n",
    "val_ds_fold1 = CTDataset(meta = val_df_fold1, augmentation=False)\n",
    "val_dl_fold1 = DataLoader(val_ds_fold1, batch_size=4, shuffle=False, num_workers=8)\n",
    "\n",
    "train_ds_fold2 = CTDataset(meta = train_df_fold2, augmentation=True)\n",
    "train_dl_fold2 = DataLoader(train_ds_fold2, batch_size=4, shuffle=True, num_workers=8)\n",
    "val_ds_fold2 = CTDataset(meta = val_df_fold2, augmentation=False)\n",
    "val_dl_fold2 = DataLoader(val_ds_fold2, batch_size=4, shuffle=False, num_workers=8)\n",
    "\n",
    "train_ds_fold3 = CTDataset(meta = train_df_fold3, augmentation=True)\n",
    "train_dl_fold3 = DataLoader(train_ds_fold3, batch_size=4, shuffle=True, num_workers=8)\n",
    "val_ds_fold3 = CTDataset(meta = val_df_fold3, augmentation=False)\n",
    "val_dl_fold3 = DataLoader(val_ds_fold3, batch_size=4, shuffle=False, num_workers=8)\n",
    "\n",
    "train_ds_fold4 = CTDataset(meta = train_df_fold4, augmentation=True)\n",
    "train_dl_fold4 = DataLoader(train_ds_fold4, batch_size=4, shuffle=True, num_workers=8)\n",
    "val_ds_fold4 = CTDataset(meta = val_df_fold4, augmentation=False)\n",
    "val_dl_fold4 = DataLoader(val_ds_fold4, batch_size=4, shuffle=False, num_workers=8)"
   ]
  },
  {
   "cell_type": "code",
   "execution_count": null,
   "id": "c8f3c601-cc31-4c43-bdff-558d868b8c96",
   "metadata": {},
   "outputs": [
    {
     "name": "stderr",
     "output_type": "stream",
     "text": [
      "\u001b[34m\u001b[1mwandb\u001b[0m: Currently logged in as: \u001b[33mnorthm\u001b[0m (\u001b[33mrsna2023\u001b[0m). Use \u001b[1m`wandb login --relogin`\u001b[0m to force relogin\n"
     ]
    },
    {
     "data": {
      "application/vnd.jupyter.widget-view+json": {
       "model_id": "b3370ea38e4041a4a539821c1dd8020c",
       "version_major": 2,
       "version_minor": 0
      },
      "text/plain": [
       "VBox(children=(Label(value='Waiting for wandb.init()...\\r'), FloatProgress(value=0.016670967576404412, max=1.0…"
      ]
     },
     "metadata": {},
     "output_type": "display_data"
    },
    {
     "data": {
      "text/html": [
       "wandb version 0.15.12 is available!  To upgrade, please run:\n",
       " $ pip install wandb --upgrade"
      ],
      "text/plain": [
       "<IPython.core.display.HTML object>"
      ]
     },
     "metadata": {},
     "output_type": "display_data"
    },
    {
     "data": {
      "text/html": [
       "Tracking run with wandb version 0.15.8"
      ],
      "text/plain": [
       "<IPython.core.display.HTML object>"
      ]
     },
     "metadata": {},
     "output_type": "display_data"
    },
    {
     "data": {
      "text/html": [
       "Run data is saved locally in <code>/root/wandb/run-20231005_084308-4aby10dx</code>"
      ],
      "text/plain": [
       "<IPython.core.display.HTML object>"
      ]
     },
     "metadata": {},
     "output_type": "display_data"
    },
    {
     "data": {
      "text/html": [
       "Syncing run <strong><a href='https://wandb.ai/rsna2023/Effnet3D-nophase-4fold/runs/4aby10dx' target=\"_blank\">Effnet3D-nophase_4fold</a></strong> to <a href='https://wandb.ai/rsna2023/Effnet3D-nophase-4fold' target=\"_blank\">Weights & Biases</a> (<a href='https://wandb.me/run' target=\"_blank\">docs</a>)<br/>"
      ],
      "text/plain": [
       "<IPython.core.display.HTML object>"
      ]
     },
     "metadata": {},
     "output_type": "display_data"
    },
    {
     "data": {
      "text/html": [
       " View project at <a href='https://wandb.ai/rsna2023/Effnet3D-nophase-4fold' target=\"_blank\">https://wandb.ai/rsna2023/Effnet3D-nophase-4fold</a>"
      ],
      "text/plain": [
       "<IPython.core.display.HTML object>"
      ]
     },
     "metadata": {},
     "output_type": "display_data"
    },
    {
     "data": {
      "text/html": [
       " View run at <a href='https://wandb.ai/rsna2023/Effnet3D-nophase-4fold/runs/4aby10dx' target=\"_blank\">https://wandb.ai/rsna2023/Effnet3D-nophase-4fold/runs/4aby10dx</a>"
      ],
      "text/plain": [
       "<IPython.core.display.HTML object>"
      ]
     },
     "metadata": {},
     "output_type": "display_data"
    },
    {
     "name": "stderr",
     "output_type": "stream",
     "text": [
      "100%|██████████| 884/884 [05:08<00:00,  2.87it/s]\n",
      "100%|██████████| 295/295 [01:18<00:00,  3.74it/s]\n"
     ]
    },
    {
     "name": "stdout",
     "output_type": "stream",
     "text": [
      "F1 score:  [0.9875376  0.04210526 0.96621325 0.11751663 0.96621325 0.08594449\n",
      " 0.04571429 0.94491715 0.14686469 0.         0.93441882 0.12099644\n",
      " 0.06349206]\n",
      "AUC score:  [0.64376819 0.45472825 0.56970641 0.49412577 0.51819479 0.5773576\n",
      " 0.51208075 0.58061881 0.4419408  0.50643738 0.5401175  0.52088693\n",
      " 0.60395051]\n",
      "2023-10-05 08:49:40 Eopch 1, Training Loss 1.127587669406811, Val Loss 0.9210496858014898, Weighted Loss 0.4421842670442662\n"
     ]
    },
    {
     "name": "stderr",
     "output_type": "stream",
     "text": [
      "100%|██████████| 884/884 [05:04<00:00,  2.90it/s]\n",
      "100%|██████████| 295/295 [01:20<00:00,  3.67it/s]\n"
     ]
    },
    {
     "name": "stdout",
     "output_type": "stream",
     "text": [
      "F1 score:  [0.9875376  0.04195804 0.96621325 0.05150215 0.96621325 0.08119304\n",
      " 0.         0.94491715 0.15384615 0.         0.93393665 0.13916947\n",
      " 0.1010274 ]\n",
      "AUC score:  [0.48592479 0.45256745 0.52813263 0.50926548 0.52611557 0.46846586\n",
      " 0.4315528  0.55677956 0.5982276  0.60538399 0.52814367 0.50126473\n",
      " 0.55870602]\n",
      "2023-10-05 08:56:07 Eopch 2, Training Loss 0.9480297087409377, Val Loss 0.9277353599920111, Weighted Loss 0.4449278148673551\n"
     ]
    },
    {
     "name": "stderr",
     "output_type": "stream",
     "text": [
      "100%|██████████| 884/884 [05:13<00:00,  2.82it/s]\n",
      "100%|██████████| 295/295 [01:19<00:00,  3.69it/s]\n"
     ]
    },
    {
     "name": "stdout",
     "output_type": "stream",
     "text": [
      "F1 score:  [0.9875376  0.05769231 0.96621325 0.0994152  0.96621325 0.08806489\n",
      " 0.05235602 0.94491715 0.15055603 0.         0.93441882 0.13524264\n",
      " 0.1192053 ]\n",
      "AUC score:  [0.58881786 0.59295939 0.53983982 0.46067919 0.54645718 0.56638528\n",
      " 0.57378882 0.59759565 0.61035762 0.5118994  0.58929799 0.54391045\n",
      " 0.61249255]\n",
      "2023-10-05 09:02:42 Eopch 3, Training Loss 0.9143831071136225, Val Loss 0.9172737475168907, Weighted Loss 0.46245455260146134\n"
     ]
    },
    {
     "name": "stderr",
     "output_type": "stream",
     "text": [
      "100%|██████████| 884/884 [05:09<00:00,  2.86it/s]\n",
      "100%|██████████| 295/295 [01:19<00:00,  3.70it/s]\n"
     ]
    },
    {
     "name": "stdout",
     "output_type": "stream",
     "text": [
      "F1 score:  [0.9875376  0.07272727 0.96621325 0.12489307 0.96621325 0.08091469\n",
      " 0.05221932 0.94491715 0.14945424 0.         0.93441882 0.13460016\n",
      " 0.09693053]\n",
      "AUC score:  [0.54779268 0.54770265 0.56820836 0.49394293 0.5873527  0.50608268\n",
      " 0.59450311 0.63180365 0.62524535 0.65529246 0.59031946 0.53194123\n",
      " 0.55749851]\n",
      "2023-10-05 09:09:12 Eopch 4, Training Loss 0.8996477831003353, Val Loss 0.9356882084224184, Weighted Loss 0.4977709862320332\n"
     ]
    },
    {
     "name": "stderr",
     "output_type": "stream",
     "text": [
      "100%|██████████| 884/884 [05:10<00:00,  2.85it/s]\n",
      "100%|██████████| 295/295 [01:20<00:00,  3.68it/s]\n"
     ]
    },
    {
     "name": "stdout",
     "output_type": "stream",
     "text": [
      "F1 score:  [0.9875376  0.0899654  0.96621325 0.14726027 0.96621325 0.07531381\n",
      " 0.02570694 0.94491715 0.15299539 0.         0.93441882 0.1511879\n",
      " 0.13721414]\n",
      "AUC score:  [0.62849254 0.629723   0.5691815  0.58765939 0.55354046 0.50539578\n",
      " 0.44652174 0.62076831 0.63804271 0.54758261 0.62573689 0.59343415\n",
      " 0.6822749 ]\n",
      "2023-10-05 09:15:44 Eopch 5, Training Loss 0.8882425947966079, Val Loss 0.899729958934299, Weighted Loss 0.4421902303101114\n"
     ]
    },
    {
     "name": "stderr",
     "output_type": "stream",
     "text": [
      "100%|██████████| 884/884 [05:09<00:00,  2.86it/s]\n",
      "100%|██████████| 295/295 [01:14<00:00,  3.97it/s]\n"
     ]
    },
    {
     "name": "stdout",
     "output_type": "stream",
     "text": [
      "F1 score:  [0.9875376  0.         0.96621325 0.13580247 0.96621325 0.07936508\n",
      " 0.125      0.94491715 0.2037037  0.         0.93441882 0.17301038\n",
      " 0.21848739]\n",
      "AUC score:  [0.68635395 0.65655292 0.54281232 0.57943782 0.58073534 0.51922416\n",
      " 0.645      0.60786422 0.62588325 0.53569821 0.66110091 0.58408051\n",
      " 0.73951998]\n",
      "2023-10-05 09:22:10 Eopch 6, Training Loss 0.8805429910170547, Val Loss 0.9814858784614984, Weighted Loss 0.3742874822481297\n"
     ]
    },
    {
     "name": "stderr",
     "output_type": "stream",
     "text": [
      "100%|██████████| 884/884 [05:03<00:00,  2.92it/s]\n",
      "100%|██████████| 295/295 [01:18<00:00,  3.76it/s]\n"
     ]
    },
    {
     "name": "stdout",
     "output_type": "stream",
     "text": [
      "F1 score:  [0.9875376  0.06060606 0.96621325 0.12384937 0.96621325 0.08403361\n",
      " 0.         0.94491715 0.17314095 0.         0.93441882 0.15005359\n",
      " 0.2       ]\n",
      "AUC score:  [0.65637286 0.6467693  0.54408625 0.56224566 0.5851882  0.52188138\n",
      " 0.67512422 0.64461912 0.67608149 0.56006722 0.65983243 0.5917012\n",
      " 0.73711986]\n",
      "2023-10-05 09:28:33 Eopch 7, Training Loss 0.8724807873031133, Val Loss 0.883063976744474, Weighted Loss 0.43749713398443935\n"
     ]
    },
    {
     "name": "stderr",
     "output_type": "stream",
     "text": [
      "100%|██████████| 884/884 [05:10<00:00,  2.85it/s]\n",
      "100%|██████████| 295/295 [01:16<00:00,  3.84it/s]\n"
     ]
    },
    {
     "name": "stdout",
     "output_type": "stream",
     "text": [
      "F1 score:  [0.9875376  0.08433735 0.96621325 0.10940919 0.96621325 0.08300395\n",
      " 0.02453988 0.94491715 0.15151515 0.06463878 0.93441882 0.14521452\n",
      " 0.21548822]\n",
      "AUC score:  [0.69208607 0.65523244 0.59503167 0.57264352 0.56738266 0.54671824\n",
      " 0.59763975 0.59931414 0.61786527 0.60922541 0.68107287 0.58668532\n",
      " 0.78014311]\n",
      "2023-10-05 09:35:02 Eopch 8, Training Loss 0.8657139482069339, Val Loss 0.8970217272386712, Weighted Loss 0.44503437741763013\n"
     ]
    },
    {
     "name": "stderr",
     "output_type": "stream",
     "text": [
      "100%|██████████| 884/884 [05:09<00:00,  2.86it/s]\n",
      "100%|██████████| 295/295 [01:19<00:00,  3.72it/s]\n"
     ]
    },
    {
     "name": "stdout",
     "output_type": "stream",
     "text": [
      "F1 score:  [0.9875376  0.09615385 0.96621325 0.10743802 0.96621325 0.09865471\n",
      " 0.         0.94491715 0.22155689 0.         0.93441882 0.17857143\n",
      " 0.2       ]\n",
      "AUC score:  [0.72284745 0.69040545 0.59407622 0.58117178 0.61540276 0.55689521\n",
      " 0.60164596 0.63258583 0.66616943 0.55274452 0.70275395 0.64654217\n",
      " 0.77368813]\n",
      "2023-10-05 09:41:32 Eopch 9, Training Loss 0.8623497697495227, Val Loss 0.989372359317238, Weighted Loss 0.33884368786954727\n"
     ]
    },
    {
     "name": "stderr",
     "output_type": "stream",
     "text": [
      "100%|██████████| 884/884 [05:03<00:00,  2.91it/s]\n",
      "100%|██████████| 295/295 [01:19<00:00,  3.73it/s]\n"
     ]
    },
    {
     "name": "stdout",
     "output_type": "stream",
     "text": [
      "F1 score:  [0.9875376  0.10891089 0.96621325 0.14440433 0.96621325 0.08461538\n",
      " 0.07445008 0.94491715 0.18341709 0.03773585 0.93441882 0.16483516\n",
      " 0.14965986]\n",
      "AUC score:  [0.64208757 0.6105459  0.57995683 0.56330137 0.60122439 0.5501889\n",
      " 0.72204969 0.65241783 0.64260619 0.64004682 0.7214207  0.62524084\n",
      " 0.77581992]\n",
      "2023-10-05 09:47:56 Eopch 10, Training Loss 0.8437332021097792, Val Loss 0.8726021415096218, Weighted Loss 0.4403811137211759\n"
     ]
    },
    {
     "name": "stderr",
     "output_type": "stream",
     "text": [
      "100%|██████████| 884/884 [05:09<00:00,  2.86it/s]\n",
      "100%|██████████| 295/295 [01:20<00:00,  3.66it/s]\n"
     ]
    },
    {
     "name": "stdout",
     "output_type": "stream",
     "text": [
      "F1 score:  [0.9875376  0.         0.96621325 0.15246637 0.96621325 0.08682171\n",
      " 0.1        0.94491715 0.1525974  0.14141414 0.93441882 0.14974359\n",
      " 0.18120805]\n",
      "AUC score:  [0.68668407 0.71858588 0.64291022 0.67738891 0.60386661 0.56737948\n",
      " 0.68416149 0.67653836 0.64145796 0.73992377 0.68880061 0.60864324\n",
      " 0.74755516]\n",
      "2023-10-05 09:54:28 Eopch 11, Training Loss 0.8425968821029858, Val Loss 0.8738605653835555, Weighted Loss 0.43298739592343277\n"
     ]
    },
    {
     "name": "stderr",
     "output_type": "stream",
     "text": [
      "100%|██████████| 884/884 [05:10<00:00,  2.85it/s]\n",
      "100%|██████████| 295/295 [01:18<00:00,  3.76it/s]\n"
     ]
    },
    {
     "name": "stdout",
     "output_type": "stream",
     "text": [
      "F1 score:  [0.98623064 0.09584665 0.96621325 0.14893617 0.96621325 0.11231884\n",
      " 0.06947891 0.94491715 0.17679558 0.13953488 0.93188011 0.18181818\n",
      " 0.17114914]\n",
      "AUC score:  [0.67903124 0.66861739 0.61521403 0.61197023 0.64377131 0.6191862\n",
      " 0.58543478 0.63134898 0.61894481 0.7156748  0.70821511 0.67456003\n",
      " 0.69573643]\n",
      "2023-10-05 10:00:58 Eopch 12, Training Loss 0.8273445341179814, Val Loss 0.8889436446003994, Weighted Loss 0.43006603023016804\n"
     ]
    },
    {
     "name": "stderr",
     "output_type": "stream",
     "text": [
      "100%|██████████| 884/884 [05:11<00:00,  2.84it/s]\n",
      "100%|██████████| 295/295 [01:19<00:00,  3.72it/s]\n"
     ]
    },
    {
     "name": "stdout",
     "output_type": "stream",
     "text": [
      "F1 score:  [0.9875376  0.09569378 0.96621325 0.1533101  0.96621325 0.08717949\n",
      " 0.08501119 0.94491715 0.18921892 0.11398964 0.93441882 0.15445545\n",
      " 0.19178082]\n",
      "AUC score:  [0.69631764 0.64100717 0.60503438 0.62875544 0.67528929 0.57368811\n",
      " 0.7268323  0.6951258  0.66895658 0.73998379 0.76966318 0.70043593\n",
      " 0.82994931]\n",
      "2023-10-05 10:07:30 Eopch 13, Training Loss 0.8267528469004243, Val Loss 0.8304095140453113, Weighted Loss 0.42945071660101763\n"
     ]
    },
    {
     "name": "stderr",
     "output_type": "stream",
     "text": [
      "100%|██████████| 884/884 [05:12<00:00,  2.83it/s]\n",
      "100%|██████████| 295/295 [01:20<00:00,  3.68it/s]\n"
     ]
    },
    {
     "name": "stdout",
     "output_type": "stream",
     "text": [
      "F1 score:  [0.98710232 0.07040417 0.96621325 0.14442013 0.96621325 0.09272919\n",
      " 0.0754717  0.94491715 0.18794326 0.         0.93297101 0.16291533\n",
      " 0.16717325]\n",
      "AUC score:  [0.68845473 0.67095825 0.62041591 0.59808675 0.66138221 0.60989498\n",
      " 0.70745342 0.67720109 0.63274319 0.72122685 0.7083019  0.64498143\n",
      " 0.75535182]\n",
      "2023-10-05 10:14:03 Eopch 14, Training Loss 0.8099876912268578, Val Loss 0.8887804242513948, Weighted Loss 0.468624591870727\n"
     ]
    },
    {
     "name": "stderr",
     "output_type": "stream",
     "text": [
      "100%|██████████| 884/884 [05:11<00:00,  2.84it/s]\n",
      "100%|██████████| 295/295 [01:18<00:00,  3.76it/s]\n"
     ]
    },
    {
     "name": "stdout",
     "output_type": "stream",
     "text": [
      "F1 score:  [0.9875376  0.0626087  0.96621325 0.13646055 0.96621325 0.0897561\n",
      " 0.09090909 0.94491715 0.17945691 0.14925373 0.93441882 0.16816143\n",
      " 0.15178571]\n",
      "AUC score:  [0.6635155  0.63290417 0.61103837 0.60948135 0.67205728 0.59668119\n",
      " 0.77397516 0.68719609 0.63854322 0.75823055 0.73621524 0.64446478\n",
      " 0.79965713]\n",
      "2023-10-05 10:20:34 Eopch 15, Training Loss 0.7998812444744067, Val Loss 0.8574862781217543, Weighted Loss 0.4585875093128164\n"
     ]
    },
    {
     "name": "stderr",
     "output_type": "stream",
     "text": [
      "100%|██████████| 884/884 [05:10<00:00,  2.85it/s]\n",
      "100%|██████████| 295/295 [01:19<00:00,  3.71it/s]\n"
     ]
    },
    {
     "name": "stdout",
     "output_type": "stream",
     "text": [
      "F1 score:  [0.9875376  0.10869565 0.96621325 0.13194444 0.96621325 0.08657048\n",
      " 0.06641124 0.94491715 0.15649183 0.         0.93441882 0.15784408\n",
      " 0.14980289]\n",
      "AUC score:  [0.65547252 0.61735842 0.61550892 0.61629923 0.6858464  0.6123172\n",
      " 0.78400621 0.69434747 0.64732669 0.75515441 0.78676102 0.72750659\n",
      " 0.82328563]\n",
      "2023-10-05 10:27:05 Eopch 16, Training Loss 0.7832758733454872, Val Loss 0.8474969597186073, Weighted Loss 0.4556622188845137\n"
     ]
    },
    {
     "name": "stderr",
     "output_type": "stream",
     "text": [
      "100%|██████████| 884/884 [05:11<00:00,  2.84it/s]\n",
      "100%|██████████| 295/295 [01:19<00:00,  3.73it/s]\n"
     ]
    },
    {
     "name": "stdout",
     "output_type": "stream",
     "text": [
      "F1 score:  [0.9875376  0.10970464 0.96621325 0.1486676  0.96621325 0.10570825\n",
      " 0.0974026  0.94491715 0.19570406 0.17391304 0.93508852 0.19596542\n",
      " 0.19889503]\n",
      "AUC score:  [0.70856217 0.64169743 0.64211991 0.64995223 0.66939146 0.6180474\n",
      " 0.75409938 0.69344584 0.66716063 0.75339876 0.79793704 0.725666\n",
      " 0.85912343]\n",
      "2023-10-05 10:33:37 Eopch 17, Training Loss 0.7657867125593699, Val Loss 0.8662844000984047, Weighted Loss 0.39219944820012215\n"
     ]
    },
    {
     "name": "stderr",
     "output_type": "stream",
     "text": [
      "100%|██████████| 884/884 [05:09<00:00,  2.86it/s]\n",
      "100%|██████████| 295/295 [01:18<00:00,  3.76it/s]\n"
     ]
    },
    {
     "name": "stdout",
     "output_type": "stream",
     "text": [
      "F1 score:  [0.9875376  0.07629428 0.96621325 0.12931034 0.96621325 0.08514335\n",
      " 0.05707763 0.92364991 0.15247364 0.07528642 0.93382353 0.1432182\n",
      " 0.10657194]\n",
      "AUC score:  [0.6575733  0.61660815 0.63215259 0.6307607  0.74691249 0.71171888\n",
      " 0.78419255 0.68868339 0.66318599 0.76078149 0.78019161 0.68517303\n",
      " 0.85968992]\n",
      "2023-10-05 10:40:06 Eopch 18, Training Loss 0.7642789371648795, Val Loss 0.9666863270735336, Weighted Loss 0.5458238259666416\n"
     ]
    },
    {
     "name": "stderr",
     "output_type": "stream",
     "text": [
      "100%|██████████| 884/884 [05:11<00:00,  2.84it/s]\n",
      "100%|██████████| 295/295 [01:19<00:00,  3.69it/s]\n"
     ]
    },
    {
     "name": "stdout",
     "output_type": "stream",
     "text": [
      "F1 score:  [0.9875376  0.10843373 0.96621325 0.17180617 0.96621325 0.10918114\n",
      " 0.11486486 0.94491715 0.19034091 0.21333333 0.93435944 0.21957041\n",
      " 0.26666667]\n",
      "AUC score:  [0.68362294 0.68449326 0.6386402  0.64495087 0.70353988 0.6348403\n",
      " 0.80456522 0.70607637 0.6634706  0.77632724 0.75904129 0.6573489\n",
      " 0.84825581]\n",
      "2023-10-05 10:46:39 Eopch 19, Training Loss 0.7479285827724103, Val Loss 0.8699502267069735, Weighted Loss 0.36040218442024347\n"
     ]
    },
    {
     "name": "stderr",
     "output_type": "stream",
     "text": [
      "100%|██████████| 884/884 [04:58<00:00,  2.97it/s]\n",
      "100%|██████████| 295/295 [01:14<00:00,  3.98it/s]\n"
     ]
    },
    {
     "name": "stdout",
     "output_type": "stream",
     "text": [
      "F1 score:  [0.9875376  0.07017544 0.96621325 0.1987041  0.96621325 0.11804384\n",
      " 0.12461059 0.94491715 0.18773467 0.09090909 0.93611237 0.19034091\n",
      " 0.24444444]\n",
      "AUC score:  [0.68362294 0.662165   0.70001298 0.71668023 0.72755582 0.67412014\n",
      " 0.79835404 0.71530074 0.68867276 0.75441914 0.81114931 0.70532264\n",
      " 0.8956768 ]\n",
      "2023-10-05 10:52:53 Eopch 20, Training Loss 0.7396591471937987, Val Loss 0.8025724263514502, Weighted Loss 0.38792184506370964\n"
     ]
    },
    {
     "name": "stderr",
     "output_type": "stream",
     "text": [
      "100%|██████████| 884/884 [04:57<00:00,  2.97it/s]\n",
      "100%|██████████| 295/295 [01:18<00:00,  3.74it/s]\n"
     ]
    },
    {
     "name": "stdout",
     "output_type": "stream",
     "text": [
      "F1 score:  [0.9875376  0.08955224 0.96621325 0.15084525 0.96621325 0.09653465\n",
      " 0.08400646 0.94491715 0.18728324 0.3125     0.93478261 0.1409396\n",
      " 0.14796547]\n",
      "AUC score:  [0.65142103 0.6048738  0.66293924 0.64408979 0.72601059 0.63238192\n",
      " 0.80608696 0.73878164 0.70289315 0.80018607 0.79248256 0.57682579\n",
      " 0.84740608]\n",
      "2023-10-05 10:59:11 Eopch 21, Training Loss 0.7165832963700478, Val Loss 0.8575660739914845, Weighted Loss 0.44401593019862146\n"
     ]
    },
    {
     "name": "stderr",
     "output_type": "stream",
     "text": [
      "100%|██████████| 884/884 [05:04<00:00,  2.90it/s]\n",
      "100%|██████████| 295/295 [01:18<00:00,  3.77it/s]\n"
     ]
    },
    {
     "name": "stdout",
     "output_type": "stream",
     "text": [
      "F1 score:  [0.98752688 0.10526316 0.96621325 0.21749409 0.96621325 0.11139896\n",
      " 0.12359551 0.94031891 0.1799775  0.14615385 0.93818182 0.2\n",
      " 0.36363636]\n",
      "AUC score:  [0.71600492 0.70937247 0.6706418  0.69076518 0.7460632  0.70425336\n",
      " 0.81475155 0.6987015  0.65214532 0.77683743 0.80331141 0.69002745\n",
      " 0.87407573]\n",
      "2023-10-05 11:05:35 Eopch 22, Training Loss 0.7009651035205271, Val Loss 0.831963101509264, Weighted Loss 0.3901983190875737\n"
     ]
    },
    {
     "name": "stderr",
     "output_type": "stream",
     "text": [
      "100%|██████████| 884/884 [04:59<00:00,  2.95it/s]\n",
      "100%|██████████| 295/295 [01:13<00:00,  4.03it/s]\n"
     ]
    },
    {
     "name": "stdout",
     "output_type": "stream",
     "text": [
      "F1 score:  [0.98665519 0.12851406 0.96621325 0.18655098 0.96621325 0.13861386\n",
      " 0.1221374  0.94519317 0.21022727 0.16666667 0.94236048 0.180937\n",
      " 0.2630137 ]\n",
      "AUC score:  [0.69574743 0.70307014 0.66451986 0.65625111 0.75976975 0.7010177\n",
      " 0.85677019 0.7440373  0.69452187 0.83788002 0.7818807  0.67772456\n",
      " 0.83694097]\n",
      "2023-10-05 11:11:50 Eopch 23, Training Loss 0.6909915899259472, Val Loss 0.8383409949303684, Weighted Loss 0.36358784649863235\n"
     ]
    },
    {
     "name": "stderr",
     "output_type": "stream",
     "text": [
      "100%|██████████| 884/884 [04:53<00:00,  3.02it/s]\n",
      "100%|██████████| 295/295 [01:19<00:00,  3.71it/s]\n"
     ]
    },
    {
     "name": "stdout",
     "output_type": "stream",
     "text": [
      "F1 score:  [0.982228   0.0815534  0.96621325 0.16239316 0.96621325 0.11126961\n",
      " 0.1025641  0.9470377  0.19216182 0.14678899 0.94210283 0.17342657\n",
      " 0.25906736]\n",
      "AUC score:  [0.70060923 0.69862849 0.67734173 0.6728122  0.74760843 0.68769545\n",
      " 0.83093168 0.73869688 0.70319738 0.77959845 0.79478586 0.68258974\n",
      " 0.86484794]\n",
      "2023-10-05 11:18:04 Eopch 24, Training Loss 0.6781484334143848, Val Loss 0.8521105318503864, Weighted Loss 0.40726272649341355\n"
     ]
    },
    {
     "name": "stderr",
     "output_type": "stream",
     "text": [
      "100%|██████████| 884/884 [05:01<00:00,  2.93it/s]\n",
      "100%|██████████| 295/295 [01:17<00:00,  3.82it/s]\n"
     ]
    },
    {
     "name": "stdout",
     "output_type": "stream",
     "text": [
      "F1 score:  [0.97605572 0.07798165 0.96621325 0.19593346 0.96621325 0.12970711\n",
      " 0.10126582 0.94576423 0.26506024 0.25396825 0.93717525 0.17026684\n",
      " 0.19099099]\n",
      "AUC score:  [0.69901864 0.68788452 0.68640079 0.70562771 0.7289831  0.70356646\n",
      " 0.77031056 0.7314453  0.70606304 0.75129798 0.79805054 0.65983532\n",
      " 0.85154293]\n",
      "2023-10-05 11:24:25 Eopch 25, Training Loss 0.6513620408344593, Val Loss 0.8789310390161256, Weighted Loss 0.3888884668224056\n"
     ]
    },
    {
     "name": "stderr",
     "output_type": "stream",
     "text": [
      "100%|██████████| 884/884 [05:01<00:00,  2.93it/s]\n",
      "100%|██████████| 295/295 [01:19<00:00,  3.73it/s]\n"
     ]
    },
    {
     "name": "stdout",
     "output_type": "stream",
     "text": [
      "F1 score:  [0.9875376  0.08333333 0.96621325 0.22680412 0.96621325 0.13569322\n",
      " 0.2147651  0.94556905 0.20082531 0.20792079 0.93605442 0.25423729\n",
      " 0.45508982]\n",
      "AUC score:  [0.67627022 0.67011794 0.70586362 0.70558052 0.72526747 0.64563186\n",
      " 0.86018634 0.74857627 0.6981432  0.86612046 0.81396001 0.71400893\n",
      " 0.9019678 ]\n",
      "2023-10-05 11:30:47 Eopch 26, Training Loss 0.6646180078218695, Val Loss 0.8905604725166902, Weighted Loss 0.3097807410034618\n"
     ]
    },
    {
     "name": "stderr",
     "output_type": "stream",
     "text": [
      "100%|██████████| 884/884 [04:50<00:00,  3.05it/s]\n",
      "100%|██████████| 295/295 [01:20<00:00,  3.68it/s]\n"
     ]
    },
    {
     "name": "stdout",
     "output_type": "stream",
     "text": [
      "F1 score:  [0.98710232 0.15873016 0.96621325 0.21917808 0.96621325 0.13445378\n",
      " 0.13513514 0.94594595 0.20560748 0.24615385 0.94253939 0.22325581\n",
      " 0.37903226]\n",
      "AUC score:  [0.68638396 0.66738693 0.6939736  0.6847494  0.75292827 0.68644818\n",
      " 0.81931677 0.7441606  0.69179359 0.81654212 0.82659145 0.72481567\n",
      " 0.89417114]\n",
      "2023-10-05 11:36:59 Eopch 27, Training Loss 0.6442143899890093, Val Loss 0.8649595015634924, Weighted Loss 0.3256505114241186\n"
     ]
    },
    {
     "name": "stderr",
     "output_type": "stream",
     "text": [
      "100%|██████████| 884/884 [04:59<00:00,  2.95it/s]\n",
      "100%|██████████| 295/295 [01:17<00:00,  3.79it/s]\n"
     ]
    },
    {
     "name": "stdout",
     "output_type": "stream",
     "text": [
      "F1 score:  [0.98225876 0.12371134 0.96621325 0.21932115 0.96557811 0.16938111\n",
      " 0.12435233 0.94642053 0.18612521 0.31168831 0.94160584 0.18545455\n",
      " 0.4       ]\n",
      "AUC score:  [0.73749287 0.73917349 0.72149286 0.71722283 0.76895856 0.76535131\n",
      " 0.78916149 0.7251994  0.66436366 0.81005972 0.79448543 0.671191\n",
      " 0.86018187]\n",
      "2023-10-05 11:43:17 Eopch 28, Training Loss 0.6265479114361748, Val Loss 0.8627198505957248, Weighted Loss 0.32107285288025994\n"
     ]
    },
    {
     "name": "stderr",
     "output_type": "stream",
     "text": [
      "100%|██████████| 884/884 [05:01<00:00,  2.93it/s]\n",
      "100%|██████████| 295/295 [01:15<00:00,  3.88it/s]\n"
     ]
    },
    {
     "name": "stdout",
     "output_type": "stream",
     "text": [
      "F1 score:  [0.98535745 0.1037037  0.96621325 0.2428115  0.96660808 0.16918429\n",
      " 0.13888889 0.94579946 0.2016129  0.16243655 0.93826006 0.17777778\n",
      " 0.24434389]\n",
      "AUC score:  [0.70589118 0.70403049 0.71524116 0.70181771 0.77867818 0.76522478\n",
      " 0.78863354 0.75438678 0.71522925 0.81813271 0.82441499 0.69405306\n",
      " 0.88548002]\n",
      "2023-10-05 11:49:35 Eopch 29, Training Loss 0.622260808481148, Val Loss 0.8391312919683376, Weighted Loss 0.3596509051019203\n"
     ]
    },
    {
     "name": "stderr",
     "output_type": "stream",
     "text": [
      "100%|██████████| 884/884 [05:06<00:00,  2.88it/s]\n",
      "100%|██████████| 295/295 [01:14<00:00,  3.96it/s]\n"
     ]
    },
    {
     "name": "stdout",
     "output_type": "stream",
     "text": [
      "F1 score:  [0.97379913 0.09345794 0.96524417 0.17992177 0.95764601 0.1\n",
      " 0.08520179 0.94722598 0.22727273 0.23655914 0.93811998 0.19216182\n",
      " 0.27728614]\n",
      "AUC score:  [0.70646139 0.69910867 0.70810479 0.71482831 0.72931338 0.66504582\n",
      " 0.72552795 0.75287635 0.72363979 0.79364365 0.83799446 0.71625854\n",
      " 0.86818724]\n",
      "2023-10-05 11:55:58 Eopch 30, Training Loss 0.5989848799936103, Val Loss 0.8846115063307649, Weighted Loss 0.4087336824212499\n",
      "Finish training: best_val:0.8025724263514502, best_weighted loss:0.3097807410034618\n"
     ]
    },
    {
     "data": {
      "text/html": [
       "Waiting for W&B process to finish... <strong style=\"color:green\">(success).</strong>"
      ],
      "text/plain": [
       "<IPython.core.display.HTML object>"
      ]
     },
     "metadata": {},
     "output_type": "display_data"
    },
    {
     "data": {
      "text/html": [
       "<style>\n",
       "    table.wandb td:nth-child(1) { padding: 0 10px; text-align: left ; width: auto;} td:nth-child(2) {text-align: left ; width: 100%}\n",
       "    .wandb-row { display: flex; flex-direction: row; flex-wrap: wrap; justify-content: flex-start; width: 100% }\n",
       "    .wandb-col { display: flex; flex-direction: column; flex-basis: 100%; flex: 1; padding: 10px; }\n",
       "    </style>\n",
       "<div class=\"wandb-row\"><div class=\"wandb-col\"><h3>Run history:</h3><br/><table class=\"wandb\"><tr><td>training loss</td><td>█▆▅▅▅▅▅▅▄▄▄▄▄▄▄▃▃▃▃▃▃▂▂▂▂▂▂▁▁▁</td></tr><tr><td>val loss</td><td>▅▆▅▆▅█▄▅█▄▄▄▂▄▃▃▃▇▄▁▃▂▂▃▄▄▃▃▂▄</td></tr><tr><td>weighted loss</td><td>▅▅▆▇▅▃▅▅▂▅▅▅▅▆▅▅▃█▃▃▅▃▃▄▃▁▁▁▂▄</td></tr></table><br/></div><div class=\"wandb-col\"><h3>Run summary:</h3><br/><table class=\"wandb\"><tr><td>training loss</td><td>0.59898</td></tr><tr><td>val loss</td><td>0.88461</td></tr><tr><td>weighted loss</td><td>0.40873</td></tr></table><br/></div></div>"
      ],
      "text/plain": [
       "<IPython.core.display.HTML object>"
      ]
     },
     "metadata": {},
     "output_type": "display_data"
    },
    {
     "data": {
      "text/html": [
       " View run <strong style=\"color:#cdcd00\">Effnet3D-nophase_4fold</strong> at: <a href='https://wandb.ai/rsna2023/Effnet3D-nophase-4fold/runs/4aby10dx' target=\"_blank\">https://wandb.ai/rsna2023/Effnet3D-nophase-4fold/runs/4aby10dx</a><br/>Synced 5 W&B file(s), 0 media file(s), 0 artifact file(s) and 0 other file(s)"
      ],
      "text/plain": [
       "<IPython.core.display.HTML object>"
      ]
     },
     "metadata": {},
     "output_type": "display_data"
    },
    {
     "data": {
      "text/html": [
       "Find logs at: <code>./wandb/run-20231005_084308-4aby10dx/logs</code>"
      ],
      "text/plain": [
       "<IPython.core.display.HTML object>"
      ]
     },
     "metadata": {},
     "output_type": "display_data"
    },
    {
     "data": {
      "application/vnd.jupyter.widget-view+json": {
       "model_id": "568b510d8ede46429f72e17e3beb44be",
       "version_major": 2,
       "version_minor": 0
      },
      "text/plain": [
       "VBox(children=(Label(value='Waiting for wandb.init()...\\r'), FloatProgress(value=0.016669207997620106, max=1.0…"
      ]
     },
     "metadata": {},
     "output_type": "display_data"
    },
    {
     "data": {
      "text/html": [
       "wandb version 0.15.12 is available!  To upgrade, please run:\n",
       " $ pip install wandb --upgrade"
      ],
      "text/plain": [
       "<IPython.core.display.HTML object>"
      ]
     },
     "metadata": {},
     "output_type": "display_data"
    },
    {
     "data": {
      "text/html": [
       "Tracking run with wandb version 0.15.8"
      ],
      "text/plain": [
       "<IPython.core.display.HTML object>"
      ]
     },
     "metadata": {},
     "output_type": "display_data"
    },
    {
     "data": {
      "text/html": [
       "Run data is saved locally in <code>/root/wandb/run-20231005_115611-az8ve4xr</code>"
      ],
      "text/plain": [
       "<IPython.core.display.HTML object>"
      ]
     },
     "metadata": {},
     "output_type": "display_data"
    },
    {
     "data": {
      "text/html": [
       "Syncing run <strong><a href='https://wandb.ai/rsna2023/Effnet3D-nophase-4fold/runs/az8ve4xr' target=\"_blank\">Effnet3D-nophase_4fold</a></strong> to <a href='https://wandb.ai/rsna2023/Effnet3D-nophase-4fold' target=\"_blank\">Weights & Biases</a> (<a href='https://wandb.me/run' target=\"_blank\">docs</a>)<br/>"
      ],
      "text/plain": [
       "<IPython.core.display.HTML object>"
      ]
     },
     "metadata": {},
     "output_type": "display_data"
    },
    {
     "data": {
      "text/html": [
       " View project at <a href='https://wandb.ai/rsna2023/Effnet3D-nophase-4fold' target=\"_blank\">https://wandb.ai/rsna2023/Effnet3D-nophase-4fold</a>"
      ],
      "text/plain": [
       "<IPython.core.display.HTML object>"
      ]
     },
     "metadata": {},
     "output_type": "display_data"
    },
    {
     "data": {
      "text/html": [
       " View run at <a href='https://wandb.ai/rsna2023/Effnet3D-nophase-4fold/runs/az8ve4xr' target=\"_blank\">https://wandb.ai/rsna2023/Effnet3D-nophase-4fold/runs/az8ve4xr</a>"
      ],
      "text/plain": [
       "<IPython.core.display.HTML object>"
      ]
     },
     "metadata": {},
     "output_type": "display_data"
    },
    {
     "name": "stderr",
     "output_type": "stream",
     "text": [
      "100%|██████████| 884/884 [04:55<00:00,  2.99it/s]\n",
      "100%|██████████| 295/295 [01:18<00:00,  3.77it/s]\n"
     ]
    },
    {
     "name": "stdout",
     "output_type": "stream",
     "text": [
      "F1 score:  [0.99530917 0.01732435 0.96485062 0.07722008 0.96711968 0.08866995\n",
      " 0.05733558 0.94302378 0.15735641 0.         0.94821429 0.12177503\n",
      " 0.0872093 ]\n",
      "AUC score:  [0.75757576 0.46630833 0.50301685 0.49129098 0.53124207 0.52020202\n",
      " 0.54824648 0.50117998 0.46864686 0.42290999 0.55100981 0.57518438\n",
      " 0.51991106]\n",
      "2023-10-05 12:02:29 Eopch 1, Training Loss 1.136676774642586, Val Loss 1.0116802214565923, Weighted Loss 0.44614943694338904\n"
     ]
    },
    {
     "name": "stderr",
     "output_type": "stream",
     "text": [
      "100%|██████████| 884/884 [04:57<00:00,  2.97it/s]\n",
      "100%|██████████| 295/295 [01:18<00:00,  3.76it/s]\n"
     ]
    },
    {
     "name": "stdout",
     "output_type": "stream",
     "text": [
      "F1 score:  [0.99530917 0.2        0.96485062 0.07407407 0.96711968 0.07061791\n",
      " 0.05825243 0.94302378 0.17575083 0.05       0.94774453 0.10763052\n",
      " 0.0969697 ]\n",
      "AUC score:  [0.81335203 0.80291345 0.52874545 0.52926913 0.59867634 0.51174443\n",
      " 0.54222797 0.54242304 0.59169677 0.60570246 0.55505228 0.42065102\n",
      " 0.5303411 ]\n",
      "2023-10-05 12:08:47 Eopch 2, Training Loss 0.9661176310203194, Val Loss 0.8826713581206435, Weighted Loss 0.4222817725923413\n"
     ]
    },
    {
     "name": "stderr",
     "output_type": "stream",
     "text": [
      "100%|██████████| 884/884 [04:45<00:00,  3.09it/s]\n",
      "100%|██████████| 295/295 [01:19<00:00,  3.73it/s]\n"
     ]
    },
    {
     "name": "stdout",
     "output_type": "stream",
     "text": [
      "F1 score:  [0.99530917 0.01827676 0.9643956  0.12465116 0.96666667 0.07481297\n",
      " 0.08045977 0.94302378 0.16365202 0.0625     0.94821429 0.12210012\n",
      " 0.09292929]\n",
      "AUC score:  [0.82098621 0.49030147 0.5551571  0.4950592  0.58957993 0.53741783\n",
      " 0.58267008 0.5608382  0.59348024 0.61585203 0.57470453 0.5960208\n",
      " 0.55058658]\n",
      "2023-10-05 12:14:53 Eopch 3, Training Loss 0.9236040136595657, Val Loss 0.8558441108566219, Weighted Loss 0.467403347721463\n"
     ]
    },
    {
     "name": "stderr",
     "output_type": "stream",
     "text": [
      "100%|██████████| 884/884 [04:58<00:00,  2.96it/s]\n",
      "100%|██████████| 295/295 [01:18<00:00,  3.76it/s]\n"
     ]
    },
    {
     "name": "stdout",
     "output_type": "stream",
     "text": [
      "F1 score:  [0.99530917 0.04615385 0.9643956  0.11023622 0.96666667 0.06122449\n",
      " 0.03076923 0.94302378 0.21309371 0.         0.94821429 0.11705348\n",
      " 0.12975391]\n",
      "AUC score:  [0.71145906 0.83711147 0.51754326 0.43657787 0.54275008 0.56709957\n",
      " 0.57111117 0.66609229 0.67349715 0.65294471 0.63899442 0.60804439\n",
      " 0.66251514]\n",
      "2023-10-05 12:21:12 Eopch 4, Training Loss 0.9209422147179621, Val Loss 0.8325901052709354, Weighted Loss 0.43387751170719996\n"
     ]
    },
    {
     "name": "stderr",
     "output_type": "stream",
     "text": [
      "100%|██████████| 884/884 [05:04<00:00,  2.91it/s]\n",
      "100%|██████████| 295/295 [01:17<00:00,  3.80it/s]\n"
     ]
    },
    {
     "name": "stdout",
     "output_type": "stream",
     "text": [
      "F1 score:  [0.99530917 0.07619048 0.9643956  0.11062591 0.96666667 0.07726864\n",
      " 0.06666667 0.94254937 0.17241379 0.         0.94821429 0.11041852\n",
      " 0.09904153]\n",
      "AUC score:  [0.75512191 0.86087092 0.55059199 0.47126594 0.57714113 0.58271204\n",
      " 0.64862052 0.65381302 0.63912408 0.70289129 0.61426878 0.63460376\n",
      " 0.60342365]\n",
      "2023-10-05 12:27:36 Eopch 5, Training Loss 0.9108069806077361, Val Loss 0.8267159736762613, Weighted Loss 0.4560972360933148\n"
     ]
    },
    {
     "name": "stderr",
     "output_type": "stream",
     "text": [
      "100%|██████████| 884/884 [05:01<00:00,  2.93it/s]\n",
      "100%|██████████| 295/295 [01:17<00:00,  3.82it/s]\n"
     ]
    },
    {
     "name": "stdout",
     "output_type": "stream",
     "text": [
      "F1 score:  [0.99530917 0.03868472 0.96485062 0.13598326 0.96711968 0.05785921\n",
      " 0.09803922 0.94302378 0.19277108 0.         0.94821429 0.10855263\n",
      " 0.12072435]\n",
      "AUC score:  [0.79138428 0.79598037 0.54779144 0.54845173 0.64338471 0.43191839\n",
      " 0.6911438  0.67476045 0.67458194 0.7288328  0.67648062 0.66102879\n",
      " 0.68131451]\n",
      "2023-10-05 12:33:56 Eopch 6, Training Loss 0.8994737450555979, Val Loss 0.8252021047018342, Weighted Loss 0.4579138711948796\n"
     ]
    },
    {
     "name": "stderr",
     "output_type": "stream",
     "text": [
      "100%|██████████| 884/884 [05:01<00:00,  2.93it/s]\n",
      "100%|██████████| 295/295 [01:18<00:00,  3.76it/s]\n"
     ]
    },
    {
     "name": "stdout",
     "output_type": "stream",
     "text": [
      "F1 score:  [0.99488055 0.05084746 0.9643956  0.14333707 0.96666667 0.06673618\n",
      " 0.10212766 0.94254937 0.16058394 0.08767123 0.94774453 0.10909091\n",
      " 0.09836066]\n",
      "AUC score:  [0.71784685 0.7818026  0.57113502 0.56634791 0.62614687 0.48605099\n",
      " 0.72033636 0.6879837  0.63038142 0.71768162 0.66531918 0.56954203\n",
      " 0.68601435]\n",
      "2023-10-05 12:40:18 Eopch 7, Training Loss 0.8835792843909824, Val Loss 0.83025785442126, Weighted Loss 0.47793912706254327\n"
     ]
    },
    {
     "name": "stderr",
     "output_type": "stream",
     "text": [
      "100%|██████████| 884/884 [05:03<00:00,  2.91it/s]\n",
      "100%|██████████| 295/295 [01:18<00:00,  3.77it/s]\n"
     ]
    },
    {
     "name": "stdout",
     "output_type": "stream",
     "text": [
      "F1 score:  [0.99530917 0.03464567 0.96485062 0.14375    0.96711968 0.07363184\n",
      " 0.10169492 0.94302378 0.16163265 0.         0.94821429 0.11270296\n",
      " 0.10309278]\n",
      "AUC score:  [0.76996183 0.77603802 0.56288707 0.56130464 0.63908129 0.57563733\n",
      " 0.73524201 0.70388906 0.66481885 0.77694311 0.70812228 0.68592232\n",
      " 0.69272067]\n",
      "2023-10-05 12:46:42 Eopch 8, Training Loss 0.8744482072365231, Val Loss 0.8293105872000678, Weighted Loss 0.4664637800297537\n"
     ]
    },
    {
     "name": "stderr",
     "output_type": "stream",
     "text": [
      "100%|██████████| 884/884 [05:04<00:00,  2.90it/s]\n",
      "100%|██████████| 295/295 [01:18<00:00,  3.78it/s]\n"
     ]
    },
    {
     "name": "stdout",
     "output_type": "stream",
     "text": [
      "F1 score:  [0.99530917 0.01918047 0.96485062 0.12749004 0.96711968 0.07388749\n",
      " 0.05802708 0.94302378 0.15793589 0.11111111 0.94821429 0.10763052\n",
      " 0.08065844]\n",
      "AUC score:  [0.59647893 0.65833139 0.58154599 0.57829007 0.61705651 0.54900192\n",
      " 0.72244565 0.67320962 0.63186151 0.72803152 0.68437886 0.64711098\n",
      " 0.70973048]\n",
      "2023-10-05 12:53:06 Eopch 9, Training Loss 0.8611726666130631, Val Loss 0.9599537837303291, Weighted Loss 0.562405515111092\n"
     ]
    },
    {
     "name": "stderr",
     "output_type": "stream",
     "text": [
      "100%|██████████| 884/884 [05:04<00:00,  2.91it/s]\n",
      "100%|██████████| 295/295 [01:18<00:00,  3.76it/s]\n"
     ]
    },
    {
     "name": "stdout",
     "output_type": "stream",
     "text": [
      "F1 score:  [0.99530917 0.03292181 0.96485062 0.13907285 0.96711968 0.0810537\n",
      " 0.07418856 0.94302378 0.1641541  0.         0.94821429 0.11451943\n",
      " 0.11713031]\n",
      "AUC score:  [0.71021267 0.7381787  0.58257058 0.58228597 0.65321245 0.60367565\n",
      " 0.68650336 0.73268803 0.72135654 0.79884482 0.68540977 0.64621089\n",
      " 0.7134542 ]\n",
      "2023-10-05 12:59:30 Eopch 10, Training Loss 0.845309043463269, Val Loss 0.8118160228102894, Weighted Loss 0.460057993918604\n"
     ]
    },
    {
     "name": "stderr",
     "output_type": "stream",
     "text": [
      "100%|██████████| 884/884 [05:06<00:00,  2.88it/s]\n",
      "100%|██████████| 295/295 [01:18<00:00,  3.74it/s]\n"
     ]
    },
    {
     "name": "stdout",
     "output_type": "stream",
     "text": [
      "F1 score:  [0.99530917 0.03883495 0.96485062 0.15837937 0.96711968 0.11226611\n",
      " 0.08777429 0.94302378 0.23320158 0.11111111 0.94821429 0.14313346\n",
      " 0.19161677]\n",
      "AUC score:  [0.69058191 0.70842097 0.57788024 0.57145947 0.68682986 0.64949094\n",
      " 0.73251399 0.72752609 0.70539268 0.79590678 0.7272956  0.65938982\n",
      " 0.78877822]\n",
      "2023-10-05 13:05:57 Eopch 11, Training Loss 0.8288284104603988, Val Loss 0.7948385433120243, Weighted Loss 0.3596955327459041\n"
     ]
    },
    {
     "name": "stderr",
     "output_type": "stream",
     "text": [
      "100%|██████████| 884/884 [05:05<00:00,  2.89it/s]\n",
      "100%|██████████| 295/295 [01:18<00:00,  3.74it/s]\n"
     ]
    },
    {
     "name": "stdout",
     "output_type": "stream",
     "text": [
      "F1 score:  [0.99530917 0.02867384 0.96485062 0.13058419 0.96711968 0.08484848\n",
      " 0.11555556 0.94159928 0.20309051 0.08627451 0.94821429 0.12823674\n",
      " 0.15071283]\n",
      "AUC score:  [0.61166939 0.63340344 0.57666211 0.57685565 0.69996978 0.61604137\n",
      " 0.77230925 0.73516036 0.71611646 0.77851229 0.71986817 0.64048793\n",
      " 0.77957738]\n",
      "2023-10-05 13:12:23 Eopch 12, Training Loss 0.8240623263077499, Val Loss 0.7775951992657225, Weighted Loss 0.4249892752884385\n"
     ]
    },
    {
     "name": "stderr",
     "output_type": "stream",
     "text": [
      "100%|██████████| 884/884 [05:04<00:00,  2.90it/s]\n",
      "100%|██████████| 295/295 [01:18<00:00,  3.77it/s]\n"
     ]
    },
    {
     "name": "stdout",
     "output_type": "stream",
     "text": [
      "F1 score:  [0.99530917 0.01801802 0.96485062 0.17283951 0.96711968 0.08673469\n",
      " 0.08284024 0.94302378 0.21604938 0.05555556 0.94821429 0.17190776\n",
      " 0.23121387]\n",
      "AUC score:  [0.73264781 0.72664953 0.62155055 0.61377505 0.67406467 0.59289322\n",
      " 0.75923166 0.69799291 0.66937864 0.77924679 0.733822   0.64638553\n",
      " 0.81388623]\n",
      "2023-10-05 13:18:47 Eopch 13, Training Loss 0.8059422049452277, Val Loss 0.8299923023177406, Weighted Loss 0.3325040503085288\n"
     ]
    },
    {
     "name": "stderr",
     "output_type": "stream",
     "text": [
      "100%|██████████| 884/884 [05:01<00:00,  2.94it/s]\n",
      "100%|██████████| 295/295 [01:19<00:00,  3.71it/s]\n"
     ]
    },
    {
     "name": "stdout",
     "output_type": "stream",
     "text": [
      "F1 score:  [0.99530917 0.02941176 0.96485062 0.13571429 0.96711968 0.14444444\n",
      " 0.04210526 0.94302378 0.21487603 0.09756098 0.94821429 0.18656716\n",
      " 0.2464455 ]\n",
      "AUC score:  [0.84147386 0.84887435 0.60976207 0.60768443 0.70167422 0.66173641\n",
      " 0.75419749 0.70307244 0.68668009 0.75971554 0.75462692 0.69363354\n",
      " 0.80379964]\n",
      "2023-10-05 13:25:10 Eopch 14, Training Loss 0.7954431055155815, Val Loss 0.8886850960931536, Weighted Loss 0.2951950134787563\n"
     ]
    },
    {
     "name": "stderr",
     "output_type": "stream",
     "text": [
      " 20%|█▉        | 175/884 [01:04<03:35,  3.30it/s]IOPub message rate exceeded.\n",
      "The Jupyter server will temporarily stop sending output\n",
      "to the client in order to avoid crashing it.\n",
      "To change this limit, set the config variable\n",
      "`--ServerApp.iopub_msg_rate_limit`.\n",
      "\n",
      "Current values:\n",
      "ServerApp.iopub_msg_rate_limit=1000.0 (msgs/sec)\n",
      "ServerApp.rate_limit_window=3.0 (secs)\n",
      "\n",
      "100%|██████████| 884/884 [04:47<00:00,  3.08it/s]\n",
      "100%|██████████| 295/295 [01:15<00:00,  3.89it/s]\n"
     ]
    },
    {
     "name": "stdout",
     "output_type": "stream",
     "text": [
      "F1 score:  [0.99530917 0.07633588 0.96485062 0.16023739 0.96666667 0.0896861\n",
      " 0.12371134 0.94043321 0.21772152 0.15       0.94845361 0.14890017\n",
      " 0.34782609]\n",
      "AUC score:  [0.72516943 0.73389421 0.64236111 0.62744763 0.66850408 0.58345358\n",
      " 0.76795005 0.74928265 0.69830939 0.83607105 0.76443681 0.66313796\n",
      " 0.87594223]\n",
      "2023-10-05 14:15:32 Eopch 22, Training Loss 0.6811305102449736, Val Loss 0.7824746222314188, Weighted Loss 0.3450033295633879\n"
     ]
    },
    {
     "name": "stderr",
     "output_type": "stream",
     "text": [
      "100%|██████████| 884/884 [05:02<00:00,  2.92it/s]\n",
      "100%|██████████| 295/295 [01:20<00:00,  3.67it/s]\n"
     ]
    },
    {
     "name": "stdout",
     "output_type": "stream",
     "text": [
      "F1 score:  [0.99573379 0.07142857 0.96485062 0.1741573  0.96575944 0.10743802\n",
      " 0.1092437  0.93857272 0.21021898 0.1509434  0.94366832 0.16216216\n",
      " 0.35175879]\n",
      "AUC score:  [0.79247488 0.83072369 0.62469262 0.6229622  0.70258084 0.62185346\n",
      " 0.77987457 0.68794624 0.64827123 0.76011619 0.77906033 0.65746873\n",
      " 0.8998572 ]\n",
      "2023-10-05 14:21:56 Eopch 23, Training Loss 0.6830516574710472, Val Loss 0.8303537143867905, Weighted Loss 0.3252696594446343\n"
     ]
    },
    {
     "name": "stderr",
     "output_type": "stream",
     "text": [
      "100%|██████████| 884/884 [05:05<00:00,  2.89it/s]\n",
      "100%|██████████| 295/295 [01:20<00:00,  3.64it/s]\n"
     ]
    },
    {
     "name": "stdout",
     "output_type": "stream",
     "text": [
      "F1 score:  [0.99530917 0.09467456 0.96485062 0.17435897 0.96711968 0.09030544\n",
      " 0.13249211 0.93936652 0.19787234 0.13178295 0.94717668 0.14074074\n",
      " 0.23564955]\n",
      "AUC score:  [0.81491003 0.81420893 0.65228825 0.65176457 0.72446056 0.61383678\n",
      " 0.81384819 0.75546349 0.71858941 0.83930956 0.79474722 0.71073525\n",
      " 0.86088466]\n",
      "2023-10-05 14:28:25 Eopch 24, Training Loss 0.682035129129617, Val Loss 0.7272601476412709, Weighted Loss 0.3875921056972071\n"
     ]
    },
    {
     "name": "stderr",
     "output_type": "stream",
     "text": [
      " 30%|██▉       | 265/884 [01:35<04:06,  2.51it/s]IOPub message rate exceeded.\n",
      "The Jupyter server will temporarily stop sending output\n",
      "to the client in order to avoid crashing it.\n",
      "To change this limit, set the config variable\n",
      "`--ServerApp.iopub_msg_rate_limit`.\n",
      "\n",
      "Current values:\n",
      "ServerApp.iopub_msg_rate_limit=1000.0 (msgs/sec)\n",
      "ServerApp.rate_limit_window=3.0 (secs)\n",
      "\n",
      "100%|██████████| 295/295 [01:18<00:00,  3.73it/s]\n"
     ]
    },
    {
     "name": "stdout",
     "output_type": "stream",
     "text": [
      "F1 score:  [0.9897084  0.03671706 0.96711968 0.08252427 0.97117904 0.07407407\n",
      " 0.03344482 0.94680376 0.18621974 0.02597403 0.93441882 0.15\n",
      " 0.02531646]\n",
      "AUC score:  [0.62713027 0.4873628  0.58459958 0.47179208 0.59712911 0.63325479\n",
      " 0.58147939 0.67246729 0.65860738 0.71471527 0.59399139 0.6044454\n",
      " 0.54408169]\n",
      "2023-10-05 15:25:43 Eopch 3, Training Loss 0.9331766291441421, Val Loss 0.8633619850974972, Weighted Loss 0.444658108279988\n"
     ]
    },
    {
     "name": "stderr",
     "output_type": "stream",
     "text": [
      "100%|██████████| 884/884 [04:58<00:00,  2.96it/s]\n",
      "100%|██████████| 295/295 [01:17<00:00,  3.80it/s]\n"
     ]
    },
    {
     "name": "stdout",
     "output_type": "stream",
     "text": [
      "F1 score:  [0.9897084  0.07692308 0.96711968 0.13195876 0.97117904 0.07399103\n",
      " 0.         0.94680376 0.1814978  0.         0.93441882 0.13981763\n",
      " 0.09618105]\n",
      "AUC score:  [0.58055315 0.6502022  0.62569961 0.50960411 0.61310497 0.51783629\n",
      " 0.50321852 0.68475889 0.66000089 0.65384143 0.5709517  0.58339164\n",
      " 0.54552773]\n",
      "2023-10-05 15:32:00 Eopch 4, Training Loss 0.9132134249914285, Val Loss 0.864930163904772, Weighted Loss 0.4502423015938775\n"
     ]
    },
    {
     "name": "stderr",
     "output_type": "stream",
     "text": [
      "100%|██████████| 884/884 [04:56<00:00,  2.98it/s]\n",
      "100%|██████████| 295/295 [01:17<00:00,  3.80it/s]\n"
     ]
    },
    {
     "name": "stdout",
     "output_type": "stream",
     "text": [
      "F1 score:  [0.9897084  0.         0.96666667 0.12277228 0.97117904 0.07368421\n",
      " 0.04534005 0.94680376 0.17636684 0.         0.93441882 0.13811659\n",
      " 0.10471204]\n",
      "AUC score:  [0.56874639 0.53578134 0.57265639 0.53642792 0.59154949 0.58412048\n",
      " 0.56457745 0.62445942 0.62734656 0.65347324 0.58572621 0.61035466\n",
      " 0.59284436]\n",
      "2023-10-05 15:38:15 Eopch 5, Training Loss 0.9036233409969515, Val Loss 0.859146158675016, Weighted Loss 0.4725151901322388\n"
     ]
    },
    {
     "name": "stderr",
     "output_type": "stream",
     "text": [
      " 93%|█████████▎| 818/884 [04:29<00:20,  3.21it/s]IOPub message rate exceeded.\n",
      "The Jupyter server will temporarily stop sending output\n",
      "to the client in order to avoid crashing it.\n",
      "To change this limit, set the config variable\n",
      "`--ServerApp.iopub_msg_rate_limit`.\n",
      "\n",
      "Current values:\n",
      "ServerApp.iopub_msg_rate_limit=1000.0 (msgs/sec)\n",
      "ServerApp.rate_limit_window=3.0 (secs)\n",
      "\n",
      "100%|██████████| 884/884 [05:04<00:00,  2.90it/s]\n",
      "100%|██████████| 295/295 [01:17<00:00,  3.82it/s]\n"
     ]
    },
    {
     "name": "stdout",
     "output_type": "stream",
     "text": [
      "F1 score:  [0.9897084  0.03809524 0.96711968 0.13300493 0.97117904 0.11693548\n",
      " 0.11981567 0.94680376 0.23529412 0.05172414 0.93441882 0.19483101\n",
      " 0.19939577]\n",
      "AUC score:  [0.66834561 0.67540439 0.64861892 0.60363856 0.70871485 0.6708534\n",
      " 0.78539432 0.70373192 0.6999068  0.71299705 0.70980405 0.66935041\n",
      " 0.75994335]\n",
      "2023-10-05 16:41:22 Eopch 15, Training Loss 0.7938906544676194, Val Loss 0.8202126653265145, Weighted Loss 0.371946292511808\n"
     ]
    },
    {
     "name": "stderr",
     "output_type": "stream",
     "text": [
      "100%|██████████| 884/884 [05:01<00:00,  2.93it/s]\n",
      "100%|██████████| 295/295 [01:17<00:00,  3.78it/s]\n"
     ]
    },
    {
     "name": "stdout",
     "output_type": "stream",
     "text": [
      "F1 score:  [0.9888412  0.06382979 0.96711968 0.14912281 0.97117904 0.0979021\n",
      " 0.05964912 0.94680376 0.2122905  0.06535948 0.9264432  0.18041237\n",
      " 0.17102967]\n",
      "AUC score:  [0.66832756 0.6639948  0.63162285 0.62281052 0.67447406 0.66675546\n",
      " 0.70336909 0.73564723 0.72780367 0.76221159 0.74172314 0.68764329\n",
      " 0.78421288]\n",
      "2023-10-05 16:47:44 Eopch 16, Training Loss 0.7801186609591834, Val Loss 0.8082213117914685, Weighted Loss 0.42506054753713146\n"
     ]
    },
    {
     "name": "stderr",
     "output_type": "stream",
     "text": [
      "100%|██████████| 884/884 [05:03<00:00,  2.91it/s]\n",
      "100%|██████████| 295/295 [01:16<00:00,  3.87it/s]\n"
     ]
    },
    {
     "name": "stdout",
     "output_type": "stream",
     "text": [
      "F1 score:  [0.9897084  0.06185567 0.96711968 0.16487455 0.97117904 0.08705613\n",
      " 0.0621118  0.94680376 0.18150389 0.04982206 0.93521898 0.16368286\n",
      " 0.17283951]\n",
      "AUC score:  [0.71544627 0.68847487 0.66816561 0.66684799 0.70481796 0.6799918\n",
      " 0.67348014 0.74279684 0.73642214 0.76264114 0.7208599  0.65587428\n",
      " 0.77859273]\n",
      "2023-10-05 16:54:05 Eopch 17, Training Loss 0.7771668942535624, Val Loss 0.8094828676874355, Weighted Loss 0.4376317695197347\n"
     ]
    },
    {
     "name": "stderr",
     "output_type": "stream",
     "text": [
      " 64%|██████▎   | 562/884 [03:12<01:52,  2.87it/s]IOPub message rate exceeded.\n",
      "The Jupyter server will temporarily stop sending output\n",
      "to the client in order to avoid crashing it.\n",
      "To change this limit, set the config variable\n",
      "`--ServerApp.iopub_msg_rate_limit`.\n",
      "\n",
      "Current values:\n",
      "ServerApp.iopub_msg_rate_limit=1000.0 (msgs/sec)\n",
      "ServerApp.rate_limit_window=3.0 (secs)\n",
      "\n",
      "100%|██████████| 884/884 [04:57<00:00,  2.97it/s]\n",
      "100%|██████████| 295/295 [01:10<00:00,  4.19it/s]\n"
     ]
    },
    {
     "name": "stdout",
     "output_type": "stream",
     "text": [
      "F1 score:  [0.9897084  0.08450704 0.96794027 0.20338983 0.97072958 0.15533981\n",
      " 0.13157895 0.94514388 0.28742515 0.10619469 0.93421053 0.22097378\n",
      " 0.27152318]\n",
      "AUC score:  [0.72212594 0.71190786 0.68311877 0.6698217  0.77357205 0.78651777\n",
      " 0.76600791 0.74643909 0.74660276 0.76294796 0.77599226 0.71844357\n",
      " 0.82324091]\n",
      "2023-10-05 18:08:35 Eopch 27, Training Loss 0.6417727840061371, Val Loss 0.8070702197188038, Weighted Loss 0.32762085152289\n"
     ]
    },
    {
     "name": "stderr",
     "output_type": "stream",
     "text": [
      "100%|██████████| 884/884 [04:46<00:00,  3.08it/s]\n",
      "100%|██████████| 295/295 [01:09<00:00,  4.23it/s]\n"
     ]
    },
    {
     "name": "stdout",
     "output_type": "stream",
     "text": [
      "F1 score:  [0.98448276 0.1        0.96709083 0.21965318 0.96609423 0.13076923\n",
      " 0.07531381 0.93741307 0.26484018 0.07111111 0.94030541 0.22574257\n",
      " 0.32323232]\n",
      "AUC score:  [0.7135868  0.71728769 0.70342702 0.68635842 0.74099357 0.74867329\n",
      " 0.73965744 0.75002579 0.75134248 0.75380461 0.76719298 0.69786341\n",
      " 0.82292785]\n",
      "2023-10-05 18:14:33 Eopch 28, Training Loss 0.6233142867212382, Val Loss 0.8846779236854133, Weighted Loss 0.32407641385687364\n"
     ]
    },
    {
     "name": "stderr",
     "output_type": "stream",
     "text": [
      "100%|██████████| 884/884 [04:42<00:00,  3.13it/s]\n",
      "100%|██████████| 295/295 [01:12<00:00,  4.05it/s]\n"
     ]
    },
    {
     "name": "stdout",
     "output_type": "stream",
     "text": [
      "F1 score:  [0.98840704 0.11290323 0.96711968 0.20467836 0.97022767 0.14184397\n",
      " 0.05714286 0.93548387 0.26362039 0.04580153 0.9288425  0.21194605\n",
      " 0.25149701]\n",
      "AUC score:  [0.72725303 0.72328134 0.69757631 0.69291024 0.746253   0.77422395\n",
      " 0.7166949  0.73911491 0.72998713 0.73564065 0.76655206 0.70004844\n",
      " 0.82561121]\n",
      "2023-10-05 18:20:30 Eopch 29, Training Loss 0.6079309481571163, Val Loss 0.8575107737239135, Weighted Loss 0.328365897992578\n"
     ]
    },
    {
     "name": "stderr",
     "output_type": "stream",
     "text": [
      " 25%|██▌       | 222/884 [01:18<03:24,  3.24it/s]IOPub message rate exceeded.\n",
      "The Jupyter server will temporarily stop sending output\n",
      "to the client in order to avoid crashing it.\n",
      "To change this limit, set the config variable\n",
      "`--ServerApp.iopub_msg_rate_limit`.\n",
      "\n",
      "Current values:\n",
      "ServerApp.iopub_msg_rate_limit=1000.0 (msgs/sec)\n",
      "ServerApp.rate_limit_window=3.0 (secs)\n",
      "\n",
      "100%|██████████| 884/884 [04:56<00:00,  2.98it/s]\n",
      "100%|██████████| 295/295 [01:16<00:00,  3.84it/s]\n"
     ]
    },
    {
     "name": "stdout",
     "output_type": "stream",
     "text": [
      "F1 score:  [0.98271392 0.17647059 0.97025372 0.15730337 0.97070398 0.06456954\n",
      " 0.05844156 0.95233853 0.19663648 0.06130268 0.93724605 0.16158537\n",
      " 0.21182266]\n",
      "AUC score:  [0.72524186 0.7282102  0.6305893  0.64813292 0.61206132 0.54676781\n",
      " 0.57561997 0.71916565 0.71718294 0.71877214 0.73287035 0.66449932\n",
      " 0.78530289]\n",
      "2023-10-05 19:22:54 Eopch 9, Training Loss 0.8538351731872127, Val Loss 0.8536127956236823, Weighted Loss 0.417062794897515\n"
     ]
    },
    {
     "name": "stderr",
     "output_type": "stream",
     "text": [
      "100%|██████████| 884/884 [05:17<00:00,  2.79it/s]\n",
      "100%|██████████| 295/295 [01:20<00:00,  3.66it/s]\n"
     ]
    },
    {
     "name": "stdout",
     "output_type": "stream",
     "text": [
      "F1 score:  [0.98271392 0.22222222 0.97025372 0.17210682 0.97070398 0.06924101\n",
      " 0.05555556 0.95284698 0.16897507 0.         0.93724605 0.17549168\n",
      " 0.15151515]\n",
      "AUC score:  [0.7989226  0.79252419 0.66774519 0.64976396 0.62109722 0.56189534\n",
      " 0.63552335 0.64329757 0.65949985 0.59878001 0.71248666 0.68473173\n",
      " 0.7256789 ]\n",
      "2023-10-05 19:29:34 Eopch 10, Training Loss 0.8390719307021858, Val Loss 0.8430171058844712, Weighted Loss 0.40100846843703847\n"
     ]
    },
    {
     "name": "stderr",
     "output_type": "stream",
     "text": [
      "100%|██████████| 884/884 [04:47<00:00,  3.07it/s]\n",
      "100%|██████████| 295/295 [01:08<00:00,  4.30it/s]\n"
     ]
    },
    {
     "name": "stdout",
     "output_type": "stream",
     "text": [
      "F1 score:  [0.98271392 0.13245033 0.97025372 0.13559322 0.97070398 0.07300672\n",
      " 0.0626151  0.95284698 0.16810345 0.         0.93724605 0.1490433\n",
      " 0.13659794]\n",
      "AUC score:  [0.7335752  0.7501759  0.62858696 0.65213759 0.62706737 0.65397977\n",
      " 0.60463768 0.7466043  0.73923888 0.72369146 0.73151883 0.67645431\n",
      " 0.71568189]\n",
      "2023-10-05 19:35:32 Eopch 11, Training Loss 0.8292875509388846, Val Loss 0.8377455184015177, Weighted Loss 0.4515415476256866\n"
     ]
    },
    {
     "name": "stderr",
     "output_type": "stream",
     "text": [
      " 81%|████████  | 716/884 [03:59<00:52,  3.17it/s]IOPub message rate exceeded.\n",
      "The Jupyter server will temporarily stop sending output\n",
      "to the client in order to avoid crashing it.\n",
      "To change this limit, set the config variable\n",
      "`--ServerApp.iopub_msg_rate_limit`.\n",
      "\n",
      "Current values:\n",
      "ServerApp.iopub_msg_rate_limit=1000.0 (msgs/sec)\n",
      "ServerApp.rate_limit_window=3.0 (secs)\n",
      "\n",
      "100%|██████████| 884/884 [04:43<00:00,  3.12it/s]\n",
      "100%|██████████| 295/295 [01:07<00:00,  4.39it/s]\n"
     ]
    },
    {
     "name": "stdout",
     "output_type": "stream",
     "text": [
      "F1 score:  [0.98271392 0.10810811 0.97025372 0.17333333 0.97070398 0.07835455\n",
      " 0.05749487 0.94284408 0.17727273 0.12030075 0.93792478 0.2\n",
      " 0.32411067]\n",
      "AUC score:  [0.74085312 0.78120053 0.66740704 0.67238636 0.64714267 0.65074758\n",
      " 0.6310789  0.76950654 0.73014421 0.85730028 0.82127362 0.72625718\n",
      " 0.88971949]\n",
      "2023-10-05 20:36:38 Eopch 21, Training Loss 0.7148530329177283, Val Loss 0.8106171843359026, Weighted Loss 0.399279207403324\n"
     ]
    },
    {
     "name": "stderr",
     "output_type": "stream",
     "text": [
      "100%|██████████| 884/884 [04:46<00:00,  3.08it/s]\n",
      "100%|██████████| 295/295 [01:16<00:00,  3.86it/s]\n"
     ]
    },
    {
     "name": "stdout",
     "output_type": "stream",
     "text": [
      "F1 score:  [0.98271392 0.171875   0.97025372 0.14249364 0.97070398 0.09836066\n",
      " 0.06708595 0.9532294  0.17980296 0.13333333 0.93150685 0.17079208\n",
      " 0.22810591]\n",
      "AUC score:  [0.78922603 0.7848285  0.65859545 0.6551875  0.67965578 0.69085312\n",
      " 0.67980676 0.75310502 0.70877445 0.83746556 0.81452295 0.70837656\n",
      " 0.89458371]\n",
      "2023-10-05 20:42:43 Eopch 22, Training Loss 0.7014521228073679, Val Loss 0.7844175901958498, Weighted Loss 0.41001221080428407\n"
     ]
    },
    {
     "name": "stderr",
     "output_type": "stream",
     "text": [
      " 18%|█▊        | 156/884 [00:56<03:43,  3.26it/s]"
     ]
    }
   ],
   "source": [
    "net = EffNet(ch_out=13).to(device)\n",
    "optimizer = optim.AdamW(net.parameters(), lr=1e-4)\n",
    "TrainClassifer(model=net,trn_dl=train_dl_fold1,val_dl=val_dl_fold1,optimizer=optimizer, \n",
    "               project=project, name=name, suffix='fold1', scheduler=None, n_eopchs=n_eopchs, device=device)\n",
    "\n",
    "net = EffNet(ch_out=13).to(device)\n",
    "optimizer = optim.AdamW(net.parameters(), lr=1e-4)\n",
    "TrainClassifer(model=net,trn_dl=train_dl_fold2,val_dl=val_dl_fold2,optimizer=optimizer, \n",
    "               project=project, name=name, suffix='fold2', scheduler=None, n_eopchs=n_eopchs, device=device)\n",
    "\n",
    "net = EffNet(ch_out=13).to(device)\n",
    "optimizer = optim.AdamW(net.parameters(), lr=1e-4)\n",
    "TrainClassifer(model=net,trn_dl=train_dl_fold3,val_dl=val_dl_fold3,optimizer=optimizer, \n",
    "               project=project, name=name, suffix='fold3', scheduler=None, n_eopchs=n_eopchs, device=device)\n",
    "\n",
    "net = EffNet(ch_out=13).to(device)\n",
    "optimizer = optim.AdamW(net.parameters(), lr=1e-4)\n",
    "TrainClassifer(model=net,trn_dl=train_dl_fold4,val_dl=val_dl_fold4,optimizer=optimizer, \n",
    "               project=project, name=name, suffix='fold4', scheduler=None, n_eopchs=n_eopchs, device=device)"
   ]
  },
  {
   "cell_type": "code",
   "execution_count": null,
   "id": "47e7aeaa-be68-4bba-9bf5-7da60673daae",
   "metadata": {},
   "outputs": [],
   "source": [
    "# net = EffNet(ch_out=13).to(device)\n",
    "\n",
    "# optimizer = optim.AdamW(net.parameters(), lr=1e-4)\n",
    "# TrainClassifer(model=net,trn_dl=train_dl,val_dl=val_dl,optimizer=optimizer, \n",
    "#                scheduler=None, n_eopchs=30, device=device)"
   ]
  },
  {
   "cell_type": "code",
   "execution_count": null,
   "id": "a570bdee-3b74-46f1-84e4-a9382218651b",
   "metadata": {},
   "outputs": [],
   "source": [
    "# loss_val = 0.0\n",
    "# correct_val = 0.0\n",
    "\n",
    "# net = EffNet(ch_out=13).to(device)\n",
    "# net.load_state_dict(torch.load('EffNet3D/test_normal_13class_posweight_bestmetric_correct.pt'))\n",
    "# loss_fn = nn.BCEWithLogitsLoss(pos_weight=torch.Tensor([1, 30, 1, 15, 1, 30, 30, 1, 18, 18, 1, 18, 18]).to(device))\n",
    "\n",
    "# net.eval()\n",
    "        \n",
    "# for _, (imgs, labels) in tqdm(enumerate(val_dl)):\n",
    "#     imgs = imgs.to(device)\n",
    "#     labels = labels.to(device)\n",
    "#     with torch.no_grad():\n",
    "#         outputs = net(imgs)\n",
    "#         #outputs = model(imgs.unsqueeze(1))\n",
    "#         loss = loss_fn(outputs, labels)\n",
    "#         loss_val += loss.item()\n",
    "# print(loss_val / len(val_dl))"
   ]
  },
  {
   "cell_type": "code",
   "execution_count": null,
   "id": "c2329557-7a62-4d99-9f14-657bbc2bcab7",
   "metadata": {},
   "outputs": [],
   "source": []
  },
  {
   "cell_type": "code",
   "execution_count": null,
   "id": "c6e28bf7-d820-4a72-a8f0-c81689b651ee",
   "metadata": {},
   "outputs": [],
   "source": []
  }
 ],
 "metadata": {
  "kernelspec": {
   "display_name": "Python 3 (ipykernel)",
   "language": "python",
   "name": "python3"
  },
  "language_info": {
   "codemirror_mode": {
    "name": "ipython",
    "version": 3
   },
   "file_extension": ".py",
   "mimetype": "text/x-python",
   "name": "python",
   "nbconvert_exporter": "python",
   "pygments_lexer": "ipython3",
   "version": "3.8.10"
  }
 },
 "nbformat": 4,
 "nbformat_minor": 5
}
