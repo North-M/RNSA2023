{
 "cells": [
  {
   "cell_type": "code",
   "execution_count": 1,
   "id": "9043fd6d-b1e7-4d89-9aa8-4366f05b96da",
   "metadata": {},
   "outputs": [],
   "source": [
    "import numpy as np\n",
    "import pandas as pd\n",
    "import matplotlib.pyplot as plt\n",
    "\n",
    "import os\n",
    "import random\n",
    "import re\n",
    "\n",
    "from tqdm import tqdm\n",
    "import time\n",
    "\n",
    "import pydicom as dicom\n",
    "import nibabel as nib\n",
    "import SimpleITK as sitk\n",
    "import monai\n",
    "\n",
    "import torch\n",
    "import torch.nn as nn\n",
    "import torch.optim as optim\n",
    "\n",
    "from monai.networks.nets import EfficientNetBN\n",
    "from monai.networks.nets import ResNet\n",
    "#from efficientnet_pytorch import EfficientNet\n",
    "\n",
    "import wandb\n"
   ]
  },
  {
   "cell_type": "code",
   "execution_count": 2,
   "id": "690ffede-d1d3-43c2-a78f-615e25abf55f",
   "metadata": {},
   "outputs": [
    {
     "name": "stdout",
     "output_type": "stream",
     "text": [
      "Finish seeding with seed 344\n",
      "Training on device cuda\n"
     ]
    }
   ],
   "source": [
    "SEED = 344\n",
    "device = torch.device('cuda' if torch.cuda.is_available() else 'cpu')\n",
    "def seed_everything(seed):\n",
    "    random.seed(seed)\n",
    "    os.environ['PYTHONHASHSEED'] = str(seed)\n",
    "    np.random.seed(seed)\n",
    "    torch.manual_seed(seed)\n",
    "    torch.cuda.manual_seed(seed)\n",
    "    torch.backends.cudnn.deterministic = True # Fix the network according to random seed\n",
    "    print('Finish seeding with seed {}'.format(seed))\n",
    "    \n",
    "seed_everything(SEED)\n",
    "print('Training on device {}'.format(device))"
   ]
  },
  {
   "cell_type": "code",
   "execution_count": 3,
   "id": "94622e17-ad1b-4755-a50f-e817afc9d23c",
   "metadata": {},
   "outputs": [
    {
     "data": {
      "text/html": [
       "<div>\n",
       "<style scoped>\n",
       "    .dataframe tbody tr th:only-of-type {\n",
       "        vertical-align: middle;\n",
       "    }\n",
       "\n",
       "    .dataframe tbody tr th {\n",
       "        vertical-align: top;\n",
       "    }\n",
       "\n",
       "    .dataframe thead th {\n",
       "        text-align: right;\n",
       "    }\n",
       "</style>\n",
       "<table border=\"1\" class=\"dataframe\">\n",
       "  <thead>\n",
       "    <tr style=\"text-align: right;\">\n",
       "      <th></th>\n",
       "      <th>patient_id</th>\n",
       "      <th>bowel_healthy</th>\n",
       "      <th>bowel_injury</th>\n",
       "      <th>extravasation_healthy</th>\n",
       "      <th>extravasation_injury</th>\n",
       "      <th>kidney_healthy</th>\n",
       "      <th>kidney_low</th>\n",
       "      <th>kidney_high</th>\n",
       "      <th>liver_healthy</th>\n",
       "      <th>liver_low</th>\n",
       "      <th>liver_high</th>\n",
       "      <th>spleen_healthy</th>\n",
       "      <th>spleen_low</th>\n",
       "      <th>spleen_high</th>\n",
       "      <th>any_injury</th>\n",
       "    </tr>\n",
       "  </thead>\n",
       "  <tbody>\n",
       "    <tr>\n",
       "      <th>0</th>\n",
       "      <td>10004</td>\n",
       "      <td>1</td>\n",
       "      <td>0</td>\n",
       "      <td>0</td>\n",
       "      <td>1</td>\n",
       "      <td>0</td>\n",
       "      <td>1</td>\n",
       "      <td>0</td>\n",
       "      <td>1</td>\n",
       "      <td>0</td>\n",
       "      <td>0</td>\n",
       "      <td>0</td>\n",
       "      <td>0</td>\n",
       "      <td>1</td>\n",
       "      <td>1</td>\n",
       "    </tr>\n",
       "    <tr>\n",
       "      <th>1</th>\n",
       "      <td>10005</td>\n",
       "      <td>1</td>\n",
       "      <td>0</td>\n",
       "      <td>1</td>\n",
       "      <td>0</td>\n",
       "      <td>1</td>\n",
       "      <td>0</td>\n",
       "      <td>0</td>\n",
       "      <td>1</td>\n",
       "      <td>0</td>\n",
       "      <td>0</td>\n",
       "      <td>1</td>\n",
       "      <td>0</td>\n",
       "      <td>0</td>\n",
       "      <td>0</td>\n",
       "    </tr>\n",
       "    <tr>\n",
       "      <th>2</th>\n",
       "      <td>10007</td>\n",
       "      <td>1</td>\n",
       "      <td>0</td>\n",
       "      <td>1</td>\n",
       "      <td>0</td>\n",
       "      <td>1</td>\n",
       "      <td>0</td>\n",
       "      <td>0</td>\n",
       "      <td>1</td>\n",
       "      <td>0</td>\n",
       "      <td>0</td>\n",
       "      <td>1</td>\n",
       "      <td>0</td>\n",
       "      <td>0</td>\n",
       "      <td>0</td>\n",
       "    </tr>\n",
       "    <tr>\n",
       "      <th>3</th>\n",
       "      <td>10026</td>\n",
       "      <td>1</td>\n",
       "      <td>0</td>\n",
       "      <td>1</td>\n",
       "      <td>0</td>\n",
       "      <td>1</td>\n",
       "      <td>0</td>\n",
       "      <td>0</td>\n",
       "      <td>1</td>\n",
       "      <td>0</td>\n",
       "      <td>0</td>\n",
       "      <td>1</td>\n",
       "      <td>0</td>\n",
       "      <td>0</td>\n",
       "      <td>0</td>\n",
       "    </tr>\n",
       "    <tr>\n",
       "      <th>4</th>\n",
       "      <td>10051</td>\n",
       "      <td>1</td>\n",
       "      <td>0</td>\n",
       "      <td>1</td>\n",
       "      <td>0</td>\n",
       "      <td>1</td>\n",
       "      <td>0</td>\n",
       "      <td>0</td>\n",
       "      <td>1</td>\n",
       "      <td>0</td>\n",
       "      <td>0</td>\n",
       "      <td>0</td>\n",
       "      <td>1</td>\n",
       "      <td>0</td>\n",
       "      <td>1</td>\n",
       "    </tr>\n",
       "    <tr>\n",
       "      <th>...</th>\n",
       "      <td>...</td>\n",
       "      <td>...</td>\n",
       "      <td>...</td>\n",
       "      <td>...</td>\n",
       "      <td>...</td>\n",
       "      <td>...</td>\n",
       "      <td>...</td>\n",
       "      <td>...</td>\n",
       "      <td>...</td>\n",
       "      <td>...</td>\n",
       "      <td>...</td>\n",
       "      <td>...</td>\n",
       "      <td>...</td>\n",
       "      <td>...</td>\n",
       "      <td>...</td>\n",
       "    </tr>\n",
       "    <tr>\n",
       "      <th>3142</th>\n",
       "      <td>9951</td>\n",
       "      <td>1</td>\n",
       "      <td>0</td>\n",
       "      <td>1</td>\n",
       "      <td>0</td>\n",
       "      <td>1</td>\n",
       "      <td>0</td>\n",
       "      <td>0</td>\n",
       "      <td>1</td>\n",
       "      <td>0</td>\n",
       "      <td>0</td>\n",
       "      <td>1</td>\n",
       "      <td>0</td>\n",
       "      <td>0</td>\n",
       "      <td>0</td>\n",
       "    </tr>\n",
       "    <tr>\n",
       "      <th>3143</th>\n",
       "      <td>9960</td>\n",
       "      <td>1</td>\n",
       "      <td>0</td>\n",
       "      <td>1</td>\n",
       "      <td>0</td>\n",
       "      <td>1</td>\n",
       "      <td>0</td>\n",
       "      <td>0</td>\n",
       "      <td>1</td>\n",
       "      <td>0</td>\n",
       "      <td>0</td>\n",
       "      <td>1</td>\n",
       "      <td>0</td>\n",
       "      <td>0</td>\n",
       "      <td>0</td>\n",
       "    </tr>\n",
       "    <tr>\n",
       "      <th>3144</th>\n",
       "      <td>9961</td>\n",
       "      <td>1</td>\n",
       "      <td>0</td>\n",
       "      <td>1</td>\n",
       "      <td>0</td>\n",
       "      <td>1</td>\n",
       "      <td>0</td>\n",
       "      <td>0</td>\n",
       "      <td>1</td>\n",
       "      <td>0</td>\n",
       "      <td>0</td>\n",
       "      <td>1</td>\n",
       "      <td>0</td>\n",
       "      <td>0</td>\n",
       "      <td>0</td>\n",
       "    </tr>\n",
       "    <tr>\n",
       "      <th>3145</th>\n",
       "      <td>9980</td>\n",
       "      <td>1</td>\n",
       "      <td>0</td>\n",
       "      <td>1</td>\n",
       "      <td>0</td>\n",
       "      <td>1</td>\n",
       "      <td>0</td>\n",
       "      <td>0</td>\n",
       "      <td>1</td>\n",
       "      <td>0</td>\n",
       "      <td>0</td>\n",
       "      <td>0</td>\n",
       "      <td>0</td>\n",
       "      <td>1</td>\n",
       "      <td>1</td>\n",
       "    </tr>\n",
       "    <tr>\n",
       "      <th>3146</th>\n",
       "      <td>9983</td>\n",
       "      <td>1</td>\n",
       "      <td>0</td>\n",
       "      <td>1</td>\n",
       "      <td>0</td>\n",
       "      <td>1</td>\n",
       "      <td>0</td>\n",
       "      <td>0</td>\n",
       "      <td>1</td>\n",
       "      <td>0</td>\n",
       "      <td>0</td>\n",
       "      <td>0</td>\n",
       "      <td>0</td>\n",
       "      <td>1</td>\n",
       "      <td>1</td>\n",
       "    </tr>\n",
       "  </tbody>\n",
       "</table>\n",
       "<p>3147 rows × 15 columns</p>\n",
       "</div>"
      ],
      "text/plain": [
       "      patient_id  bowel_healthy  bowel_injury  extravasation_healthy  \\\n",
       "0          10004              1             0                      0   \n",
       "1          10005              1             0                      1   \n",
       "2          10007              1             0                      1   \n",
       "3          10026              1             0                      1   \n",
       "4          10051              1             0                      1   \n",
       "...          ...            ...           ...                    ...   \n",
       "3142        9951              1             0                      1   \n",
       "3143        9960              1             0                      1   \n",
       "3144        9961              1             0                      1   \n",
       "3145        9980              1             0                      1   \n",
       "3146        9983              1             0                      1   \n",
       "\n",
       "      extravasation_injury  kidney_healthy  kidney_low  kidney_high  \\\n",
       "0                        1               0           1            0   \n",
       "1                        0               1           0            0   \n",
       "2                        0               1           0            0   \n",
       "3                        0               1           0            0   \n",
       "4                        0               1           0            0   \n",
       "...                    ...             ...         ...          ...   \n",
       "3142                     0               1           0            0   \n",
       "3143                     0               1           0            0   \n",
       "3144                     0               1           0            0   \n",
       "3145                     0               1           0            0   \n",
       "3146                     0               1           0            0   \n",
       "\n",
       "      liver_healthy  liver_low  liver_high  spleen_healthy  spleen_low  \\\n",
       "0                 1          0           0               0           0   \n",
       "1                 1          0           0               1           0   \n",
       "2                 1          0           0               1           0   \n",
       "3                 1          0           0               1           0   \n",
       "4                 1          0           0               0           1   \n",
       "...             ...        ...         ...             ...         ...   \n",
       "3142              1          0           0               1           0   \n",
       "3143              1          0           0               1           0   \n",
       "3144              1          0           0               1           0   \n",
       "3145              1          0           0               0           0   \n",
       "3146              1          0           0               0           0   \n",
       "\n",
       "      spleen_high  any_injury  \n",
       "0               1           1  \n",
       "1               0           0  \n",
       "2               0           0  \n",
       "3               0           0  \n",
       "4               0           1  \n",
       "...           ...         ...  \n",
       "3142            0           0  \n",
       "3143            0           0  \n",
       "3144            0           0  \n",
       "3145            1           1  \n",
       "3146            1           1  \n",
       "\n",
       "[3147 rows x 15 columns]"
      ]
     },
     "execution_count": 3,
     "metadata": {},
     "output_type": "execute_result"
    }
   ],
   "source": [
    "dicom_tag_columns = [\n",
    "    'Columns',\n",
    "    'ImageOrientationPatient',\n",
    "    'ImagePositionPatient',\n",
    "    'InstanceNumber',\n",
    "    'PatientID',\n",
    "    'PatientPosition',\n",
    "    'PixelSpacing',\n",
    "    'RescaleIntercept',\n",
    "    'RescaleSlope',\n",
    "    'Rows',\n",
    "    'SeriesNumber',\n",
    "    'SliceThickness',\n",
    "    'path',\n",
    "    'WindowCenter',\n",
    "    'WindowWidth'\n",
    "]\n",
    "\n",
    "train_dicom_tags = pd.read_parquet('autodl-tmp/train_dicom_tags.parquet', columns=dicom_tag_columns)\n",
    "test_dicom_tags = pd.read_parquet('autodl-tmp/test_dicom_tags.parquet', columns=dicom_tag_columns)\n",
    "\n",
    "train_series_meta = pd.read_csv('autodl-tmp/train_series_meta.csv')\n",
    "test_series_meta = pd.read_csv('autodl-tmp/test_series_meta.csv')\n",
    "\n",
    "train_csv = pd.read_csv('autodl-tmp/train.csv')\n",
    "\n",
    "train_csv"
   ]
  },
  {
   "cell_type": "code",
   "execution_count": 4,
   "id": "d18b3467-e445-4953-b56b-4705fa9095c5",
   "metadata": {},
   "outputs": [],
   "source": [
    "injury_series_meta = train_series_meta.loc[train_series_meta.patient_id.isin(train_csv.loc[train_csv.any_injury == 1, \"patient_id\"].values)]\n",
    "healthy_series_meta = train_series_meta.loc[train_series_meta.patient_id.isin(train_csv.loc[train_csv.any_injury == 0, \"patient_id\"].values)]"
   ]
  },
  {
   "cell_type": "code",
   "execution_count": 5,
   "id": "5e0777da-72c7-457c-a455-12d412194d2f",
   "metadata": {},
   "outputs": [],
   "source": [
    "def raw_path_gen(patient_id, series_id, train=True):\n",
    "    if(train):\n",
    "        path = 'autodl-tmp/train_images_resample/'\n",
    "    else:\n",
    "        path = 'autodl-tmp/train_images_resample/'\n",
    "    \n",
    "    path += str(patient_id) + '/' + str(series_id)\n",
    "    \n",
    "    return path\n",
    "\n",
    "def create_3D_scans(folder, downsample_rate=1): \n",
    "    filenames = os.listdir(folder)\n",
    "    filenames = [int(filename.split('.')[0]) for filename in filenames]\n",
    "    filenames = sorted(filenames)\n",
    "    filenames = [str(filename) + '.dcm' for filename in filenames]\n",
    "        \n",
    "    volume = []\n",
    "    #for filename in tqdm(filenames[::downsample_rate], position=0): \n",
    "    for filename in filenames[::downsample_rate]: \n",
    "        filepath = os.path.join(folder, filename)\n",
    "        ds = dicom.dcmread(filepath)\n",
    "        image = ds.pixel_array\n",
    "        \n",
    "        if ds.PixelRepresentation == 1:\n",
    "            bit_shift = ds.BitsAllocated - ds.BitsStored\n",
    "            dtype = image.dtype \n",
    "            image = (image << bit_shift).astype(dtype) >>  bit_shift\n",
    "        \n",
    "        # find rescale params\n",
    "        if (\"RescaleIntercept\" in ds) and (\"RescaleSlope\" in ds):\n",
    "            intercept = float(ds.RescaleIntercept)\n",
    "            slope = float(ds.RescaleSlope)\n",
    "    \n",
    "        # find clipping params\n",
    "        center = int(ds.WindowCenter)\n",
    "        width = int(ds.WindowWidth)\n",
    "        low = center - width / 2\n",
    "        high = center + width / 2    \n",
    "        \n",
    "        \n",
    "        image = (image * slope) + intercept\n",
    "        image = np.clip(image, low, high)\n",
    "\n",
    "        image = (image / np.max(image) * 255).astype(np.int16)\n",
    "        image = image[::downsample_rate, ::downsample_rate]\n",
    "        volume.append( image )\n",
    "    \n",
    "    volume = np.stack(volume, axis=0)\n",
    "    return volume\n",
    "\n",
    "def plot_image_with_seg(volume, volume_seg=[], orientation='Coronal', num_subplots=20):\n",
    "    # simply copy\n",
    "    if len(volume_seg) == 0:\n",
    "        plot_mask = 0\n",
    "    else:\n",
    "        plot_mask = 1\n",
    "        \n",
    "    if orientation == 'Coronal':\n",
    "        slices = np.linspace(0, volume.shape[2]-1, num_subplots).astype(np.int16)\n",
    "        volume = volume.transpose([1, 0, 2])\n",
    "        if plot_mask:\n",
    "            volume_seg = volume_seg.transpose([1, 0, 2])\n",
    "        \n",
    "    elif orientation == 'Sagittal':\n",
    "        slices = np.linspace(0, volume.shape[2]-1, num_subplots).astype(np.int16)\n",
    "        volume = volume.transpose([2, 0, 1])\n",
    "        if plot_mask:\n",
    "            volume_seg = volume_seg.transpose([2, 0, 1])\n",
    "\n",
    "    elif orientation == 'Axial':\n",
    "        slices = np.linspace(0, volume.shape[0]-1, num_subplots).astype(np.int16)\n",
    "           \n",
    "    rows = np.max( [np.floor(np.sqrt(num_subplots)).astype(int) - 2, 1])\n",
    "    cols = np.ceil(num_subplots/rows).astype(int)\n",
    "    \n",
    "    fig, ax = plt.subplots(rows, cols, figsize=(cols * 2, rows * 4))\n",
    "    fig.tight_layout(h_pad=0.01, w_pad=0)\n",
    "    \n",
    "    ax = ax.ravel()\n",
    "    for this_ax in ax:\n",
    "        this_ax.axis('off')\n",
    "\n",
    "    for counter, this_slice in enumerate( slices ):\n",
    "        plt.sca(ax[counter])\n",
    "        \n",
    "        image = volume[this_slice, :, :]\n",
    "        plt.imshow(image, cmap='gray')\n",
    "        \n",
    "        if plot_mask:\n",
    "            mask = np.where(volume_seg[this_slice, :, :], volume_seg[this_slice, :, :], np.nan)\n",
    "            plt.imshow(mask, cmap='Set1', alpha=0.5)\n",
    "            \n",
    "def load_nii(patient_id, series_id, root='autodl-tmp/train_images_resample/'):\n",
    "    path = root + str(patient_id) + '/' + str(series_id) + '.nii.gz'\n",
    "    img = sitk.ReadImage(path)\n",
    "    img = sitk.GetArrayFromImage(img)\n",
    "    \n",
    "    # img = nib.load(path)\n",
    "    # img = img.get_fdata().transpose(2, 1, 0)\n",
    "    \n",
    "    return img"
   ]
  },
  {
   "cell_type": "code",
   "execution_count": 6,
   "id": "d7d68861-c262-421d-a7a0-8124c0449fa3",
   "metadata": {},
   "outputs": [],
   "source": [
    "# t = monai.transforms.Compose([#monai.transforms.NormalizeIntensity(),\n",
    "#                                     monai.transforms.RandRotate(range_x=3.14 / 12, prob=1),\n",
    "#                                     monai.transforms.SpatialPad(spatial_size=(176, 140, 140), mode=\"edge\"),\n",
    "#                                     monai.transforms.RandSpatialCrop(roi_size=(160, 128, 128), random_size=False),\n",
    "#                                 ])\n",
    "# img_t = t(np.expand_dims(img_a[::2, ::2, ::2], 0)).numpy().squeeze(0)\n",
    "# img_t[:, 0, :]\n",
    "# plot_image_with_seg(img_t, orientation='Axial', num_subplots=7)\n",
    "# plot_image_with_seg(img_t, orientation='Sagittal', num_subplots=7)"
   ]
  },
  {
   "cell_type": "code",
   "execution_count": 7,
   "id": "a7a12ecb-17d7-4418-b146-51d94d7ce15e",
   "metadata": {},
   "outputs": [],
   "source": [
    "from torch.utils.data import Dataset\n",
    "from torch.utils.data import DataLoader\n",
    "\n",
    "ds = 2\n",
    "\n",
    "class CTDataset(Dataset):\n",
    "    def __init__(self, root='autodl-tmp/train_images_resample/', augmentation=False, meta=train_series_meta, device='cpu'):\n",
    "        self.device = device\n",
    "        self.series_meta = meta\n",
    "        self.root = root\n",
    "        self.t = monai.transforms.Compose([monai.transforms.RandZoom(prob=0.5, min_zoom=0.9, max_zoom=1.1),\n",
    "                                           monai.transforms.RandRotate(range_x=3.14 / 24, prob=0.5),\n",
    "                                           monai.transforms.SpatialPad(spatial_size=(352//ds, 280//ds, 280//ds), mode=\"edge\"),\n",
    "                                           monai.transforms.RandSpatialCrop(roi_size=(320//ds, 256//ds, 256//ds), random_size=False),\n",
    "                                           monai.transforms.NormalizeIntensity(divisor = 400)\n",
    "                                ])\n",
    "        self.t_val = monai.transforms.Compose([monai.transforms.NormalizeIntensity(divisor = 400)])\n",
    "        \n",
    "        self.aug = augmentation\n",
    "        \n",
    "    def __len__(self):\n",
    "        #return 1100\n",
    "        return len(self.series_meta)\n",
    "    \n",
    "    def __getitem__(self, idx):\n",
    "\n",
    "        patient_id, series_id = self.series_meta.loc[idx, [\"patient_id\", \"series_id\"]].astype('int')\n",
    "        img_a = load_nii(patient_id, series_id, self.root).astype('float32')\n",
    "        #img_t = torch.from_numpy(img_a).unsqueeze(0)\n",
    "        #img_t = torch.from_numpy(img_a[::2, ::2, ::2]).unsqueeze(0)\n",
    "        if(self.aug):\n",
    "            img_t = self.t(np.expand_dims(img_a[::ds, ::ds, ::ds], 0))\n",
    "        else:\n",
    "            #img_t = torch.from_numpy(img_a[::ds, ::ds, ::ds]).unsqueeze(0)\n",
    "            img_t = self.t_val(np.expand_dims(img_a[::ds, ::ds, ::ds], 0))\n",
    "        label_columns = [\n",
    "            'bowel_healthy',\n",
    "            'bowel_injury',\n",
    "            'extravasation_healthy',\n",
    "            'extravasation_injury',\n",
    "            'kidney_healthy',\n",
    "            'kidney_low',\n",
    "            'kidney_high',\n",
    "            'liver_healthy',\n",
    "            'liver_low',\n",
    "            'liver_high',\n",
    "            'spleen_healthy',\n",
    "            'spleen_low',\n",
    "            'spleen_high',\n",
    "            #'any_injury'\n",
    "        ]\n",
    "        label_a = train_csv.loc[train_csv.patient_id == patient_id, label_columns].values[0].astype('float32')\n",
    "        label_t = torch.from_numpy(label_a)\n",
    "        return img_t, label_t"
   ]
  },
  {
   "cell_type": "code",
   "execution_count": 8,
   "id": "b372cbd7-461d-43cf-8cfa-bc17510c4bcb",
   "metadata": {},
   "outputs": [],
   "source": [
    "train_meta = train_series_meta[-3600:].reset_index()\n",
    "val_meta = train_series_meta[0:-3600].reset_index()\n",
    "\n",
    "# train_meta = injury_series_meta[-800:].reset_index()\n",
    "# val_meta = injury_series_meta[0:-800].reset_index()\n",
    "\n",
    "train_ds = CTDataset(meta = train_meta, augmentation=True)\n",
    "train_dl = DataLoader(train_ds, batch_size=4, shuffle=True, num_workers=8)\n",
    "\n",
    "val_ds = CTDataset(meta = val_meta, augmentation=False)\n",
    "val_dl = DataLoader(val_ds, batch_size=4, shuffle=False, num_workers=8)"
   ]
  },
  {
   "cell_type": "code",
   "execution_count": 9,
   "id": "66fe12cf-0044-4d16-96f7-d8e22242bc15",
   "metadata": {},
   "outputs": [],
   "source": [
    "class EffNet(nn.Module):\n",
    "    def __init__(self, ch_out=9):\n",
    "        super(EffNet, self).__init__()\n",
    "        #self.conv_in = nn.Conv3d(1, 3, kernel_size=5, padding=2, stride=2)\n",
    "        self.net = EfficientNetBN(\"efficientnet-b0\", pretrained=False, progress=False, spatial_dims=3, in_channels=1, num_classes=ch_out,)\n",
    "    def forward(self, x):\n",
    "        #x = self.conv_in(x)\n",
    "        #return torch.sigmoid(self.net(x))\n",
    "        return self.net(x)"
   ]
  },
  {
   "cell_type": "code",
   "execution_count": 10,
   "id": "54d2f8dc-d149-49b6-b7a0-d1ad7742bdc5",
   "metadata": {},
   "outputs": [],
   "source": [
    "import sklearn.metrics\n",
    "\n",
    "def transform_9class(label_in):\n",
    "    label_out = [1 - label_in[0],\n",
    "                   label_in[0],\n",
    "                    1- label_in[1],\n",
    "                   label_in[1],\n",
    "                   (1 - label_in[2]) * (1 - label_in[3]),\n",
    "                   label_in[2],\n",
    "                   label_in[3],\n",
    "                   (1 - label_in[4]) * (1 - label_in[5]),\n",
    "                    label_in[4],\n",
    "                   label_in[5],\n",
    "                   (1 - label_in[6]) * (1 - label_in[7]),\n",
    "                   label_in[6],\n",
    "                   label_in[7]]\n",
    "    return label_out\n",
    "\n",
    "def transform_13class(label_in):\n",
    "    label_out = label_in\n",
    "    return label_out.tolist()\n",
    "\n",
    "\n",
    "def loss_metrics(metrics, transform):\n",
    "    preds = [transform(x) for x in metrics[\"predict\"]]\n",
    "    targets = [transform(x) for x in metrics[\"label\"]]\n",
    "    targets_any_injury = metrics[\"label\"][:, -1]\n",
    "    \n",
    "    loss_list = []\n",
    "    \n",
    "    print(\"F1 score: \", sklearn.metrics.f1_score(metrics[\"label\"], np.around(metrics[\"predict\"]), average=None, zero_division=0.0))\n",
    "    print(\"AUC score: \", sklearn.metrics.roc_auc_score(metrics[\"label\"], metrics[\"predict\"], average=None))\n",
    "    \n",
    "    for i in range(0, len(preds)):\n",
    "        predict = preds[i]\n",
    "        target = targets[i]\n",
    "        \n",
    "        label_pred = np.zeros(14)\n",
    "        label_pred[0] = predict[0] / (predict[0] + predict[1])\n",
    "        label_pred[1] = predict[1] / (predict[0] + predict[1])\n",
    "        label_pred[2] = predict[2] / (predict[2] + predict[3])\n",
    "        label_pred[3] = predict[3] / (predict[2] + predict[3])\n",
    "        label_pred[4] = predict[4] / (predict[4] + predict[5] + predict[6])\n",
    "        label_pred[5] = predict[5] / (predict[4] + predict[5] + predict[6])\n",
    "        label_pred[6] = predict[6] / (predict[4] + predict[5] + predict[6])\n",
    "        label_pred[7] = predict[7] / (predict[7] + predict[8] + predict[9])\n",
    "        label_pred[8] = predict[8] / (predict[7] + predict[8] + predict[9])\n",
    "        label_pred[9] = predict[9] / (predict[7] + predict[8] + predict[9])\n",
    "        label_pred[10] = predict[10] / (predict[10] + predict[11] + predict[12])\n",
    "        label_pred[11] = predict[11] / (predict[10] + predict[11] + predict[12])\n",
    "        label_pred[12] = predict[12] / (predict[10] + predict[11] + predict[12])\n",
    "        label_pred[13] = max([1 - label_pred[x] for x in [0, 2, 4, 7, 10]])\n",
    "        \n",
    "        targets_any_injury = max([1 - target[x] for x in [0, 2, 4, 7, 10]])\n",
    "        \n",
    "        target.append(targets_any_injury)\n",
    "        label_target = np.array(target)\n",
    "        \n",
    "        weight = np.array([1, 2, 1, 6, 1, 2, 4, 1, 2, 4, 1, 2, 4, 6])\n",
    "        \n",
    "        loss_list.append(sklearn.metrics.log_loss(\n",
    "            y_true=label_target,\n",
    "            y_pred=label_pred,\n",
    "            sample_weight=weight))\n",
    "    #print(\"Weighted Loss: \" + np.mean(loss_list))\n",
    "    \n",
    "    return np.mean(loss_list)\n",
    "        \n",
    "    \n",
    "    \n",
    "    #print(np.array(preds).shape)\n",
    "    "
   ]
  },
  {
   "cell_type": "code",
   "execution_count": 11,
   "id": "b9b0b2a5-7151-4764-baa9-682316079e1b",
   "metadata": {},
   "outputs": [],
   "source": [
    "# torch.cuda.empty_cache()\n",
    "\n",
    "# net = EffNet(ch_out=8).to(device)\n",
    "# #net.load_state_dict(torch.load('EffNet3D/test_metrics.pt'))\n",
    "\n",
    "# imgs, labels = next(iter(val_dl))\n",
    "\n",
    "# outputs = net(imgs.to(device))"
   ]
  },
  {
   "cell_type": "code",
   "execution_count": 12,
   "id": "767c1edd-7c25-4168-a49c-ee569a06f4cb",
   "metadata": {},
   "outputs": [],
   "source": [
    "# print(outputs)\n",
    "# print(labels)\n",
    "\n",
    "# metrics = {\"predict\": outputs.to('cpu').detach().numpy(),\n",
    "#           \"label\": labels.to('cpu').detach().numpy()}\n",
    "\n",
    "# loss_metrics(metrics, transform_9class)\n"
   ]
  },
  {
   "cell_type": "code",
   "execution_count": 13,
   "id": "c1bbcd20-d1fb-437e-9d52-ed3daede5624",
   "metadata": {},
   "outputs": [],
   "source": [
    "import copy\n",
    "\n",
    "def TrainClassifer(model,trn_dl,val_dl,optimizer, scheduler=None,\n",
    "                   n_eopchs=20, device='cpu'):\n",
    " \n",
    "    #loss_fn = nn.BCELoss(weight=torch.Tensor([1, 6, 1, 6, 1, 4, 8, 1, 4, 8, 1, 4, 8]).to(device))\n",
    "    #loss_fn = nn.BCELoss()\n",
    "    loss_fn = nn.BCEWithLogitsLoss(pos_weight=torch.Tensor([1, 30, 1, 15, 1, 30, 30, 1, 18, 18, 1, 18, 18]).to(device))\n",
    "    model.to(device)\n",
    "    best_model = copy.deepcopy(model)\n",
    "    bestweight_model = copy.deepcopy(model)\n",
    "    best_val = 999.0\n",
    "    best_weightloss = 999.0\n",
    "    metrics = {'predict': [], 'label' : []}\n",
    "    PATH_MODEL = 'ResNet3D/resnet18_normal_13class_posweight_bestloss_2.pt'\n",
    "    PATH_MODEL2 = 'ResNet3D/resnet18_normal_13class_posweight_bestmetric_2.pt'\n",
    "    wandb.init(name='resnet18_normal_13class_posweight_2', \n",
    "               project='ResNet3D-test')\n",
    "\n",
    "    for epoch in range(1, n_eopchs + 1):\n",
    "        loss_train = 0.0\n",
    "        model.train()\n",
    "        for imgs, labels in tqdm(trn_dl, position=0):\n",
    "            imgs = imgs.to(device)\n",
    "            labels = labels.to(device)\n",
    "\n",
    "            outputs = model(imgs)\n",
    "            #outputs = model(imgs.unsqueeze(1))\n",
    "            loss = loss_fn(outputs, labels)\n",
    "            optimizer.zero_grad()\n",
    "            loss.backward()\n",
    "            optimizer.step()\n",
    "            loss_train += loss.item()\n",
    "        torch.cuda.empty_cache()\n",
    "        \n",
    "        loss_val = 0.0\n",
    "        correct_val = 0.0\n",
    "        model.eval()\n",
    "        \n",
    "        for imgs, labels in tqdm(val_dl):\n",
    "            imgs = imgs.to(device)\n",
    "            labels = labels.to(device)\n",
    "            with torch.no_grad():\n",
    "                outputs = model(imgs)\n",
    "                #outputs = model(imgs.unsqueeze(1))\n",
    "                loss = loss_fn(outputs, labels)\n",
    "                loss_val += loss.item()\n",
    "                outputs = torch.sigmoid(outputs)\n",
    "                metrics['predict'].extend((outputs.to('cpu').detach().numpy()).tolist())\n",
    "                metrics['label'].extend((labels.to('cpu').detach().numpy()).tolist())\n",
    "        \n",
    "        metrics['predict'] = np.array(metrics['predict'])\n",
    "        #metrics['predict'] = np.array([[0.5, 0.5, 0.33333, 0.33333, 0.33333, 0.33333, 0.33333, 0.33333, 0.33333]]*len(metrics['label']))\n",
    "        metrics['label'] = np.array(metrics['label'])\n",
    "        weighted_loss = loss_metrics(metrics, transform_13class)\n",
    "        metrics = {'predict': [], 'label' : []}\n",
    "        \n",
    "        torch.cuda.empty_cache()\n",
    "        \n",
    "        if (weighted_loss) < best_weightloss:\n",
    "            best_weightloss = weighted_loss\n",
    "            torch.save(model.state_dict(), 'model_tmp.pt')\n",
    "            bestweight_model.load_state_dict(torch.load('model_tmp.pt'))\n",
    "            \n",
    "        if loss_val / len(val_dl) < best_val:\n",
    "            best_val = loss_val / len(val_dl)\n",
    "            torch.save(model.state_dict(), 'model_tmp.pt')\n",
    "            best_model.load_state_dict(torch.load('model_tmp.pt'))\n",
    "            \n",
    "            \n",
    "        if scheduler != None:\n",
    "            scheduler.step()\n",
    "\n",
    "        print('{} Eopch {}, Training Loss {}, Val Loss {}, Weighted Loss {}'.format(time.strftime(\"%Y-%m-%d %H:%M:%S\",time.localtime()),\n",
    "                                                                  epoch, loss_train / len(trn_dl), loss_val / len(val_dl),\n",
    "                                                                                     weighted_loss))\n",
    "        \n",
    "        \n",
    "        \n",
    "        wandb.log({'training loss': loss_train / len(trn_dl),\n",
    "                  'val loss': loss_val / len(val_dl),\n",
    "                  'weighted loss': weighted_loss})\n",
    "    torch.save(best_model.state_dict(), PATH_MODEL)\n",
    "    torch.save(bestweight_model.state_dict(), PATH_MODEL2)\n",
    "    print('Finish training: best_val:{}, best_weighted loss:{}'.format(best_val, best_weightloss))\n",
    "    wandb.finish()"
   ]
  },
  {
   "cell_type": "code",
   "execution_count": 14,
   "id": "47e7aeaa-be68-4bba-9bf5-7da60673daae",
   "metadata": {},
   "outputs": [
    {
     "name": "stderr",
     "output_type": "stream",
     "text": [
      "\u001b[34m\u001b[1mwandb\u001b[0m: Currently logged in as: \u001b[33mnorthm\u001b[0m (\u001b[33mrsna2023\u001b[0m). Use \u001b[1m`wandb login --relogin`\u001b[0m to force relogin\n"
     ]
    },
    {
     "data": {
      "text/html": [
       "wandb version 0.15.11 is available!  To upgrade, please run:\n",
       " $ pip install wandb --upgrade"
      ],
      "text/plain": [
       "<IPython.core.display.HTML object>"
      ]
     },
     "metadata": {},
     "output_type": "display_data"
    },
    {
     "data": {
      "text/html": [
       "Tracking run with wandb version 0.15.8"
      ],
      "text/plain": [
       "<IPython.core.display.HTML object>"
      ]
     },
     "metadata": {},
     "output_type": "display_data"
    },
    {
     "data": {
      "text/html": [
       "Run data is saved locally in <code>/root/wandb/run-20230927_055916-85jdbggl</code>"
      ],
      "text/plain": [
       "<IPython.core.display.HTML object>"
      ]
     },
     "metadata": {},
     "output_type": "display_data"
    },
    {
     "data": {
      "text/html": [
       "Syncing run <strong><a href='https://wandb.ai/rsna2023/ResNet3D-test/runs/85jdbggl' target=\"_blank\">resnet18_normal_13class_posweight_2</a></strong> to <a href='https://wandb.ai/rsna2023/ResNet3D-test' target=\"_blank\">Weights & Biases</a> (<a href='https://wandb.me/run' target=\"_blank\">docs</a>)<br/>"
      ],
      "text/plain": [
       "<IPython.core.display.HTML object>"
      ]
     },
     "metadata": {},
     "output_type": "display_data"
    },
    {
     "data": {
      "text/html": [
       " View project at <a href='https://wandb.ai/rsna2023/ResNet3D-test' target=\"_blank\">https://wandb.ai/rsna2023/ResNet3D-test</a>"
      ],
      "text/plain": [
       "<IPython.core.display.HTML object>"
      ]
     },
     "metadata": {},
     "output_type": "display_data"
    },
    {
     "data": {
      "text/html": [
       " View run at <a href='https://wandb.ai/rsna2023/ResNet3D-test/runs/85jdbggl' target=\"_blank\">https://wandb.ai/rsna2023/ResNet3D-test/runs/85jdbggl</a>"
      ],
      "text/plain": [
       "<IPython.core.display.HTML object>"
      ]
     },
     "metadata": {},
     "output_type": "display_data"
    },
    {
     "name": "stderr",
     "output_type": "stream",
     "text": [
      "100%|██████████| 900/900 [04:24<00:00,  3.40it/s]\n",
      "100%|██████████| 278/278 [01:04<00:00,  4.33it/s]\n"
     ]
    },
    {
     "name": "stdout",
     "output_type": "stream",
     "text": [
      "F1 score:  [0.98677611 0.0625     0.96603071 0.12037833 0.96506754 0.08092486\n",
      " 0.         0.94341417 0.1520979  0.         0.93173077 0.15571284\n",
      " 0.14944356]\n",
      "AUC score:  [0.56635222 0.62741411 0.52243514 0.57550083 0.51081081 0.54252901\n",
      " 0.4031707  0.62402582 0.58948743 0.68748805 0.57633832 0.57771132\n",
      " 0.67442774]\n",
      "2023-09-27 06:04:50 Eopch 1, Training Loss 0.8852888219555219, Val Loss 0.9294694659950065, Weighted Loss 0.45186881821584485\n"
     ]
    },
    {
     "name": "stderr",
     "output_type": "stream",
     "text": [
      "100%|██████████| 900/900 [04:21<00:00,  3.44it/s]\n",
      "100%|██████████| 278/278 [01:03<00:00,  4.36it/s]\n"
     ]
    },
    {
     "name": "stdout",
     "output_type": "stream",
     "text": [
      "F1 score:  [0.98677611 0.06361829 0.96603071 0.12101911 0.96506754 0.08304498\n",
      " 0.         0.94341417 0.1677763  0.         0.93173077 0.13594233\n",
      " 0.        ]\n",
      "AUC score:  [0.59420613 0.63745299 0.52227017 0.57953916 0.60137066 0.55420978\n",
      " 0.46234796 0.62322953 0.57266297 0.66954554 0.63115743 0.55124728\n",
      " 0.5337132 ]\n",
      "2023-09-27 06:10:17 Eopch 2, Training Loss 0.860393045577738, Val Loss 0.9302407365908726, Weighted Loss 0.4393538888504797\n"
     ]
    },
    {
     "name": "stderr",
     "output_type": "stream",
     "text": [
      "100%|██████████| 900/900 [04:28<00:00,  3.35it/s]\n",
      "100%|██████████| 278/278 [01:12<00:00,  3.82it/s]\n"
     ]
    },
    {
     "name": "stdout",
     "output_type": "stream",
     "text": [
      "F1 score:  [0.98677611 0.06320542 0.96603071 0.13137255 0.96506754 0.07407407\n",
      " 0.06655574 0.94190476 0.15497382 0.07073955 0.93173077 0.17892644\n",
      " 0.20125786]\n",
      "AUC score:  [0.62664924 0.64599401 0.55988862 0.59220841 0.54853282 0.48308639\n",
      " 0.62067787 0.65145534 0.60681249 0.70453821 0.63386096 0.57306301\n",
      " 0.71264368]\n",
      "2023-09-27 06:16:00 Eopch 3, Training Loss 0.8504369518823094, Val Loss 0.9447402814738184, Weighted Loss 0.4762715935347811\n"
     ]
    },
    {
     "name": "stderr",
     "output_type": "stream",
     "text": [
      "100%|██████████| 900/900 [04:36<00:00,  3.25it/s]\n",
      "100%|██████████| 278/278 [01:03<00:00,  4.35it/s]\n"
     ]
    },
    {
     "name": "stdout",
     "output_type": "stream",
     "text": [
      "F1 score:  [0.98677611 0.08823529 0.96603071 0.1255144  0.96506754 0.07792208\n",
      " 0.         0.94341417 0.15521064 0.         0.93173077 0.14634146\n",
      " 0.14958449]\n",
      "AUC score:  [0.60994965 0.61976544 0.55062422 0.57620028 0.58790862 0.58350972\n",
      " 0.59180675 0.60646517 0.58218522 0.61947862 0.61995814 0.55067928\n",
      " 0.6276648 ]\n",
      "2023-09-27 06:21:43 Eopch 4, Training Loss 0.84290394441949, Val Loss 0.9665911404027355, Weighted Loss 0.4117858525747716\n"
     ]
    },
    {
     "name": "stderr",
     "output_type": "stream",
     "text": [
      "100%|██████████| 900/900 [04:30<00:00,  3.32it/s]\n",
      "100%|██████████| 278/278 [01:06<00:00,  4.20it/s]\n"
     ]
    },
    {
     "name": "stdout",
     "output_type": "stream",
     "text": [
      "F1 score:  [0.98677611 0.11538462 0.96603071 0.09375    0.96506754 0.07832168\n",
      " 0.05       0.94341417 0.15638767 0.13888889 0.93173077 0.15540541\n",
      " 0.        ]\n",
      "AUC score:  [0.65877366 0.65093378 0.57969092 0.56482435 0.54563707 0.50772186\n",
      " 0.66905836 0.6316456  0.59040157 0.70383708 0.65067806 0.58234803\n",
      " 0.69717065]\n",
      "2023-09-27 06:27:22 Eopch 5, Training Loss 0.8317267176840041, Val Loss 0.9237818775845946, Weighted Loss 0.41520629418963995\n"
     ]
    },
    {
     "name": "stderr",
     "output_type": "stream",
     "text": [
      "100%|██████████| 900/900 [04:21<00:00,  3.44it/s]\n",
      "100%|██████████| 278/278 [01:01<00:00,  4.54it/s]\n"
     ]
    },
    {
     "name": "stdout",
     "output_type": "stream",
     "text": [
      "F1 score:  [0.98677611 0.12       0.96603071 0.11398964 0.96506754 0.16\n",
      " 0.         0.94341417 0.20689655 0.         0.93173077 0.14634146\n",
      " 0.22624434]\n",
      "AUC score:  [0.64937217 0.6371343  0.55361998 0.59346214 0.63817889 0.61474992\n",
      " 0.68979773 0.65499627 0.64348678 0.67317866 0.67985    0.64383085\n",
      " 0.70277041]\n",
      "2023-09-27 06:32:47 Eopch 6, Training Loss 0.8257037339607874, Val Loss 0.9759733828066064, Weighted Loss 0.3619673257983518\n"
     ]
    },
    {
     "name": "stderr",
     "output_type": "stream",
     "text": [
      "100%|██████████| 900/900 [04:29<00:00,  3.34it/s]\n",
      "100%|██████████| 278/278 [01:03<00:00,  4.36it/s]\n"
     ]
    },
    {
     "name": "stdout",
     "output_type": "stream",
     "text": [
      "F1 score:  [0.98677611 0.05405405 0.96603071 0.12489307 0.96506754 0.08290155\n",
      " 0.05284553 0.93261719 0.15200683 0.05905006 0.93173077 0.1490433\n",
      " 0.11704312]\n",
      "AUC score:  [0.63879151 0.63047358 0.60160477 0.60225143 0.62957529 0.59279947\n",
      " 0.65279486 0.64040899 0.66058331 0.64640831 0.619384   0.57263412\n",
      " 0.70768248]\n",
      "2023-09-27 06:38:21 Eopch 7, Training Loss 0.8199235848585764, Val Loss 1.1242079317784137, Weighted Loss 0.5737882935332199\n"
     ]
    },
    {
     "name": "stderr",
     "output_type": "stream",
     "text": [
      "100%|██████████| 900/900 [04:32<00:00,  3.30it/s]\n",
      "100%|██████████| 278/278 [01:13<00:00,  3.81it/s]\n"
     ]
    },
    {
     "name": "stdout",
     "output_type": "stream",
     "text": [
      "F1 score:  [0.98677611 0.13824885 0.96603071 0.13580247 0.96506754 0.09505703\n",
      " 0.0678733  0.94341417 0.17468354 0.0990099  0.93173077 0.17266187\n",
      " 0.16283925]\n",
      "AUC score:  [0.72385111 0.70071388 0.55053184 0.54818275 0.62900901 0.61186892\n",
      " 0.66396747 0.66075664 0.65675264 0.67725795 0.6743412  0.62224695\n",
      " 0.73805547]\n",
      "2023-09-27 06:44:09 Eopch 8, Training Loss 0.8137483462029034, Val Loss 0.8762067509212083, Weighted Loss 0.4289219120613474\n"
     ]
    },
    {
     "name": "stderr",
     "output_type": "stream",
     "text": [
      "100%|██████████| 900/900 [04:32<00:00,  3.31it/s]\n",
      "100%|██████████| 278/278 [01:05<00:00,  4.23it/s]\n"
     ]
    },
    {
     "name": "stdout",
     "output_type": "stream",
     "text": [
      "F1 score:  [0.98677611 0.13559322 0.96603071 0.14925373 0.96506754 0.11527378\n",
      " 0.11510791 0.94341417 0.20942408 0.         0.93173077 0.17487685\n",
      " 0.20433437]\n",
      "AUC score:  [0.69443559 0.66970489 0.59932167 0.60858606 0.64702703 0.60645971\n",
      " 0.76424764 0.68896551 0.68610295 0.68509784 0.70067879 0.62298883\n",
      " 0.73302878]\n",
      "2023-09-27 06:49:48 Eopch 9, Training Loss 0.7945044820507368, Val Loss 0.89813217858402, Weighted Loss 0.3929886219919725\n"
     ]
    },
    {
     "name": "stderr",
     "output_type": "stream",
     "text": [
      "100%|██████████| 900/900 [04:26<00:00,  3.37it/s]\n",
      "100%|██████████| 278/278 [01:02<00:00,  4.45it/s]\n"
     ]
    },
    {
     "name": "stdout",
     "output_type": "stream",
     "text": [
      "F1 score:  [0.98677611 0.068      0.96603071 0.1622807  0.96506754 0.1040724\n",
      " 0.09893993 0.94341417 0.22685185 0.04081633 0.93173077 0.17518248\n",
      " 0.19534884]\n",
      "AUC score:  [0.68685066 0.66540251 0.59957241 0.60305646 0.66624196 0.61761132\n",
      " 0.72888479 0.66552589 0.6625204  0.67034228 0.72775767 0.65527194\n",
      " 0.79808102]\n",
      "2023-09-27 06:55:19 Eopch 10, Training Loss 0.7901828180419074, Val Loss 0.8946739518545943, Weighted Loss 0.39551234721824013\n"
     ]
    },
    {
     "name": "stderr",
     "output_type": "stream",
     "text": [
      "100%|██████████| 900/900 [04:32<00:00,  3.30it/s]\n",
      "100%|██████████| 278/278 [01:06<00:00,  4.18it/s]\n"
     ]
    },
    {
     "name": "stdout",
     "output_type": "stream",
     "text": [
      "F1 score:  [0.98677611 0.125      0.96603071 0.15481833 0.96506754 0.10580205\n",
      " 0.07582938 0.94341417 0.19085487 0.         0.93173077 0.17353579\n",
      " 0.16603774]\n",
      "AUC score:  [0.70355026 0.69806871 0.61138385 0.60865204 0.64199485 0.61849326\n",
      " 0.62826295 0.6594775  0.64800305 0.72251259 0.71484324 0.64591737\n",
      " 0.75957036]\n",
      "2023-09-27 07:01:00 Eopch 11, Training Loss 0.7754491369260682, Val Loss 0.8971761571739217, Weighted Loss 0.41199366512970464\n"
     ]
    },
    {
     "name": "stderr",
     "output_type": "stream",
     "text": [
      "100%|██████████| 900/900 [04:20<00:00,  3.45it/s]\n",
      "100%|██████████| 278/278 [01:06<00:00,  4.20it/s]\n"
     ]
    },
    {
     "name": "stdout",
     "output_type": "stream",
     "text": [
      "F1 score:  [0.98677611 0.07394958 0.96603071 0.14139111 0.96506754 0.09511229\n",
      " 0.0805153  0.94341417 0.18247299 0.12244898 0.93173077 0.17366136\n",
      " 0.21445221]\n",
      "AUC score:  [0.70909554 0.70501625 0.63004461 0.6259271  0.65132561 0.58388209\n",
      " 0.73202815 0.67943548 0.63695723 0.73780993 0.72040291 0.65131914\n",
      " 0.78860071]\n",
      "2023-09-27 07:06:28 Eopch 12, Training Loss 0.7569983298579852, Val Loss 0.9045190512329984, Weighted Loss 0.455027489404924\n"
     ]
    },
    {
     "name": "stderr",
     "output_type": "stream",
     "text": [
      "100%|██████████| 900/900 [04:51<00:00,  3.08it/s]\n",
      "100%|██████████| 278/278 [01:06<00:00,  4.19it/s]\n"
     ]
    },
    {
     "name": "stdout",
     "output_type": "stream",
     "text": [
      "F1 score:  [0.98677611 0.13333333 0.96603071 0.18888889 0.96506754 0.08627451\n",
      " 0.08934708 0.94308943 0.17258883 0.         0.93121693 0.19322034\n",
      " 0.25203252]\n",
      "AUC score:  [0.74042323 0.73271082 0.65118642 0.65568665 0.63491634 0.58209862\n",
      " 0.69157442 0.65962998 0.63523778 0.72805787 0.73179116 0.66276024\n",
      " 0.79488817]\n",
      "2023-09-27 07:12:28 Eopch 13, Training Loss 0.7493949453201559, Val Loss 0.9080122222574495, Weighted Loss 0.37165953588683354\n"
     ]
    },
    {
     "name": "stderr",
     "output_type": "stream",
     "text": [
      "100%|██████████| 900/900 [04:29<00:00,  3.33it/s]\n",
      "100%|██████████| 278/278 [01:10<00:00,  3.95it/s]\n"
     ]
    },
    {
     "name": "stdout",
     "output_type": "stream",
     "text": [
      "F1 score:  [0.98677611 0.1369863  0.96603071 0.17692308 0.96506754 0.11636364\n",
      " 0.06741573 0.94341417 0.18950064 0.09836066 0.93173077 0.20811287\n",
      " 0.19861432]\n",
      "AUC score:  [0.73328447 0.73730002 0.61833874 0.63674875 0.64715573 0.65094857\n",
      " 0.66304496 0.68866902 0.66161715 0.75517879 0.754088   0.68650021\n",
      " 0.78149458]\n",
      "2023-09-27 07:18:10 Eopch 14, Training Loss 0.7288858192993535, Val Loss 0.8756673211138025, Weighted Loss 0.38366754524103125\n"
     ]
    },
    {
     "name": "stderr",
     "output_type": "stream",
     "text": [
      "100%|██████████| 900/900 [04:38<00:00,  3.24it/s]\n",
      "100%|██████████| 278/278 [01:04<00:00,  4.33it/s]\n"
     ]
    },
    {
     "name": "stdout",
     "output_type": "stream",
     "text": [
      "F1 score:  [0.98677611 0.11643836 0.96603071 0.16894977 0.96506754 0.10353535\n",
      " 0.08450704 0.94431223 0.20344288 0.14778325 0.93173077 0.19323671\n",
      " 0.19262295]\n",
      "AUC score:  [0.72853592 0.73427242 0.63772534 0.64181645 0.68033462 0.68538335\n",
      " 0.6530682  0.67495426 0.64263794 0.76575945 0.75138447 0.66157787\n",
      " 0.80453221]\n",
      "2023-09-27 07:23:54 Eopch 15, Training Loss 0.7134613387783368, Val Loss 0.8983710225430324, Weighted Loss 0.38594500706282164\n"
     ]
    },
    {
     "name": "stderr",
     "output_type": "stream",
     "text": [
      "100%|██████████| 900/900 [04:35<00:00,  3.27it/s]\n",
      "100%|██████████| 278/278 [01:04<00:00,  4.28it/s]\n"
     ]
    },
    {
     "name": "stdout",
     "output_type": "stream",
     "text": [
      "F1 score:  [0.98677611 0.08607595 0.96603071 0.15817223 0.96506754 0.12336449\n",
      " 0.08450704 0.94386299 0.20981387 0.1443299  0.93173077 0.17953321\n",
      " 0.2118863 ]\n",
      "AUC score:  [0.67445344 0.66932246 0.62782749 0.63850397 0.70429858 0.69516306\n",
      " 0.65470821 0.68628016 0.66753727 0.74673338 0.73835376 0.64597533\n",
      " 0.8129646 ]\n",
      "2023-09-27 07:29:36 Eopch 16, Training Loss 0.7006993915140629, Val Loss 0.8937852732944402, Weighted Loss 0.39213879545680735\n"
     ]
    },
    {
     "name": "stderr",
     "output_type": "stream",
     "text": [
      "100%|██████████| 900/900 [04:24<00:00,  3.40it/s]\n",
      "100%|██████████| 278/278 [01:02<00:00,  4.43it/s]\n"
     ]
    },
    {
     "name": "stdout",
     "output_type": "stream",
     "text": [
      "F1 score:  [0.98677611 0.17910448 0.96603071 0.17619048 0.96506754 0.17307692\n",
      " 0.09815951 0.9447619  0.20701169 0.12048193 0.93346191 0.1728763\n",
      " 0.23489933]\n",
      "AUC score:  [0.76980687 0.77248391 0.63938818 0.64490458 0.68142857 0.69959235\n",
      " 0.62744294 0.68751694 0.64499946 0.81034483 0.74106455 0.64257894\n",
      " 0.79695124]\n",
      "2023-09-27 07:35:05 Eopch 17, Training Loss 0.698269543018606, Val Loss 0.9196926771844034, Weighted Loss 0.35135586636921956\n"
     ]
    },
    {
     "name": "stderr",
     "output_type": "stream",
     "text": [
      "100%|██████████| 900/900 [04:31<00:00,  3.31it/s]\n",
      "100%|██████████| 278/278 [01:05<00:00,  4.22it/s]\n"
     ]
    },
    {
     "name": "stdout",
     "output_type": "stream",
     "text": [
      "F1 score:  [0.98677611 0.11304348 0.96603071 0.17659138 0.96506754 0.11619718\n",
      " 0.07637232 0.94380952 0.16878613 0.16393443 0.93198263 0.18832392\n",
      " 0.24120603]\n",
      "AUC score:  [0.74813564 0.75259736 0.65197825 0.67522501 0.66740026 0.6491455\n",
      " 0.65737324 0.68317125 0.65107193 0.75811078 0.7620605  0.66638846\n",
      " 0.83346432]\n",
      "2023-09-27 07:40:44 Eopch 18, Training Loss 0.6798573279049661, Val Loss 0.8882865421741987, Weighted Loss 0.38989680415544664\n"
     ]
    },
    {
     "name": "stderr",
     "output_type": "stream",
     "text": [
      "100%|██████████| 900/900 [04:26<00:00,  3.38it/s]\n",
      "100%|██████████| 278/278 [01:04<00:00,  4.31it/s]\n"
     ]
    },
    {
     "name": "stdout",
     "output_type": "stream",
     "text": [
      "F1 score:  [0.98538813 0.09318996 0.96603071 0.15384615 0.96506754 0.10786517\n",
      " 0.07296137 0.94460363 0.19178082 0.08474576 0.93126815 0.19565217\n",
      " 0.2361809 ]\n",
      "AUC score:  [0.71186819 0.71486392 0.61503946 0.64044395 0.69544402 0.66206099\n",
      " 0.63844472 0.67980821 0.66525737 0.77646759 0.78338348 0.68724208\n",
      " 0.83673904]\n",
      "2023-09-27 07:46:17 Eopch 19, Training Loss 0.6635462125307984, Val Loss 0.9011820010412083, Weighted Loss 0.39261918141856705\n"
     ]
    },
    {
     "name": "stderr",
     "output_type": "stream",
     "text": [
      "100%|██████████| 900/900 [04:31<00:00,  3.31it/s]\n",
      "100%|██████████| 278/278 [01:03<00:00,  4.36it/s]\n"
     ]
    },
    {
     "name": "stdout",
     "output_type": "stream",
     "text": [
      "F1 score:  [0.98305085 0.10071942 0.96554935 0.16815742 0.96506754 0.125\n",
      " 0.0952381  0.94314381 0.22956522 0.15873016 0.93313953 0.18612521\n",
      " 0.22966507]\n",
      "AUC score:  [0.71384409 0.71973995 0.62645498 0.64846781 0.68953668 0.67407495\n",
      " 0.64777231 0.69840234 0.67277179 0.77471477 0.7551854  0.64633468\n",
      " 0.82352556]\n",
      "2023-09-27 07:51:53 Eopch 20, Training Loss 0.6391099344856209, Val Loss 0.9156043347266081, Weighted Loss 0.3816393531714346\n"
     ]
    },
    {
     "name": "stderr",
     "output_type": "stream",
     "text": [
      "100%|██████████| 900/900 [04:32<00:00,  3.30it/s]\n",
      "100%|██████████| 278/278 [01:04<00:00,  4.30it/s]\n"
     ]
    },
    {
     "name": "stdout",
     "output_type": "stream",
     "text": [
      "F1 score:  [0.98631387 0.17475728 0.96554935 0.15495495 0.96506754 0.11469534\n",
      " 0.07092199 0.9433603  0.2184466  0.15748031 0.9352657  0.20228385\n",
      " 0.31007752]\n",
      "AUC score:  [0.72915737 0.73720441 0.63858316 0.64809829 0.67758044 0.66678426\n",
      " 0.63123548 0.68860125 0.65105017 0.78478552 0.77507667 0.69062688\n",
      " 0.83465959]\n",
      "2023-09-27 07:57:32 Eopch 21, Training Loss 0.6276992106934388, Val Loss 0.9998057046302146, Weighted Loss 0.3460220878872656\n"
     ]
    },
    {
     "name": "stderr",
     "output_type": "stream",
     "text": [
      "100%|██████████| 900/900 [04:32<00:00,  3.30it/s]\n",
      "100%|██████████| 278/278 [01:01<00:00,  4.54it/s]\n"
     ]
    },
    {
     "name": "stdout",
     "output_type": "stream",
     "text": [
      "F1 score:  [0.98677611 0.13084112 0.96554935 0.17355372 0.9636194  0.10666667\n",
      " 0.08668731 0.94354067 0.19004525 0.19310345 0.9352657  0.20316027\n",
      " 0.23622047]\n",
      "AUC score:  [0.74080566 0.75087641 0.61924935 0.64553805 0.66006435 0.63818987\n",
      " 0.62088288 0.6813076  0.66056154 0.79651348 0.77734415 0.68629156\n",
      " 0.83533091]\n",
      "2023-09-27 08:03:08 Eopch 22, Training Loss 0.6228978140652179, Val Loss 0.9562773502183904, Weighted Loss 0.3628766567687028\n"
     ]
    },
    {
     "name": "stderr",
     "output_type": "stream",
     "text": [
      "100%|██████████| 900/900 [04:32<00:00,  3.31it/s]\n",
      "100%|██████████| 278/278 [01:07<00:00,  4.15it/s]\n"
     ]
    },
    {
     "name": "stdout",
     "output_type": "stream",
     "text": [
      "F1 score:  [0.98677611 0.12222222 0.9636194  0.14767932 0.96458527 0.13157895\n",
      " 0.08571429 0.94425917 0.18484848 0.06896552 0.92818227 0.21868787\n",
      " 0.21078431]\n",
      "AUC score:  [0.64902161 0.662598   0.62374957 0.65424816 0.67598456 0.67879821\n",
      " 0.57759328 0.67150651 0.61599739 0.76263624 0.76783093 0.68971113\n",
      " 0.79238301]\n",
      "2023-09-27 08:08:49 Eopch 23, Training Loss 0.5913264274597168, Val Loss 1.0514805614546263, Weighted Loss 0.36609810348409444\n"
     ]
    },
    {
     "name": "stderr",
     "output_type": "stream",
     "text": [
      "100%|██████████| 900/900 [04:27<00:00,  3.36it/s]\n",
      "100%|██████████| 278/278 [01:03<00:00,  4.36it/s]\n"
     ]
    },
    {
     "name": "stdout",
     "output_type": "stream",
     "text": [
      "F1 score:  [0.98631387 0.17741935 0.96603071 0.16806723 0.96458527 0.12280702\n",
      " 0.09836066 0.93818879 0.17919075 0.12962963 0.93604651 0.22641509\n",
      " 0.28461538]\n",
      "AUC score:  [0.69876984 0.71371662 0.66682503 0.67478291 0.68831403 0.6846386\n",
      " 0.61657783 0.66938025 0.62023071 0.76544075 0.79982994 0.68828534\n",
      " 0.85304712]\n",
      "2023-09-27 08:14:22 Eopch 24, Training Loss 0.5881596305966377, Val Loss 0.9733749551015148, Weighted Loss 0.34707239260047684\n"
     ]
    },
    {
     "name": "stderr",
     "output_type": "stream",
     "text": [
      "100%|██████████| 900/900 [04:44<00:00,  3.16it/s]\n",
      "100%|██████████| 278/278 [01:04<00:00,  4.31it/s]\n"
     ]
    },
    {
     "name": "stdout",
     "output_type": "stream",
     "text": [
      "F1 score:  [0.98069853 0.11518325 0.9636194  0.17849899 0.96503497 0.13207547\n",
      " 0.0733945  0.93948127 0.19732441 0.15028902 0.92967581 0.191582\n",
      " 0.20758483]\n",
      "AUC score:  [0.66568934 0.67846899 0.65659725 0.66456832 0.67389961 0.6818556\n",
      " 0.52419024 0.68266298 0.6450321  0.77774237 0.8022791  0.69923958\n",
      " 0.84222419]\n",
      "2023-09-27 08:20:12 Eopch 25, Training Loss 0.5618836442132791, Val Loss 1.0367799508485862, Weighted Loss 0.3892526716676954\n"
     ]
    },
    {
     "name": "stderr",
     "output_type": "stream",
     "text": [
      "100%|██████████| 900/900 [04:42<00:00,  3.18it/s]\n",
      "100%|██████████| 278/278 [01:08<00:00,  4.06it/s]\n"
     ]
    },
    {
     "name": "stdout",
     "output_type": "stream",
     "text": [
      "F1 score:  [0.98393759 0.11016949 0.95480226 0.18903592 0.95992456 0.155\n",
      " 0.08695652 0.93725869 0.19790105 0.10810811 0.93333333 0.22641509\n",
      " 0.30278884]\n",
      "AUC score:  [0.67352922 0.68226146 0.68549898 0.68377016 0.70261261 0.70478598\n",
      " 0.62925379 0.68082475 0.65634998 0.76279559 0.80131252 0.70138406\n",
      " 0.85515931]\n",
      "2023-09-27 08:26:05 Eopch 26, Training Loss 0.5401887155241436, Val Loss 1.050293714183269, Weighted Loss 0.3616396544566083\n"
     ]
    },
    {
     "name": "stderr",
     "output_type": "stream",
     "text": [
      "100%|██████████| 900/900 [04:39<00:00,  3.22it/s]\n",
      "100%|██████████| 278/278 [01:06<00:00,  4.15it/s]\n"
     ]
    },
    {
     "name": "stdout",
     "output_type": "stream",
     "text": [
      "F1 score:  [0.97788018 0.13402062 0.95766698 0.19172113 0.96458527 0.11864407\n",
      " 0.05714286 0.94425917 0.20925553 0.17948718 0.93479343 0.19869707\n",
      " 0.2464455 ]\n",
      "AUC score:  [0.68677099 0.69931162 0.67517882 0.67589147 0.68835264 0.67229147\n",
      " 0.57503075 0.67091353 0.62072043 0.78045127 0.80510618 0.66879955\n",
      " 0.86200347]\n",
      "2023-09-27 08:31:53 Eopch 27, Training Loss 0.5328143318245808, Val Loss 1.0891391497587772, Weighted Loss 0.35556134814506074\n"
     ]
    },
    {
     "name": "stderr",
     "output_type": "stream",
     "text": [
      "100%|██████████| 900/900 [04:34<00:00,  3.28it/s]\n",
      "100%|██████████| 278/278 [01:07<00:00,  4.14it/s]\n"
     ]
    },
    {
     "name": "stdout",
     "output_type": "stream",
     "text": [
      "F1 score:  [0.98395232 0.11304348 0.96554935 0.18892508 0.95909732 0.13358779\n",
      " 0.10989011 0.92822026 0.1954023  0.15757576 0.93093093 0.20240137\n",
      " 0.24778761]\n",
      "AUC score:  [0.7066416  0.71722226 0.67760709 0.68252963 0.72463964 0.69533945\n",
      " 0.65204319 0.70669558 0.67506802 0.7689464  0.81214843 0.71221078\n",
      " 0.82481907]\n",
      "2023-09-27 08:37:36 Eopch 28, Training Loss 0.5044952110697826, Val Loss 0.9761212615684854, Weighted Loss 0.35754351835735204\n"
     ]
    },
    {
     "name": "stderr",
     "output_type": "stream",
     "text": [
      "100%|██████████| 900/900 [04:36<00:00,  3.25it/s]\n",
      "100%|██████████| 278/278 [01:05<00:00,  4.23it/s]\n"
     ]
    },
    {
     "name": "stdout",
     "output_type": "stream",
     "text": [
      "F1 score:  [0.98489703 0.14516129 0.96455224 0.17391304 0.96358543 0.11612903\n",
      " 0.05847953 0.94314381 0.21653543 0.1971831  0.93445047 0.20608899\n",
      " 0.2748538 ]\n",
      "AUC score:  [0.71100771 0.72024986 0.6702035  0.66921371 0.67119691 0.65774929\n",
      " 0.58210332 0.6904649  0.65187724 0.79979604 0.79400863 0.69031391\n",
      " 0.85098405]\n",
      "2023-09-27 08:43:21 Eopch 29, Training Loss 0.49216802493565615, Val Loss 1.108342647713294, Weighted Loss 0.3413490524732515\n"
     ]
    },
    {
     "name": "stderr",
     "output_type": "stream",
     "text": [
      "100%|██████████| 900/900 [04:31<00:00,  3.31it/s]\n",
      "100%|██████████| 278/278 [01:10<00:00,  3.92it/s]\n"
     ]
    },
    {
     "name": "stdout",
     "output_type": "stream",
     "text": [
      "F1 score:  [0.98347107 0.13913043 0.96067416 0.19902913 0.96358543 0.16161616\n",
      " 0.08791209 0.94359465 0.18336163 0.15841584 0.92995529 0.20262664\n",
      " 0.28225806]\n",
      "AUC score:  [0.74220792 0.75581618 0.70875234 0.71066593 0.65893179 0.69053779\n",
      " 0.53953123 0.67361582 0.63758842 0.72780292 0.78536752 0.66848658\n",
      " 0.83673904]\n",
      "2023-09-27 08:49:05 Eopch 30, Training Loss 0.4744193528013097, Val Loss 1.1992140531861524, Weighted Loss 0.3368091459170457\n",
      "Finish training: best_val:0.8756673211138025, best_weighted loss:0.3368091459170457\n"
     ]
    },
    {
     "data": {
      "text/html": [
       "Waiting for W&B process to finish... <strong style=\"color:green\">(success).</strong>"
      ],
      "text/plain": [
       "<IPython.core.display.HTML object>"
      ]
     },
     "metadata": {},
     "output_type": "display_data"
    },
    {
     "data": {
      "text/html": [
       "<style>\n",
       "    table.wandb td:nth-child(1) { padding: 0 10px; text-align: left ; width: auto;} td:nth-child(2) {text-align: left ; width: 100%}\n",
       "    .wandb-row { display: flex; flex-direction: row; flex-wrap: wrap; justify-content: flex-start; width: 100% }\n",
       "    .wandb-col { display: flex; flex-direction: column; flex-basis: 100%; flex: 1; padding: 10px; }\n",
       "    </style>\n",
       "<div class=\"wandb-row\"><div class=\"wandb-col\"><h3>Run history:</h3><br/><table class=\"wandb\"><tr><td>training loss</td><td>██▇▇▇▇▇▇▆▆▆▆▆▅▅▅▅▅▄▄▄▄▃▃▂▂▂▂▁▁</td></tr><tr><td>val loss</td><td>▂▂▂▃▂▃▆▁▁▁▁▂▂▁▁▁▂▁▂▂▄▃▅▃▄▅▆▃▆█</td></tr><tr><td>weighted loss</td><td>▄▄▅▃▃▂█▄▃▃▃▄▂▂▂▃▁▃▃▂▁▂▂▁▃▂▂▂▁▁</td></tr></table><br/></div><div class=\"wandb-col\"><h3>Run summary:</h3><br/><table class=\"wandb\"><tr><td>training loss</td><td>0.47442</td></tr><tr><td>val loss</td><td>1.19921</td></tr><tr><td>weighted loss</td><td>0.33681</td></tr></table><br/></div></div>"
      ],
      "text/plain": [
       "<IPython.core.display.HTML object>"
      ]
     },
     "metadata": {},
     "output_type": "display_data"
    },
    {
     "data": {
      "text/html": [
       " View run <strong style=\"color:#cdcd00\">resnet18_normal_13class_posweight_2</strong> at: <a href='https://wandb.ai/rsna2023/ResNet3D-test/runs/85jdbggl' target=\"_blank\">https://wandb.ai/rsna2023/ResNet3D-test/runs/85jdbggl</a><br/>Synced 5 W&B file(s), 0 media file(s), 0 artifact file(s) and 0 other file(s)"
      ],
      "text/plain": [
       "<IPython.core.display.HTML object>"
      ]
     },
     "metadata": {},
     "output_type": "display_data"
    },
    {
     "data": {
      "text/html": [
       "Find logs at: <code>./wandb/run-20230927_055916-85jdbggl/logs</code>"
      ],
      "text/plain": [
       "<IPython.core.display.HTML object>"
      ]
     },
     "metadata": {},
     "output_type": "display_data"
    }
   ],
   "source": [
    "# net = EffNet(ch_out=13).to(device)\n",
    "net = ResNet(block='basic', layers=[2, 2, 2, 2], block_inplanes=[64, 128, 256, 512],\n",
    "            spatial_dims=3, n_input_channels=1, num_classes=13, conv1_t_stride=4).to(device)\n",
    "\n",
    "# net = ResNet(block='bottleneck', layers=[3, 4, 6, 3], block_inplanes=[64, 128, 256, 512],\n",
    "#             spatial_dims=3, n_input_channels=1, num_classes=13, conv1_t_stride=4).to(device)\n",
    "\n",
    "optimizer = optim.AdamW(net.parameters(), lr=1e-4)\n",
    "TrainClassifer(model=net,trn_dl=train_dl,val_dl=val_dl,optimizer=optimizer, \n",
    "               scheduler=None, n_eopchs=30, device=device)"
   ]
  },
  {
   "cell_type": "code",
   "execution_count": 15,
   "id": "a570bdee-3b74-46f1-84e4-a9382218651b",
   "metadata": {},
   "outputs": [],
   "source": [
    "# loss_val = 0.0\n",
    "# correct_val = 0.0\n",
    "\n",
    "# net = EffNet(ch_out=13).to(device)\n",
    "# net.load_state_dict(torch.load('EffNet3D/test_normal_13class_posweight_bestmetric_correct.pt'))\n",
    "# loss_fn = nn.BCEWithLogitsLoss(pos_weight=torch.Tensor([1, 30, 1, 15, 1, 30, 30, 1, 18, 18, 1, 18, 18]).to(device))\n",
    "\n",
    "# net.eval()\n",
    "        \n",
    "# for _, (imgs, labels) in tqdm(enumerate(val_dl)):\n",
    "#     imgs = imgs.to(device)\n",
    "#     labels = labels.to(device)\n",
    "#     with torch.no_grad():\n",
    "#         outputs = net(imgs)\n",
    "#         #outputs = model(imgs.unsqueeze(1))\n",
    "#         loss = loss_fn(outputs, labels)\n",
    "#         loss_val += loss.item()\n",
    "# print(loss_val / len(val_dl))"
   ]
  },
  {
   "cell_type": "code",
   "execution_count": null,
   "id": "c2329557-7a62-4d99-9f14-657bbc2bcab7",
   "metadata": {},
   "outputs": [],
   "source": []
  },
  {
   "cell_type": "code",
   "execution_count": null,
   "id": "c6e28bf7-d820-4a72-a8f0-c81689b651ee",
   "metadata": {},
   "outputs": [],
   "source": []
  }
 ],
 "metadata": {
  "kernelspec": {
   "display_name": "Python 3 (ipykernel)",
   "language": "python",
   "name": "python3"
  },
  "language_info": {
   "codemirror_mode": {
    "name": "ipython",
    "version": 3
   },
   "file_extension": ".py",
   "mimetype": "text/x-python",
   "name": "python",
   "nbconvert_exporter": "python",
   "pygments_lexer": "ipython3",
   "version": "3.8.10"
  }
 },
 "nbformat": 4,
 "nbformat_minor": 5
}
