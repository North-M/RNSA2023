{
 "cells": [
  {
   "cell_type": "code",
   "execution_count": 1,
   "id": "abf32a2a-7118-4d81-b093-818e344d05b5",
   "metadata": {},
   "outputs": [],
   "source": [
    "import numpy as np\n",
    "import pandas as pd\n",
    "import matplotlib.pyplot as plt\n",
    "\n",
    "import os\n",
    "import random\n",
    "import re\n",
    "\n",
    "from tqdm import tqdm\n",
    "import time\n",
    "\n",
    "import pydicom as dicom\n",
    "import nibabel as nib\n",
    "import SimpleITK as sitk\n",
    "import monai\n",
    "\n",
    "import torch\n",
    "import torch.nn as nn\n",
    "import torch.optim as optim\n",
    "\n",
    "from monai.networks.nets import EfficientNetBN\n",
    "from monai.networks.nets import ResNet\n",
    "#from efficientnet_pytorch import EfficientNet\n",
    "import timm\n",
    "\n",
    "import wandb\n"
   ]
  },
  {
   "cell_type": "code",
   "execution_count": 2,
   "id": "a795ca56-6bcd-4967-b375-dc59214d526b",
   "metadata": {},
   "outputs": [
    {
     "name": "stdout",
     "output_type": "stream",
     "text": [
      "Finish seeding with seed 344\n",
      "Training on device cuda\n"
     ]
    }
   ],
   "source": [
    "SEED = 344\n",
    "device = torch.device('cuda' if torch.cuda.is_available() else 'cpu')\n",
    "def seed_everything(seed):\n",
    "    random.seed(seed)\n",
    "    os.environ['PYTHONHASHSEED'] = str(seed)\n",
    "    np.random.seed(seed)\n",
    "    torch.manual_seed(seed)\n",
    "    torch.cuda.manual_seed(seed)\n",
    "    torch.backends.cudnn.deterministic = True # Fix the network according to random seed\n",
    "    print('Finish seeding with seed {}'.format(seed))\n",
    "    \n",
    "seed_everything(SEED)\n",
    "print('Training on device {}'.format(device))"
   ]
  },
  {
   "cell_type": "code",
   "execution_count": 3,
   "id": "48a8a495-8bee-478e-a16b-0e27bfd70da8",
   "metadata": {},
   "outputs": [
    {
     "data": {
      "text/html": [
       "<div>\n",
       "<style scoped>\n",
       "    .dataframe tbody tr th:only-of-type {\n",
       "        vertical-align: middle;\n",
       "    }\n",
       "\n",
       "    .dataframe tbody tr th {\n",
       "        vertical-align: top;\n",
       "    }\n",
       "\n",
       "    .dataframe thead th {\n",
       "        text-align: right;\n",
       "    }\n",
       "</style>\n",
       "<table border=\"1\" class=\"dataframe\">\n",
       "  <thead>\n",
       "    <tr style=\"text-align: right;\">\n",
       "      <th></th>\n",
       "      <th>index</th>\n",
       "      <th>patient_id</th>\n",
       "      <th>bowel_healthy</th>\n",
       "      <th>bowel_injury</th>\n",
       "      <th>extravasation_healthy</th>\n",
       "      <th>extravasation_injury</th>\n",
       "      <th>kidney_healthy</th>\n",
       "      <th>kidney_low</th>\n",
       "      <th>kidney_high</th>\n",
       "      <th>liver_healthy</th>\n",
       "      <th>liver_low</th>\n",
       "      <th>liver_high</th>\n",
       "      <th>spleen_healthy</th>\n",
       "      <th>spleen_low</th>\n",
       "      <th>spleen_high</th>\n",
       "      <th>any_injury</th>\n",
       "      <th>series_num</th>\n",
       "    </tr>\n",
       "  </thead>\n",
       "  <tbody>\n",
       "    <tr>\n",
       "      <th>0</th>\n",
       "      <td>2090</td>\n",
       "      <td>49044</td>\n",
       "      <td>1</td>\n",
       "      <td>0</td>\n",
       "      <td>1</td>\n",
       "      <td>0</td>\n",
       "      <td>0</td>\n",
       "      <td>0</td>\n",
       "      <td>1</td>\n",
       "      <td>1</td>\n",
       "      <td>0</td>\n",
       "      <td>0</td>\n",
       "      <td>1</td>\n",
       "      <td>0</td>\n",
       "      <td>0</td>\n",
       "      <td>1</td>\n",
       "      <td>0</td>\n",
       "    </tr>\n",
       "    <tr>\n",
       "      <th>1</th>\n",
       "      <td>2093</td>\n",
       "      <td>49096</td>\n",
       "      <td>1</td>\n",
       "      <td>0</td>\n",
       "      <td>0</td>\n",
       "      <td>1</td>\n",
       "      <td>1</td>\n",
       "      <td>0</td>\n",
       "      <td>0</td>\n",
       "      <td>1</td>\n",
       "      <td>0</td>\n",
       "      <td>0</td>\n",
       "      <td>1</td>\n",
       "      <td>0</td>\n",
       "      <td>0</td>\n",
       "      <td>1</td>\n",
       "      <td>0</td>\n",
       "    </tr>\n",
       "    <tr>\n",
       "      <th>2</th>\n",
       "      <td>2094</td>\n",
       "      <td>49125</td>\n",
       "      <td>1</td>\n",
       "      <td>0</td>\n",
       "      <td>1</td>\n",
       "      <td>0</td>\n",
       "      <td>1</td>\n",
       "      <td>0</td>\n",
       "      <td>0</td>\n",
       "      <td>1</td>\n",
       "      <td>0</td>\n",
       "      <td>0</td>\n",
       "      <td>1</td>\n",
       "      <td>0</td>\n",
       "      <td>0</td>\n",
       "      <td>0</td>\n",
       "      <td>0</td>\n",
       "    </tr>\n",
       "    <tr>\n",
       "      <th>3</th>\n",
       "      <td>2096</td>\n",
       "      <td>49141</td>\n",
       "      <td>1</td>\n",
       "      <td>0</td>\n",
       "      <td>1</td>\n",
       "      <td>0</td>\n",
       "      <td>1</td>\n",
       "      <td>0</td>\n",
       "      <td>0</td>\n",
       "      <td>1</td>\n",
       "      <td>0</td>\n",
       "      <td>0</td>\n",
       "      <td>1</td>\n",
       "      <td>0</td>\n",
       "      <td>0</td>\n",
       "      <td>0</td>\n",
       "      <td>0</td>\n",
       "    </tr>\n",
       "    <tr>\n",
       "      <th>4</th>\n",
       "      <td>2098</td>\n",
       "      <td>49148</td>\n",
       "      <td>1</td>\n",
       "      <td>0</td>\n",
       "      <td>1</td>\n",
       "      <td>0</td>\n",
       "      <td>1</td>\n",
       "      <td>0</td>\n",
       "      <td>0</td>\n",
       "      <td>1</td>\n",
       "      <td>0</td>\n",
       "      <td>0</td>\n",
       "      <td>1</td>\n",
       "      <td>0</td>\n",
       "      <td>0</td>\n",
       "      <td>0</td>\n",
       "      <td>0</td>\n",
       "    </tr>\n",
       "    <tr>\n",
       "      <th>...</th>\n",
       "      <td>...</td>\n",
       "      <td>...</td>\n",
       "      <td>...</td>\n",
       "      <td>...</td>\n",
       "      <td>...</td>\n",
       "      <td>...</td>\n",
       "      <td>...</td>\n",
       "      <td>...</td>\n",
       "      <td>...</td>\n",
       "      <td>...</td>\n",
       "      <td>...</td>\n",
       "      <td>...</td>\n",
       "      <td>...</td>\n",
       "      <td>...</td>\n",
       "      <td>...</td>\n",
       "      <td>...</td>\n",
       "      <td>...</td>\n",
       "    </tr>\n",
       "    <tr>\n",
       "      <th>532</th>\n",
       "      <td>3139</td>\n",
       "      <td>9813</td>\n",
       "      <td>1</td>\n",
       "      <td>0</td>\n",
       "      <td>1</td>\n",
       "      <td>0</td>\n",
       "      <td>1</td>\n",
       "      <td>0</td>\n",
       "      <td>0</td>\n",
       "      <td>0</td>\n",
       "      <td>1</td>\n",
       "      <td>0</td>\n",
       "      <td>0</td>\n",
       "      <td>0</td>\n",
       "      <td>1</td>\n",
       "      <td>1</td>\n",
       "      <td>0</td>\n",
       "    </tr>\n",
       "    <tr>\n",
       "      <th>533</th>\n",
       "      <td>3141</td>\n",
       "      <td>9860</td>\n",
       "      <td>1</td>\n",
       "      <td>0</td>\n",
       "      <td>1</td>\n",
       "      <td>0</td>\n",
       "      <td>1</td>\n",
       "      <td>0</td>\n",
       "      <td>0</td>\n",
       "      <td>1</td>\n",
       "      <td>0</td>\n",
       "      <td>0</td>\n",
       "      <td>1</td>\n",
       "      <td>0</td>\n",
       "      <td>0</td>\n",
       "      <td>0</td>\n",
       "      <td>0</td>\n",
       "    </tr>\n",
       "    <tr>\n",
       "      <th>534</th>\n",
       "      <td>3142</td>\n",
       "      <td>9951</td>\n",
       "      <td>1</td>\n",
       "      <td>0</td>\n",
       "      <td>1</td>\n",
       "      <td>0</td>\n",
       "      <td>1</td>\n",
       "      <td>0</td>\n",
       "      <td>0</td>\n",
       "      <td>1</td>\n",
       "      <td>0</td>\n",
       "      <td>0</td>\n",
       "      <td>1</td>\n",
       "      <td>0</td>\n",
       "      <td>0</td>\n",
       "      <td>0</td>\n",
       "      <td>0</td>\n",
       "    </tr>\n",
       "    <tr>\n",
       "      <th>535</th>\n",
       "      <td>3143</td>\n",
       "      <td>9960</td>\n",
       "      <td>1</td>\n",
       "      <td>0</td>\n",
       "      <td>1</td>\n",
       "      <td>0</td>\n",
       "      <td>1</td>\n",
       "      <td>0</td>\n",
       "      <td>0</td>\n",
       "      <td>1</td>\n",
       "      <td>0</td>\n",
       "      <td>0</td>\n",
       "      <td>1</td>\n",
       "      <td>0</td>\n",
       "      <td>0</td>\n",
       "      <td>0</td>\n",
       "      <td>0</td>\n",
       "    </tr>\n",
       "    <tr>\n",
       "      <th>536</th>\n",
       "      <td>3146</td>\n",
       "      <td>9983</td>\n",
       "      <td>1</td>\n",
       "      <td>0</td>\n",
       "      <td>1</td>\n",
       "      <td>0</td>\n",
       "      <td>1</td>\n",
       "      <td>0</td>\n",
       "      <td>0</td>\n",
       "      <td>1</td>\n",
       "      <td>0</td>\n",
       "      <td>0</td>\n",
       "      <td>0</td>\n",
       "      <td>0</td>\n",
       "      <td>1</td>\n",
       "      <td>1</td>\n",
       "      <td>0</td>\n",
       "    </tr>\n",
       "  </tbody>\n",
       "</table>\n",
       "<p>537 rows × 17 columns</p>\n",
       "</div>"
      ],
      "text/plain": [
       "     index  patient_id  bowel_healthy  bowel_injury  extravasation_healthy  \\\n",
       "0     2090       49044              1             0                      1   \n",
       "1     2093       49096              1             0                      0   \n",
       "2     2094       49125              1             0                      1   \n",
       "3     2096       49141              1             0                      1   \n",
       "4     2098       49148              1             0                      1   \n",
       "..     ...         ...            ...           ...                    ...   \n",
       "532   3139        9813              1             0                      1   \n",
       "533   3141        9860              1             0                      1   \n",
       "534   3142        9951              1             0                      1   \n",
       "535   3143        9960              1             0                      1   \n",
       "536   3146        9983              1             0                      1   \n",
       "\n",
       "     extravasation_injury  kidney_healthy  kidney_low  kidney_high  \\\n",
       "0                       0               0           0            1   \n",
       "1                       1               1           0            0   \n",
       "2                       0               1           0            0   \n",
       "3                       0               1           0            0   \n",
       "4                       0               1           0            0   \n",
       "..                    ...             ...         ...          ...   \n",
       "532                     0               1           0            0   \n",
       "533                     0               1           0            0   \n",
       "534                     0               1           0            0   \n",
       "535                     0               1           0            0   \n",
       "536                     0               1           0            0   \n",
       "\n",
       "     liver_healthy  liver_low  liver_high  spleen_healthy  spleen_low  \\\n",
       "0                1          0           0               1           0   \n",
       "1                1          0           0               1           0   \n",
       "2                1          0           0               1           0   \n",
       "3                1          0           0               1           0   \n",
       "4                1          0           0               1           0   \n",
       "..             ...        ...         ...             ...         ...   \n",
       "532              0          1           0               0           0   \n",
       "533              1          0           0               1           0   \n",
       "534              1          0           0               1           0   \n",
       "535              1          0           0               1           0   \n",
       "536              1          0           0               0           0   \n",
       "\n",
       "     spleen_high  any_injury  series_num  \n",
       "0              0           1           0  \n",
       "1              0           1           0  \n",
       "2              0           0           0  \n",
       "3              0           0           0  \n",
       "4              0           0           0  \n",
       "..           ...         ...         ...  \n",
       "532            1           1           0  \n",
       "533            0           0           0  \n",
       "534            0           0           0  \n",
       "535            0           0           0  \n",
       "536            1           1           0  \n",
       "\n",
       "[537 rows x 17 columns]"
      ]
     },
     "execution_count": 3,
     "metadata": {},
     "output_type": "execute_result"
    }
   ],
   "source": [
    "dicom_tag_columns = [\n",
    "    'Columns',\n",
    "    'ImageOrientationPatient',\n",
    "    'ImagePositionPatient',\n",
    "    'InstanceNumber',\n",
    "    'PatientID',\n",
    "    'PatientPosition',\n",
    "    'PixelSpacing',\n",
    "    'RescaleIntercept',\n",
    "    'RescaleSlope',\n",
    "    'Rows',\n",
    "    'SeriesNumber',\n",
    "    'SliceThickness',\n",
    "    'path',\n",
    "    'WindowCenter',\n",
    "    'WindowWidth'\n",
    "]\n",
    "\n",
    "train_dicom_tags = pd.read_parquet('autodl-tmp/train_dicom_tags.parquet', columns=dicom_tag_columns)\n",
    "test_dicom_tags = pd.read_parquet('autodl-tmp/test_dicom_tags.parquet', columns=dicom_tag_columns)\n",
    "\n",
    "train_series_meta = pd.read_csv('autodl-tmp/train_series_meta.csv')\n",
    "test_series_meta = pd.read_csv('autodl-tmp/test_series_meta.csv')\n",
    "\n",
    "train_csv = pd.read_csv('autodl-tmp/train.csv')\n",
    "\n",
    "fold1_1phase_csv = pd.read_csv('autodl-tmp/train_3fold/fold1_1phase.csv')\n",
    "fold2_1phase_csv = pd.read_csv('autodl-tmp/train_3fold/fold2_1phase.csv')\n",
    "fold3_1phase_csv = pd.read_csv('autodl-tmp/train_3fold/fold3_1phase.csv')\n",
    "\n",
    "fold3_1phase_csv"
   ]
  },
  {
   "cell_type": "code",
   "execution_count": 4,
   "id": "5b75b036-35cc-4f07-9480-1d2ff2ab6bc5",
   "metadata": {},
   "outputs": [],
   "source": [
    "injury_series_meta = train_series_meta.loc[train_series_meta.patient_id.isin(train_csv.loc[train_csv.any_injury == 1, \"patient_id\"].values)]\n",
    "healthy_series_meta = train_series_meta.loc[train_series_meta.patient_id.isin(train_csv.loc[train_csv.any_injury == 0, \"patient_id\"].values)]"
   ]
  },
  {
   "cell_type": "code",
   "execution_count": 5,
   "id": "7096cd30-8868-4b07-b313-ea7cfce8fd66",
   "metadata": {},
   "outputs": [],
   "source": [
    "def raw_path_gen(patient_id, series_id, train=True):\n",
    "    if(train):\n",
    "        path = 'autodl-tmp/train_images_resample/'\n",
    "    else:\n",
    "        path = 'autodl-tmp/train_images_resample/'\n",
    "    \n",
    "    path += str(patient_id) + '/' + str(series_id)\n",
    "    \n",
    "    return path\n",
    "\n",
    "def create_3D_scans(folder, downsample_rate=1): \n",
    "    filenames = os.listdir(folder)\n",
    "    filenames = [int(filename.split('.')[0]) for filename in filenames]\n",
    "    filenames = sorted(filenames)\n",
    "    filenames = [str(filename) + '.dcm' for filename in filenames]\n",
    "        \n",
    "    volume = []\n",
    "    #for filename in tqdm(filenames[::downsample_rate], position=0): \n",
    "    for filename in filenames[::downsample_rate]: \n",
    "        filepath = os.path.join(folder, filename)\n",
    "        ds = dicom.dcmread(filepath)\n",
    "        image = ds.pixel_array\n",
    "        \n",
    "        if ds.PixelRepresentation == 1:\n",
    "            bit_shift = ds.BitsAllocated - ds.BitsStored\n",
    "            dtype = image.dtype \n",
    "            image = (image << bit_shift).astype(dtype) >>  bit_shift\n",
    "        \n",
    "        # find rescale params\n",
    "        if (\"RescaleIntercept\" in ds) and (\"RescaleSlope\" in ds):\n",
    "            intercept = float(ds.RescaleIntercept)\n",
    "            slope = float(ds.RescaleSlope)\n",
    "    \n",
    "        # find clipping params\n",
    "        center = int(ds.WindowCenter)\n",
    "        width = int(ds.WindowWidth)\n",
    "        low = center - width / 2\n",
    "        high = center + width / 2    \n",
    "        \n",
    "        \n",
    "        image = (image * slope) + intercept\n",
    "        image = np.clip(image, low, high)\n",
    "\n",
    "        image = (image / np.max(image) * 255).astype(np.int16)\n",
    "        image = image[::downsample_rate, ::downsample_rate]\n",
    "        volume.append( image )\n",
    "    \n",
    "    volume = np.stack(volume, axis=0)\n",
    "    return volume\n",
    "\n",
    "def plot_image_with_seg(volume, volume_seg=[], orientation='Coronal', num_subplots=20):\n",
    "    # simply copy\n",
    "    if len(volume_seg) == 0:\n",
    "        plot_mask = 0\n",
    "    else:\n",
    "        plot_mask = 1\n",
    "        \n",
    "    if orientation == 'Coronal':\n",
    "        slices = np.linspace(0, volume.shape[2]-1, num_subplots).astype(np.int16)\n",
    "        volume = volume.transpose([1, 0, 2])\n",
    "        if plot_mask:\n",
    "            volume_seg = volume_seg.transpose([1, 0, 2])\n",
    "        \n",
    "    elif orientation == 'Sagittal':\n",
    "        slices = np.linspace(0, volume.shape[2]-1, num_subplots).astype(np.int16)\n",
    "        volume = volume.transpose([2, 0, 1])\n",
    "        if plot_mask:\n",
    "            volume_seg = volume_seg.transpose([2, 0, 1])\n",
    "\n",
    "    elif orientation == 'Axial':\n",
    "        slices = np.linspace(0, volume.shape[0]-1, num_subplots).astype(np.int16)\n",
    "           \n",
    "    rows = np.max( [np.floor(np.sqrt(num_subplots)).astype(int) - 2, 1])\n",
    "    cols = np.ceil(num_subplots/rows).astype(int)\n",
    "    \n",
    "    fig, ax = plt.subplots(rows, cols, figsize=(cols * 2, rows * 4))\n",
    "    fig.tight_layout(h_pad=0.01, w_pad=0)\n",
    "    \n",
    "    ax = ax.ravel()\n",
    "    for this_ax in ax:\n",
    "        this_ax.axis('off')\n",
    "\n",
    "    for counter, this_slice in enumerate( slices ):\n",
    "        plt.sca(ax[counter])\n",
    "        \n",
    "        image = volume[this_slice, :, :]\n",
    "        plt.imshow(image, cmap='gray')\n",
    "        \n",
    "        if plot_mask:\n",
    "            mask = np.where(volume_seg[this_slice, :, :], volume_seg[this_slice, :, :], np.nan)\n",
    "            plt.imshow(mask, cmap='Set1', alpha=0.5)\n",
    "            \n",
    "def load_nii(patient_id, series_id, root='autodl-tmp/train_images_resample/'):\n",
    "    path = root + str(patient_id) + '/' + str(series_id) + '.nii.gz'\n",
    "    img = sitk.ReadImage(path)\n",
    "    img = sitk.GetArrayFromImage(img)\n",
    "    \n",
    "    # img = nib.load(path)\n",
    "    # img = img.get_fdata().transpose(2, 1, 0)\n",
    "    \n",
    "    return img"
   ]
  },
  {
   "cell_type": "code",
   "execution_count": 6,
   "id": "2141f4ef-37c8-4cef-b89d-7ff9a539c6b2",
   "metadata": {},
   "outputs": [],
   "source": [
    "from torch.utils.data import Dataset\n",
    "from torch.utils.data import DataLoader\n",
    "\n",
    "ds = 2\n",
    "\n",
    "class CTDataset(Dataset):\n",
    "    def __init__(self, root='autodl-tmp/train_images_resample/', augmentation=False, subjects=train_csv, meta=train_series_meta, device='cpu'):\n",
    "        self.device = device\n",
    "        self.series_meta = meta\n",
    "        self.subjects_csv = subjects\n",
    "        self.root = root\n",
    "        self.t = monai.transforms.Compose([monai.transforms.RandZoom(prob=0.5, min_zoom=0.9, max_zoom=1.1),\n",
    "                                           monai.transforms.RandRotate(range_x=3.14 / 24, prob=0.5),\n",
    "                                           monai.transforms.SpatialPad(spatial_size=(320//ds, 280//ds, 280//ds), mode=\"edge\"),\n",
    "                                           monai.transforms.RandSpatialCrop(roi_size=(320//ds, 256//ds, 256//ds), random_size=False),\n",
    "                                           monai.transforms.NormalizeIntensity(divisor = 400)\n",
    "                                ])\n",
    "        self.t_val = monai.transforms.Compose([monai.transforms.NormalizeIntensity(divisor = 400)])\n",
    "        \n",
    "        self.aug = augmentation\n",
    "        \n",
    "    def __len__(self):\n",
    "        #return 1100\n",
    "        return len(self.subjects_csv)\n",
    "    \n",
    "    def __getitem__(self, idx):\n",
    "        \n",
    "        patient_id = self.subjects_csv.loc[idx, ['patient_id']].values[0].astype('int')\n",
    "        series_id = self.series_meta.loc[self.series_meta.patient_id == patient_id, ['series_id']].values[0, 0].astype('int')\n",
    "        img_a = load_nii(patient_id, series_id, self.root).astype('float32')\n",
    "        if(self.aug):\n",
    "            img_t = self.t(np.expand_dims(img_a[::ds, ::ds, ::ds], 0))\n",
    "        else:\n",
    "            #img_t = torch.from_numpy(img_a[::ds, ::ds, ::ds]).unsqueeze(0)\n",
    "            img_t = self.t_val(np.expand_dims(img_a[::ds, ::ds, ::ds], 0))\n",
    "            \n",
    "        label_columns = [\n",
    "            'bowel_injury',\n",
    "            'extravasation_injury',\n",
    "            'kidney_low',\n",
    "            'kidney_high',\n",
    "            'liver_low',\n",
    "            'liver_high',\n",
    "            'spleen_low',\n",
    "            'spleen_high',\n",
    "            #'any_injury'\n",
    "        ]\n",
    "        label_a = self.subjects_csv.loc[idx, label_columns].values.astype('float32')\n",
    "        label_t = torch.from_numpy(label_a)\n",
    "        return img_t, label_t\n",
    "        \n",
    "\n",
    "        # patient_id, series_id = self.series_meta.loc[idx, [\"patient_id\", \"series_id\"]].astype('int')\n",
    "        # img_a = load_nii(patient_id, series_id, self.root).astype('float32')\n",
    "        # #img_t = torch.from_numpy(img_a).unsqueeze(0)\n",
    "        # #img_t = torch.from_numpy(img_a[::2, ::2, ::2]).unsqueeze(0)\n",
    "        # if(self.aug):\n",
    "        #     img_t = self.t(np.expand_dims(img_a[::ds, ::ds, ::ds], 0))\n",
    "        # else:\n",
    "        #     #img_t = torch.from_numpy(img_a[::ds, ::ds, ::ds]).unsqueeze(0)\n",
    "        #     img_t = self.t_val(np.expand_dims(img_a[::ds, ::ds, ::ds], 0))\n",
    "        # label_columns = [\n",
    "        #     'bowel_injury',\n",
    "        #     'extravasation_injury',\n",
    "        #     'kidney_low',\n",
    "        #     'kidney_high',\n",
    "        #     'liver_low',\n",
    "        #     'liver_high',\n",
    "        #     'spleen_low',\n",
    "        #     'spleen_high',\n",
    "        #     #'any_injury'\n",
    "        # ]\n",
    "        # label_a = train_csv.loc[train_csv.patient_id == patient_id, label_columns].values[0].astype('float32')\n",
    "        # label_t = torch.from_numpy(label_a)\n",
    "        # return img_t, label_t"
   ]
  },
  {
   "cell_type": "code",
   "execution_count": 7,
   "id": "bfd90d76-a251-4d2d-9667-6b4c23550672",
   "metadata": {},
   "outputs": [],
   "source": [
    "# train_meta = train_series_meta[-3600:].reset_index()\n",
    "# val_meta = train_series_meta[0:-3600].reset_index()\n",
    "\n",
    "# train_ds = CTDataset(meta = train_meta, augmentation=True)\n",
    "# train_dl = DataLoader(train_ds, batch_size=4, shuffle=True, num_workers=8)\n",
    "\n",
    "# val_ds = CTDataset(meta = val_meta, augmentation=False)\n",
    "# val_dl = DataLoader(val_ds, batch_size=4, shuffle=False, num_workers=8)"
   ]
  },
  {
   "cell_type": "code",
   "execution_count": 8,
   "id": "1d1f0a1d-e6aa-4575-b1f1-5efd4457a3fd",
   "metadata": {},
   "outputs": [],
   "source": [
    "# class EffNet(nn.Module):\n",
    "#     def __init__(self, ch_out=9):\n",
    "#         super(EffNet, self).__init__()\n",
    "#         #self.conv_in = nn.Conv3d(1, 3, kernel_size=5, padding=2, stride=2)\n",
    "#         self.net = EfficientNetBN(\"efficientnet-b0\", pretrained=False, progress=False, spatial_dims=3, in_channels=1, num_classes=ch_out,)\n",
    "#     def forward(self, x):\n",
    "#         #x = self.conv_in(x)\n",
    "#         #return torch.sigmoid(self.net(x))\n",
    "#         return self.net(x)\n",
    "\n",
    "class FullVolNet(nn.Module):\n",
    "    def __init__(self, backbone = \"tf_efficientnetv2_s.in21k_ft_in1k\", \n",
    "                 ch_in = 3, ch_out = 9, slices = 15, dropout = 0.0, pretrained=True):\n",
    "        super(FullVolNet, self).__init__()\n",
    "        self.slices = slices\n",
    "        \n",
    "        self.encoder = timm.create_model(\n",
    "            backbone,\n",
    "            in_chans=ch_in,\n",
    "            num_classes=ch_out,\n",
    "            features_only=False,\n",
    "            drop_rate=0.0,\n",
    "            drop_path_rate=0.0,\n",
    "            pretrained=False,\n",
    "        )\n",
    "        \n",
    "        if 'efficient' in backbone and pretrained:\n",
    "            self.encoder.load_state_dict(torch.load('pretrained/tf_efficientnetv2_s.in21k_ft_in1k_8class.pt'))\n",
    "        elif 'convnext' in backbone and pretrained:\n",
    "            self.encoder.load_state_dict(torch.load('pretrained/convnextv2_nano.fcmae_ft_in22k_in1k_384_8class.pt'))\n",
    "        \n",
    "        if 'efficient' in backbone:\n",
    "            hdim = self.encoder.conv_head.out_channels\n",
    "            self.encoder.classifier = nn.Identity()\n",
    "        elif 'convnext' in backbone:\n",
    "            hdim = self.encoder.head.fc.in_features\n",
    "            self.encoder.head.fc = nn.Identity()\n",
    "        \n",
    "        self.lstm = nn.LSTM(hdim, 256, num_layers=2, dropout=0.0, bidirectional=True, batch_first=True)\n",
    "        \n",
    "        self.head = nn.Sequential(\n",
    "            nn.Linear(512, 256),\n",
    "            nn.BatchNorm1d(256),\n",
    "            nn.Dropout(dropout),\n",
    "            nn.LeakyReLU(0.1),\n",
    "            nn.Linear(256, ch_out),\n",
    "        )\n",
    "        \n",
    "        self.head2 = nn.Conv1d(slices, 1, 1)\n",
    "        \n",
    "        \n",
    "    def slicer(self, img, slices):\n",
    "        #img = img.squeeze(1)\n",
    "        z_length = img.shape[-3]\n",
    "        z_slices = (np.linspace(0, z_length, slices + 4)).astype('int')\n",
    "        z_slices = z_slices[2:-2]\n",
    "        #print(z_slices)\n",
    "        slices_list = []\n",
    "        for z in z_slices:\n",
    "            slices_list.append(img[:, :, z-1:z+2, :, :])\n",
    "        img_slice = torch.cat(slices_list, 1)\n",
    "        return img_slice\n",
    "        \n",
    "    def forward(self, x):  # (bs, nslice, ch, sz, sz)\n",
    "        x = self.slicer(x, self.slices)\n",
    "        bs, nslice,ch, sz1, sz2 = x.shape\n",
    "        x = x.view(bs*nslice, ch, sz1, sz2)\n",
    "        \n",
    "        feature_2d = self.encoder(x)\n",
    "        feature_2d = feature_2d.view(bs, nslice, -1)\n",
    "        \n",
    "        feature_lstm, _ = self.lstm(feature_2d)\n",
    "        feature_lstm = feature_lstm.contiguous().view(bs * nslice, -1)\n",
    "        \n",
    "        preds = self.head(feature_lstm)\n",
    "        preds = preds.view(bs, nslice, -1).contiguous()\n",
    "        preds = self.head2(preds)\n",
    "        \n",
    "        return preds.squeeze(1)\n",
    "        \n",
    "        \n",
    "        # bs = x.shape[0]\n",
    "        # x = x.view(bs * n_slice_per_c, in_chans, image_size, image_size)\n",
    "        # feat = self.encoder(x)\n",
    "        # feat = feat.view(bs, n_slice_per_c, -1)\n",
    "        # feat, _ = self.lstm(feat)\n",
    "        # feat = feat.contiguous().view(bs * n_slice_per_c, -1)\n",
    "        # feat = self.head(feat)\n",
    "        # feat = feat.view(bs, n_slice_per_c).contiguous()\n",
    "        "
   ]
  },
  {
   "cell_type": "code",
   "execution_count": 9,
   "id": "452b48a5-36e6-4c16-967c-5b5e151c5994",
   "metadata": {},
   "outputs": [],
   "source": [
    "# avail_pretrained_models = timm.list_models(pretrained=True)\n",
    "# avail_pretrained_models"
   ]
  },
  {
   "cell_type": "code",
   "execution_count": 10,
   "id": "6b95491b-07eb-45ea-90f6-456377057226",
   "metadata": {},
   "outputs": [],
   "source": [
    "# imgs, labels = next(iter(train_dl))\n",
    "# net = FullVolNet(ch_out = 13)\n",
    "# img_s = net(imgs)\n",
    "# img_s.shape"
   ]
  },
  {
   "cell_type": "code",
   "execution_count": 11,
   "id": "3af7441f-f99e-44ef-8e67-11273ff4ffa3",
   "metadata": {},
   "outputs": [],
   "source": [
    "import sklearn.metrics\n",
    "\n",
    "def transform_9class(label_in):\n",
    "    label_out = [1 - label_in[0],\n",
    "                   label_in[0],\n",
    "                    1- label_in[1],\n",
    "                   label_in[1],\n",
    "                   (1 - label_in[2]) * (1 - label_in[3]),\n",
    "                   label_in[2],\n",
    "                   label_in[3],\n",
    "                   (1 - label_in[4]) * (1 - label_in[5]),\n",
    "                    label_in[4],\n",
    "                   label_in[5],\n",
    "                   (1 - label_in[6]) * (1 - label_in[7]),\n",
    "                   label_in[6],\n",
    "                   label_in[7]]\n",
    "    return label_out\n",
    "\n",
    "def transform_13class(label_in):\n",
    "    label_out = label_in\n",
    "    return label_out.tolist()\n",
    "\n",
    "\n",
    "def loss_metrics(metrics, transform):\n",
    "    preds = [transform(x) for x in metrics[\"predict\"]]\n",
    "    targets = [transform(x) for x in metrics[\"label\"]]\n",
    "    targets_any_injury = metrics[\"label\"][:, -1]\n",
    "    \n",
    "    loss_list = []\n",
    "    \n",
    "    print(\"F1 score: \", sklearn.metrics.f1_score(metrics[\"label\"], np.around(metrics[\"predict\"]), average=None, zero_division=0.0))\n",
    "    print(\"AUC score: \", sklearn.metrics.roc_auc_score(metrics[\"label\"], metrics[\"predict\"], average=None))\n",
    "    \n",
    "    for i in range(0, len(preds)):\n",
    "        predict = preds[i]\n",
    "        target = targets[i]\n",
    "        \n",
    "        label_pred = np.zeros(14)\n",
    "        label_pred[0] = predict[0] / (predict[0] + predict[1])\n",
    "        label_pred[1] = predict[1] / (predict[0] + predict[1])\n",
    "        label_pred[2] = predict[2] / (predict[2] + predict[3])\n",
    "        label_pred[3] = predict[3] / (predict[2] + predict[3])\n",
    "        label_pred[4] = predict[4] / (predict[4] + predict[5] + predict[6])\n",
    "        label_pred[5] = predict[5] / (predict[4] + predict[5] + predict[6])\n",
    "        label_pred[6] = predict[6] / (predict[4] + predict[5] + predict[6])\n",
    "        label_pred[7] = predict[7] / (predict[7] + predict[8] + predict[9])\n",
    "        label_pred[8] = predict[8] / (predict[7] + predict[8] + predict[9])\n",
    "        label_pred[9] = predict[9] / (predict[7] + predict[8] + predict[9])\n",
    "        label_pred[10] = predict[10] / (predict[10] + predict[11] + predict[12])\n",
    "        label_pred[11] = predict[11] / (predict[10] + predict[11] + predict[12])\n",
    "        label_pred[12] = predict[12] / (predict[10] + predict[11] + predict[12])\n",
    "        label_pred[13] = max([1 - label_pred[x] for x in [0, 2, 4, 7, 10]])\n",
    "        \n",
    "        targets_any_injury = max([1 - target[x] for x in [0, 2, 4, 7, 10]])\n",
    "        \n",
    "        target.append(targets_any_injury)\n",
    "        label_target = np.array(target)\n",
    "        \n",
    "        weight = np.array([1, 2, 1, 6, 1, 2, 4, 1, 2, 4, 1, 2, 4, 6])\n",
    "        \n",
    "        loss_list.append(sklearn.metrics.log_loss(\n",
    "            y_true=label_target,\n",
    "            y_pred=label_pred,\n",
    "            sample_weight=weight))\n",
    "    #print(\"Weighted Loss: \" + np.mean(loss_list))\n",
    "    \n",
    "    return np.mean(loss_list)\n",
    "        \n",
    "    \n",
    "    \n",
    "    #print(np.array(preds).shape)\n",
    "    "
   ]
  },
  {
   "cell_type": "code",
   "execution_count": 12,
   "id": "6cc4c8d8-bcaf-457a-a88e-48e6d3bdb5d2",
   "metadata": {},
   "outputs": [],
   "source": [
    "import copy\n",
    "\n",
    "def TrainClassifer(model,trn_dl,val_dl,optimizer, project, name, suffix, scheduler=None,\n",
    "                   n_eopchs=20, device='cpu'):\n",
    " \n",
    "    #loss_fn = nn.BCELoss(weight=torch.Tensor([1, 6, 1, 6, 1, 4, 8, 1, 4, 8, 1, 4, 8]).to(device))\n",
    "    #loss_fn = nn.BCELoss()\n",
    "    loss_fn = nn.BCEWithLogitsLoss(pos_weight=torch.Tensor([10, 5, 10, 10, 6, 6, 6, 6]).to(device))\n",
    "    model.to(device)\n",
    "    best_model = copy.deepcopy(model)\n",
    "    bestweight_model = copy.deepcopy(model)\n",
    "    best_val = 999.0\n",
    "    best_weightloss = 999.0\n",
    "    metrics = {'predict': [], 'label' : []}\n",
    "    PATH_MODEL = project + '/' + name + '/' + suffix + '.pt'\n",
    "    wandb.init(name=name, \n",
    "               project=project)\n",
    "\n",
    "    for epoch in range(1, n_eopchs + 1):\n",
    "        loss_train = 0.0\n",
    "        model.train()\n",
    "        for imgs, labels in tqdm(trn_dl, position=0):\n",
    "            imgs = imgs.to(device)\n",
    "            labels = labels.to(device)\n",
    "\n",
    "            outputs = model(imgs)\n",
    "            #outputs = model(imgs.unsqueeze(1))\n",
    "            loss = loss_fn(outputs, labels)\n",
    "            optimizer.zero_grad()\n",
    "            loss.backward()\n",
    "            optimizer.step()\n",
    "            loss_train += loss.item()\n",
    "        torch.cuda.empty_cache()\n",
    "        \n",
    "        loss_val = 0.0\n",
    "        correct_val = 0.0\n",
    "        model.eval()\n",
    "        \n",
    "        for imgs, labels in tqdm(val_dl):\n",
    "            imgs = imgs.to(device)\n",
    "            labels = labels.to(device)\n",
    "            with torch.no_grad():\n",
    "                outputs = model(imgs)\n",
    "                #outputs = model(imgs.unsqueeze(1))\n",
    "                loss = loss_fn(outputs, labels)\n",
    "                loss_val += loss.item()\n",
    "                outputs = torch.sigmoid(outputs)\n",
    "                metrics['predict'].extend((outputs.to('cpu').detach().numpy()).tolist())\n",
    "                metrics['label'].extend((labels.to('cpu').detach().numpy()).tolist())\n",
    "        \n",
    "        metrics['predict'] = np.array(metrics['predict'])\n",
    "        #metrics['predict'] = np.array([[0.5, 0.5, 0.33333, 0.33333, 0.33333, 0.33333, 0.33333, 0.33333, 0.33333]]*len(metrics['label']))\n",
    "        metrics['label'] = np.array(metrics['label'])\n",
    "        weighted_loss = loss_metrics(metrics, transform_9class)\n",
    "        metrics = {'predict': [], 'label' : []}\n",
    "        \n",
    "        torch.cuda.empty_cache()\n",
    "        \n",
    "        if (weighted_loss) < best_weightloss:\n",
    "            best_weightloss = weighted_loss\n",
    "            \n",
    "        if loss_val / len(val_dl) < best_val:\n",
    "            best_val = loss_val / len(val_dl)\n",
    "            torch.save(model.state_dict(), 'model_tmp.pt')\n",
    "            best_model.load_state_dict(torch.load('model_tmp.pt'))\n",
    "            \n",
    "            \n",
    "        if scheduler != None:\n",
    "            scheduler.step()\n",
    "\n",
    "        print('{} Eopch {}, Training Loss {}, Val Loss {}, Weighted Loss {}'.format(time.strftime(\"%Y-%m-%d %H:%M:%S\",time.localtime()),\n",
    "                                                                  epoch, loss_train / len(trn_dl), loss_val / len(val_dl),\n",
    "                                                                                     weighted_loss))\n",
    "        \n",
    "        \n",
    "        \n",
    "        wandb.log({'training loss': loss_train / len(trn_dl),\n",
    "                  'val loss': loss_val / len(val_dl),\n",
    "                  'weighted loss': weighted_loss})\n",
    "    torch.save(best_model.state_dict(), PATH_MODEL)\n",
    "    print('Finish training: best_val:{}, best_weighted loss:{}'.format(best_val, best_weightloss))\n",
    "    wandb.finish()"
   ]
  },
  {
   "cell_type": "code",
   "execution_count": 13,
   "id": "31a6b12e-cf26-4b32-b308-1b789d6fe5d8",
   "metadata": {},
   "outputs": [],
   "source": [
    "import os\n",
    "\n",
    "project = \"FullVol2.5D-3fold\"\n",
    "name = \"FullVol2.5D-1phase_Effnetv2_3fold\"\n",
    "backbone = \"tf_efficientnetv2_s.in21k_ft_in1k\"\n",
    "# backbone = 'convnextv2_nano.fcmae_ft_in22k_in1k_384'\n",
    "n_eopchs = 20\n",
    "\n",
    "p = project + '/' + name\n",
    "if not os.path.exists(p):\n",
    "    os.mkdir(p)"
   ]
  },
  {
   "cell_type": "code",
   "execution_count": 14,
   "id": "59094468-bde4-4361-9ff8-d8682cfe6ad1",
   "metadata": {},
   "outputs": [],
   "source": [
    "# fold1_1phase_csv = pd.read_csv('autodl-tmp/train_3fold/fold1_1phase.csv')\n",
    "# fold2_1phase_csv = pd.read_csv('autodl-tmp/train_3fold/fold2_1phase.csv')\n",
    "# fold3_1phase_csv = pd.read_csv('autodl-tmp/train_3fold/fold3_1phase.csv')\n",
    "\n",
    "train_df_fold1 = pd.concat([fold1_1phase_csv, fold2_1phase_csv], axis=0).reset_index()\n",
    "train_df_fold2 = pd.concat([fold1_1phase_csv, fold3_1phase_csv], axis=0).reset_index()\n",
    "train_df_fold3 = pd.concat([fold2_1phase_csv, fold3_1phase_csv], axis=0).reset_index()\n",
    "\n",
    "val_df_fold1 = fold3_1phase_csv\n",
    "val_df_fold2 = fold2_1phase_csv\n",
    "val_df_fold3 = fold1_1phase_csv\n",
    "\n",
    "train_ds_fold1 = CTDataset(subjects = train_df_fold1, meta = train_series_meta, augmentation=True)\n",
    "train_dl_fold1 = DataLoader(train_ds_fold1, batch_size=4, shuffle=True, num_workers=8)\n",
    "val_ds_fold1 = CTDataset(subjects = val_df_fold1, meta = train_series_meta, augmentation=False)\n",
    "val_dl_fold1 = DataLoader(val_ds_fold1, batch_size=4, shuffle=False, num_workers=8)\n",
    "\n",
    "train_ds_fold2 = CTDataset(subjects = train_df_fold2, meta = train_series_meta, augmentation=True)\n",
    "train_dl_fold2 = DataLoader(train_ds_fold2, batch_size=4, shuffle=True, num_workers=8)\n",
    "val_ds_fold2 = CTDataset(subjects = val_df_fold2, meta = train_series_meta, augmentation=False)\n",
    "val_dl_fold2 = DataLoader(val_ds_fold2, batch_size=4, shuffle=False, num_workers=8)\n",
    "\n",
    "train_ds_fold3 = CTDataset(subjects = train_df_fold3, meta = train_series_meta, augmentation=True)\n",
    "train_dl_fold3 = DataLoader(train_ds_fold3, batch_size=4, shuffle=True, num_workers=8)\n",
    "val_ds_fold3 = CTDataset(subjects = val_df_fold3, meta = train_series_meta, augmentation=False)\n",
    "val_dl_fold3 = DataLoader(val_ds_fold3, batch_size=4, shuffle=False, num_workers=8)"
   ]
  },
  {
   "cell_type": "code",
   "execution_count": 15,
   "id": "732ea298-acdd-451a-8881-b6f393a121e9",
   "metadata": {},
   "outputs": [
    {
     "name": "stderr",
     "output_type": "stream",
     "text": [
      "\u001b[34m\u001b[1mwandb\u001b[0m: Currently logged in as: \u001b[33mnorthm\u001b[0m (\u001b[33mrsna2023\u001b[0m). Use \u001b[1m`wandb login --relogin`\u001b[0m to force relogin\n"
     ]
    },
    {
     "data": {
      "text/html": [
       "wandb version 0.15.11 is available!  To upgrade, please run:\n",
       " $ pip install wandb --upgrade"
      ],
      "text/plain": [
       "<IPython.core.display.HTML object>"
      ]
     },
     "metadata": {},
     "output_type": "display_data"
    },
    {
     "data": {
      "text/html": [
       "Tracking run with wandb version 0.15.8"
      ],
      "text/plain": [
       "<IPython.core.display.HTML object>"
      ]
     },
     "metadata": {},
     "output_type": "display_data"
    },
    {
     "data": {
      "text/html": [
       "Run data is saved locally in <code>/root/wandb/run-20230928_033203-j68qx07w</code>"
      ],
      "text/plain": [
       "<IPython.core.display.HTML object>"
      ]
     },
     "metadata": {},
     "output_type": "display_data"
    },
    {
     "data": {
      "text/html": [
       "Syncing run <strong><a href='https://wandb.ai/rsna2023/FullVol2.5D-3fold/runs/j68qx07w' target=\"_blank\">FullVol2.5D-1phase_Effnetv2_3fold</a></strong> to <a href='https://wandb.ai/rsna2023/FullVol2.5D-3fold' target=\"_blank\">Weights & Biases</a> (<a href='https://wandb.me/run' target=\"_blank\">docs</a>)<br/>"
      ],
      "text/plain": [
       "<IPython.core.display.HTML object>"
      ]
     },
     "metadata": {},
     "output_type": "display_data"
    },
    {
     "data": {
      "text/html": [
       " View project at <a href='https://wandb.ai/rsna2023/FullVol2.5D-3fold' target=\"_blank\">https://wandb.ai/rsna2023/FullVol2.5D-3fold</a>"
      ],
      "text/plain": [
       "<IPython.core.display.HTML object>"
      ]
     },
     "metadata": {},
     "output_type": "display_data"
    },
    {
     "data": {
      "text/html": [
       " View run at <a href='https://wandb.ai/rsna2023/FullVol2.5D-3fold/runs/j68qx07w' target=\"_blank\">https://wandb.ai/rsna2023/FullVol2.5D-3fold/runs/j68qx07w</a>"
      ],
      "text/plain": [
       "<IPython.core.display.HTML object>"
      ]
     },
     "metadata": {},
     "output_type": "display_data"
    },
    {
     "name": "stderr",
     "output_type": "stream",
     "text": [
      "100%|██████████| 262/262 [01:29<00:00,  2.92it/s]\n",
      "100%|██████████| 135/135 [00:39<00:00,  3.39it/s]\n"
     ]
    },
    {
     "name": "stdout",
     "output_type": "stream",
     "text": [
      "F1 score:  [0.         0.10344828 0.04444444 0.         0.10144928 0.\n",
      " 0.         0.        ]\n",
      "AUC score:  [0.5884097  0.56669993 0.62781955 0.46240602 0.56775821 0.68349146\n",
      " 0.53550379 0.62407513]\n",
      "2023-09-28 03:34:17 Eopch 1, Training Loss 0.8273329368529428, Val Loss 0.7438732401088431, Weighted Loss 0.6344015478528103\n"
     ]
    },
    {
     "name": "stderr",
     "output_type": "stream",
     "text": [
      "100%|██████████| 262/262 [01:28<00:00,  2.97it/s]\n",
      "100%|██████████| 135/135 [00:37<00:00,  3.63it/s]\n"
     ]
    },
    {
     "name": "stdout",
     "output_type": "stream",
     "text": [
      "F1 score:  [0.      0.      0.      0.      0.03125 0.      0.      0.     ]\n",
      "AUC score:  [0.67681941 0.55599911 0.60719366 0.50977444 0.5394913  0.70436433\n",
      " 0.55543082 0.65850882]\n",
      "2023-09-28 03:36:24 Eopch 2, Training Loss 0.6911061531259813, Val Loss 0.6658586658813336, Weighted Loss 0.506853916617132\n"
     ]
    },
    {
     "name": "stderr",
     "output_type": "stream",
     "text": [
      "100%|██████████| 262/262 [01:28<00:00,  2.95it/s]\n",
      "100%|██████████| 135/135 [00:41<00:00,  3.23it/s]\n"
     ]
    },
    {
     "name": "stdout",
     "output_type": "stream",
     "text": [
      "F1 score:  [0.         0.         0.         0.         0.03508772 0.\n",
      " 0.         0.        ]\n",
      "AUC score:  [0.66657682 0.55444666 0.62426336 0.62406015 0.55349604 0.73472486\n",
      " 0.57900646 0.6689243 ]\n",
      "2023-09-28 03:38:36 Eopch 3, Training Loss 0.6379269770993531, Val Loss 0.6315459343018355, Weighted Loss 0.4325535294191924\n"
     ]
    },
    {
     "name": "stderr",
     "output_type": "stream",
     "text": [
      "100%|██████████| 262/262 [01:39<00:00,  2.63it/s]\n",
      "100%|██████████| 135/135 [00:42<00:00,  3.20it/s]\n"
     ]
    },
    {
     "name": "stdout",
     "output_type": "stream",
     "text": [
      "F1 score:  [0.         0.         0.         0.         0.13114754 0.\n",
      " 0.         0.        ]\n",
      "AUC score:  [0.73207547 0.55100909 0.64671815 0.66090226 0.58881681 0.7540797\n",
      " 0.61893068 0.69311326]\n",
      "2023-09-28 03:41:00 Eopch 4, Training Loss 0.6131354790493733, Val Loss 0.6187550236781438, Weighted Loss 0.410902179634613\n"
     ]
    },
    {
     "name": "stderr",
     "output_type": "stream",
     "text": [
      "100%|██████████| 262/262 [01:27<00:00,  2.98it/s]\n",
      "100%|██████████| 135/135 [00:36<00:00,  3.65it/s]\n"
     ]
    },
    {
     "name": "stdout",
     "output_type": "stream",
     "text": [
      "F1 score:  [0.   0.   0.   0.   0.12 0.   0.   0.  ]\n",
      "AUC score:  [0.71832884 0.57318696 0.67465962 0.70714286 0.6038513  0.73187856\n",
      " 0.60538872 0.7007399 ]\n",
      "2023-09-28 03:43:06 Eopch 5, Training Loss 0.603572637638973, Val Loss 0.6091864061576349, Weighted Loss 0.38038826377009505\n"
     ]
    },
    {
     "name": "stderr",
     "output_type": "stream",
     "text": [
      "100%|██████████| 262/262 [01:28<00:00,  2.96it/s]\n",
      "100%|██████████| 135/135 [00:38<00:00,  3.54it/s]\n"
     ]
    },
    {
     "name": "stdout",
     "output_type": "stream",
     "text": [
      "F1 score:  [0.         0.         0.         0.         0.13207547 0.\n",
      " 0.06666667 0.        ]\n",
      "AUC score:  [0.73989218 0.57135729 0.7254623  0.68984962 0.60467511 0.78406072\n",
      " 0.59177659 0.73517359]\n",
      "2023-09-28 03:45:14 Eopch 6, Training Loss 0.5809402324771153, Val Loss 0.6058482616036026, Weighted Loss 0.3934080156648474\n"
     ]
    },
    {
     "name": "stderr",
     "output_type": "stream",
     "text": [
      "100%|██████████| 262/262 [01:29<00:00,  2.93it/s]\n",
      "100%|██████████| 135/135 [00:36<00:00,  3.74it/s]\n"
     ]
    },
    {
     "name": "stdout",
     "output_type": "stream",
     "text": [
      "F1 score:  [0.         0.         0.         0.         0.12       0.\n",
      " 0.06060606 0.        ]\n",
      "AUC score:  [0.70673854 0.5795631  0.70046738 0.71240602 0.61909175 0.75104364\n",
      " 0.60475723 0.72925441]\n",
      "2023-09-28 03:47:20 Eopch 7, Training Loss 0.5621441614650587, Val Loss 0.6022935482086959, Weighted Loss 0.3800181921216519\n"
     ]
    },
    {
     "name": "stderr",
     "output_type": "stream",
     "text": [
      "100%|██████████| 262/262 [01:29<00:00,  2.91it/s]\n",
      "100%|██████████| 135/135 [00:36<00:00,  3.69it/s]\n"
     ]
    },
    {
     "name": "stdout",
     "output_type": "stream",
     "text": [
      "F1 score:  [0.         0.         0.         0.         0.16494845 0.\n",
      " 0.05714286 0.        ]\n",
      "AUC score:  [0.74770889 0.56315147 0.72840886 0.7387218  0.63700958 0.71499051\n",
      " 0.59128543 0.70870803]\n",
      "2023-09-28 03:49:28 Eopch 8, Training Loss 0.5586491851633741, Val Loss 0.5995463766433574, Weighted Loss 0.37091612906157156\n"
     ]
    },
    {
     "name": "stderr",
     "output_type": "stream",
     "text": [
      "100%|██████████| 262/262 [01:28<00:00,  2.95it/s]\n",
      "100%|██████████| 135/135 [00:40<00:00,  3.35it/s]\n"
     ]
    },
    {
     "name": "stdout",
     "output_type": "stream",
     "text": [
      "F1 score:  [0.         0.         0.         0.         0.16470588 0.\n",
      " 0.11428571 0.        ]\n",
      "AUC score:  [0.74339623 0.57407407 0.71306645 0.70413534 0.62738132 0.73339658\n",
      " 0.60735335 0.72970973]\n",
      "2023-09-28 03:51:39 Eopch 9, Training Loss 0.5348148551833538, Val Loss 0.5942924161752065, Weighted Loss 0.34393828906439383\n"
     ]
    },
    {
     "name": "stderr",
     "output_type": "stream",
     "text": [
      "100%|██████████| 262/262 [01:37<00:00,  2.69it/s]\n",
      "100%|██████████| 135/135 [00:36<00:00,  3.66it/s]\n"
     ]
    },
    {
     "name": "stdout",
     "output_type": "stream",
     "text": [
      "F1 score:  [0.         0.05263158 0.         0.         0.20155039 0.\n",
      " 0.08510638 0.05128205]\n",
      "AUC score:  [0.71940701 0.5815591  0.70473481 0.66165414 0.63355988 0.7\n",
      " 0.59500421 0.69658509]\n",
      "2023-09-28 03:53:54 Eopch 10, Training Loss 0.5234446326512416, Val Loss 0.6032320496108797, Weighted Loss 0.3720463464163419\n"
     ]
    },
    {
     "name": "stderr",
     "output_type": "stream",
     "text": [
      "100%|██████████| 262/262 [01:33<00:00,  2.80it/s]\n",
      "100%|██████████| 135/135 [00:36<00:00,  3.71it/s]\n"
     ]
    },
    {
     "name": "stdout",
     "output_type": "stream",
     "text": [
      "F1 score:  [0.         0.09090909 0.05882353 0.         0.2027027  0.\n",
      " 0.04       0.125     ]\n",
      "AUC score:  [0.75983827 0.59902417 0.7102215  0.69924812 0.64689527 0.70037951\n",
      " 0.60005613 0.69294252]\n",
      "2023-09-28 03:56:05 Eopch 11, Training Loss 0.5041922053307978, Val Loss 0.5991622197407264, Weighted Loss 0.3787643290775089\n"
     ]
    },
    {
     "name": "stderr",
     "output_type": "stream",
     "text": [
      "100%|██████████| 262/262 [01:33<00:00,  2.79it/s]\n",
      "100%|██████████| 135/135 [00:38<00:00,  3.49it/s]\n"
     ]
    },
    {
     "name": "stdout",
     "output_type": "stream",
     "text": [
      "F1 score:  [0.         0.0952381  0.         0.         0.23448276 0.\n",
      " 0.09302326 0.13333333]\n",
      "AUC score:  [0.68059299 0.61709914 0.6932534  0.60639098 0.63845124 0.70986717\n",
      " 0.61394892 0.69106431]\n",
      "2023-09-28 03:58:18 Eopch 12, Training Loss 0.49103645667547485, Val Loss 0.6037949055433274, Weighted Loss 0.36285935918271034\n"
     ]
    },
    {
     "name": "stderr",
     "output_type": "stream",
     "text": [
      "100%|██████████| 262/262 [01:28<00:00,  2.95it/s]\n",
      "100%|██████████| 135/135 [00:36<00:00,  3.71it/s]\n"
     ]
    },
    {
     "name": "stdout",
     "output_type": "stream",
     "text": [
      "F1 score:  [0.         0.0952381  0.05882353 0.         0.21935484 0.\n",
      " 0.08888889 0.1509434 ]\n",
      "AUC score:  [0.72857143 0.62630295 0.70778297 0.60789474 0.65770775 0.7601518\n",
      " 0.61514173 0.74018213]\n",
      "2023-09-28 04:00:25 Eopch 13, Training Loss 0.47410278829909464, Val Loss 0.5907522347238329, Weighted Loss 0.35703216601070564\n"
     ]
    },
    {
     "name": "stderr",
     "output_type": "stream",
     "text": [
      "100%|██████████| 262/262 [01:32<00:00,  2.84it/s]\n",
      "100%|██████████| 135/135 [00:42<00:00,  3.19it/s]\n"
     ]
    },
    {
     "name": "stdout",
     "output_type": "stream",
     "text": [
      "F1 score:  [0.         0.04651163 0.125      0.         0.17699115 0.\n",
      " 0.05405405 0.13636364]\n",
      "AUC score:  [0.73530997 0.64155023 0.65687868 0.58233083 0.64097415 0.76148008\n",
      " 0.62840303 0.71690381]\n",
      "2023-09-28 04:02:40 Eopch 14, Training Loss 0.45292397378055194, Val Loss 0.5963351146490485, Weighted Loss 0.32986206948364166\n"
     ]
    },
    {
     "name": "stderr",
     "output_type": "stream",
     "text": [
      "100%|██████████| 262/262 [01:35<00:00,  2.73it/s]\n",
      "100%|██████████| 135/135 [00:36<00:00,  3.68it/s]\n"
     ]
    },
    {
     "name": "stdout",
     "output_type": "stream",
     "text": [
      "F1 score:  [0.28571429 0.10909091 0.03703704 0.         0.20930233 0.21052632\n",
      " 0.14814815 0.10344828]\n",
      "AUC score:  [0.72749326 0.63068308 0.60638082 0.64661654 0.67078571 0.7402277\n",
      " 0.608476   0.70443939]\n",
      "2023-09-28 04:04:53 Eopch 15, Training Loss 0.44270381672691755, Val Loss 0.6004698631940064, Weighted Loss 0.37737453643524255\n"
     ]
    },
    {
     "name": "stderr",
     "output_type": "stream",
     "text": [
      "100%|██████████| 262/262 [01:29<00:00,  2.94it/s]\n",
      "100%|██████████| 135/135 [00:36<00:00,  3.69it/s]\n"
     ]
    },
    {
     "name": "stdout",
     "output_type": "stream",
     "text": [
      "F1 score:  [0.18181818 0.08333333 0.05263158 0.         0.15151515 0.\n",
      " 0.1        0.11111111]\n",
      "AUC score:  [0.66280323 0.65047682 0.65941882 0.61278195 0.64926372 0.75483871\n",
      " 0.62159697 0.68918611]\n",
      "2023-09-28 04:07:00 Eopch 16, Training Loss 0.4289549847652439, Val Loss 0.6005652603175905, Weighted Loss 0.3393412833410162\n"
     ]
    },
    {
     "name": "stderr",
     "output_type": "stream",
     "text": [
      "100%|██████████| 262/262 [01:33<00:00,  2.81it/s]\n",
      "100%|██████████| 135/135 [00:39<00:00,  3.42it/s]\n"
     ]
    },
    {
     "name": "stdout",
     "output_type": "stream",
     "text": [
      "F1 score:  [0.2        0.04651163 0.06666667 0.         0.20408163 0.\n",
      " 0.05263158 0.07843137]\n",
      "AUC score:  [0.71617251 0.64010867 0.65311928 0.68270677 0.6613634  0.75616698\n",
      " 0.59879315 0.67211155]\n",
      "2023-09-28 04:09:13 Eopch 17, Training Loss 0.40789450298397595, Val Loss 0.6155423529170178, Weighted Loss 0.3048599286630181\n"
     ]
    },
    {
     "name": "stderr",
     "output_type": "stream",
     "text": [
      "100%|██████████| 262/262 [01:33<00:00,  2.79it/s]\n",
      "100%|██████████| 135/135 [00:36<00:00,  3.67it/s]\n"
     ]
    },
    {
     "name": "stdout",
     "output_type": "stream",
     "text": [
      "F1 score:  [0.         0.08333333 0.10810811 0.         0.192      0.125\n",
      " 0.04651163 0.11111111]\n",
      "AUC score:  [0.73908356 0.63157019 0.68461695 0.61879699 0.65122027 0.78083491\n",
      " 0.59738984 0.73665339]\n",
      "2023-09-28 04:11:25 Eopch 18, Training Loss 0.38575364163017456, Val Loss 0.5968032016246407, Weighted Loss 0.3193818872234277\n"
     ]
    },
    {
     "name": "stderr",
     "output_type": "stream",
     "text": [
      "100%|██████████| 262/262 [01:28<00:00,  2.97it/s]\n",
      "100%|██████████| 135/135 [00:36<00:00,  3.71it/s]\n"
     ]
    },
    {
     "name": "stdout",
     "output_type": "stream",
     "text": [
      "F1 score:  [0.16666667 0.08695652 0.10810811 0.         0.19393939 0.14285714\n",
      " 0.08163265 0.08      ]\n",
      "AUC score:  [0.72749326 0.6606232  0.66937614 0.64962406 0.65683246 0.7686907\n",
      " 0.60328375 0.72822994]\n",
      "2023-09-28 04:13:30 Eopch 19, Training Loss 0.3714357282653565, Val Loss 0.6037179457920568, Weighted Loss 0.3242872621966604\n"
     ]
    },
    {
     "name": "stderr",
     "output_type": "stream",
     "text": [
      "100%|██████████| 262/262 [01:32<00:00,  2.84it/s]\n",
      "100%|██████████| 135/135 [00:36<00:00,  3.67it/s]\n"
     ]
    },
    {
     "name": "stdout",
     "output_type": "stream",
     "text": [
      "F1 score:  [0.28571429 0.10344828 0.09756098 0.         0.16438356 0.10526316\n",
      " 0.07142857 0.07843137]\n",
      "AUC score:  [0.75552561 0.65657574 0.64478764 0.57969925 0.64833694 0.74667932\n",
      " 0.61240528 0.72561184]\n",
      "2023-09-28 04:15:40 Eopch 20, Training Loss 0.36880783182177834, Val Loss 0.6086382028129366, Weighted Loss 0.3357012333825541\n",
      "Finish training: best_val:0.5907522347238329, best_weighted loss:0.3048599286630181\n"
     ]
    },
    {
     "data": {
      "text/html": [
       "Waiting for W&B process to finish... <strong style=\"color:green\">(success).</strong>"
      ],
      "text/plain": [
       "<IPython.core.display.HTML object>"
      ]
     },
     "metadata": {},
     "output_type": "display_data"
    },
    {
     "data": {
      "text/html": [
       "<style>\n",
       "    table.wandb td:nth-child(1) { padding: 0 10px; text-align: left ; width: auto;} td:nth-child(2) {text-align: left ; width: 100%}\n",
       "    .wandb-row { display: flex; flex-direction: row; flex-wrap: wrap; justify-content: flex-start; width: 100% }\n",
       "    .wandb-col { display: flex; flex-direction: column; flex-basis: 100%; flex: 1; padding: 10px; }\n",
       "    </style>\n",
       "<div class=\"wandb-row\"><div class=\"wandb-col\"><h3>Run history:</h3><br/><table class=\"wandb\"><tr><td>training loss</td><td>█▆▅▅▅▄▄▄▄▃▃▃▃▂▂▂▂▁▁▁</td></tr><tr><td>val loss</td><td>█▄▃▂▂▂▂▁▁▂▁▂▁▁▁▁▂▁▂▂</td></tr><tr><td>weighted loss</td><td>█▅▄▃▃▃▃▂▂▂▃▂▂▂▃▂▁▁▁▂</td></tr></table><br/></div><div class=\"wandb-col\"><h3>Run summary:</h3><br/><table class=\"wandb\"><tr><td>training loss</td><td>0.36881</td></tr><tr><td>val loss</td><td>0.60864</td></tr><tr><td>weighted loss</td><td>0.3357</td></tr></table><br/></div></div>"
      ],
      "text/plain": [
       "<IPython.core.display.HTML object>"
      ]
     },
     "metadata": {},
     "output_type": "display_data"
    },
    {
     "data": {
      "text/html": [
       " View run <strong style=\"color:#cdcd00\">FullVol2.5D-1phase_Effnetv2_3fold</strong> at: <a href='https://wandb.ai/rsna2023/FullVol2.5D-3fold/runs/j68qx07w' target=\"_blank\">https://wandb.ai/rsna2023/FullVol2.5D-3fold/runs/j68qx07w</a><br/>Synced 5 W&B file(s), 0 media file(s), 0 artifact file(s) and 0 other file(s)"
      ],
      "text/plain": [
       "<IPython.core.display.HTML object>"
      ]
     },
     "metadata": {},
     "output_type": "display_data"
    },
    {
     "data": {
      "text/html": [
       "Find logs at: <code>./wandb/run-20230928_033203-j68qx07w/logs</code>"
      ],
      "text/plain": [
       "<IPython.core.display.HTML object>"
      ]
     },
     "metadata": {},
     "output_type": "display_data"
    },
    {
     "data": {
      "text/html": [
       "wandb version 0.15.11 is available!  To upgrade, please run:\n",
       " $ pip install wandb --upgrade"
      ],
      "text/plain": [
       "<IPython.core.display.HTML object>"
      ]
     },
     "metadata": {},
     "output_type": "display_data"
    },
    {
     "data": {
      "text/html": [
       "Tracking run with wandb version 0.15.8"
      ],
      "text/plain": [
       "<IPython.core.display.HTML object>"
      ]
     },
     "metadata": {},
     "output_type": "display_data"
    },
    {
     "data": {
      "text/html": [
       "Run data is saved locally in <code>/root/wandb/run-20230928_041550-psr1migf</code>"
      ],
      "text/plain": [
       "<IPython.core.display.HTML object>"
      ]
     },
     "metadata": {},
     "output_type": "display_data"
    },
    {
     "data": {
      "text/html": [
       "Syncing run <strong><a href='https://wandb.ai/rsna2023/FullVol2.5D-3fold/runs/psr1migf' target=\"_blank\">FullVol2.5D-1phase_Effnetv2_3fold</a></strong> to <a href='https://wandb.ai/rsna2023/FullVol2.5D-3fold' target=\"_blank\">Weights & Biases</a> (<a href='https://wandb.me/run' target=\"_blank\">docs</a>)<br/>"
      ],
      "text/plain": [
       "<IPython.core.display.HTML object>"
      ]
     },
     "metadata": {},
     "output_type": "display_data"
    },
    {
     "data": {
      "text/html": [
       " View project at <a href='https://wandb.ai/rsna2023/FullVol2.5D-3fold' target=\"_blank\">https://wandb.ai/rsna2023/FullVol2.5D-3fold</a>"
      ],
      "text/plain": [
       "<IPython.core.display.HTML object>"
      ]
     },
     "metadata": {},
     "output_type": "display_data"
    },
    {
     "data": {
      "text/html": [
       " View run at <a href='https://wandb.ai/rsna2023/FullVol2.5D-3fold/runs/psr1migf' target=\"_blank\">https://wandb.ai/rsna2023/FullVol2.5D-3fold/runs/psr1migf</a>"
      ],
      "text/plain": [
       "<IPython.core.display.HTML object>"
      ]
     },
     "metadata": {},
     "output_type": "display_data"
    },
    {
     "name": "stderr",
     "output_type": "stream",
     "text": [
      "100%|██████████| 265/265 [01:30<00:00,  2.92it/s]\n",
      "100%|██████████| 132/132 [00:36<00:00,  3.64it/s]\n"
     ]
    },
    {
     "name": "stdout",
     "output_type": "stream",
     "text": [
      "F1 score:  [0.         0.         0.         0.         0.11353712 0.\n",
      " 0.06896552 0.05263158]\n",
      "AUC score:  [0.71748493 0.61457175 0.52524317 0.49252762 0.42997186 0.66130604\n",
      " 0.60613535 0.56039604]\n",
      "2023-09-28 04:18:00 Eopch 1, Training Loss 0.8034864364929919, Val Loss 0.7520941127881859, Weighted Loss 0.6243240314988284\n"
     ]
    },
    {
     "name": "stderr",
     "output_type": "stream",
     "text": [
      "100%|██████████| 265/265 [01:35<00:00,  2.78it/s]\n",
      "100%|██████████| 132/132 [00:35<00:00,  3.69it/s]\n"
     ]
    },
    {
     "name": "stdout",
     "output_type": "stream",
     "text": [
      "F1 score:  [0.         0.         0.         0.         0.07142857 0.\n",
      " 0.         0.07692308]\n",
      "AUC score:  [0.76808786 0.59607898 0.54828624 0.55604288 0.51683761 0.69265757\n",
      " 0.61785109 0.59227723]\n",
      "2023-09-28 04:20:13 Eopch 2, Training Loss 0.6969359540714408, Val Loss 0.6804533153772354, Weighted Loss 0.5058157406138158\n"
     ]
    },
    {
     "name": "stderr",
     "output_type": "stream",
     "text": [
      "100%|██████████| 265/265 [01:31<00:00,  2.89it/s]\n",
      "100%|██████████| 132/132 [00:35<00:00,  3.68it/s]\n"
     ]
    },
    {
     "name": "stdout",
     "output_type": "stream",
     "text": [
      "F1 score:  [0.        0.        0.        0.        0.        0.        0.\n",
      " 0.0952381]\n",
      "AUC score:  [0.80770887 0.61582314 0.50972673 0.58512021 0.57842425 0.74821313\n",
      " 0.62501927 0.59965347]\n",
      "2023-09-28 04:22:22 Eopch 3, Training Loss 0.6506342855264555, Val Loss 0.6516252760634278, Weighted Loss 0.4296983170129281\n"
     ]
    },
    {
     "name": "stderr",
     "output_type": "stream",
     "text": [
      "100%|██████████| 265/265 [01:34<00:00,  2.81it/s]\n",
      "100%|██████████| 132/132 [00:36<00:00,  3.62it/s]\n"
     ]
    },
    {
     "name": "stdout",
     "output_type": "stream",
     "text": [
      "F1 score:  [0.        0.        0.        0.        0.        0.        0.\n",
      " 0.0952381]\n",
      "AUC score:  [0.87338501 0.62854561 0.59807781 0.64213775 0.56453663 0.79515919\n",
      " 0.66849083 0.60653465]\n",
      "2023-09-28 04:24:34 Eopch 4, Training Loss 0.619094655198871, Val Loss 0.6441131322221323, Weighted Loss 0.42684093215612673\n"
     ]
    },
    {
     "name": "stderr",
     "output_type": "stream",
     "text": [
      "100%|██████████| 265/265 [01:31<00:00,  2.90it/s]\n",
      "100%|██████████| 132/132 [00:38<00:00,  3.47it/s]\n"
     ]
    },
    {
     "name": "stdout",
     "output_type": "stream",
     "text": [
      "F1 score:  [0. 0. 0. 0. 0. 0. 0. 0.]\n",
      "AUC score:  [0.88006029 0.65114016 0.61174155 0.71247563 0.58750113 0.820013\n",
      " 0.66849083 0.62871287]\n",
      "2023-09-28 04:26:44 Eopch 5, Training Loss 0.6042993652370741, Val Loss 0.6312386599002462, Weighted Loss 0.3980740735991338\n"
     ]
    },
    {
     "name": "stderr",
     "output_type": "stream",
     "text": [
      "100%|██████████| 265/265 [01:32<00:00,  2.87it/s]\n",
      "100%|██████████| 132/132 [00:38<00:00,  3.45it/s]\n"
     ]
    },
    {
     "name": "stdout",
     "output_type": "stream",
     "text": [
      "F1 score:  [0.         0.         0.         0.         0.03846154 0.\n",
      " 0.         0.2       ]\n",
      "AUC score:  [0.90783807 0.66504449 0.61289949 0.74155296 0.58069347 0.8531514\n",
      " 0.69693233 0.65267327]\n",
      "2023-09-28 04:28:56 Eopch 6, Training Loss 0.5941616117954254, Val Loss 0.6244397040343646, Weighted Loss 0.3985624508845129\n"
     ]
    },
    {
     "name": "stderr",
     "output_type": "stream",
     "text": [
      "100%|██████████| 265/265 [01:31<00:00,  2.88it/s]\n",
      "100%|██████████| 132/132 [00:35<00:00,  3.72it/s]\n"
     ]
    },
    {
     "name": "stdout",
     "output_type": "stream",
     "text": [
      "F1 score:  [0.         0.         0.         0.         0.07272727 0.\n",
      " 0.         0.16666667]\n",
      "AUC score:  [0.9338932  0.67109288 0.61208893 0.74236517 0.57719887 0.86094867\n",
      " 0.70579621 0.63445545]\n",
      "2023-09-28 04:31:05 Eopch 7, Training Loss 0.5820805176811398, Val Loss 0.6186894716864283, Weighted Loss 0.38643864403012734\n"
     ]
    },
    {
     "name": "stderr",
     "output_type": "stream",
     "text": [
      "100%|██████████| 265/265 [01:31<00:00,  2.91it/s]\n",
      "100%|██████████| 132/132 [00:36<00:00,  3.64it/s]\n"
     ]
    },
    {
     "name": "stdout",
     "output_type": "stream",
     "text": [
      "F1 score:  [0.         0.         0.         0.         0.1        0.\n",
      " 0.         0.12903226]\n",
      "AUC score:  [0.94595177 0.64974972 0.62065771 0.77404159 0.58836344 0.86306043\n",
      " 0.69307846 0.64683168]\n",
      "2023-09-28 04:33:14 Eopch 8, Training Loss 0.5698115573176797, Val Loss 0.612556710726384, Weighted Loss 0.35966957428898566\n"
     ]
    },
    {
     "name": "stderr",
     "output_type": "stream",
     "text": [
      "100%|██████████| 265/265 [01:31<00:00,  2.91it/s]\n",
      "100%|██████████| 132/132 [00:36<00:00,  3.67it/s]\n"
     ]
    },
    {
     "name": "stdout",
     "output_type": "stream",
     "text": [
      "F1 score:  [0.         0.         0.         0.         0.15384615 0.15384615\n",
      " 0.         0.17021277]\n",
      "AUC score:  [0.95930233 0.67324805 0.61000463 0.76608187 0.58582191 0.87231969\n",
      " 0.68475412 0.66673267]\n",
      "2023-09-28 04:35:23 Eopch 9, Training Loss 0.5628204122466861, Val Loss 0.6065594733438708, Weighted Loss 0.36551348190926775\n"
     ]
    },
    {
     "name": "stderr",
     "output_type": "stream",
     "text": [
      "100%|██████████| 265/265 [01:30<00:00,  2.94it/s]\n",
      "100%|██████████| 132/132 [00:36<00:00,  3.61it/s]\n"
     ]
    },
    {
     "name": "stdout",
     "output_type": "stream",
     "text": [
      "F1 score:  [0.         0.         0.04761905 0.         0.12345679 0.15384615\n",
      " 0.         0.14035088]\n",
      "AUC score:  [0.95822567 0.67415184 0.60294118 0.79694607 0.57374966 0.86955815\n",
      " 0.65700632 0.66544554]\n",
      "2023-09-28 04:37:31 Eopch 10, Training Loss 0.550612861199199, Val Loss 0.6085850512891104, Weighted Loss 0.37627422532503463\n"
     ]
    },
    {
     "name": "stderr",
     "output_type": "stream",
     "text": [
      "100%|██████████| 265/265 [01:30<00:00,  2.92it/s]\n",
      "100%|██████████| 132/132 [00:36<00:00,  3.60it/s]\n"
     ]
    },
    {
     "name": "stdout",
     "output_type": "stream",
     "text": [
      "F1 score:  [0.         0.         0.04545455 0.         0.1875     0.15384615\n",
      " 0.         0.14084507]\n",
      "AUC score:  [0.94853575 0.65343437 0.58765632 0.81822612 0.59158573 0.8791423\n",
      " 0.64783413 0.66940594]\n",
      "2023-09-28 04:39:40 Eopch 11, Training Loss 0.5326785883251226, Val Loss 0.6047758572932446, Weighted Loss 0.36886146309463974\n"
     ]
    },
    {
     "name": "stderr",
     "output_type": "stream",
     "text": [
      "100%|██████████| 265/265 [01:45<00:00,  2.52it/s]\n",
      "100%|██████████| 132/132 [00:35<00:00,  3.67it/s]\n"
     ]
    },
    {
     "name": "stdout",
     "output_type": "stream",
     "text": [
      "F1 score:  [0.16666667 0.         0.09090909 0.11764706 0.16326531 0.15384615\n",
      " 0.         0.13333333]\n",
      "AUC score:  [0.95391904 0.64787264 0.58580361 0.81416504 0.58981574 0.89181287\n",
      " 0.67242177 0.69138614]\n",
      "2023-09-28 04:42:02 Eopch 12, Training Loss 0.51421350212592, Val Loss 0.6092107943964727, Weighted Loss 0.3950115916512916\n"
     ]
    },
    {
     "name": "stderr",
     "output_type": "stream",
     "text": [
      "100%|██████████| 265/265 [01:31<00:00,  2.88it/s]\n",
      "100%|██████████| 132/132 [00:38<00:00,  3.45it/s]\n"
     ]
    },
    {
     "name": "stdout",
     "output_type": "stream",
     "text": [
      "F1 score:  [0.         0.         0.08823529 0.125      0.18965517 0.15384615\n",
      " 0.         0.14285714]\n",
      "AUC score:  [0.96813092 0.64022525 0.56461325 0.82439896 0.59036035 0.90367122\n",
      " 0.62440265 0.68346535]\n",
      "2023-09-28 04:44:13 Eopch 13, Training Loss 0.4999545490966653, Val Loss 0.6097425313835795, Weighted Loss 0.359057701060921\n"
     ]
    },
    {
     "name": "stderr",
     "output_type": "stream",
     "text": [
      "100%|██████████| 265/265 [01:31<00:00,  2.90it/s]\n",
      "100%|██████████| 132/132 [00:36<00:00,  3.58it/s]\n"
     ]
    },
    {
     "name": "stdout",
     "output_type": "stream",
     "text": [
      "F1 score:  [0.         0.         0.09375    0.13333333 0.19047619 0.15384615\n",
      " 0.05555556 0.14492754]\n",
      "AUC score:  [0.96985357 0.64078142 0.56635016 0.82212476 0.61255333 0.89408707\n",
      " 0.64066595 0.69148515]\n",
      "2023-09-28 04:46:22 Eopch 14, Training Loss 0.48826489915262977, Val Loss 0.6050399308177558, Weighted Loss 0.34552725199532697\n"
     ]
    },
    {
     "name": "stderr",
     "output_type": "stream",
     "text": [
      "100%|██████████| 265/265 [01:32<00:00,  2.86it/s]\n",
      "100%|██████████| 132/132 [00:35<00:00,  3.67it/s]\n"
     ]
    },
    {
     "name": "stdout",
     "output_type": "stream",
     "text": [
      "F1 score:  [0.14285714 0.04651163 0.10666667 0.0952381  0.1958042  0.09090909\n",
      " 0.04878049 0.14583333]\n",
      "AUC score:  [0.95521102 0.62416574 0.56032886 0.81660169 0.60347645 0.902859\n",
      " 0.64821952 0.67524752]\n",
      "2023-09-28 04:48:31 Eopch 15, Training Loss 0.4697748365829576, Val Loss 0.6129314399352579, Weighted Loss 0.3790018124178157\n"
     ]
    },
    {
     "name": "stderr",
     "output_type": "stream",
     "text": [
      "100%|██████████| 265/265 [01:30<00:00,  2.92it/s]\n",
      "100%|██████████| 132/132 [00:41<00:00,  3.21it/s]\n"
     ]
    },
    {
     "name": "stdout",
     "output_type": "stream",
     "text": [
      "F1 score:  [0.         0.         0.08695652 0.13333333 0.22641509 0.15384615\n",
      " 0.05405405 0.15625   ]\n",
      "AUC score:  [0.96877692 0.63285595 0.57480315 0.81660169 0.61241717 0.91016894\n",
      " 0.62956683 0.6880198 ]\n",
      "2023-09-28 04:50:44 Eopch 16, Training Loss 0.45640587199409055, Val Loss 0.6056752947695327, Weighted Loss 0.32826622648030146\n"
     ]
    },
    {
     "name": "stderr",
     "output_type": "stream",
     "text": [
      "100%|██████████| 265/265 [01:31<00:00,  2.90it/s]\n",
      "100%|██████████| 132/132 [00:38<00:00,  3.45it/s]\n"
     ]
    },
    {
     "name": "stdout",
     "output_type": "stream",
     "text": [
      "F1 score:  [0.         0.         0.04651163 0.14285714 0.23300971 0.14285714\n",
      " 0.05128205 0.16666667]\n",
      "AUC score:  [0.95068906 0.62284483 0.54006484 0.81448993 0.5992557  0.90789474\n",
      " 0.6086789  0.68594059]\n",
      "2023-09-28 04:52:55 Eopch 17, Training Loss 0.4451432293597257, Val Loss 0.6268869014739087, Weighted Loss 0.32657821193474007\n"
     ]
    },
    {
     "name": "stderr",
     "output_type": "stream",
     "text": [
      "100%|██████████| 265/265 [01:31<00:00,  2.91it/s]\n",
      "100%|██████████| 132/132 [00:36<00:00,  3.58it/s]\n"
     ]
    },
    {
     "name": "stdout",
     "output_type": "stream",
     "text": [
      "F1 score:  [0.         0.         0.04081633 0.25       0.18018018 0.14285714\n",
      " 0.04878049 0.16216216]\n",
      "AUC score:  [0.95973299 0.61658788 0.54006484 0.79678363 0.60066261 0.9017219\n",
      " 0.62517342 0.70009901]\n",
      "2023-09-28 04:55:03 Eopch 18, Training Loss 0.42684793913701796, Val Loss 0.6211000850254839, Weighted Loss 0.3253018683777005\n"
     ]
    },
    {
     "name": "stderr",
     "output_type": "stream",
     "text": [
      "100%|██████████| 265/265 [01:31<00:00,  2.89it/s]\n",
      "100%|██████████| 132/132 [00:35<00:00,  3.68it/s]\n"
     ]
    },
    {
     "name": "stdout",
     "output_type": "stream",
     "text": [
      "F1 score:  [0.         0.         0.04       0.13333333 0.19298246 0.14285714\n",
      " 0.04444444 0.12903226]\n",
      "AUC score:  [0.94444444 0.6102614  0.55048634 0.79775828 0.57833348 0.89408707\n",
      " 0.61684908 0.68544554]\n",
      "2023-09-28 04:57:12 Eopch 19, Training Loss 0.42174854242014437, Val Loss 0.6295686727671912, Weighted Loss 0.3260326010651461\n"
     ]
    },
    {
     "name": "stderr",
     "output_type": "stream",
     "text": [
      "100%|██████████| 265/265 [01:30<00:00,  2.91it/s]\n",
      "100%|██████████| 132/132 [00:36<00:00,  3.58it/s]\n"
     ]
    },
    {
     "name": "stdout",
     "output_type": "stream",
     "text": [
      "F1 score:  [0.         0.05405405 0.04166667 0.         0.20454545 0.14285714\n",
      " 0.04761905 0.18181818]\n",
      "AUC score:  [0.89254953 0.59698276 0.54214914 0.80003249 0.57892348 0.90627031\n",
      " 0.6184677  0.69148515]\n",
      "2023-09-28 04:59:21 Eopch 20, Training Loss 0.4112969057458752, Val Loss 0.6516434443606571, Weighted Loss 0.3041817066816635\n",
      "Finish training: best_val:0.6047758572932446, best_weighted loss:0.3041817066816635\n"
     ]
    },
    {
     "data": {
      "text/html": [
       "Waiting for W&B process to finish... <strong style=\"color:green\">(success).</strong>"
      ],
      "text/plain": [
       "<IPython.core.display.HTML object>"
      ]
     },
     "metadata": {},
     "output_type": "display_data"
    },
    {
     "data": {
      "application/vnd.jupyter.widget-view+json": {
       "model_id": "e1e67ebab4384c0c85c112636e2d39f5",
       "version_major": 2,
       "version_minor": 0
      },
      "text/plain": [
       "VBox(children=(Label(value='0.011 MB of 0.011 MB uploaded (0.000 MB deduped)\\r'), FloatProgress(value=1.0, max…"
      ]
     },
     "metadata": {},
     "output_type": "display_data"
    },
    {
     "data": {
      "text/html": [
       "<style>\n",
       "    table.wandb td:nth-child(1) { padding: 0 10px; text-align: left ; width: auto;} td:nth-child(2) {text-align: left ; width: 100%}\n",
       "    .wandb-row { display: flex; flex-direction: row; flex-wrap: wrap; justify-content: flex-start; width: 100% }\n",
       "    .wandb-col { display: flex; flex-direction: column; flex-basis: 100%; flex: 1; padding: 10px; }\n",
       "    </style>\n",
       "<div class=\"wandb-row\"><div class=\"wandb-col\"><h3>Run history:</h3><br/><table class=\"wandb\"><tr><td>training loss</td><td>█▆▅▅▄▄▄▄▄▃▃▃▃▂▂▂▂▁▁▁</td></tr><tr><td>val loss</td><td>█▅▃▃▂▂▂▁▁▁▁▁▁▁▁▁▂▂▂▃</td></tr><tr><td>weighted loss</td><td>█▅▄▄▃▃▃▂▂▃▂▃▂▂▃▂▁▁▁▁</td></tr></table><br/></div><div class=\"wandb-col\"><h3>Run summary:</h3><br/><table class=\"wandb\"><tr><td>training loss</td><td>0.4113</td></tr><tr><td>val loss</td><td>0.65164</td></tr><tr><td>weighted loss</td><td>0.30418</td></tr></table><br/></div></div>"
      ],
      "text/plain": [
       "<IPython.core.display.HTML object>"
      ]
     },
     "metadata": {},
     "output_type": "display_data"
    },
    {
     "data": {
      "text/html": [
       " View run <strong style=\"color:#cdcd00\">FullVol2.5D-1phase_Effnetv2_3fold</strong> at: <a href='https://wandb.ai/rsna2023/FullVol2.5D-3fold/runs/psr1migf' target=\"_blank\">https://wandb.ai/rsna2023/FullVol2.5D-3fold/runs/psr1migf</a><br/>Synced 5 W&B file(s), 0 media file(s), 0 artifact file(s) and 0 other file(s)"
      ],
      "text/plain": [
       "<IPython.core.display.HTML object>"
      ]
     },
     "metadata": {},
     "output_type": "display_data"
    },
    {
     "data": {
      "text/html": [
       "Find logs at: <code>./wandb/run-20230928_041550-psr1migf/logs</code>"
      ],
      "text/plain": [
       "<IPython.core.display.HTML object>"
      ]
     },
     "metadata": {},
     "output_type": "display_data"
    },
    {
     "data": {
      "application/vnd.jupyter.widget-view+json": {
       "model_id": "79889598b4e44282b2ad19eb2a4681ca",
       "version_major": 2,
       "version_minor": 0
      },
      "text/plain": [
       "VBox(children=(Label(value='Waiting for wandb.init()...\\r'), FloatProgress(value=0.01666860937451323, max=1.0)…"
      ]
     },
     "metadata": {},
     "output_type": "display_data"
    },
    {
     "data": {
      "text/html": [
       "wandb version 0.15.11 is available!  To upgrade, please run:\n",
       " $ pip install wandb --upgrade"
      ],
      "text/plain": [
       "<IPython.core.display.HTML object>"
      ]
     },
     "metadata": {},
     "output_type": "display_data"
    },
    {
     "data": {
      "text/html": [
       "Tracking run with wandb version 0.15.8"
      ],
      "text/plain": [
       "<IPython.core.display.HTML object>"
      ]
     },
     "metadata": {},
     "output_type": "display_data"
    },
    {
     "data": {
      "text/html": [
       "Run data is saved locally in <code>/root/wandb/run-20230928_045929-4ng28ytq</code>"
      ],
      "text/plain": [
       "<IPython.core.display.HTML object>"
      ]
     },
     "metadata": {},
     "output_type": "display_data"
    },
    {
     "data": {
      "text/html": [
       "Syncing run <strong><a href='https://wandb.ai/rsna2023/FullVol2.5D-3fold/runs/4ng28ytq' target=\"_blank\">FullVol2.5D-1phase_Effnetv2_3fold</a></strong> to <a href='https://wandb.ai/rsna2023/FullVol2.5D-3fold' target=\"_blank\">Weights & Biases</a> (<a href='https://wandb.me/run' target=\"_blank\">docs</a>)<br/>"
      ],
      "text/plain": [
       "<IPython.core.display.HTML object>"
      ]
     },
     "metadata": {},
     "output_type": "display_data"
    },
    {
     "data": {
      "text/html": [
       " View project at <a href='https://wandb.ai/rsna2023/FullVol2.5D-3fold' target=\"_blank\">https://wandb.ai/rsna2023/FullVol2.5D-3fold</a>"
      ],
      "text/plain": [
       "<IPython.core.display.HTML object>"
      ]
     },
     "metadata": {},
     "output_type": "display_data"
    },
    {
     "data": {
      "text/html": [
       " View run at <a href='https://wandb.ai/rsna2023/FullVol2.5D-3fold/runs/4ng28ytq' target=\"_blank\">https://wandb.ai/rsna2023/FullVol2.5D-3fold/runs/4ng28ytq</a>"
      ],
      "text/plain": [
       "<IPython.core.display.HTML object>"
      ]
     },
     "metadata": {},
     "output_type": "display_data"
    },
    {
     "name": "stderr",
     "output_type": "stream",
     "text": [
      "100%|██████████| 266/266 [01:32<00:00,  2.88it/s]\n",
      "100%|██████████| 131/131 [00:36<00:00,  3.60it/s]\n"
     ]
    },
    {
     "name": "stdout",
     "output_type": "stream",
     "text": [
      "F1 score:  [0.         0.11940299 0.         0.         0.14965986 0.09195402\n",
      " 0.         0.        ]\n",
      "AUC score:  [0.38620858 0.49676661 0.41451292 0.36159844 0.55063127 0.67005348\n",
      " 0.5199942  0.498446  ]\n",
      "2023-09-28 05:01:42 Eopch 1, Training Loss 0.7475447084446599, Val Loss 0.7642641426952741, Weighted Loss 0.6350079382402856\n"
     ]
    },
    {
     "name": "stderr",
     "output_type": "stream",
     "text": [
      "100%|██████████| 266/266 [01:34<00:00,  2.80it/s]\n",
      "100%|██████████| 131/131 [00:35<00:00,  3.69it/s]\n"
     ]
    },
    {
     "name": "stdout",
     "output_type": "stream",
     "text": [
      "F1 score:  [0.         0.06349206 0.         0.         0.12371134 0.\n",
      " 0.         0.        ]\n",
      "AUC score:  [0.51315789 0.53292181 0.49624475 0.41008772 0.57752508 0.66256684\n",
      " 0.54868154 0.57746698]\n",
      "2023-09-28 05:03:54 Eopch 2, Training Loss 0.6701246379013348, Val Loss 0.7157368098051493, Weighted Loss 0.5556848654625398\n"
     ]
    },
    {
     "name": "stderr",
     "output_type": "stream",
     "text": [
      "100%|██████████| 266/266 [01:43<00:00,  2.56it/s]\n",
      "100%|██████████| 131/131 [00:39<00:00,  3.30it/s]\n"
     ]
    },
    {
     "name": "stdout",
     "output_type": "stream",
     "text": [
      "F1 score:  [0.         0.19354839 0.         0.         0.08108108 0.11764706\n",
      " 0.         0.        ]\n",
      "AUC score:  [0.52168616 0.54579659 0.46940579 0.53435673 0.65388274 0.6315508\n",
      " 0.59815995 0.58896659]\n",
      "2023-09-28 05:06:19 Eopch 3, Training Loss 0.631517304177571, Val Loss 0.704319293489893, Weighted Loss 0.538065093379094\n"
     ]
    },
    {
     "name": "stderr",
     "output_type": "stream",
     "text": [
      "100%|██████████| 266/266 [01:33<00:00,  2.85it/s]\n",
      "100%|██████████| 131/131 [00:35<00:00,  3.65it/s]\n"
     ]
    },
    {
     "name": "stdout",
     "output_type": "stream",
     "text": [
      "F1 score:  [0.         0.14545455 0.         0.         0.11428571 0.11764706\n",
      " 0.         0.        ]\n",
      "AUC score:  [0.50925926 0.54091711 0.53865695 0.5994152  0.68786752 0.57593583\n",
      " 0.57809331 0.60994561]\n",
      "2023-09-28 05:08:29 Eopch 4, Training Loss 0.6100255839134517, Val Loss 0.6854019251488547, Weighted Loss 0.5029673935803975\n"
     ]
    },
    {
     "name": "stderr",
     "output_type": "stream",
     "text": [
      "100%|██████████| 266/266 [01:33<00:00,  2.85it/s]\n",
      "100%|██████████| 131/131 [00:36<00:00,  3.58it/s]\n"
     ]
    },
    {
     "name": "stdout",
     "output_type": "stream",
     "text": [
      "F1 score:  [0.         0.04347826 0.         0.         0.19277108 0.11111111\n",
      " 0.         0.        ]\n",
      "AUC score:  [0.54191033 0.56766608 0.55544511 0.62231969 0.70114147 0.60071301\n",
      " 0.60540423 0.62276612]\n",
      "2023-09-28 05:10:40 Eopch 5, Training Loss 0.5955976825907714, Val Loss 0.6781557386613074, Weighted Loss 0.4912790895279528\n"
     ]
    },
    {
     "name": "stderr",
     "output_type": "stream",
     "text": [
      "100%|██████████| 266/266 [01:32<00:00,  2.87it/s]\n",
      "100%|██████████| 131/131 [00:37<00:00,  3.52it/s]\n"
     ]
    },
    {
     "name": "stdout",
     "output_type": "stream",
     "text": [
      "F1 score:  [0.         0.         0.         0.         0.20253165 0.125\n",
      " 0.         0.        ]\n",
      "AUC score:  [0.53654971 0.57824809 0.60161255 0.64814815 0.73179696 0.58306595\n",
      " 0.63503332 0.66037296]\n",
      "2023-09-28 05:12:52 Eopch 6, Training Loss 0.574684893278251, Val Loss 0.6538071965670768, Weighted Loss 0.44430159215481646\n"
     ]
    },
    {
     "name": "stderr",
     "output_type": "stream",
     "text": [
      "100%|██████████| 266/266 [01:35<00:00,  2.79it/s]\n",
      "100%|██████████| 131/131 [00:36<00:00,  3.61it/s]\n"
     ]
    },
    {
     "name": "stdout",
     "output_type": "stream",
     "text": [
      "F1 score:  [0.         0.         0.07272727 0.         0.34782609 0.\n",
      " 0.         0.        ]\n",
      "AUC score:  [0.5214425  0.57883598 0.60680362 0.66837232 0.75112418 0.61265597\n",
      " 0.63525065 0.66744367]\n",
      "2023-09-28 05:15:05 Eopch 7, Training Loss 0.5623206041361156, Val Loss 0.6526001678168318, Weighted Loss 0.4481954995776114\n"
     ]
    },
    {
     "name": "stderr",
     "output_type": "stream",
     "text": [
      "100%|██████████| 266/266 [01:35<00:00,  2.79it/s]\n",
      "100%|██████████| 131/131 [00:36<00:00,  3.59it/s]\n"
     ]
    },
    {
     "name": "stdout",
     "output_type": "stream",
     "text": [
      "F1 score:  [0.18181818 0.         0.         0.         0.28571429 0.1\n",
      " 0.         0.        ]\n",
      "AUC score:  [0.51535088 0.55202822 0.61044842 0.70419103 0.71869595 0.60160428\n",
      " 0.5846856  0.65757576]\n",
      "2023-09-28 05:17:18 Eopch 8, Training Loss 0.5454428470448444, Val Loss 0.6502164316768865, Weighted Loss 0.42634350206214494\n"
     ]
    },
    {
     "name": "stderr",
     "output_type": "stream",
     "text": [
      "100%|██████████| 266/266 [01:41<00:00,  2.63it/s]\n",
      "100%|██████████| 131/131 [00:38<00:00,  3.36it/s]\n"
     ]
    },
    {
     "name": "stdout",
     "output_type": "stream",
     "text": [
      "F1 score:  [0.14285714 0.04444444 0.06779661 0.         0.37681159 0.1\n",
      " 0.         0.07142857]\n",
      "AUC score:  [0.53533138 0.58342152 0.61343053 0.7119883  0.73318056 0.62566845\n",
      " 0.64401623 0.68251748]\n",
      "2023-09-28 05:19:40 Eopch 9, Training Loss 0.5303982815572194, Val Loss 0.6440517195990978, Weighted Loss 0.433607517292836\n"
     ]
    },
    {
     "name": "stderr",
     "output_type": "stream",
     "text": [
      "100%|██████████| 266/266 [01:38<00:00,  2.71it/s]\n",
      "100%|██████████| 131/131 [00:42<00:00,  3.10it/s]\n"
     ]
    },
    {
     "name": "stdout",
     "output_type": "stream",
     "text": [
      "F1 score:  [0.18181818 0.05       0.         0.         0.14285714 0.11764706\n",
      " 0.         0.06896552]\n",
      "AUC score:  [0.54946394 0.57748383 0.60227524 0.73659844 0.71294535 0.60285205\n",
      " 0.644306   0.69044289]\n",
      "2023-09-28 05:22:02 Eopch 10, Training Loss 0.5207949215196129, Val Loss 0.6325872465399386, Weighted Loss 0.3717686677866394\n"
     ]
    },
    {
     "name": "stderr",
     "output_type": "stream",
     "text": [
      "100%|██████████| 266/266 [01:40<00:00,  2.64it/s]\n",
      "100%|██████████| 131/131 [00:39<00:00,  3.28it/s]\n"
     ]
    },
    {
     "name": "stdout",
     "output_type": "stream",
     "text": [
      "F1 score:  [0.16666667 0.04878049 0.05128205 0.         0.14893617 0.10526316\n",
      " 0.         0.07142857]\n",
      "AUC score:  [0.54044834 0.59623751 0.62094102 0.73367446 0.7031304  0.63743316\n",
      " 0.65394089 0.67925408]\n",
      "2023-09-28 05:24:24 Eopch 11, Training Loss 0.5029334631517417, Val Loss 0.6305888384466863, Weighted Loss 0.3516136927609928\n"
     ]
    },
    {
     "name": "stderr",
     "output_type": "stream",
     "text": [
      "100%|██████████| 266/266 [01:39<00:00,  2.69it/s]\n",
      "100%|██████████| 131/131 [00:40<00:00,  3.25it/s]\n"
     ]
    },
    {
     "name": "stdout",
     "output_type": "stream",
     "text": [
      "F1 score:  [0.11764706 0.09230769 0.07894737 0.         0.27906977 0.13333333\n",
      " 0.         0.11111111]\n",
      "AUC score:  [0.52363548 0.60511464 0.61033797 0.70882066 0.71134556 0.63743316\n",
      " 0.63764126 0.68158508]\n",
      "2023-09-28 05:26:45 Eopch 12, Training Loss 0.492503814063126, Val Loss 0.6407475885544115, Weighted Loss 0.4125630728570168\n"
     ]
    },
    {
     "name": "stderr",
     "output_type": "stream",
     "text": [
      "100%|██████████| 266/266 [01:45<00:00,  2.53it/s]\n",
      "100%|██████████| 131/131 [00:40<00:00,  3.26it/s]\n"
     ]
    },
    {
     "name": "stdout",
     "output_type": "stream",
     "text": [
      "F1 score:  [0.125      0.07272727 0.05       0.16666667 0.24691358 0.07142857\n",
      " 0.         0.10526316]\n",
      "AUC score:  [0.52997076 0.62463257 0.60006627 0.70662768 0.68786752 0.65008913\n",
      " 0.65944654 0.71002331]\n",
      "2023-09-28 05:29:11 Eopch 13, Training Loss 0.4732257505332617, Val Loss 0.6364776264620191, Weighted Loss 0.3949109515524551\n"
     ]
    },
    {
     "name": "stderr",
     "output_type": "stream",
     "text": [
      "100%|██████████| 266/266 [01:41<00:00,  2.63it/s]\n",
      "100%|██████████| 131/131 [00:39<00:00,  3.28it/s]\n"
     ]
    },
    {
     "name": "stdout",
     "output_type": "stream",
     "text": [
      "F1 score:  [0.         0.04651163 0.05970149 0.         0.12631579 0.\n",
      " 0.         0.13333333]\n",
      "AUC score:  [0.51803119 0.58994709 0.601723   0.73635478 0.709789   0.60231729\n",
      " 0.65495509 0.69137529]\n",
      "2023-09-28 05:31:33 Eopch 14, Training Loss 0.46128886977308675, Val Loss 0.6423792320353384, Weighted Loss 0.3260182343112415\n"
     ]
    },
    {
     "name": "stderr",
     "output_type": "stream",
     "text": [
      "100%|██████████| 266/266 [01:42<00:00,  2.61it/s]\n",
      "100%|██████████| 131/131 [00:42<00:00,  3.05it/s]\n"
     ]
    },
    {
     "name": "stdout",
     "output_type": "stream",
     "text": [
      "F1 score:  [0.         0.06451613 0.05555556 0.         0.21238938 0.08333333\n",
      " 0.12121212 0.10526316]\n",
      "AUC score:  [0.52363548 0.5925338  0.59586923 0.69103314 0.69076444 0.68413547\n",
      " 0.6507534  0.70505051]\n",
      "2023-09-28 05:33:58 Eopch 15, Training Loss 0.44890087870950984, Val Loss 0.637218247956902, Weighted Loss 0.36869346342286413\n"
     ]
    },
    {
     "name": "stderr",
     "output_type": "stream",
     "text": [
      "100%|██████████| 266/266 [01:48<00:00,  2.44it/s]\n",
      "100%|██████████| 131/131 [00:42<00:00,  3.09it/s]\n"
     ]
    },
    {
     "name": "stdout",
     "output_type": "stream",
     "text": [
      "F1 score:  [0.18181818 0.07843137 0.0952381  0.         0.15       0.\n",
      " 0.         0.13043478]\n",
      "AUC score:  [0.49561404 0.60393886 0.61287829 0.74122807 0.69132653 0.65008913\n",
      " 0.64937699 0.70699301]\n",
      "2023-09-28 05:36:31 Eopch 16, Training Loss 0.43246715106910333, Val Loss 0.6449474887993499, Weighted Loss 0.337790545963227\n"
     ]
    },
    {
     "name": "stderr",
     "output_type": "stream",
     "text": [
      "100%|██████████| 266/266 [01:45<00:00,  2.53it/s]\n",
      "100%|██████████| 131/131 [00:41<00:00,  3.14it/s]\n"
     ]
    },
    {
     "name": "stdout",
     "output_type": "stream",
     "text": [
      "F1 score:  [0.15384615 0.03846154 0.08       0.         0.20512821 0.\n",
      " 0.13043478 0.16666667]\n",
      "AUC score:  [0.52875244 0.5962963  0.60194389 0.70711501 0.69694742 0.62976827\n",
      " 0.66842944 0.73954934]\n",
      "2023-09-28 05:38:58 Eopch 17, Training Loss 0.4166249665326642, Val Loss 0.6462294248337964, Weighted Loss 0.335382207263915\n"
     ]
    },
    {
     "name": "stderr",
     "output_type": "stream",
     "text": [
      "100%|██████████| 266/266 [01:49<00:00,  2.43it/s]\n",
      "100%|██████████| 131/131 [00:41<00:00,  3.16it/s]\n"
     ]
    },
    {
     "name": "stdout",
     "output_type": "stream",
     "text": [
      "F1 score:  [0.28571429 0.04       0.07058824 0.         0.16470588 0.\n",
      " 0.05405405 0.14634146]\n",
      "AUC score:  [0.51900585 0.59129924 0.61100066 0.70711501 0.69729332 0.6714795\n",
      " 0.65908432 0.71569542]\n",
      "2023-09-28 05:41:30 Eopch 18, Training Loss 0.3895925538880484, Val Loss 0.6488348136990125, Weighted Loss 0.32997987948541907\n"
     ]
    },
    {
     "name": "stderr",
     "output_type": "stream",
     "text": [
      "100%|██████████| 266/266 [01:45<00:00,  2.52it/s]\n",
      "100%|██████████| 131/131 [00:42<00:00,  3.08it/s]\n"
     ]
    },
    {
     "name": "stdout",
     "output_type": "stream",
     "text": [
      "F1 score:  [0.33333333 0.06060606 0.11940299 0.         0.15053763 0.\n",
      " 0.08333333 0.23255814]\n",
      "AUC score:  [0.51193957 0.61510876 0.62370223 0.70979532 0.69318575 0.68342246\n",
      " 0.66393799 0.72898213]\n",
      "2023-09-28 05:43:59 Eopch 19, Training Loss 0.37935474052801166, Val Loss 0.6451570587872549, Weighted Loss 0.3347775866786192\n"
     ]
    },
    {
     "name": "stderr",
     "output_type": "stream",
     "text": [
      "100%|██████████| 266/266 [01:48<00:00,  2.46it/s]\n",
      "100%|██████████| 131/131 [00:42<00:00,  3.09it/s]\n"
     ]
    },
    {
     "name": "stdout",
     "output_type": "stream",
     "text": [
      "F1 score:  [0.22222222 0.08       0.12121212 0.         0.07142857 0.\n",
      " 0.09756098 0.23529412]\n",
      "AUC score:  [0.51754386 0.56613757 0.62038878 0.70053606 0.66499481 0.63440285\n",
      " 0.63061431 0.72556333]\n",
      "2023-09-28 05:46:30 Eopch 20, Training Loss 0.37022647592134045, Val Loss 0.6641077274129591, Weighted Loss 0.32082236135595427\n",
      "Finish training: best_val:0.6305888384466863, best_weighted loss:0.32082236135595427\n"
     ]
    },
    {
     "data": {
      "text/html": [
       "Waiting for W&B process to finish... <strong style=\"color:green\">(success).</strong>"
      ],
      "text/plain": [
       "<IPython.core.display.HTML object>"
      ]
     },
     "metadata": {},
     "output_type": "display_data"
    },
    {
     "data": {
      "application/vnd.jupyter.widget-view+json": {
       "model_id": "a8077fc4f3904e4d91984ee795f91dc7",
       "version_major": 2,
       "version_minor": 0
      },
      "text/plain": [
       "VBox(children=(Label(value='0.011 MB of 0.011 MB uploaded (0.000 MB deduped)\\r'), FloatProgress(value=1.0, max…"
      ]
     },
     "metadata": {},
     "output_type": "display_data"
    },
    {
     "data": {
      "text/html": [
       "<style>\n",
       "    table.wandb td:nth-child(1) { padding: 0 10px; text-align: left ; width: auto;} td:nth-child(2) {text-align: left ; width: 100%}\n",
       "    .wandb-row { display: flex; flex-direction: row; flex-wrap: wrap; justify-content: flex-start; width: 100% }\n",
       "    .wandb-col { display: flex; flex-direction: column; flex-basis: 100%; flex: 1; padding: 10px; }\n",
       "    </style>\n",
       "<div class=\"wandb-row\"><div class=\"wandb-col\"><h3>Run history:</h3><br/><table class=\"wandb\"><tr><td>training loss</td><td>█▇▆▅▅▅▅▄▄▄▃▃▃▃▂▂▂▁▁▁</td></tr><tr><td>val loss</td><td>█▅▅▄▃▂▂▂▂▁▁▂▁▂▁▂▂▂▂▃</td></tr><tr><td>weighted loss</td><td>█▆▆▅▅▄▄▃▄▂▂▃▃▁▂▁▁▁▁▁</td></tr></table><br/></div><div class=\"wandb-col\"><h3>Run summary:</h3><br/><table class=\"wandb\"><tr><td>training loss</td><td>0.37023</td></tr><tr><td>val loss</td><td>0.66411</td></tr><tr><td>weighted loss</td><td>0.32082</td></tr></table><br/></div></div>"
      ],
      "text/plain": [
       "<IPython.core.display.HTML object>"
      ]
     },
     "metadata": {},
     "output_type": "display_data"
    },
    {
     "data": {
      "text/html": [
       " View run <strong style=\"color:#cdcd00\">FullVol2.5D-1phase_Effnetv2_3fold</strong> at: <a href='https://wandb.ai/rsna2023/FullVol2.5D-3fold/runs/4ng28ytq' target=\"_blank\">https://wandb.ai/rsna2023/FullVol2.5D-3fold/runs/4ng28ytq</a><br/>Synced 5 W&B file(s), 0 media file(s), 0 artifact file(s) and 0 other file(s)"
      ],
      "text/plain": [
       "<IPython.core.display.HTML object>"
      ]
     },
     "metadata": {},
     "output_type": "display_data"
    },
    {
     "data": {
      "text/html": [
       "Find logs at: <code>./wandb/run-20230928_045929-4ng28ytq/logs</code>"
      ],
      "text/plain": [
       "<IPython.core.display.HTML object>"
      ]
     },
     "metadata": {},
     "output_type": "display_data"
    }
   ],
   "source": [
    "net = FullVolNet(backbone=backbone, ch_out = 8).to(device)\n",
    "optimizer = optim.AdamW(net.parameters(), lr=1e-5)\n",
    "TrainClassifer(model=net,trn_dl=train_dl_fold1,val_dl=val_dl_fold1,optimizer=optimizer, \n",
    "               project=project, name=name, suffix='fold1', scheduler=None, n_eopchs=n_eopchs, device=device)\n",
    "\n",
    "net = FullVolNet(backbone=backbone, ch_out = 8).to(device)\n",
    "optimizer = optim.AdamW(net.parameters(), lr=1e-5)\n",
    "TrainClassifer(model=net,trn_dl=train_dl_fold2,val_dl=val_dl_fold2,optimizer=optimizer, \n",
    "               project=project, name=name, suffix='fold2', scheduler=None, n_eopchs=n_eopchs, device=device)\n",
    "\n",
    "net = FullVolNet(backbone=backbone, ch_out = 8).to(device)\n",
    "optimizer = optim.AdamW(net.parameters(), lr=1e-5)\n",
    "TrainClassifer(model=net,trn_dl=train_dl_fold3,val_dl=val_dl_fold3,optimizer=optimizer, \n",
    "               project=project, name=name, suffix='fold3', scheduler=None, n_eopchs=n_eopchs, device=device)"
   ]
  },
  {
   "cell_type": "code",
   "execution_count": null,
   "id": "92ea3821-71ab-4773-84c4-cacfabba3cba",
   "metadata": {},
   "outputs": [],
   "source": []
  }
 ],
 "metadata": {
  "kernelspec": {
   "display_name": "Python 3 (ipykernel)",
   "language": "python",
   "name": "python3"
  },
  "language_info": {
   "codemirror_mode": {
    "name": "ipython",
    "version": 3
   },
   "file_extension": ".py",
   "mimetype": "text/x-python",
   "name": "python",
   "nbconvert_exporter": "python",
   "pygments_lexer": "ipython3",
   "version": "3.8.10"
  }
 },
 "nbformat": 4,
 "nbformat_minor": 5
}
